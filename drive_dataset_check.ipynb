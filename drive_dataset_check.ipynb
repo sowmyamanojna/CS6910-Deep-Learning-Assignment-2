{
  "nbformat": 4,
  "nbformat_minor": 0,
  "metadata": {
    "colab": {
      "name": "check_cs6910_a2.ipynb",
      "provenance": [],
      "collapsed_sections": []
    },
    "kernelspec": {
      "name": "python3",
      "display_name": "Python 3"
    },
    "language_info": {
      "name": "python"
    }
  },
  "cells": [
    {
      "cell_type": "code",
      "metadata": {
        "id": "940GnxhYiq_v"
      },
      "source": [
        "import os\n",
        "import numpy as np\n",
        "import pandas as pd\n",
        "from tqdm import tqdm"
      ],
      "execution_count": null,
      "outputs": []
    },
    {
      "cell_type": "code",
      "metadata": {
        "colab": {
          "base_uri": "https://localhost:8080/"
        },
        "id": "spNtdhRPixJ7",
        "outputId": "1065e604-687f-4dca-c72a-40cdc782d133"
      },
      "source": [
        "from google.colab import drive\n",
        "drive.mount('/content/drive')"
      ],
      "execution_count": null,
      "outputs": [
        {
          "output_type": "stream",
          "text": [
            "Drive already mounted at /content/drive; to attempt to forcibly remount, call drive.mount(\"/content/drive\", force_remount=True).\n"
          ],
          "name": "stdout"
        }
      ]
    },
    {
      "cell_type": "code",
      "metadata": {
        "id": "S_A9JD8c_734"
      },
      "source": [
        "path = \"/content/drive/MyDrive/\"\n",
        "os.chdir(path)"
      ],
      "execution_count": null,
      "outputs": []
    },
    {
      "cell_type": "code",
      "metadata": {
        "id": "bODOc5fwANlR"
      },
      "source": [
        "if not os.path.exists(\"nature_12K.zip\"):\n",
        "    !wget https://storage.googleapis.com/wandb_datasets/nature_12K.zip\n",
        "if not os.path.exists(\"inaturalist_12K/\"):\n",
        "    !unzip -q nature_12K.zip\n",
        "    os.chdir(path + \"inaturalist_12K/\")\n",
        "else:\n",
        "    os.chdir(path + \"inaturalist_12K/\")\n",
        "# os.chdir(path + \"inaturalist_12K/\")"
      ],
      "execution_count": null,
      "outputs": []
    },
    {
      "cell_type": "code",
      "metadata": {
        "id": "a2BcicgolKAt",
        "colab": {
          "base_uri": "https://localhost:8080/"
        },
        "outputId": "da4f9b1c-d77c-445f-a322-76b84830440f"
      },
      "source": [
        "def rename(fnames):\n",
        "    noof_data = len(fnames)\n",
        "    for i in range(noof_data):\n",
        "        os.rename(fnames[i], str(i)+\".png\")\n",
        "\n",
        "if \"val\" in os.listdir():\n",
        "    os.rename(\"val/\", \"test/\")\n",
        "\n",
        "test_data_path = \"test/\"\n",
        "train_data_path = \"train/\"\n",
        "classes = os.listdir(train_data_path)\n",
        "if \".DS_Store\" in classes:\n",
        "    os.remove(\".DS_Store\")\n",
        "    classes.remove(\".DS_Store\")\n",
        "\n",
        "print(\"Classes:\")\n",
        "print(classes)\n",
        "\n",
        "# Rename all training data file names\n",
        "dist = {}\n",
        "current_path = os.getcwd()\n",
        "for i in tqdm(classes):\n",
        "    class_path = train_data_path + i + \"/\"\n",
        "    fnames = os.listdir(class_path)\n",
        "    os.chdir(class_path)\n",
        "    if \".DS_Store\" in fnames:\n",
        "        os.remove(\".DS_Store\")\n",
        "        fnames.remove(\".DS_Store\")\n",
        "    dist[i] = len(fnames)\n",
        "\n",
        "    rename(fnames)\n",
        "    os.chdir(current_path)\n",
        "\n",
        "# Rename all testing data file names\n",
        "dist_test = {}\n",
        "current_path = os.getcwd()\n",
        "for i in tqdm(classes):\n",
        "    class_path = test_data_path + i + \"/\"\n",
        "    fnames = os.listdir(class_path)\n",
        "    os.chdir(class_path)\n",
        "    if \".DS_Store\" in fnames:\n",
        "        os.remove(\".DS_Store\")\n",
        "        fnames.remove(\".DS_Store\")\n",
        "    dist_test[i] = len(fnames)\n",
        "\n",
        "    rename(fnames)\n",
        "    os.chdir(current_path)"
      ],
      "execution_count": null,
      "outputs": [
        {
          "output_type": "stream",
          "text": [
            "\r  0%|          | 0/10 [00:00<?, ?it/s]"
          ],
          "name": "stderr"
        },
        {
          "output_type": "stream",
          "text": [
            "Classes:\n",
            "['Plantae', 'Aves', 'Amphibia', 'Insecta', 'Animalia', 'Mollusca', 'Fungi', 'Arachnida', 'Reptilia', 'Mammalia']\n"
          ],
          "name": "stdout"
        },
        {
          "output_type": "stream",
          "text": [
            "100%|██████████| 10/10 [00:32<00:00,  3.27s/it]\n",
            "100%|██████████| 10/10 [00:07<00:00,  1.41it/s]\n"
          ],
          "name": "stderr"
        }
      ]
    },
    {
      "cell_type": "code",
      "metadata": {
        "id": "TSrenBlJERsM",
        "colab": {
          "base_uri": "https://localhost:8080/",
          "height": 234
        },
        "outputId": "83ed4abd-0435-41cb-c235-98ace320dc5f"
      },
      "source": [
        "test_data_path = \"test/\"\n",
        "train_data_path = \"train/\"\n",
        "classes = os.listdir(train_data_path)\n",
        "if \".DS_Store\" in classes:\n",
        "    print(classes)\n",
        "    os.remove(train_data_path + \".DS_Store\")\n",
        "    classes.remove(\".DS_Store\")\n",
        "\n",
        "dist = {}\n",
        "current_path = os.getcwd()\n",
        "for i in tqdm(classes):\n",
        "    class_path = train_data_path + i + \"/\"\n",
        "    fnames = os.listdir(class_path)\n",
        "    dist[i] = len(fnames)\n",
        "    os.chdir(current_path)\n",
        "\n",
        "df = pd.DataFrame(dist, index=[\"Values\"])\n",
        "display(df)\n",
        "\n",
        "dist = {}\n",
        "current_path = os.getcwd()\n",
        "for i in tqdm(classes):\n",
        "    class_path = test_data_path + i + \"/\"\n",
        "    fnames = os.listdir(class_path)\n",
        "    dist[i] = len(fnames)\n",
        "    os.chdir(current_path)\n",
        "\n",
        "df = pd.DataFrame(dist, index=[\"Values\"])\n",
        "df"
      ],
      "execution_count": null,
      "outputs": [
        {
          "output_type": "stream",
          "text": [
            "100%|██████████| 10/10 [00:00<00:00, 60.43it/s]"
          ],
          "name": "stderr"
        },
        {
          "output_type": "stream",
          "text": [
            "['Plantae', '.DS_Store', 'Aves', 'Amphibia', 'Insecta', 'Animalia', 'Mollusca', 'Fungi', 'Arachnida', 'Reptilia', 'Mammalia']\n"
          ],
          "name": "stdout"
        },
        {
          "output_type": "stream",
          "text": [
            "\n"
          ],
          "name": "stderr"
        },
        {
          "output_type": "display_data",
          "data": {
            "text/html": [
              "<div>\n",
              "<style scoped>\n",
              "    .dataframe tbody tr th:only-of-type {\n",
              "        vertical-align: middle;\n",
              "    }\n",
              "\n",
              "    .dataframe tbody tr th {\n",
              "        vertical-align: top;\n",
              "    }\n",
              "\n",
              "    .dataframe thead th {\n",
              "        text-align: right;\n",
              "    }\n",
              "</style>\n",
              "<table border=\"1\" class=\"dataframe\">\n",
              "  <thead>\n",
              "    <tr style=\"text-align: right;\">\n",
              "      <th></th>\n",
              "      <th>Plantae</th>\n",
              "      <th>Aves</th>\n",
              "      <th>Amphibia</th>\n",
              "      <th>Insecta</th>\n",
              "      <th>Animalia</th>\n",
              "      <th>Mollusca</th>\n",
              "      <th>Fungi</th>\n",
              "      <th>Arachnida</th>\n",
              "      <th>Reptilia</th>\n",
              "      <th>Mammalia</th>\n",
              "    </tr>\n",
              "  </thead>\n",
              "  <tbody>\n",
              "    <tr>\n",
              "      <th>Values</th>\n",
              "      <td>1000</td>\n",
              "      <td>1000</td>\n",
              "      <td>1000</td>\n",
              "      <td>1000</td>\n",
              "      <td>1000</td>\n",
              "      <td>1000</td>\n",
              "      <td>999</td>\n",
              "      <td>1000</td>\n",
              "      <td>1000</td>\n",
              "      <td>1000</td>\n",
              "    </tr>\n",
              "  </tbody>\n",
              "</table>\n",
              "</div>"
            ],
            "text/plain": [
              "        Plantae  Aves  Amphibia  Insecta  ...  Fungi  Arachnida  Reptilia  Mammalia\n",
              "Values     1000  1000      1000     1000  ...    999       1000      1000      1000\n",
              "\n",
              "[1 rows x 10 columns]"
            ]
          },
          "metadata": {
            "tags": []
          }
        },
        {
          "output_type": "stream",
          "text": [
            "100%|██████████| 10/10 [00:00<00:00, 165.71it/s]\n"
          ],
          "name": "stderr"
        },
        {
          "output_type": "execute_result",
          "data": {
            "text/html": [
              "<div>\n",
              "<style scoped>\n",
              "    .dataframe tbody tr th:only-of-type {\n",
              "        vertical-align: middle;\n",
              "    }\n",
              "\n",
              "    .dataframe tbody tr th {\n",
              "        vertical-align: top;\n",
              "    }\n",
              "\n",
              "    .dataframe thead th {\n",
              "        text-align: right;\n",
              "    }\n",
              "</style>\n",
              "<table border=\"1\" class=\"dataframe\">\n",
              "  <thead>\n",
              "    <tr style=\"text-align: right;\">\n",
              "      <th></th>\n",
              "      <th>Plantae</th>\n",
              "      <th>Aves</th>\n",
              "      <th>Amphibia</th>\n",
              "      <th>Insecta</th>\n",
              "      <th>Animalia</th>\n",
              "      <th>Mollusca</th>\n",
              "      <th>Fungi</th>\n",
              "      <th>Arachnida</th>\n",
              "      <th>Reptilia</th>\n",
              "      <th>Mammalia</th>\n",
              "    </tr>\n",
              "  </thead>\n",
              "  <tbody>\n",
              "    <tr>\n",
              "      <th>Values</th>\n",
              "      <td>200</td>\n",
              "      <td>200</td>\n",
              "      <td>200</td>\n",
              "      <td>200</td>\n",
              "      <td>200</td>\n",
              "      <td>200</td>\n",
              "      <td>200</td>\n",
              "      <td>200</td>\n",
              "      <td>200</td>\n",
              "      <td>200</td>\n",
              "    </tr>\n",
              "  </tbody>\n",
              "</table>\n",
              "</div>"
            ],
            "text/plain": [
              "        Plantae  Aves  Amphibia  Insecta  ...  Fungi  Arachnida  Reptilia  Mammalia\n",
              "Values      200   200       200      200  ...    200        200       200       200\n",
              "\n",
              "[1 rows x 10 columns]"
            ]
          },
          "metadata": {
            "tags": []
          },
          "execution_count": 6
        }
      ]
    },
    {
      "cell_type": "code",
      "metadata": {
        "id": "vPClfucDnS9P",
        "colab": {
          "base_uri": "https://localhost:8080/"
        },
        "outputId": "82038102-8bce-4b71-ccb4-f1677823da75"
      },
      "source": [
        "os.chdir(current_path)\n",
        "os.chdir(train_data_path + \"Fungi/\")\n",
        "file_names = os.listdir(os.getcwd())\n",
        "for i in range(1000):\n",
        "    if str(i)+\".png\" not in file_names:\n",
        "        print(i)\n",
        "\n",
        "os.chdir(current_path)"
      ],
      "execution_count": null,
      "outputs": [
        {
          "output_type": "stream",
          "text": [
            "999\n"
          ],
          "name": "stdout"
        }
      ]
    },
    {
      "cell_type": "code",
      "metadata": {
        "id": "0cGmWQehicES"
      },
      "source": [
        ""
      ],
      "execution_count": null,
      "outputs": []
    }
  ]
}