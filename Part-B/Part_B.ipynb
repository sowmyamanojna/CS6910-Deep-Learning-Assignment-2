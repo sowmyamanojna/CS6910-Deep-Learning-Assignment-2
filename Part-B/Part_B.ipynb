{
  "nbformat": 4,
  "nbformat_minor": 0,
  "metadata": {
    "colab": {
      "name": "Part-B.ipynb",
      "provenance": [],
      "collapsed_sections": [],
      "authorship_tag": "ABX9TyPMpHADV26Jbrq8pujmdQm9",
      "include_colab_link": true
    },
    "kernelspec": {
      "name": "python3",
      "display_name": "Python 3"
    },
    "language_info": {
      "name": "python"
    },
    "accelerator": "GPU",
    "widgets": {
      "application/vnd.jupyter.widget-state+json": {
        "c48e7d35946a41fcb9bd45b181badcee": {
          "model_module": "@jupyter-widgets/controls",
          "model_name": "VBoxModel",
          "state": {
            "_view_name": "VBoxView",
            "_dom_classes": [],
            "_model_name": "VBoxModel",
            "_view_module": "@jupyter-widgets/controls",
            "_model_module_version": "1.5.0",
            "_view_count": null,
            "_view_module_version": "1.5.0",
            "box_style": "",
            "layout": "IPY_MODEL_6b1b1239c66847ec97a0d721a872948b",
            "_model_module": "@jupyter-widgets/controls",
            "children": [
              "IPY_MODEL_239be6be54d54c3e8c26798ad944ac41",
              "IPY_MODEL_82d2c1e825384223b999e441061785d1"
            ]
          }
        },
        "eb516c5195644e43883bcf408ab1096d": {
          "model_module": "@jupyter-widgets/controls",
          "model_name": "VBoxModel",
          "state": {
            "_view_name": "VBoxView",
            "_dom_classes": [],
            "_model_name": "VBoxModel",
            "_view_module": "@jupyter-widgets/controls",
            "_model_module_version": "1.5.0",
            "_view_count": null,
            "_view_module_version": "1.5.0",
            "box_style": "",
            "layout": "IPY_MODEL_9d5c5ffa667945e7a178cb8b04cbced6",
            "_model_module": "@jupyter-widgets/controls",
            "children": [
              "IPY_MODEL_131ee0fb6b6245ea9e8df39bd1f2d733",
              "IPY_MODEL_3f1b2a78c37c48bf90e740c7d744eb67"
            ]
          }
        },
        "0ccd250f776c45bb851c54cddd81146a": {
          "model_module": "@jupyter-widgets/controls",
          "model_name": "VBoxModel",
          "state": {
            "_view_name": "VBoxView",
            "_dom_classes": [],
            "_model_name": "VBoxModel",
            "_view_module": "@jupyter-widgets/controls",
            "_model_module_version": "1.5.0",
            "_view_count": null,
            "_view_module_version": "1.5.0",
            "box_style": "",
            "layout": "IPY_MODEL_f1dc01089eaa45e08889b8f486cabe0f",
            "_model_module": "@jupyter-widgets/controls",
            "children": [
              "IPY_MODEL_f0c05909d38d4ec89839dd0013bf70a6",
              "IPY_MODEL_36d43323f4664e45bf97417f9f8f777a"
            ]
          }
        },
        "31cb0e40719043da96475f0107f267c5": {
          "model_module": "@jupyter-widgets/controls",
          "model_name": "VBoxModel",
          "state": {
            "_view_name": "VBoxView",
            "_dom_classes": [],
            "_model_name": "VBoxModel",
            "_view_module": "@jupyter-widgets/controls",
            "_model_module_version": "1.5.0",
            "_view_count": null,
            "_view_module_version": "1.5.0",
            "box_style": "",
            "layout": "IPY_MODEL_79228d7513474cb8a666151b210683f5",
            "_model_module": "@jupyter-widgets/controls",
            "children": [
              "IPY_MODEL_03efb60b87af465b8fbf66ffc546aea5",
              "IPY_MODEL_8b8712815cdf403a87d6714d1108a56a"
            ]
          }
        },
        "04dcb987e4504db4835cfe4073fb0e5b": {
          "model_module": "@jupyter-widgets/controls",
          "model_name": "VBoxModel",
          "state": {
            "_view_name": "VBoxView",
            "_dom_classes": [],
            "_model_name": "VBoxModel",
            "_view_module": "@jupyter-widgets/controls",
            "_model_module_version": "1.5.0",
            "_view_count": null,
            "_view_module_version": "1.5.0",
            "box_style": "",
            "layout": "IPY_MODEL_e40cac43e7654ed98e76812a7b7e00f9",
            "_model_module": "@jupyter-widgets/controls",
            "children": [
              "IPY_MODEL_07399f280f0c45a996d4c91e136ad163",
              "IPY_MODEL_10a55ad309604404922f1e109e9bc457"
            ]
          }
        },
        "e54f0c5dcbf94af9880545f96338c62b": {
          "model_module": "@jupyter-widgets/controls",
          "model_name": "VBoxModel",
          "state": {
            "_view_name": "VBoxView",
            "_dom_classes": [],
            "_model_name": "VBoxModel",
            "_view_module": "@jupyter-widgets/controls",
            "_model_module_version": "1.5.0",
            "_view_count": null,
            "_view_module_version": "1.5.0",
            "box_style": "",
            "layout": "IPY_MODEL_5f7c398c6d494f6aacd43d8771fe107d",
            "_model_module": "@jupyter-widgets/controls",
            "children": [
              "IPY_MODEL_5e7f2b1ef396498b8699a2df269e25e0",
              "IPY_MODEL_4911cbc6f0fb49ee881728360d5d468e"
            ]
          }
        },
        "dae531bd39924215ae9fb1288a674759": {
          "model_module": "@jupyter-widgets/controls",
          "model_name": "VBoxModel",
          "state": {
            "_view_name": "VBoxView",
            "_dom_classes": [],
            "_model_name": "VBoxModel",
            "_view_module": "@jupyter-widgets/controls",
            "_model_module_version": "1.5.0",
            "_view_count": null,
            "_view_module_version": "1.5.0",
            "box_style": "",
            "layout": "IPY_MODEL_170008c81bca463b96d7fba041fedeb6",
            "_model_module": "@jupyter-widgets/controls",
            "children": [
              "IPY_MODEL_34490ae32ed24b4f947d19e14a688a1e",
              "IPY_MODEL_f916004878c042c9b49859ad79b84950"
            ]
          }
        },
        "da09663a0eb24133bbb472c5ee3e17b1": {
          "model_module": "@jupyter-widgets/controls",
          "model_name": "VBoxModel",
          "state": {
            "_view_name": "VBoxView",
            "_dom_classes": [],
            "_model_name": "VBoxModel",
            "_view_module": "@jupyter-widgets/controls",
            "_model_module_version": "1.5.0",
            "_view_count": null,
            "_view_module_version": "1.5.0",
            "box_style": "",
            "layout": "IPY_MODEL_2cfb517fb7824392b67810c004f581fd",
            "_model_module": "@jupyter-widgets/controls",
            "children": [
              "IPY_MODEL_f731ed7b7abf414daba1d45d6d775b0e",
              "IPY_MODEL_7772630fd19f42889a237d5a2ff2ffbb"
            ]
          }
        }
      }
    }
  },
  "cells": [
    {
      "cell_type": "markdown",
      "metadata": {
        "id": "view-in-github",
        "colab_type": "text"
      },
      "source": [
        "<a href=\"https://colab.research.google.com/github/sowmyamanojna/CS6910-Deep-Learning-Assignment-2/blob/main/Part_B.ipynb\" target=\"_parent\"><img src=\"https://colab.research.google.com/assets/colab-badge.svg\" alt=\"Open In Colab\"/></a>"
      ]
    },
    {
      "cell_type": "code",
      "metadata": {
        "id": "-LS0fc9-ZrXN"
      },
      "source": [
        "!pip install -q wandb\n",
        "import wandb\n",
        "import pathlib\n",
        "import numpy as np\n",
        "import pandas as pd\n",
        "import tensorflow as tf\n",
        "from tensorflow.keras.preprocessing import image_dataset_from_directory\n",
        "from tensorflow.keras.preprocessing.image import ImageDataGenerator\n",
        "from tensorflow.keras import layers, Model\n",
        "from tensorflow.keras.layers.experimental.preprocessing import Rescaling\n",
        "from PIL import Image"
      ],
      "execution_count": null,
      "outputs": []
    },
    {
      "cell_type": "code",
      "metadata": {
        "colab": {
          "base_uri": "https://localhost:8080/"
        },
        "id": "1K34jr47OKyM",
        "outputId": "4e4951cd-44c0-48e9-970a-7a3a8c700f09"
      },
      "source": [
        "from google.colab import drive\n",
        "drive.mount('/content/drive')"
      ],
      "execution_count": null,
      "outputs": [
        {
          "output_type": "stream",
          "text": [
            "Drive already mounted at /content/drive; to attempt to forcibly remount, call drive.mount(\"/content/drive\", force_remount=True).\n"
          ],
          "name": "stdout"
        }
      ]
    },
    {
      "cell_type": "code",
      "metadata": {
        "colab": {
          "base_uri": "https://localhost:8080/"
        },
        "id": "1NwKzzeTZy1y",
        "outputId": "ce1bacde-5a65-446a-be59-ad9ff2e963db"
      },
      "source": [
        "################################################################\n",
        "# Preparing training (without augmentation) and validation set \n",
        "################################################################\n",
        "# Preparing training and validation sets without augmentation\n",
        "# Loading data from directory\n",
        "# data_dir = pathlib.Path('/content/drive/MyDrive/inaturalist_12K/train') # Set path to the right directory\n",
        "data_dir = '/content/drive/MyDrive/inaturalist_12K/train' # Set path to the right directory\n",
        "train_data = tf.keras.preprocessing.image_dataset_from_directory(\n",
        "                      directory = data_dir,\n",
        "                      labels = 'inferred',  \n",
        "                      label_mode = 'categorical',\n",
        "                      color_mode = 'rgb',\n",
        "                      batch_size = 32,\n",
        "                      image_size = (256, 256),\n",
        "                      shuffle = True,\n",
        "                      seed = 17,\n",
        "                      validation_split = 0.2,\n",
        "                      subset = 'training')\n",
        "\n",
        "val_data = tf.keras.preprocessing.image_dataset_from_directory(\n",
        "                      directory = data_dir,\n",
        "                      labels = 'inferred',  \n",
        "                      label_mode = 'categorical',\n",
        "                      color_mode = 'rgb',\n",
        "                      batch_size = 32,\n",
        "                      image_size = (256, 256),\n",
        "                      shuffle = True,\n",
        "                      seed = 17,\n",
        "                      validation_split = 0.2,\n",
        "                      subset = 'validation')\n",
        "\n",
        "# Retaining 25 percent of train and validation data and discarding the rest\n",
        "len_train, len_val = len(train_data), len(val_data)\n",
        "train_data = train_data.take(int(0.25*len_train))\n",
        "val_data = val_data.take(int(0.25*len_val))"
      ],
      "execution_count": null,
      "outputs": [
        {
          "output_type": "stream",
          "text": [
            "Found 10000 files belonging to 10 classes.\n",
            "Using 8000 files for training.\n",
            "Found 10000 files belonging to 10 classes.\n",
            "Using 2000 files for validation.\n"
          ],
          "name": "stdout"
        }
      ]
    },
    {
      "cell_type": "code",
      "metadata": {
        "colab": {
          "base_uri": "https://localhost:8080/"
        },
        "id": "r6qajDpNZz-B",
        "outputId": "e5af3bc8-1d37-496a-b58c-2356a0777579"
      },
      "source": [
        "################################################################\n",
        "# Preparing training set with augmentation \n",
        "################################################################\n",
        "train_data_augmenter = ImageDataGenerator(\n",
        "                            rescale = None,\n",
        "                            rotation_range = 20,\n",
        "                            width_shift_range = 0.2,\n",
        "                            height_shift_range = 0.2,\n",
        "                            brightness_range = [0.2, 1.5],\n",
        "                            shear_range = 0.2,\n",
        "                            zoom_range = 0.2,\n",
        "                            horizontal_flip=True,\n",
        "                            data_format = 'channels_last',\n",
        "                            validation_split = 0.2)        #Specifying parameters for augmentation of training data\n",
        "\n",
        "val_data_augmenter = ImageDataGenerator(validation_split = 0.2) #No augmentation of validation data\n",
        "\n",
        "train_aug_gen = train_data_augmenter.flow_from_directory(data_dir, shuffle = True, \\\n",
        "                                                         seed = 17, subset = 'training')\n",
        "val_aug_gen = val_data_augmenter.flow_from_directory(data_dir, shuffle = True, \\\n",
        "                                                     seed = 17, subset = 'validation')\n",
        "\n",
        "train_aug_data = tf.data.Dataset.from_generator(\n",
        "                    lambda: train_aug_gen,\n",
        "                    output_types = (tf.float32, tf.float32),\n",
        "                    output_shapes = ([None, 256, 256, 3], [None, 10]))\n",
        "\n",
        "val_aug_data = tf.data.Dataset.from_generator(\n",
        "                  lambda: val_aug_gen,\n",
        "                  output_types = (tf.float32, tf.float32),\n",
        "                  output_shapes = ([None, 256, 256, 3], [None, 10]))\n",
        "\n",
        "# Retaining 25 percent of train and validation data and discarding the rest\n",
        "train_aug_data = train_aug_data.take(int(0.25*len_train))\n",
        "val_aug_data = val_aug_data.take(int(0.25*len_val))"
      ],
      "execution_count": null,
      "outputs": [
        {
          "output_type": "stream",
          "text": [
            "Found 8000 images belonging to 10 classes.\n",
            "Found 2000 images belonging to 10 classes.\n"
          ],
          "name": "stdout"
        }
      ]
    },
    {
      "cell_type": "markdown",
      "metadata": {
        "id": "NS0Zq3NrUiCr"
      },
      "source": [
        "Using tutorials:\n",
        "- https://www.tensorflow.org/tutorials/text/image_captioning\n",
        "- https://www.tensorflow.org/tutorials/images/transfer_learning\n"
      ]
    },
    {
      "cell_type": "code",
      "metadata": {
        "id": "z79mSMMEZ8xn"
      },
      "source": [
        "class CNN(Model):\n",
        "    def __init__(self, base_model_name, tune=False, offset=20):\n",
        "        super(CNN, self).__init__()\n",
        "        self.IMG_SHAPE = (256, 256, 3)\n",
        "        self.base_model_name = base_model_name\n",
        "        self.init_base_model()\n",
        "        \n",
        "        if tune:\n",
        "            self.base_model.trainable = True\n",
        "            fine_tune_at = len(self.base_model.layers)-offset\n",
        "            # Freeze all the layers before the `fine_tune_at` layer\n",
        "            for layer in self.base_model.layers[:fine_tune_at]:\n",
        "                layer.trainable =  False\n",
        "        else:\n",
        "            self.base_model.trainable = False\n",
        "\n",
        "        self.additional_avg_pool1 = layers.GlobalAveragePooling2D()\n",
        "        self.additional_dense1 = layers.Dense(10)\n",
        "\n",
        "    def init_base_model(self):\n",
        "        if self.base_model_name == \"InceptionV3\":\n",
        "            self.base_model = tf.keras.applications.InceptionV3(input_shape=self.IMG_SHAPE,\n",
        "                                               include_top=False,\n",
        "                                               weights='imagenet')\n",
        "        elif self.base_model_name == \"InceptionResNetV2\":\n",
        "            self.base_model = tf.keras.applications.InceptionResNetV2(input_shape=self.IMG_SHAPE,\n",
        "                                               include_top=False,\n",
        "                                               weights='imagenet')\n",
        "        elif self.base_model_name == \"ResNet50\":\n",
        "            self.base_model = tf.keras.applications.ResNet50(input_shape=self.IMG_SHAPE,\n",
        "                                               include_top=False,\n",
        "                                               weights='imagenet')\n",
        "        elif self.base_model_name == \"Xception\":\n",
        "            self.base_model = tf.keras.applications.Xception(input_shape=self.IMG_SHAPE,\n",
        "                                               include_top=False,\n",
        "                                               weights='imagenet')\n",
        "            \n",
        "    def call(self, inputs):\n",
        "        x = self.base_model(inputs)\n",
        "        x = self.additional_avg_pool1(x)\n",
        "        return self.additional_dense1(x)"
      ],
      "execution_count": null,
      "outputs": []
    },
    {
      "cell_type": "code",
      "metadata": {
        "id": "MCTRL1QdOGxX"
      },
      "source": [
        "###############################################\n",
        "# Listing the hyperparameters in wandb config \n",
        "###############################################\n",
        "sweep_config = {'name': 'random-test-sweep', 'method': 'grid'}\n",
        "sweep_config['metric'] = {'name': 'val_acc', 'goal': 'maximize'}\n",
        "parameters_dict = {\n",
        "                   'base_model_name': {'values': [\"InceptionV3\", \"InceptionResNetV2\", \"ResNet50\", \"Xception\"]},\n",
        "                   'tune': {'values': [False, True]},\n",
        "                  }\n",
        "sweep_config['parameters'] = parameters_dict"
      ],
      "execution_count": null,
      "outputs": []
    },
    {
      "cell_type": "code",
      "metadata": {
        "id": "VA845WJNRizR"
      },
      "source": [
        "def pretrain_CNN_sweep(config=sweep_config):\n",
        "    with wandb.init(config=config):\n",
        "        config = wandb.init().config\n",
        "        wandb.run.name = 'BM_{}_tune_{}'.format(config.base_model_name, \\\n",
        "                                                          config.tune)\n",
        "        \n",
        "        model = CNN(config.base_model_name, config.tune)\n",
        "        base_learning_rate = 0.0001\n",
        "        model.compile(optimizer=tf.keras.optimizers.Adam(lr=base_learning_rate),\n",
        "                loss=tf.keras.losses.CategoricalCrossentropy(from_logits=True),\n",
        "                metrics=['accuracy'])\n",
        "        \n",
        "        history = model.fit(train_data, epochs=10, validation_data=val_data, \\\n",
        "                            callbacks = [wandb.keras.WandbCallback()])"
      ],
      "execution_count": null,
      "outputs": []
    },
    {
      "cell_type": "code",
      "metadata": {
        "colab": {
          "base_uri": "https://localhost:8080/",
          "height": 1000,
          "referenced_widgets": [
            "c48e7d35946a41fcb9bd45b181badcee",
            "eb516c5195644e43883bcf408ab1096d",
            "0ccd250f776c45bb851c54cddd81146a",
            "31cb0e40719043da96475f0107f267c5",
            "04dcb987e4504db4835cfe4073fb0e5b",
            "e54f0c5dcbf94af9880545f96338c62b",
            "dae531bd39924215ae9fb1288a674759",
            "da09663a0eb24133bbb472c5ee3e17b1"
          ]
        },
        "id": "QN0MMuvoyOqD",
        "outputId": "968f97a9-ec8b-414d-cdd9-43e8f98608bb"
      },
      "source": [
        "#################################\n",
        "# Setting up wandb sweeps\n",
        "#################################\n",
        "sweep_id = wandb.sweep(sweep_config, project = 'DL-Assignment2-PartB-9April')\n",
        "wandb.agent(sweep_id, function=pretrain_CNN_sweep)"
      ],
      "execution_count": null,
      "outputs": [
        {
          "output_type": "stream",
          "text": [
            "Create sweep with ID: oqws1sm6\n",
            "Sweep URL: https://wandb.ai/cs6910-team/DL-Assignment2-PartB-9April/sweeps/oqws1sm6\n"
          ],
          "name": "stdout"
        },
        {
          "output_type": "stream",
          "text": [
            "\u001b[34m\u001b[1mwandb\u001b[0m: Agent Starting Run: niejuzbd with config:\n",
            "\u001b[34m\u001b[1mwandb\u001b[0m: \tbase_model_name: InceptionV3\n",
            "\u001b[34m\u001b[1mwandb\u001b[0m: \ttune: False\n",
            "\u001b[34m\u001b[1mwandb\u001b[0m: Currently logged in as: \u001b[33mcs6910-team\u001b[0m (use `wandb login --relogin` to force relogin)\n"
          ],
          "name": "stderr"
        },
        {
          "output_type": "display_data",
          "data": {
            "text/html": [
              "\n",
              "                Tracking run with wandb version 0.10.25<br/>\n",
              "                Syncing run <strong style=\"color:#cdcd00\">genial-sweep-1</strong> to <a href=\"https://wandb.ai\" target=\"_blank\">Weights & Biases</a> <a href=\"https://docs.wandb.com/integrations/jupyter.html\" target=\"_blank\">(Documentation)</a>.<br/>\n",
              "                Project page: <a href=\"https://wandb.ai/cs6910-team/DL-Assignment2-PartB-9April\" target=\"_blank\">https://wandb.ai/cs6910-team/DL-Assignment2-PartB-9April</a><br/>\n",
              "                Sweep page: <a href=\"https://wandb.ai/cs6910-team/DL-Assignment2-PartB-9April/sweeps/oqws1sm6\" target=\"_blank\">https://wandb.ai/cs6910-team/DL-Assignment2-PartB-9April/sweeps/oqws1sm6</a><br/>\n",
              "Run page: <a href=\"https://wandb.ai/cs6910-team/DL-Assignment2-PartB-9April/runs/niejuzbd\" target=\"_blank\">https://wandb.ai/cs6910-team/DL-Assignment2-PartB-9April/runs/niejuzbd</a><br/>\n",
              "                Run data is saved locally in <code>/content/wandb/run-20210409_185549-niejuzbd</code><br/><br/>\n",
              "            "
            ],
            "text/plain": [
              "<IPython.core.display.HTML object>"
            ]
          },
          "metadata": {
            "tags": []
          }
        },
        {
          "output_type": "display_data",
          "data": {
            "text/html": [
              "Finishing last run (ID:niejuzbd) before initializing another..."
            ],
            "text/plain": [
              "<IPython.core.display.HTML object>"
            ]
          },
          "metadata": {
            "tags": []
          }
        },
        {
          "output_type": "display_data",
          "data": {
            "text/html": [
              "<br/>Waiting for W&B process to finish, PID 2370<br/>Program ended successfully."
            ],
            "text/plain": [
              "<IPython.core.display.HTML object>"
            ]
          },
          "metadata": {
            "tags": []
          }
        },
        {
          "output_type": "display_data",
          "data": {
            "application/vnd.jupyter.widget-view+json": {
              "model_id": "c48e7d35946a41fcb9bd45b181badcee",
              "version_minor": 0,
              "version_major": 2
            },
            "text/plain": [
              "VBox(children=(Label(value=' 0.03MB of 0.03MB uploaded (0.00MB deduped)\\r'), FloatProgress(value=1.0, max=1.0)…"
            ]
          },
          "metadata": {
            "tags": []
          }
        },
        {
          "output_type": "display_data",
          "data": {
            "text/html": [
              "Find user logs for this run at: <code>/content/wandb/run-20210409_185549-niejuzbd/logs/debug.log</code>"
            ],
            "text/plain": [
              "<IPython.core.display.HTML object>"
            ]
          },
          "metadata": {
            "tags": []
          }
        },
        {
          "output_type": "display_data",
          "data": {
            "text/html": [
              "Find internal logs for this run at: <code>/content/wandb/run-20210409_185549-niejuzbd/logs/debug-internal.log</code>"
            ],
            "text/plain": [
              "<IPython.core.display.HTML object>"
            ]
          },
          "metadata": {
            "tags": []
          }
        },
        {
          "output_type": "display_data",
          "data": {
            "text/html": [
              "Synced 4 W&B file(s), 0 media file(s), 2 artifact file(s) and 1 other file(s)"
            ],
            "text/plain": [
              "<IPython.core.display.HTML object>"
            ]
          },
          "metadata": {
            "tags": []
          }
        },
        {
          "output_type": "display_data",
          "data": {
            "text/html": [
              "\n",
              "                    <br/>Synced <strong style=\"color:#cdcd00\">genial-sweep-1</strong>: <a href=\"https://wandb.ai/cs6910-team/DL-Assignment2-PartB-9April/runs/niejuzbd\" target=\"_blank\">https://wandb.ai/cs6910-team/DL-Assignment2-PartB-9April/runs/niejuzbd</a><br/>\n",
              "                "
            ],
            "text/plain": [
              "<IPython.core.display.HTML object>"
            ]
          },
          "metadata": {
            "tags": []
          }
        },
        {
          "output_type": "display_data",
          "data": {
            "text/html": [
              "...Successfully finished last run (ID:niejuzbd). Initializing new run:<br/><br/>"
            ],
            "text/plain": [
              "<IPython.core.display.HTML object>"
            ]
          },
          "metadata": {
            "tags": []
          }
        },
        {
          "output_type": "display_data",
          "data": {
            "text/html": [
              "\n",
              "                Tracking run with wandb version 0.10.25<br/>\n",
              "                Syncing run <strong style=\"color:#cdcd00\">genial-sweep-1</strong> to <a href=\"https://wandb.ai\" target=\"_blank\">Weights & Biases</a> <a href=\"https://docs.wandb.com/integrations/jupyter.html\" target=\"_blank\">(Documentation)</a>.<br/>\n",
              "                Project page: <a href=\"https://wandb.ai/cs6910-team/DL-Assignment2-PartB-9April\" target=\"_blank\">https://wandb.ai/cs6910-team/DL-Assignment2-PartB-9April</a><br/>\n",
              "                Sweep page: <a href=\"https://wandb.ai/cs6910-team/DL-Assignment2-PartB-9April/sweeps/oqws1sm6\" target=\"_blank\">https://wandb.ai/cs6910-team/DL-Assignment2-PartB-9April/sweeps/oqws1sm6</a><br/>\n",
              "Run page: <a href=\"https://wandb.ai/cs6910-team/DL-Assignment2-PartB-9April/runs/niejuzbd\" target=\"_blank\">https://wandb.ai/cs6910-team/DL-Assignment2-PartB-9April/runs/niejuzbd</a><br/>\n",
              "                Run data is saved locally in <code>/content/wandb/run-20210409_185552-niejuzbd</code><br/><br/>\n",
              "            "
            ],
            "text/plain": [
              "<IPython.core.display.HTML object>"
            ]
          },
          "metadata": {
            "tags": []
          }
        },
        {
          "output_type": "stream",
          "text": [
            "Epoch 1/10\n",
            "62/62 [==============================] - 53s 692ms/step - loss: 24.5232 - accuracy: 0.1053 - val_loss: 10.3967 - val_accuracy: 0.1083\n"
          ],
          "name": "stdout"
        },
        {
          "output_type": "stream",
          "text": [
            "\u001b[34m\u001b[1mwandb\u001b[0m: \u001b[32m\u001b[41mERROR\u001b[0m Can't save model, h5py returned error: Saving the model to HDF5 format requires the model to be a Functional model or a Sequential model. It does not work for subclassed models, because such models are defined via the body of a Python method, which isn't safely serializable. Consider saving to the Tensorflow SavedModel format (by setting save_format=\"tf\") or using `save_weights`.\n"
          ],
          "name": "stderr"
        },
        {
          "output_type": "stream",
          "text": [
            "Epoch 2/10\n",
            "62/62 [==============================] - 43s 656ms/step - loss: 9.9452 - accuracy: 0.1147 - val_loss: 8.5368 - val_accuracy: 0.1333\n",
            "Epoch 3/10\n",
            "62/62 [==============================] - 43s 659ms/step - loss: 8.6771 - accuracy: 0.1161 - val_loss: 7.9033 - val_accuracy: 0.1146\n",
            "Epoch 4/10\n",
            "62/62 [==============================] - 43s 658ms/step - loss: 7.7919 - accuracy: 0.1267 - val_loss: 7.1490 - val_accuracy: 0.1458\n",
            "Epoch 5/10\n",
            "62/62 [==============================] - 43s 659ms/step - loss: 7.1604 - accuracy: 0.1237 - val_loss: 6.6931 - val_accuracy: 0.1312\n",
            "Epoch 6/10\n",
            "62/62 [==============================] - 43s 659ms/step - loss: 6.6078 - accuracy: 0.1280 - val_loss: 6.6770 - val_accuracy: 0.1229\n",
            "Epoch 7/10\n",
            "62/62 [==============================] - 43s 654ms/step - loss: 6.3397 - accuracy: 0.1391 - val_loss: 6.4815 - val_accuracy: 0.1208\n",
            "Epoch 8/10\n",
            "62/62 [==============================] - 43s 658ms/step - loss: 5.9824 - accuracy: 0.1301 - val_loss: 6.2228 - val_accuracy: 0.1354\n",
            "Epoch 9/10\n",
            "62/62 [==============================] - 43s 659ms/step - loss: 5.6976 - accuracy: 0.1406 - val_loss: 6.0792 - val_accuracy: 0.1271\n",
            "Epoch 10/10\n",
            "62/62 [==============================] - 43s 656ms/step - loss: 5.5327 - accuracy: 0.1353 - val_loss: 5.6998 - val_accuracy: 0.1583\n"
          ],
          "name": "stdout"
        },
        {
          "output_type": "stream",
          "text": [
            "\u001b[34m\u001b[1mwandb\u001b[0m: Agent Starting Run: u6gu28s0 with config:\n",
            "\u001b[34m\u001b[1mwandb\u001b[0m: \tbase_model_name: InceptionV3\n",
            "\u001b[34m\u001b[1mwandb\u001b[0m: \ttune: True\n"
          ],
          "name": "stderr"
        },
        {
          "output_type": "display_data",
          "data": {
            "text/html": [
              "\n",
              "                Tracking run with wandb version 0.10.25<br/>\n",
              "                Syncing run <strong style=\"color:#cdcd00\">sunny-sweep-2</strong> to <a href=\"https://wandb.ai\" target=\"_blank\">Weights & Biases</a> <a href=\"https://docs.wandb.com/integrations/jupyter.html\" target=\"_blank\">(Documentation)</a>.<br/>\n",
              "                Project page: <a href=\"https://wandb.ai/cs6910-team/DL-Assignment2-PartB-9April\" target=\"_blank\">https://wandb.ai/cs6910-team/DL-Assignment2-PartB-9April</a><br/>\n",
              "                Sweep page: <a href=\"https://wandb.ai/cs6910-team/DL-Assignment2-PartB-9April/sweeps/oqws1sm6\" target=\"_blank\">https://wandb.ai/cs6910-team/DL-Assignment2-PartB-9April/sweeps/oqws1sm6</a><br/>\n",
              "Run page: <a href=\"https://wandb.ai/cs6910-team/DL-Assignment2-PartB-9April/runs/u6gu28s0\" target=\"_blank\">https://wandb.ai/cs6910-team/DL-Assignment2-PartB-9April/runs/u6gu28s0</a><br/>\n",
              "                Run data is saved locally in <code>/content/wandb/run-20210409_190326-u6gu28s0</code><br/><br/>\n",
              "            "
            ],
            "text/plain": [
              "<IPython.core.display.HTML object>"
            ]
          },
          "metadata": {
            "tags": []
          }
        },
        {
          "output_type": "display_data",
          "data": {
            "text/html": [
              "Finishing last run (ID:u6gu28s0) before initializing another..."
            ],
            "text/plain": [
              "<IPython.core.display.HTML object>"
            ]
          },
          "metadata": {
            "tags": []
          }
        },
        {
          "output_type": "display_data",
          "data": {
            "text/html": [
              "<br/>Waiting for W&B process to finish, PID 2554<br/>Program ended successfully."
            ],
            "text/plain": [
              "<IPython.core.display.HTML object>"
            ]
          },
          "metadata": {
            "tags": []
          }
        },
        {
          "output_type": "display_data",
          "data": {
            "application/vnd.jupyter.widget-view+json": {
              "model_id": "eb516c5195644e43883bcf408ab1096d",
              "version_minor": 0,
              "version_major": 2
            },
            "text/plain": [
              "VBox(children=(Label(value=' 0.03MB of 0.03MB uploaded (0.00MB deduped)\\r'), FloatProgress(value=1.0, max=1.0)…"
            ]
          },
          "metadata": {
            "tags": []
          }
        },
        {
          "output_type": "display_data",
          "data": {
            "text/html": [
              "Find user logs for this run at: <code>/content/wandb/run-20210409_190326-u6gu28s0/logs/debug.log</code>"
            ],
            "text/plain": [
              "<IPython.core.display.HTML object>"
            ]
          },
          "metadata": {
            "tags": []
          }
        },
        {
          "output_type": "display_data",
          "data": {
            "text/html": [
              "Find internal logs for this run at: <code>/content/wandb/run-20210409_190326-u6gu28s0/logs/debug-internal.log</code>"
            ],
            "text/plain": [
              "<IPython.core.display.HTML object>"
            ]
          },
          "metadata": {
            "tags": []
          }
        },
        {
          "output_type": "display_data",
          "data": {
            "text/html": [
              "Synced 4 W&B file(s), 0 media file(s), 2 artifact file(s) and 1 other file(s)"
            ],
            "text/plain": [
              "<IPython.core.display.HTML object>"
            ]
          },
          "metadata": {
            "tags": []
          }
        },
        {
          "output_type": "display_data",
          "data": {
            "text/html": [
              "\n",
              "                    <br/>Synced <strong style=\"color:#cdcd00\">sunny-sweep-2</strong>: <a href=\"https://wandb.ai/cs6910-team/DL-Assignment2-PartB-9April/runs/u6gu28s0\" target=\"_blank\">https://wandb.ai/cs6910-team/DL-Assignment2-PartB-9April/runs/u6gu28s0</a><br/>\n",
              "                "
            ],
            "text/plain": [
              "<IPython.core.display.HTML object>"
            ]
          },
          "metadata": {
            "tags": []
          }
        },
        {
          "output_type": "display_data",
          "data": {
            "text/html": [
              "...Successfully finished last run (ID:u6gu28s0). Initializing new run:<br/><br/>"
            ],
            "text/plain": [
              "<IPython.core.display.HTML object>"
            ]
          },
          "metadata": {
            "tags": []
          }
        },
        {
          "output_type": "display_data",
          "data": {
            "text/html": [
              "\n",
              "                Tracking run with wandb version 0.10.25<br/>\n",
              "                Syncing run <strong style=\"color:#cdcd00\">sunny-sweep-2</strong> to <a href=\"https://wandb.ai\" target=\"_blank\">Weights & Biases</a> <a href=\"https://docs.wandb.com/integrations/jupyter.html\" target=\"_blank\">(Documentation)</a>.<br/>\n",
              "                Project page: <a href=\"https://wandb.ai/cs6910-team/DL-Assignment2-PartB-9April\" target=\"_blank\">https://wandb.ai/cs6910-team/DL-Assignment2-PartB-9April</a><br/>\n",
              "                Sweep page: <a href=\"https://wandb.ai/cs6910-team/DL-Assignment2-PartB-9April/sweeps/oqws1sm6\" target=\"_blank\">https://wandb.ai/cs6910-team/DL-Assignment2-PartB-9April/sweeps/oqws1sm6</a><br/>\n",
              "Run page: <a href=\"https://wandb.ai/cs6910-team/DL-Assignment2-PartB-9April/runs/u6gu28s0\" target=\"_blank\">https://wandb.ai/cs6910-team/DL-Assignment2-PartB-9April/runs/u6gu28s0</a><br/>\n",
              "                Run data is saved locally in <code>/content/wandb/run-20210409_190329-u6gu28s0</code><br/><br/>\n",
              "            "
            ],
            "text/plain": [
              "<IPython.core.display.HTML object>"
            ]
          },
          "metadata": {
            "tags": []
          }
        },
        {
          "output_type": "stream",
          "text": [
            "Epoch 1/10\n",
            "62/62 [==============================] - 51s 691ms/step - loss: 2.3064 - accuracy: 0.1471 - val_loss: 2.3262 - val_accuracy: 0.1688\n"
          ],
          "name": "stdout"
        },
        {
          "output_type": "stream",
          "text": [
            "\u001b[34m\u001b[1mwandb\u001b[0m: \u001b[32m\u001b[41mERROR\u001b[0m Can't save model, h5py returned error: Saving the model to HDF5 format requires the model to be a Functional model or a Sequential model. It does not work for subclassed models, because such models are defined via the body of a Python method, which isn't safely serializable. Consider saving to the Tensorflow SavedModel format (by setting save_format=\"tf\") or using `save_weights`.\n"
          ],
          "name": "stderr"
        },
        {
          "output_type": "stream",
          "text": [
            "Epoch 2/10\n",
            "62/62 [==============================] - 44s 666ms/step - loss: 2.1164 - accuracy: 0.2322 - val_loss: 2.2345 - val_accuracy: 0.1854\n",
            "Epoch 3/10\n",
            "62/62 [==============================] - 43s 663ms/step - loss: 2.0310 - accuracy: 0.2935 - val_loss: 2.1941 - val_accuracy: 0.2021\n",
            "Epoch 4/10\n",
            "62/62 [==============================] - 43s 663ms/step - loss: 1.9479 - accuracy: 0.3497 - val_loss: 2.2185 - val_accuracy: 0.2000\n",
            "Epoch 5/10\n",
            "62/62 [==============================] - 43s 661ms/step - loss: 1.8852 - accuracy: 0.3731 - val_loss: 2.1314 - val_accuracy: 0.2125\n",
            "Epoch 6/10\n",
            "62/62 [==============================] - 43s 662ms/step - loss: 1.8155 - accuracy: 0.4285 - val_loss: 2.1769 - val_accuracy: 0.2062\n",
            "Epoch 7/10\n",
            "62/62 [==============================] - 43s 665ms/step - loss: 1.7628 - accuracy: 0.4495 - val_loss: 2.1729 - val_accuracy: 0.2271\n",
            "Epoch 8/10\n",
            "62/62 [==============================] - 43s 661ms/step - loss: 1.6952 - accuracy: 0.4747 - val_loss: 2.1792 - val_accuracy: 0.2104\n",
            "Epoch 9/10\n",
            "62/62 [==============================] - 44s 665ms/step - loss: 1.6166 - accuracy: 0.5282 - val_loss: 2.1992 - val_accuracy: 0.1958\n",
            "Epoch 10/10\n",
            "62/62 [==============================] - 43s 664ms/step - loss: 1.5702 - accuracy: 0.5526 - val_loss: 2.1968 - val_accuracy: 0.2188\n"
          ],
          "name": "stdout"
        },
        {
          "output_type": "stream",
          "text": [
            "\u001b[34m\u001b[1mwandb\u001b[0m: Agent Starting Run: 1cwbc536 with config:\n",
            "\u001b[34m\u001b[1mwandb\u001b[0m: \tbase_model_name: InceptionResNetV2\n",
            "\u001b[34m\u001b[1mwandb\u001b[0m: \ttune: False\n"
          ],
          "name": "stderr"
        },
        {
          "output_type": "display_data",
          "data": {
            "text/html": [
              "\n",
              "                Tracking run with wandb version 0.10.25<br/>\n",
              "                Syncing run <strong style=\"color:#cdcd00\">trim-sweep-3</strong> to <a href=\"https://wandb.ai\" target=\"_blank\">Weights & Biases</a> <a href=\"https://docs.wandb.com/integrations/jupyter.html\" target=\"_blank\">(Documentation)</a>.<br/>\n",
              "                Project page: <a href=\"https://wandb.ai/cs6910-team/DL-Assignment2-PartB-9April\" target=\"_blank\">https://wandb.ai/cs6910-team/DL-Assignment2-PartB-9April</a><br/>\n",
              "                Sweep page: <a href=\"https://wandb.ai/cs6910-team/DL-Assignment2-PartB-9April/sweeps/oqws1sm6\" target=\"_blank\">https://wandb.ai/cs6910-team/DL-Assignment2-PartB-9April/sweeps/oqws1sm6</a><br/>\n",
              "Run page: <a href=\"https://wandb.ai/cs6910-team/DL-Assignment2-PartB-9April/runs/1cwbc536\" target=\"_blank\">https://wandb.ai/cs6910-team/DL-Assignment2-PartB-9April/runs/1cwbc536</a><br/>\n",
              "                Run data is saved locally in <code>/content/wandb/run-20210409_191105-1cwbc536</code><br/><br/>\n",
              "            "
            ],
            "text/plain": [
              "<IPython.core.display.HTML object>"
            ]
          },
          "metadata": {
            "tags": []
          }
        },
        {
          "output_type": "display_data",
          "data": {
            "text/html": [
              "Finishing last run (ID:1cwbc536) before initializing another..."
            ],
            "text/plain": [
              "<IPython.core.display.HTML object>"
            ]
          },
          "metadata": {
            "tags": []
          }
        },
        {
          "output_type": "display_data",
          "data": {
            "text/html": [
              "<br/>Waiting for W&B process to finish, PID 2674<br/>Program ended successfully."
            ],
            "text/plain": [
              "<IPython.core.display.HTML object>"
            ]
          },
          "metadata": {
            "tags": []
          }
        },
        {
          "output_type": "display_data",
          "data": {
            "application/vnd.jupyter.widget-view+json": {
              "model_id": "0ccd250f776c45bb851c54cddd81146a",
              "version_minor": 0,
              "version_major": 2
            },
            "text/plain": [
              "VBox(children=(Label(value=' 0.04MB of 0.04MB uploaded (0.00MB deduped)\\r'), FloatProgress(value=1.0, max=1.0)…"
            ]
          },
          "metadata": {
            "tags": []
          }
        },
        {
          "output_type": "display_data",
          "data": {
            "text/html": [
              "Find user logs for this run at: <code>/content/wandb/run-20210409_191105-1cwbc536/logs/debug.log</code>"
            ],
            "text/plain": [
              "<IPython.core.display.HTML object>"
            ]
          },
          "metadata": {
            "tags": []
          }
        },
        {
          "output_type": "display_data",
          "data": {
            "text/html": [
              "Find internal logs for this run at: <code>/content/wandb/run-20210409_191105-1cwbc536/logs/debug-internal.log</code>"
            ],
            "text/plain": [
              "<IPython.core.display.HTML object>"
            ]
          },
          "metadata": {
            "tags": []
          }
        },
        {
          "output_type": "display_data",
          "data": {
            "text/html": [
              "Synced 4 W&B file(s), 0 media file(s), 2 artifact file(s) and 1 other file(s)"
            ],
            "text/plain": [
              "<IPython.core.display.HTML object>"
            ]
          },
          "metadata": {
            "tags": []
          }
        },
        {
          "output_type": "display_data",
          "data": {
            "text/html": [
              "\n",
              "                    <br/>Synced <strong style=\"color:#cdcd00\">trim-sweep-3</strong>: <a href=\"https://wandb.ai/cs6910-team/DL-Assignment2-PartB-9April/runs/1cwbc536\" target=\"_blank\">https://wandb.ai/cs6910-team/DL-Assignment2-PartB-9April/runs/1cwbc536</a><br/>\n",
              "                "
            ],
            "text/plain": [
              "<IPython.core.display.HTML object>"
            ]
          },
          "metadata": {
            "tags": []
          }
        },
        {
          "output_type": "display_data",
          "data": {
            "text/html": [
              "...Successfully finished last run (ID:1cwbc536). Initializing new run:<br/><br/>"
            ],
            "text/plain": [
              "<IPython.core.display.HTML object>"
            ]
          },
          "metadata": {
            "tags": []
          }
        },
        {
          "output_type": "display_data",
          "data": {
            "text/html": [
              "\n",
              "                Tracking run with wandb version 0.10.25<br/>\n",
              "                Syncing run <strong style=\"color:#cdcd00\">trim-sweep-3</strong> to <a href=\"https://wandb.ai\" target=\"_blank\">Weights & Biases</a> <a href=\"https://docs.wandb.com/integrations/jupyter.html\" target=\"_blank\">(Documentation)</a>.<br/>\n",
              "                Project page: <a href=\"https://wandb.ai/cs6910-team/DL-Assignment2-PartB-9April\" target=\"_blank\">https://wandb.ai/cs6910-team/DL-Assignment2-PartB-9April</a><br/>\n",
              "                Sweep page: <a href=\"https://wandb.ai/cs6910-team/DL-Assignment2-PartB-9April/sweeps/oqws1sm6\" target=\"_blank\">https://wandb.ai/cs6910-team/DL-Assignment2-PartB-9April/sweeps/oqws1sm6</a><br/>\n",
              "Run page: <a href=\"https://wandb.ai/cs6910-team/DL-Assignment2-PartB-9April/runs/1cwbc536\" target=\"_blank\">https://wandb.ai/cs6910-team/DL-Assignment2-PartB-9April/runs/1cwbc536</a><br/>\n",
              "                Run data is saved locally in <code>/content/wandb/run-20210409_191108-1cwbc536</code><br/><br/>\n",
              "            "
            ],
            "text/plain": [
              "<IPython.core.display.HTML object>"
            ]
          },
          "metadata": {
            "tags": []
          }
        },
        {
          "output_type": "stream",
          "text": [
            "Epoch 1/10\n",
            "62/62 [==============================] - 84s 1s/step - loss: 133.1617 - accuracy: 0.0919 - val_loss: 15.3604 - val_accuracy: 0.0854\n"
          ],
          "name": "stdout"
        },
        {
          "output_type": "stream",
          "text": [
            "\u001b[34m\u001b[1mwandb\u001b[0m: \u001b[32m\u001b[41mERROR\u001b[0m Can't save model, h5py returned error: Saving the model to HDF5 format requires the model to be a Functional model or a Sequential model. It does not work for subclassed models, because such models are defined via the body of a Python method, which isn't safely serializable. Consider saving to the Tensorflow SavedModel format (by setting save_format=\"tf\") or using `save_weights`.\n"
          ],
          "name": "stderr"
        },
        {
          "output_type": "stream",
          "text": [
            "Epoch 2/10\n",
            "62/62 [==============================] - 66s 1s/step - loss: 13.6679 - accuracy: 0.1000 - val_loss: 12.5686 - val_accuracy: 0.0812\n",
            "Epoch 3/10\n",
            "62/62 [==============================] - 66s 1s/step - loss: 11.6590 - accuracy: 0.0989 - val_loss: 11.5532 - val_accuracy: 0.1063\n",
            "Epoch 4/10\n",
            "62/62 [==============================] - 66s 1s/step - loss: 9.9071 - accuracy: 0.1143 - val_loss: 9.8825 - val_accuracy: 0.0979\n",
            "Epoch 5/10\n",
            "62/62 [==============================] - 66s 1s/step - loss: 9.9105 - accuracy: 0.1078 - val_loss: 9.3564 - val_accuracy: 0.1104\n",
            "Epoch 6/10\n",
            "62/62 [==============================] - 66s 1s/step - loss: 9.3739 - accuracy: 0.1182 - val_loss: 8.5155 - val_accuracy: 0.1312\n",
            "Epoch 7/10\n",
            "62/62 [==============================] - 66s 1s/step - loss: 8.4470 - accuracy: 0.1107 - val_loss: 9.0231 - val_accuracy: 0.1187\n",
            "Epoch 8/10\n",
            "62/62 [==============================] - 66s 1s/step - loss: 8.2647 - accuracy: 0.1136 - val_loss: 7.5082 - val_accuracy: 0.1042\n",
            "Epoch 9/10\n",
            "62/62 [==============================] - 66s 1s/step - loss: 7.6254 - accuracy: 0.1118 - val_loss: 7.1621 - val_accuracy: 0.1208\n",
            "Epoch 10/10\n",
            "62/62 [==============================] - 66s 1s/step - loss: 7.3555 - accuracy: 0.1290 - val_loss: 9.1644 - val_accuracy: 0.0938\n"
          ],
          "name": "stdout"
        },
        {
          "output_type": "stream",
          "text": [
            "\u001b[34m\u001b[1mwandb\u001b[0m: Sweep Agent: Waiting for job.\n",
            "\u001b[34m\u001b[1mwandb\u001b[0m: Job received.\n",
            "\u001b[34m\u001b[1mwandb\u001b[0m: Agent Starting Run: vml4iyfm with config:\n",
            "\u001b[34m\u001b[1mwandb\u001b[0m: \tbase_model_name: InceptionResNetV2\n",
            "\u001b[34m\u001b[1mwandb\u001b[0m: \ttune: True\n"
          ],
          "name": "stderr"
        },
        {
          "output_type": "display_data",
          "data": {
            "text/html": [
              "\n",
              "                Tracking run with wandb version 0.10.25<br/>\n",
              "                Syncing run <strong style=\"color:#cdcd00\">devout-sweep-4</strong> to <a href=\"https://wandb.ai\" target=\"_blank\">Weights & Biases</a> <a href=\"https://docs.wandb.com/integrations/jupyter.html\" target=\"_blank\">(Documentation)</a>.<br/>\n",
              "                Project page: <a href=\"https://wandb.ai/cs6910-team/DL-Assignment2-PartB-9April\" target=\"_blank\">https://wandb.ai/cs6910-team/DL-Assignment2-PartB-9April</a><br/>\n",
              "                Sweep page: <a href=\"https://wandb.ai/cs6910-team/DL-Assignment2-PartB-9April/sweeps/oqws1sm6\" target=\"_blank\">https://wandb.ai/cs6910-team/DL-Assignment2-PartB-9April/sweeps/oqws1sm6</a><br/>\n",
              "Run page: <a href=\"https://wandb.ai/cs6910-team/DL-Assignment2-PartB-9April/runs/vml4iyfm\" target=\"_blank\">https://wandb.ai/cs6910-team/DL-Assignment2-PartB-9April/runs/vml4iyfm</a><br/>\n",
              "                Run data is saved locally in <code>/content/wandb/run-20210409_192311-vml4iyfm</code><br/><br/>\n",
              "            "
            ],
            "text/plain": [
              "<IPython.core.display.HTML object>"
            ]
          },
          "metadata": {
            "tags": []
          }
        },
        {
          "output_type": "display_data",
          "data": {
            "text/html": [
              "Finishing last run (ID:vml4iyfm) before initializing another..."
            ],
            "text/plain": [
              "<IPython.core.display.HTML object>"
            ]
          },
          "metadata": {
            "tags": []
          }
        },
        {
          "output_type": "display_data",
          "data": {
            "text/html": [
              "<br/>Waiting for W&B process to finish, PID 2796<br/>Program ended successfully."
            ],
            "text/plain": [
              "<IPython.core.display.HTML object>"
            ]
          },
          "metadata": {
            "tags": []
          }
        },
        {
          "output_type": "display_data",
          "data": {
            "application/vnd.jupyter.widget-view+json": {
              "model_id": "31cb0e40719043da96475f0107f267c5",
              "version_minor": 0,
              "version_major": 2
            },
            "text/plain": [
              "VBox(children=(Label(value=' 0.05MB of 0.05MB uploaded (0.00MB deduped)\\r'), FloatProgress(value=1.0, max=1.0)…"
            ]
          },
          "metadata": {
            "tags": []
          }
        },
        {
          "output_type": "display_data",
          "data": {
            "text/html": [
              "Find user logs for this run at: <code>/content/wandb/run-20210409_192311-vml4iyfm/logs/debug.log</code>"
            ],
            "text/plain": [
              "<IPython.core.display.HTML object>"
            ]
          },
          "metadata": {
            "tags": []
          }
        },
        {
          "output_type": "display_data",
          "data": {
            "text/html": [
              "Find internal logs for this run at: <code>/content/wandb/run-20210409_192311-vml4iyfm/logs/debug-internal.log</code>"
            ],
            "text/plain": [
              "<IPython.core.display.HTML object>"
            ]
          },
          "metadata": {
            "tags": []
          }
        },
        {
          "output_type": "display_data",
          "data": {
            "text/html": [
              "Synced 4 W&B file(s), 0 media file(s), 2 artifact file(s) and 1 other file(s)"
            ],
            "text/plain": [
              "<IPython.core.display.HTML object>"
            ]
          },
          "metadata": {
            "tags": []
          }
        },
        {
          "output_type": "display_data",
          "data": {
            "text/html": [
              "\n",
              "                    <br/>Synced <strong style=\"color:#cdcd00\">devout-sweep-4</strong>: <a href=\"https://wandb.ai/cs6910-team/DL-Assignment2-PartB-9April/runs/vml4iyfm\" target=\"_blank\">https://wandb.ai/cs6910-team/DL-Assignment2-PartB-9April/runs/vml4iyfm</a><br/>\n",
              "                "
            ],
            "text/plain": [
              "<IPython.core.display.HTML object>"
            ]
          },
          "metadata": {
            "tags": []
          }
        },
        {
          "output_type": "display_data",
          "data": {
            "text/html": [
              "...Successfully finished last run (ID:vml4iyfm). Initializing new run:<br/><br/>"
            ],
            "text/plain": [
              "<IPython.core.display.HTML object>"
            ]
          },
          "metadata": {
            "tags": []
          }
        },
        {
          "output_type": "display_data",
          "data": {
            "text/html": [
              "\n",
              "                Tracking run with wandb version 0.10.25<br/>\n",
              "                Syncing run <strong style=\"color:#cdcd00\">devout-sweep-4</strong> to <a href=\"https://wandb.ai\" target=\"_blank\">Weights & Biases</a> <a href=\"https://docs.wandb.com/integrations/jupyter.html\" target=\"_blank\">(Documentation)</a>.<br/>\n",
              "                Project page: <a href=\"https://wandb.ai/cs6910-team/DL-Assignment2-PartB-9April\" target=\"_blank\">https://wandb.ai/cs6910-team/DL-Assignment2-PartB-9April</a><br/>\n",
              "                Sweep page: <a href=\"https://wandb.ai/cs6910-team/DL-Assignment2-PartB-9April/sweeps/oqws1sm6\" target=\"_blank\">https://wandb.ai/cs6910-team/DL-Assignment2-PartB-9April/sweeps/oqws1sm6</a><br/>\n",
              "Run page: <a href=\"https://wandb.ai/cs6910-team/DL-Assignment2-PartB-9April/runs/vml4iyfm\" target=\"_blank\">https://wandb.ai/cs6910-team/DL-Assignment2-PartB-9April/runs/vml4iyfm</a><br/>\n",
              "                Run data is saved locally in <code>/content/wandb/run-20210409_192314-vml4iyfm</code><br/><br/>\n",
              "            "
            ],
            "text/plain": [
              "<IPython.core.display.HTML object>"
            ]
          },
          "metadata": {
            "tags": []
          }
        },
        {
          "output_type": "stream",
          "text": [
            "Epoch 1/10\n",
            "62/62 [==============================] - 86s 1s/step - loss: 2.4371 - accuracy: 0.1087 - val_loss: 2.9633 - val_accuracy: 0.1312\n"
          ],
          "name": "stdout"
        },
        {
          "output_type": "stream",
          "text": [
            "\u001b[34m\u001b[1mwandb\u001b[0m: \u001b[32m\u001b[41mERROR\u001b[0m Can't save model, h5py returned error: Saving the model to HDF5 format requires the model to be a Functional model or a Sequential model. It does not work for subclassed models, because such models are defined via the body of a Python method, which isn't safely serializable. Consider saving to the Tensorflow SavedModel format (by setting save_format=\"tf\") or using `save_weights`.\n"
          ],
          "name": "stderr"
        },
        {
          "output_type": "stream",
          "text": [
            "Epoch 2/10\n",
            "62/62 [==============================] - 67s 1s/step - loss: 2.2503 - accuracy: 0.1657 - val_loss: 3.2471 - val_accuracy: 0.0854\n",
            "Epoch 3/10\n",
            "62/62 [==============================] - 67s 1s/step - loss: 2.2269 - accuracy: 0.1824 - val_loss: 2.8104 - val_accuracy: 0.1292\n",
            "Epoch 4/10\n",
            "62/62 [==============================] - 67s 1s/step - loss: 2.2213 - accuracy: 0.1954 - val_loss: 2.9950 - val_accuracy: 0.1437\n",
            "Epoch 5/10\n",
            "62/62 [==============================] - 68s 1s/step - loss: 2.2163 - accuracy: 0.1954 - val_loss: 2.6012 - val_accuracy: 0.1437\n",
            "Epoch 6/10\n",
            "62/62 [==============================] - 68s 1s/step - loss: 2.2093 - accuracy: 0.1886 - val_loss: 2.8383 - val_accuracy: 0.1229\n",
            "Epoch 7/10\n",
            "62/62 [==============================] - 68s 1s/step - loss: 2.1930 - accuracy: 0.1994 - val_loss: 3.0351 - val_accuracy: 0.1146\n",
            "Epoch 8/10\n",
            "62/62 [==============================] - 68s 1s/step - loss: 2.2052 - accuracy: 0.1988 - val_loss: 3.3650 - val_accuracy: 0.1104\n",
            "Epoch 9/10\n",
            "62/62 [==============================] - 68s 1s/step - loss: 2.1832 - accuracy: 0.2054 - val_loss: 2.6479 - val_accuracy: 0.1104\n",
            "Epoch 10/10\n",
            "62/62 [==============================] - 68s 1s/step - loss: 2.1757 - accuracy: 0.2139 - val_loss: 2.6880 - val_accuracy: 0.1271\n"
          ],
          "name": "stdout"
        },
        {
          "output_type": "stream",
          "text": [
            "\u001b[34m\u001b[1mwandb\u001b[0m: Agent Starting Run: qas84nqr with config:\n",
            "\u001b[34m\u001b[1mwandb\u001b[0m: \tbase_model_name: ResNet50\n",
            "\u001b[34m\u001b[1mwandb\u001b[0m: \ttune: False\n"
          ],
          "name": "stderr"
        },
        {
          "output_type": "display_data",
          "data": {
            "text/html": [
              "\n",
              "                Tracking run with wandb version 0.10.25<br/>\n",
              "                Syncing run <strong style=\"color:#cdcd00\">glorious-sweep-5</strong> to <a href=\"https://wandb.ai\" target=\"_blank\">Weights & Biases</a> <a href=\"https://docs.wandb.com/integrations/jupyter.html\" target=\"_blank\">(Documentation)</a>.<br/>\n",
              "                Project page: <a href=\"https://wandb.ai/cs6910-team/DL-Assignment2-PartB-9April\" target=\"_blank\">https://wandb.ai/cs6910-team/DL-Assignment2-PartB-9April</a><br/>\n",
              "                Sweep page: <a href=\"https://wandb.ai/cs6910-team/DL-Assignment2-PartB-9April/sweeps/oqws1sm6\" target=\"_blank\">https://wandb.ai/cs6910-team/DL-Assignment2-PartB-9April/sweeps/oqws1sm6</a><br/>\n",
              "Run page: <a href=\"https://wandb.ai/cs6910-team/DL-Assignment2-PartB-9April/runs/qas84nqr\" target=\"_blank\">https://wandb.ai/cs6910-team/DL-Assignment2-PartB-9April/runs/qas84nqr</a><br/>\n",
              "                Run data is saved locally in <code>/content/wandb/run-20210409_193507-qas84nqr</code><br/><br/>\n",
              "            "
            ],
            "text/plain": [
              "<IPython.core.display.HTML object>"
            ]
          },
          "metadata": {
            "tags": []
          }
        },
        {
          "output_type": "display_data",
          "data": {
            "text/html": [
              "Finishing last run (ID:qas84nqr) before initializing another..."
            ],
            "text/plain": [
              "<IPython.core.display.HTML object>"
            ]
          },
          "metadata": {
            "tags": []
          }
        },
        {
          "output_type": "display_data",
          "data": {
            "text/html": [
              "<br/>Waiting for W&B process to finish, PID 2898<br/>Program ended successfully."
            ],
            "text/plain": [
              "<IPython.core.display.HTML object>"
            ]
          },
          "metadata": {
            "tags": []
          }
        },
        {
          "output_type": "display_data",
          "data": {
            "application/vnd.jupyter.widget-view+json": {
              "model_id": "04dcb987e4504db4835cfe4073fb0e5b",
              "version_minor": 0,
              "version_major": 2
            },
            "text/plain": [
              "VBox(children=(Label(value=' 0.05MB of 0.05MB uploaded (0.00MB deduped)\\r'), FloatProgress(value=1.0, max=1.0)…"
            ]
          },
          "metadata": {
            "tags": []
          }
        },
        {
          "output_type": "display_data",
          "data": {
            "text/html": [
              "Find user logs for this run at: <code>/content/wandb/run-20210409_193507-qas84nqr/logs/debug.log</code>"
            ],
            "text/plain": [
              "<IPython.core.display.HTML object>"
            ]
          },
          "metadata": {
            "tags": []
          }
        },
        {
          "output_type": "display_data",
          "data": {
            "text/html": [
              "Find internal logs for this run at: <code>/content/wandb/run-20210409_193507-qas84nqr/logs/debug-internal.log</code>"
            ],
            "text/plain": [
              "<IPython.core.display.HTML object>"
            ]
          },
          "metadata": {
            "tags": []
          }
        },
        {
          "output_type": "display_data",
          "data": {
            "text/html": [
              "Synced 4 W&B file(s), 0 media file(s), 2 artifact file(s) and 1 other file(s)"
            ],
            "text/plain": [
              "<IPython.core.display.HTML object>"
            ]
          },
          "metadata": {
            "tags": []
          }
        },
        {
          "output_type": "display_data",
          "data": {
            "text/html": [
              "\n",
              "                    <br/>Synced <strong style=\"color:#cdcd00\">glorious-sweep-5</strong>: <a href=\"https://wandb.ai/cs6910-team/DL-Assignment2-PartB-9April/runs/qas84nqr\" target=\"_blank\">https://wandb.ai/cs6910-team/DL-Assignment2-PartB-9April/runs/qas84nqr</a><br/>\n",
              "                "
            ],
            "text/plain": [
              "<IPython.core.display.HTML object>"
            ]
          },
          "metadata": {
            "tags": []
          }
        },
        {
          "output_type": "display_data",
          "data": {
            "text/html": [
              "...Successfully finished last run (ID:qas84nqr). Initializing new run:<br/><br/>"
            ],
            "text/plain": [
              "<IPython.core.display.HTML object>"
            ]
          },
          "metadata": {
            "tags": []
          }
        },
        {
          "output_type": "display_data",
          "data": {
            "text/html": [
              "\n",
              "                Tracking run with wandb version 0.10.25<br/>\n",
              "                Syncing run <strong style=\"color:#cdcd00\">glorious-sweep-5</strong> to <a href=\"https://wandb.ai\" target=\"_blank\">Weights & Biases</a> <a href=\"https://docs.wandb.com/integrations/jupyter.html\" target=\"_blank\">(Documentation)</a>.<br/>\n",
              "                Project page: <a href=\"https://wandb.ai/cs6910-team/DL-Assignment2-PartB-9April\" target=\"_blank\">https://wandb.ai/cs6910-team/DL-Assignment2-PartB-9April</a><br/>\n",
              "                Sweep page: <a href=\"https://wandb.ai/cs6910-team/DL-Assignment2-PartB-9April/sweeps/oqws1sm6\" target=\"_blank\">https://wandb.ai/cs6910-team/DL-Assignment2-PartB-9April/sweeps/oqws1sm6</a><br/>\n",
              "Run page: <a href=\"https://wandb.ai/cs6910-team/DL-Assignment2-PartB-9April/runs/qas84nqr\" target=\"_blank\">https://wandb.ai/cs6910-team/DL-Assignment2-PartB-9April/runs/qas84nqr</a><br/>\n",
              "                Run data is saved locally in <code>/content/wandb/run-20210409_193510-qas84nqr</code><br/><br/>\n",
              "            "
            ],
            "text/plain": [
              "<IPython.core.display.HTML object>"
            ]
          },
          "metadata": {
            "tags": []
          }
        },
        {
          "output_type": "stream",
          "text": [
            "Downloading data from https://storage.googleapis.com/tensorflow/keras-applications/resnet/resnet50_weights_tf_dim_ordering_tf_kernels_notop.h5\n",
            "94773248/94765736 [==============================] - 2s 0us/step\n",
            "Epoch 1/10\n",
            "62/62 [==============================] - 54s 735ms/step - loss: 2.5772 - accuracy: 0.1317 - val_loss: 2.1454 - val_accuracy: 0.2438\n"
          ],
          "name": "stdout"
        },
        {
          "output_type": "stream",
          "text": [
            "\u001b[34m\u001b[1mwandb\u001b[0m: \u001b[32m\u001b[41mERROR\u001b[0m Can't save model, h5py returned error: Saving the model to HDF5 format requires the model to be a Functional model or a Sequential model. It does not work for subclassed models, because such models are defined via the body of a Python method, which isn't safely serializable. Consider saving to the Tensorflow SavedModel format (by setting save_format=\"tf\") or using `save_weights`.\n"
          ],
          "name": "stderr"
        },
        {
          "output_type": "stream",
          "text": [
            "Epoch 2/10\n",
            "62/62 [==============================] - 47s 717ms/step - loss: 1.9824 - accuracy: 0.3045 - val_loss: 1.8238 - val_accuracy: 0.3812\n",
            "Epoch 3/10\n",
            "62/62 [==============================] - 46s 711ms/step - loss: 1.6821 - accuracy: 0.4466 - val_loss: 1.6767 - val_accuracy: 0.4187\n",
            "Epoch 4/10\n",
            "62/62 [==============================] - 46s 710ms/step - loss: 1.4951 - accuracy: 0.5357 - val_loss: 1.5274 - val_accuracy: 0.5083\n",
            "Epoch 5/10\n",
            "62/62 [==============================] - 47s 713ms/step - loss: 1.3502 - accuracy: 0.5808 - val_loss: 1.4075 - val_accuracy: 0.5375\n",
            "Epoch 6/10\n",
            "62/62 [==============================] - 46s 707ms/step - loss: 1.2678 - accuracy: 0.6057 - val_loss: 1.3720 - val_accuracy: 0.5417\n",
            "Epoch 7/10\n",
            "62/62 [==============================] - 47s 713ms/step - loss: 1.1847 - accuracy: 0.6291 - val_loss: 1.2499 - val_accuracy: 0.5729\n",
            "Epoch 8/10\n",
            "62/62 [==============================] - 47s 713ms/step - loss: 1.1064 - accuracy: 0.6569 - val_loss: 1.2267 - val_accuracy: 0.5875\n",
            "Epoch 9/10\n",
            "62/62 [==============================] - 46s 710ms/step - loss: 1.0343 - accuracy: 0.6814 - val_loss: 1.1927 - val_accuracy: 0.5771\n",
            "Epoch 10/10\n",
            "62/62 [==============================] - 47s 713ms/step - loss: 0.9852 - accuracy: 0.6994 - val_loss: 1.1755 - val_accuracy: 0.5896\n"
          ],
          "name": "stdout"
        },
        {
          "output_type": "stream",
          "text": [
            "\u001b[34m\u001b[1mwandb\u001b[0m: Agent Starting Run: 62azvkpk with config:\n",
            "\u001b[34m\u001b[1mwandb\u001b[0m: \tbase_model_name: ResNet50\n",
            "\u001b[34m\u001b[1mwandb\u001b[0m: \ttune: True\n"
          ],
          "name": "stderr"
        },
        {
          "output_type": "display_data",
          "data": {
            "text/html": [
              "\n",
              "                Tracking run with wandb version 0.10.25<br/>\n",
              "                Syncing run <strong style=\"color:#cdcd00\">icy-sweep-6</strong> to <a href=\"https://wandb.ai\" target=\"_blank\">Weights & Biases</a> <a href=\"https://docs.wandb.com/integrations/jupyter.html\" target=\"_blank\">(Documentation)</a>.<br/>\n",
              "                Project page: <a href=\"https://wandb.ai/cs6910-team/DL-Assignment2-PartB-9April\" target=\"_blank\">https://wandb.ai/cs6910-team/DL-Assignment2-PartB-9April</a><br/>\n",
              "                Sweep page: <a href=\"https://wandb.ai/cs6910-team/DL-Assignment2-PartB-9April/sweeps/oqws1sm6\" target=\"_blank\">https://wandb.ai/cs6910-team/DL-Assignment2-PartB-9April/sweeps/oqws1sm6</a><br/>\n",
              "Run page: <a href=\"https://wandb.ai/cs6910-team/DL-Assignment2-PartB-9April/runs/62azvkpk\" target=\"_blank\">https://wandb.ai/cs6910-team/DL-Assignment2-PartB-9April/runs/62azvkpk</a><br/>\n",
              "                Run data is saved locally in <code>/content/wandb/run-20210409_194318-62azvkpk</code><br/><br/>\n",
              "            "
            ],
            "text/plain": [
              "<IPython.core.display.HTML object>"
            ]
          },
          "metadata": {
            "tags": []
          }
        },
        {
          "output_type": "display_data",
          "data": {
            "text/html": [
              "Finishing last run (ID:62azvkpk) before initializing another..."
            ],
            "text/plain": [
              "<IPython.core.display.HTML object>"
            ]
          },
          "metadata": {
            "tags": []
          }
        },
        {
          "output_type": "display_data",
          "data": {
            "text/html": [
              "<br/>Waiting for W&B process to finish, PID 2994<br/>Program ended successfully."
            ],
            "text/plain": [
              "<IPython.core.display.HTML object>"
            ]
          },
          "metadata": {
            "tags": []
          }
        },
        {
          "output_type": "display_data",
          "data": {
            "application/vnd.jupyter.widget-view+json": {
              "model_id": "e54f0c5dcbf94af9880545f96338c62b",
              "version_minor": 0,
              "version_major": 2
            },
            "text/plain": [
              "VBox(children=(Label(value=' 0.06MB of 0.06MB uploaded (0.00MB deduped)\\r'), FloatProgress(value=1.0, max=1.0)…"
            ]
          },
          "metadata": {
            "tags": []
          }
        },
        {
          "output_type": "display_data",
          "data": {
            "text/html": [
              "Find user logs for this run at: <code>/content/wandb/run-20210409_194318-62azvkpk/logs/debug.log</code>"
            ],
            "text/plain": [
              "<IPython.core.display.HTML object>"
            ]
          },
          "metadata": {
            "tags": []
          }
        },
        {
          "output_type": "display_data",
          "data": {
            "text/html": [
              "Find internal logs for this run at: <code>/content/wandb/run-20210409_194318-62azvkpk/logs/debug-internal.log</code>"
            ],
            "text/plain": [
              "<IPython.core.display.HTML object>"
            ]
          },
          "metadata": {
            "tags": []
          }
        },
        {
          "output_type": "display_data",
          "data": {
            "text/html": [
              "Synced 4 W&B file(s), 0 media file(s), 2 artifact file(s) and 1 other file(s)"
            ],
            "text/plain": [
              "<IPython.core.display.HTML object>"
            ]
          },
          "metadata": {
            "tags": []
          }
        },
        {
          "output_type": "display_data",
          "data": {
            "text/html": [
              "\n",
              "                    <br/>Synced <strong style=\"color:#cdcd00\">icy-sweep-6</strong>: <a href=\"https://wandb.ai/cs6910-team/DL-Assignment2-PartB-9April/runs/62azvkpk\" target=\"_blank\">https://wandb.ai/cs6910-team/DL-Assignment2-PartB-9April/runs/62azvkpk</a><br/>\n",
              "                "
            ],
            "text/plain": [
              "<IPython.core.display.HTML object>"
            ]
          },
          "metadata": {
            "tags": []
          }
        },
        {
          "output_type": "display_data",
          "data": {
            "text/html": [
              "...Successfully finished last run (ID:62azvkpk). Initializing new run:<br/><br/>"
            ],
            "text/plain": [
              "<IPython.core.display.HTML object>"
            ]
          },
          "metadata": {
            "tags": []
          }
        },
        {
          "output_type": "display_data",
          "data": {
            "text/html": [
              "\n",
              "                Tracking run with wandb version 0.10.25<br/>\n",
              "                Syncing run <strong style=\"color:#cdcd00\">icy-sweep-6</strong> to <a href=\"https://wandb.ai\" target=\"_blank\">Weights & Biases</a> <a href=\"https://docs.wandb.com/integrations/jupyter.html\" target=\"_blank\">(Documentation)</a>.<br/>\n",
              "                Project page: <a href=\"https://wandb.ai/cs6910-team/DL-Assignment2-PartB-9April\" target=\"_blank\">https://wandb.ai/cs6910-team/DL-Assignment2-PartB-9April</a><br/>\n",
              "                Sweep page: <a href=\"https://wandb.ai/cs6910-team/DL-Assignment2-PartB-9April/sweeps/oqws1sm6\" target=\"_blank\">https://wandb.ai/cs6910-team/DL-Assignment2-PartB-9April/sweeps/oqws1sm6</a><br/>\n",
              "Run page: <a href=\"https://wandb.ai/cs6910-team/DL-Assignment2-PartB-9April/runs/62azvkpk\" target=\"_blank\">https://wandb.ai/cs6910-team/DL-Assignment2-PartB-9April/runs/62azvkpk</a><br/>\n",
              "                Run data is saved locally in <code>/content/wandb/run-20210409_194321-62azvkpk</code><br/><br/>\n",
              "            "
            ],
            "text/plain": [
              "<IPython.core.display.HTML object>"
            ]
          },
          "metadata": {
            "tags": []
          }
        },
        {
          "output_type": "stream",
          "text": [
            "Epoch 1/10\n",
            "62/62 [==============================] - 55s 776ms/step - loss: 1.9760 - accuracy: 0.3233 - val_loss: 1.4014 - val_accuracy: 0.5833\n"
          ],
          "name": "stdout"
        },
        {
          "output_type": "stream",
          "text": [
            "\u001b[34m\u001b[1mwandb\u001b[0m: \u001b[32m\u001b[41mERROR\u001b[0m Can't save model, h5py returned error: Saving the model to HDF5 format requires the model to be a Functional model or a Sequential model. It does not work for subclassed models, because such models are defined via the body of a Python method, which isn't safely serializable. Consider saving to the Tensorflow SavedModel format (by setting save_format=\"tf\") or using `save_weights`.\n"
          ],
          "name": "stderr"
        },
        {
          "output_type": "stream",
          "text": [
            "Epoch 2/10\n",
            "62/62 [==============================] - 49s 758ms/step - loss: 0.5061 - accuracy: 0.8585 - val_loss: 1.1618 - val_accuracy: 0.6667\n",
            "Epoch 3/10\n",
            "62/62 [==============================] - 49s 756ms/step - loss: 0.1711 - accuracy: 0.9728 - val_loss: 1.0620 - val_accuracy: 0.6771\n",
            "Epoch 4/10\n",
            "62/62 [==============================] - 49s 752ms/step - loss: 0.0643 - accuracy: 0.9973 - val_loss: 1.1353 - val_accuracy: 0.6667\n",
            "Epoch 5/10\n",
            "62/62 [==============================] - 49s 760ms/step - loss: 0.0292 - accuracy: 0.9988 - val_loss: 1.1306 - val_accuracy: 0.6750\n",
            "Epoch 6/10\n",
            "62/62 [==============================] - 49s 752ms/step - loss: 0.0152 - accuracy: 0.9998 - val_loss: 1.1590 - val_accuracy: 0.6604\n",
            "Epoch 7/10\n",
            "62/62 [==============================] - 49s 756ms/step - loss: 0.0117 - accuracy: 0.9995 - val_loss: 1.1585 - val_accuracy: 0.6479\n",
            "Epoch 8/10\n",
            "62/62 [==============================] - 49s 761ms/step - loss: 0.0069 - accuracy: 1.0000 - val_loss: 1.1957 - val_accuracy: 0.6646\n",
            "Epoch 9/10\n",
            "62/62 [==============================] - 49s 761ms/step - loss: 0.0047 - accuracy: 1.0000 - val_loss: 1.1238 - val_accuracy: 0.6917\n",
            "Epoch 10/10\n",
            "62/62 [==============================] - 49s 757ms/step - loss: 0.0047 - accuracy: 1.0000 - val_loss: 1.2512 - val_accuracy: 0.6646\n"
          ],
          "name": "stdout"
        },
        {
          "output_type": "stream",
          "text": [
            "\u001b[34m\u001b[1mwandb\u001b[0m: Agent Starting Run: qzu57or9 with config:\n",
            "\u001b[34m\u001b[1mwandb\u001b[0m: \tbase_model_name: Xception\n",
            "\u001b[34m\u001b[1mwandb\u001b[0m: \ttune: False\n"
          ],
          "name": "stderr"
        },
        {
          "output_type": "display_data",
          "data": {
            "text/html": [
              "\n",
              "                Tracking run with wandb version 0.10.25<br/>\n",
              "                Syncing run <strong style=\"color:#cdcd00\">cerulean-sweep-7</strong> to <a href=\"https://wandb.ai\" target=\"_blank\">Weights & Biases</a> <a href=\"https://docs.wandb.com/integrations/jupyter.html\" target=\"_blank\">(Documentation)</a>.<br/>\n",
              "                Project page: <a href=\"https://wandb.ai/cs6910-team/DL-Assignment2-PartB-9April\" target=\"_blank\">https://wandb.ai/cs6910-team/DL-Assignment2-PartB-9April</a><br/>\n",
              "                Sweep page: <a href=\"https://wandb.ai/cs6910-team/DL-Assignment2-PartB-9April/sweeps/oqws1sm6\" target=\"_blank\">https://wandb.ai/cs6910-team/DL-Assignment2-PartB-9April/sweeps/oqws1sm6</a><br/>\n",
              "Run page: <a href=\"https://wandb.ai/cs6910-team/DL-Assignment2-PartB-9April/runs/qzu57or9\" target=\"_blank\">https://wandb.ai/cs6910-team/DL-Assignment2-PartB-9April/runs/qzu57or9</a><br/>\n",
              "                Run data is saved locally in <code>/content/wandb/run-20210409_195152-qzu57or9</code><br/><br/>\n",
              "            "
            ],
            "text/plain": [
              "<IPython.core.display.HTML object>"
            ]
          },
          "metadata": {
            "tags": []
          }
        },
        {
          "output_type": "display_data",
          "data": {
            "text/html": [
              "Finishing last run (ID:qzu57or9) before initializing another..."
            ],
            "text/plain": [
              "<IPython.core.display.HTML object>"
            ]
          },
          "metadata": {
            "tags": []
          }
        },
        {
          "output_type": "display_data",
          "data": {
            "text/html": [
              "<br/>Waiting for W&B process to finish, PID 3094<br/>Program ended successfully."
            ],
            "text/plain": [
              "<IPython.core.display.HTML object>"
            ]
          },
          "metadata": {
            "tags": []
          }
        },
        {
          "output_type": "display_data",
          "data": {
            "application/vnd.jupyter.widget-view+json": {
              "model_id": "dae531bd39924215ae9fb1288a674759",
              "version_minor": 0,
              "version_major": 2
            },
            "text/plain": [
              "VBox(children=(Label(value=' 0.07MB of 0.07MB uploaded (0.00MB deduped)\\r'), FloatProgress(value=1.0, max=1.0)…"
            ]
          },
          "metadata": {
            "tags": []
          }
        },
        {
          "output_type": "display_data",
          "data": {
            "text/html": [
              "Find user logs for this run at: <code>/content/wandb/run-20210409_195152-qzu57or9/logs/debug.log</code>"
            ],
            "text/plain": [
              "<IPython.core.display.HTML object>"
            ]
          },
          "metadata": {
            "tags": []
          }
        },
        {
          "output_type": "display_data",
          "data": {
            "text/html": [
              "Find internal logs for this run at: <code>/content/wandb/run-20210409_195152-qzu57or9/logs/debug-internal.log</code>"
            ],
            "text/plain": [
              "<IPython.core.display.HTML object>"
            ]
          },
          "metadata": {
            "tags": []
          }
        },
        {
          "output_type": "display_data",
          "data": {
            "text/html": [
              "Synced 4 W&B file(s), 0 media file(s), 2 artifact file(s) and 1 other file(s)"
            ],
            "text/plain": [
              "<IPython.core.display.HTML object>"
            ]
          },
          "metadata": {
            "tags": []
          }
        },
        {
          "output_type": "display_data",
          "data": {
            "text/html": [
              "\n",
              "                    <br/>Synced <strong style=\"color:#cdcd00\">cerulean-sweep-7</strong>: <a href=\"https://wandb.ai/cs6910-team/DL-Assignment2-PartB-9April/runs/qzu57or9\" target=\"_blank\">https://wandb.ai/cs6910-team/DL-Assignment2-PartB-9April/runs/qzu57or9</a><br/>\n",
              "                "
            ],
            "text/plain": [
              "<IPython.core.display.HTML object>"
            ]
          },
          "metadata": {
            "tags": []
          }
        },
        {
          "output_type": "display_data",
          "data": {
            "text/html": [
              "...Successfully finished last run (ID:qzu57or9). Initializing new run:<br/><br/>"
            ],
            "text/plain": [
              "<IPython.core.display.HTML object>"
            ]
          },
          "metadata": {
            "tags": []
          }
        },
        {
          "output_type": "display_data",
          "data": {
            "text/html": [
              "\n",
              "                Tracking run with wandb version 0.10.25<br/>\n",
              "                Syncing run <strong style=\"color:#cdcd00\">cerulean-sweep-7</strong> to <a href=\"https://wandb.ai\" target=\"_blank\">Weights & Biases</a> <a href=\"https://docs.wandb.com/integrations/jupyter.html\" target=\"_blank\">(Documentation)</a>.<br/>\n",
              "                Project page: <a href=\"https://wandb.ai/cs6910-team/DL-Assignment2-PartB-9April\" target=\"_blank\">https://wandb.ai/cs6910-team/DL-Assignment2-PartB-9April</a><br/>\n",
              "                Sweep page: <a href=\"https://wandb.ai/cs6910-team/DL-Assignment2-PartB-9April/sweeps/oqws1sm6\" target=\"_blank\">https://wandb.ai/cs6910-team/DL-Assignment2-PartB-9April/sweeps/oqws1sm6</a><br/>\n",
              "Run page: <a href=\"https://wandb.ai/cs6910-team/DL-Assignment2-PartB-9April/runs/qzu57or9\" target=\"_blank\">https://wandb.ai/cs6910-team/DL-Assignment2-PartB-9April/runs/qzu57or9</a><br/>\n",
              "                Run data is saved locally in <code>/content/wandb/run-20210409_195155-qzu57or9</code><br/><br/>\n",
              "            "
            ],
            "text/plain": [
              "<IPython.core.display.HTML object>"
            ]
          },
          "metadata": {
            "tags": []
          }
        },
        {
          "output_type": "stream",
          "text": [
            "Downloading data from https://storage.googleapis.com/tensorflow/keras-applications/xception/xception_weights_tf_dim_ordering_tf_kernels_notop.h5\n",
            "83689472/83683744 [==============================] - 2s 0us/step\n",
            "Epoch 1/10\n",
            "62/62 [==============================] - 61s 876ms/step - loss: 17.7270 - accuracy: 0.0953 - val_loss: 10.3040 - val_accuracy: 0.0958\n"
          ],
          "name": "stdout"
        },
        {
          "output_type": "stream",
          "text": [
            "\u001b[34m\u001b[1mwandb\u001b[0m: \u001b[32m\u001b[41mERROR\u001b[0m Can't save model, h5py returned error: Saving the model to HDF5 format requires the model to be a Functional model or a Sequential model. It does not work for subclassed models, because such models are defined via the body of a Python method, which isn't safely serializable. Consider saving to the Tensorflow SavedModel format (by setting save_format=\"tf\") or using `save_weights`.\n"
          ],
          "name": "stderr"
        },
        {
          "output_type": "stream",
          "text": [
            "Epoch 2/10\n",
            "62/62 [==============================] - 55s 852ms/step - loss: 8.7918 - accuracy: 0.0979 - val_loss: 7.6351 - val_accuracy: 0.0875\n",
            "Epoch 3/10\n",
            "62/62 [==============================] - 55s 855ms/step - loss: 6.7690 - accuracy: 0.1027 - val_loss: 6.8324 - val_accuracy: 0.0875\n",
            "Epoch 4/10\n",
            "62/62 [==============================] - 55s 851ms/step - loss: 6.0088 - accuracy: 0.1101 - val_loss: 5.7616 - val_accuracy: 0.1229\n",
            "Epoch 5/10\n",
            "62/62 [==============================] - 56s 860ms/step - loss: 5.2829 - accuracy: 0.1201 - val_loss: 5.7134 - val_accuracy: 0.1437\n",
            "Epoch 6/10\n",
            "62/62 [==============================] - 55s 854ms/step - loss: 4.9712 - accuracy: 0.1275 - val_loss: 5.2382 - val_accuracy: 0.1396\n",
            "Epoch 7/10\n",
            "62/62 [==============================] - 55s 853ms/step - loss: 4.6840 - accuracy: 0.1227 - val_loss: 4.9561 - val_accuracy: 0.1521\n",
            "Epoch 8/10\n",
            "62/62 [==============================] - 55s 857ms/step - loss: 4.2964 - accuracy: 0.1461 - val_loss: 4.9888 - val_accuracy: 0.1479\n",
            "Epoch 9/10\n",
            "62/62 [==============================] - 55s 853ms/step - loss: 4.2137 - accuracy: 0.1394 - val_loss: 4.6398 - val_accuracy: 0.1562\n",
            "Epoch 10/10\n",
            "62/62 [==============================] - 55s 854ms/step - loss: 4.0077 - accuracy: 0.1488 - val_loss: 4.5289 - val_accuracy: 0.1437\n"
          ],
          "name": "stdout"
        },
        {
          "output_type": "stream",
          "text": [
            "\u001b[34m\u001b[1mwandb\u001b[0m: Agent Starting Run: ppgjergo with config:\n",
            "\u001b[34m\u001b[1mwandb\u001b[0m: \tbase_model_name: Xception\n",
            "\u001b[34m\u001b[1mwandb\u001b[0m: \ttune: True\n"
          ],
          "name": "stderr"
        },
        {
          "output_type": "display_data",
          "data": {
            "text/html": [
              "\n",
              "                Tracking run with wandb version 0.10.25<br/>\n",
              "                Syncing run <strong style=\"color:#cdcd00\">firm-sweep-8</strong> to <a href=\"https://wandb.ai\" target=\"_blank\">Weights & Biases</a> <a href=\"https://docs.wandb.com/integrations/jupyter.html\" target=\"_blank\">(Documentation)</a>.<br/>\n",
              "                Project page: <a href=\"https://wandb.ai/cs6910-team/DL-Assignment2-PartB-9April\" target=\"_blank\">https://wandb.ai/cs6910-team/DL-Assignment2-PartB-9April</a><br/>\n",
              "                Sweep page: <a href=\"https://wandb.ai/cs6910-team/DL-Assignment2-PartB-9April/sweeps/oqws1sm6\" target=\"_blank\">https://wandb.ai/cs6910-team/DL-Assignment2-PartB-9April/sweeps/oqws1sm6</a><br/>\n",
              "Run page: <a href=\"https://wandb.ai/cs6910-team/DL-Assignment2-PartB-9April/runs/ppgjergo\" target=\"_blank\">https://wandb.ai/cs6910-team/DL-Assignment2-PartB-9April/runs/ppgjergo</a><br/>\n",
              "                Run data is saved locally in <code>/content/wandb/run-20210409_200129-ppgjergo</code><br/><br/>\n",
              "            "
            ],
            "text/plain": [
              "<IPython.core.display.HTML object>"
            ]
          },
          "metadata": {
            "tags": []
          }
        },
        {
          "output_type": "display_data",
          "data": {
            "text/html": [
              "Finishing last run (ID:ppgjergo) before initializing another..."
            ],
            "text/plain": [
              "<IPython.core.display.HTML object>"
            ]
          },
          "metadata": {
            "tags": []
          }
        },
        {
          "output_type": "display_data",
          "data": {
            "text/html": [
              "<br/>Waiting for W&B process to finish, PID 3192<br/>Program ended successfully."
            ],
            "text/plain": [
              "<IPython.core.display.HTML object>"
            ]
          },
          "metadata": {
            "tags": []
          }
        },
        {
          "output_type": "display_data",
          "data": {
            "application/vnd.jupyter.widget-view+json": {
              "model_id": "da09663a0eb24133bbb472c5ee3e17b1",
              "version_minor": 0,
              "version_major": 2
            },
            "text/plain": [
              "VBox(children=(Label(value=' 0.08MB of 0.08MB uploaded (0.00MB deduped)\\r'), FloatProgress(value=1.0, max=1.0)…"
            ]
          },
          "metadata": {
            "tags": []
          }
        },
        {
          "output_type": "display_data",
          "data": {
            "text/html": [
              "Find user logs for this run at: <code>/content/wandb/run-20210409_200129-ppgjergo/logs/debug.log</code>"
            ],
            "text/plain": [
              "<IPython.core.display.HTML object>"
            ]
          },
          "metadata": {
            "tags": []
          }
        },
        {
          "output_type": "display_data",
          "data": {
            "text/html": [
              "Find internal logs for this run at: <code>/content/wandb/run-20210409_200129-ppgjergo/logs/debug-internal.log</code>"
            ],
            "text/plain": [
              "<IPython.core.display.HTML object>"
            ]
          },
          "metadata": {
            "tags": []
          }
        },
        {
          "output_type": "display_data",
          "data": {
            "text/html": [
              "Synced 4 W&B file(s), 0 media file(s), 2 artifact file(s) and 1 other file(s)"
            ],
            "text/plain": [
              "<IPython.core.display.HTML object>"
            ]
          },
          "metadata": {
            "tags": []
          }
        },
        {
          "output_type": "display_data",
          "data": {
            "text/html": [
              "\n",
              "                    <br/>Synced <strong style=\"color:#cdcd00\">firm-sweep-8</strong>: <a href=\"https://wandb.ai/cs6910-team/DL-Assignment2-PartB-9April/runs/ppgjergo\" target=\"_blank\">https://wandb.ai/cs6910-team/DL-Assignment2-PartB-9April/runs/ppgjergo</a><br/>\n",
              "                "
            ],
            "text/plain": [
              "<IPython.core.display.HTML object>"
            ]
          },
          "metadata": {
            "tags": []
          }
        },
        {
          "output_type": "display_data",
          "data": {
            "text/html": [
              "...Successfully finished last run (ID:ppgjergo). Initializing new run:<br/><br/>"
            ],
            "text/plain": [
              "<IPython.core.display.HTML object>"
            ]
          },
          "metadata": {
            "tags": []
          }
        },
        {
          "output_type": "display_data",
          "data": {
            "text/html": [
              "\n",
              "                Tracking run with wandb version 0.10.25<br/>\n",
              "                Syncing run <strong style=\"color:#cdcd00\">firm-sweep-8</strong> to <a href=\"https://wandb.ai\" target=\"_blank\">Weights & Biases</a> <a href=\"https://docs.wandb.com/integrations/jupyter.html\" target=\"_blank\">(Documentation)</a>.<br/>\n",
              "                Project page: <a href=\"https://wandb.ai/cs6910-team/DL-Assignment2-PartB-9April\" target=\"_blank\">https://wandb.ai/cs6910-team/DL-Assignment2-PartB-9April</a><br/>\n",
              "                Sweep page: <a href=\"https://wandb.ai/cs6910-team/DL-Assignment2-PartB-9April/sweeps/oqws1sm6\" target=\"_blank\">https://wandb.ai/cs6910-team/DL-Assignment2-PartB-9April/sweeps/oqws1sm6</a><br/>\n",
              "Run page: <a href=\"https://wandb.ai/cs6910-team/DL-Assignment2-PartB-9April/runs/ppgjergo\" target=\"_blank\">https://wandb.ai/cs6910-team/DL-Assignment2-PartB-9April/runs/ppgjergo</a><br/>\n",
              "                Run data is saved locally in <code>/content/wandb/run-20210409_200132-ppgjergo</code><br/><br/>\n",
              "            "
            ],
            "text/plain": [
              "<IPython.core.display.HTML object>"
            ]
          },
          "metadata": {
            "tags": []
          }
        },
        {
          "output_type": "stream",
          "text": [
            "Epoch 1/10\n",
            "62/62 [==============================] - 67s 975ms/step - loss: 2.2709 - accuracy: 0.1537 - val_loss: 2.2231 - val_accuracy: 0.1750\n"
          ],
          "name": "stdout"
        },
        {
          "output_type": "stream",
          "text": [
            "\u001b[34m\u001b[1mwandb\u001b[0m: \u001b[32m\u001b[41mERROR\u001b[0m Can't save model, h5py returned error: Saving the model to HDF5 format requires the model to be a Functional model or a Sequential model. It does not work for subclassed models, because such models are defined via the body of a Python method, which isn't safely serializable. Consider saving to the Tensorflow SavedModel format (by setting save_format=\"tf\") or using `save_weights`.\n"
          ],
          "name": "stderr"
        },
        {
          "output_type": "stream",
          "text": [
            "Epoch 2/10\n",
            "62/62 [==============================] - 61s 953ms/step - loss: 2.0939 - accuracy: 0.2381 - val_loss: 2.2214 - val_accuracy: 0.2083\n",
            "Epoch 3/10\n",
            "62/62 [==============================] - 61s 953ms/step - loss: 1.9644 - accuracy: 0.3344 - val_loss: 2.2612 - val_accuracy: 0.1792\n",
            "Epoch 4/10\n",
            "62/62 [==============================] - 61s 953ms/step - loss: 1.8470 - accuracy: 0.3860 - val_loss: 2.2393 - val_accuracy: 0.1937\n",
            "Epoch 5/10\n",
            "62/62 [==============================] - 61s 955ms/step - loss: 1.6930 - accuracy: 0.4305 - val_loss: 2.1533 - val_accuracy: 0.2083\n",
            "Epoch 6/10\n",
            "62/62 [==============================] - 61s 950ms/step - loss: 1.5475 - accuracy: 0.5299 - val_loss: 2.3972 - val_accuracy: 0.1875\n",
            "Epoch 7/10\n",
            "62/62 [==============================] - 61s 945ms/step - loss: 1.4605 - accuracy: 0.5362 - val_loss: 2.2486 - val_accuracy: 0.2104\n",
            "Epoch 8/10\n",
            "62/62 [==============================] - 61s 949ms/step - loss: 1.3255 - accuracy: 0.6122 - val_loss: 2.4056 - val_accuracy: 0.2021\n",
            "Epoch 9/10\n",
            "62/62 [==============================] - 61s 949ms/step - loss: 1.1579 - accuracy: 0.6654 - val_loss: 2.2441 - val_accuracy: 0.2583\n",
            "Epoch 10/10\n",
            "62/62 [==============================] - 61s 946ms/step - loss: 1.0232 - accuracy: 0.7269 - val_loss: 3.1651 - val_accuracy: 0.1729\n"
          ],
          "name": "stdout"
        },
        {
          "output_type": "stream",
          "text": [
            "\u001b[34m\u001b[1mwandb\u001b[0m: Sweep Agent: Waiting for job.\n",
            "\u001b[34m\u001b[1mwandb\u001b[0m: Sweep Agent: Exiting.\n"
          ],
          "name": "stderr"
        }
      ]
    }
  ]
}