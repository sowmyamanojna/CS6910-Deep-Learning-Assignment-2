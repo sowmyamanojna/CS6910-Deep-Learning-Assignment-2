{
  "nbformat": 4,
  "nbformat_minor": 0,
  "metadata": {
    "colab": {
      "name": "Part-B.ipynb",
      "provenance": [],
      "collapsed_sections": [],
      "toc_visible": true,
      "authorship_tag": "ABX9TyPLeEbYiXYZSP9LG5bl48U5",
      "include_colab_link": true
    },
    "kernelspec": {
      "name": "python3",
      "display_name": "Python 3"
    },
    "language_info": {
      "name": "python"
    },
    "accelerator": "GPU",
    "widgets": {
      "application/vnd.jupyter.widget-state+json": {
        "5d1a64870aa84e80a3d1768136f0cd59": {
          "model_module": "@jupyter-widgets/controls",
          "model_name": "VBoxModel",
          "state": {
            "_view_name": "VBoxView",
            "_dom_classes": [],
            "_model_name": "VBoxModel",
            "_view_module": "@jupyter-widgets/controls",
            "_model_module_version": "1.5.0",
            "_view_count": null,
            "_view_module_version": "1.5.0",
            "box_style": "",
            "layout": "IPY_MODEL_72b01ed312c54d66b7e426017cdae283",
            "_model_module": "@jupyter-widgets/controls",
            "children": [
              "IPY_MODEL_813eb925548f4b1d982574e13c78e7b9",
              "IPY_MODEL_2c5af1dfa64c4e51951c4442c25b7f69"
            ]
          }
        },
        "feb3034dc5be441f9bf48dfe145f9423": {
          "model_module": "@jupyter-widgets/controls",
          "model_name": "VBoxModel",
          "state": {
            "_view_name": "VBoxView",
            "_dom_classes": [],
            "_model_name": "VBoxModel",
            "_view_module": "@jupyter-widgets/controls",
            "_model_module_version": "1.5.0",
            "_view_count": null,
            "_view_module_version": "1.5.0",
            "box_style": "",
            "layout": "IPY_MODEL_0585a9cc5fe544ceaeaae78f61020f69",
            "_model_module": "@jupyter-widgets/controls",
            "children": [
              "IPY_MODEL_e2946ae89983440a9c3aa98e8256003e",
              "IPY_MODEL_e2bd357b445944239fa61e6665f9d9ed"
            ]
          }
        },
        "489af449916c44e3896faabeb2d47237": {
          "model_module": "@jupyter-widgets/controls",
          "model_name": "VBoxModel",
          "state": {
            "_view_name": "VBoxView",
            "_dom_classes": [],
            "_model_name": "VBoxModel",
            "_view_module": "@jupyter-widgets/controls",
            "_model_module_version": "1.5.0",
            "_view_count": null,
            "_view_module_version": "1.5.0",
            "box_style": "",
            "layout": "IPY_MODEL_1cfe7310d14847d48fd7687079a0d7c7",
            "_model_module": "@jupyter-widgets/controls",
            "children": [
              "IPY_MODEL_673f35cfaacb4fe19187067749a29fbc",
              "IPY_MODEL_7e015cc9a508444e967c5c35f1ed7b75"
            ]
          }
        },
        "99698415c5254e69ba9c16c5688c12af": {
          "model_module": "@jupyter-widgets/controls",
          "model_name": "VBoxModel",
          "state": {
            "_view_name": "VBoxView",
            "_dom_classes": [],
            "_model_name": "VBoxModel",
            "_view_module": "@jupyter-widgets/controls",
            "_model_module_version": "1.5.0",
            "_view_count": null,
            "_view_module_version": "1.5.0",
            "box_style": "",
            "layout": "IPY_MODEL_a80bc726ec0841bc9eb6086fe87ed8b4",
            "_model_module": "@jupyter-widgets/controls",
            "children": [
              "IPY_MODEL_f69b4cfefa6d4ea787e84eeae1e0ac30",
              "IPY_MODEL_29feeb4b1992434f8740b66da6e454fa"
            ]
          }
        },
        "8dbc323b6029476093c588c7ab3b8cb3": {
          "model_module": "@jupyter-widgets/controls",
          "model_name": "VBoxModel",
          "state": {
            "_view_name": "VBoxView",
            "_dom_classes": [],
            "_model_name": "VBoxModel",
            "_view_module": "@jupyter-widgets/controls",
            "_model_module_version": "1.5.0",
            "_view_count": null,
            "_view_module_version": "1.5.0",
            "box_style": "",
            "layout": "IPY_MODEL_5540136ce8df49d4a500a100bcab719e",
            "_model_module": "@jupyter-widgets/controls",
            "children": [
              "IPY_MODEL_d6f8e325a5ba4832b8ffa4ac0fedd15c",
              "IPY_MODEL_9f40fbcd5f5c4cc68b36273377fdedff"
            ]
          }
        },
        "a65c254422764d20afedf642b5236c47": {
          "model_module": "@jupyter-widgets/controls",
          "model_name": "VBoxModel",
          "state": {
            "_view_name": "VBoxView",
            "_dom_classes": [],
            "_model_name": "VBoxModel",
            "_view_module": "@jupyter-widgets/controls",
            "_model_module_version": "1.5.0",
            "_view_count": null,
            "_view_module_version": "1.5.0",
            "box_style": "",
            "layout": "IPY_MODEL_23f8479a4fef450cb110ea6fb0e9b467",
            "_model_module": "@jupyter-widgets/controls",
            "children": [
              "IPY_MODEL_9bdc723bc8c742a4a467e3c1143b17ad",
              "IPY_MODEL_1e47d606afe64471aca6d43016375a47"
            ]
          }
        },
        "c7dd7a7141564e84b85e5a7594754728": {
          "model_module": "@jupyter-widgets/controls",
          "model_name": "VBoxModel",
          "state": {
            "_view_name": "VBoxView",
            "_dom_classes": [],
            "_model_name": "VBoxModel",
            "_view_module": "@jupyter-widgets/controls",
            "_model_module_version": "1.5.0",
            "_view_count": null,
            "_view_module_version": "1.5.0",
            "box_style": "",
            "layout": "IPY_MODEL_d1d03a32077f404b9dcc1c7bc762a4fe",
            "_model_module": "@jupyter-widgets/controls",
            "children": [
              "IPY_MODEL_03b870ea297445ad93b8458599077cbc",
              "IPY_MODEL_bef23e87c35242798e163870dcee6d57"
            ]
          }
        },
        "0506221511b042cfb3a51d2c3b004324": {
          "model_module": "@jupyter-widgets/controls",
          "model_name": "VBoxModel",
          "state": {
            "_view_name": "VBoxView",
            "_dom_classes": [],
            "_model_name": "VBoxModel",
            "_view_module": "@jupyter-widgets/controls",
            "_model_module_version": "1.5.0",
            "_view_count": null,
            "_view_module_version": "1.5.0",
            "box_style": "",
            "layout": "IPY_MODEL_bb93f1a26fe549a4864d2031f6283b6e",
            "_model_module": "@jupyter-widgets/controls",
            "children": [
              "IPY_MODEL_8fe3189c1ad84110a8d9cfaa48470c8c",
              "IPY_MODEL_8dc7264ef47d4265a65f0010cb033a36"
            ]
          }
        },
        "558855d4469747b78cbcf8e283838f52": {
          "model_module": "@jupyter-widgets/controls",
          "model_name": "VBoxModel",
          "state": {
            "_view_name": "VBoxView",
            "_dom_classes": [],
            "_model_name": "VBoxModel",
            "_view_module": "@jupyter-widgets/controls",
            "_model_module_version": "1.5.0",
            "_view_count": null,
            "_view_module_version": "1.5.0",
            "box_style": "",
            "layout": "IPY_MODEL_5c5bf882fe6645d4b75ef4933858934b",
            "_model_module": "@jupyter-widgets/controls",
            "children": [
              "IPY_MODEL_f65bb334bb3245ddb9bdc5d63f6c748b",
              "IPY_MODEL_dcbfd311609b4429b95a9d9b7ff837fc"
            ]
          }
        },
        "12a0bacf188649349a6225dcd28db735": {
          "model_module": "@jupyter-widgets/controls",
          "model_name": "VBoxModel",
          "state": {
            "_view_name": "VBoxView",
            "_dom_classes": [],
            "_model_name": "VBoxModel",
            "_view_module": "@jupyter-widgets/controls",
            "_model_module_version": "1.5.0",
            "_view_count": null,
            "_view_module_version": "1.5.0",
            "box_style": "",
            "layout": "IPY_MODEL_f488626d281445ae91821a8543543bad",
            "_model_module": "@jupyter-widgets/controls",
            "children": [
              "IPY_MODEL_8ae5d09612234e21b3a5052f56c38887",
              "IPY_MODEL_600465a64d4d44cc97b7d8cf1c3fcac3"
            ]
          }
        },
        "8a964458e32f427a882486dc4292d152": {
          "model_module": "@jupyter-widgets/controls",
          "model_name": "VBoxModel",
          "state": {
            "_view_name": "VBoxView",
            "_dom_classes": [],
            "_model_name": "VBoxModel",
            "_view_module": "@jupyter-widgets/controls",
            "_model_module_version": "1.5.0",
            "_view_count": null,
            "_view_module_version": "1.5.0",
            "box_style": "",
            "layout": "IPY_MODEL_abd20b91a05946419212124ddec80d16",
            "_model_module": "@jupyter-widgets/controls",
            "children": [
              "IPY_MODEL_a36317a1bdf64edc908cded8100efd19",
              "IPY_MODEL_c0a889edd4e846f68d46060b43d6cdbb"
            ]
          }
        },
        "1fe62f8021fd47da8c0fc4a15823e874": {
          "model_module": "@jupyter-widgets/controls",
          "model_name": "VBoxModel",
          "state": {
            "_view_name": "VBoxView",
            "_dom_classes": [],
            "_model_name": "VBoxModel",
            "_view_module": "@jupyter-widgets/controls",
            "_model_module_version": "1.5.0",
            "_view_count": null,
            "_view_module_version": "1.5.0",
            "box_style": "",
            "layout": "IPY_MODEL_bf8aae7a743c4adda0f68ac03bb5f5af",
            "_model_module": "@jupyter-widgets/controls",
            "children": [
              "IPY_MODEL_bd8996ddd49340c1877e92a962d0d5af",
              "IPY_MODEL_ded17a6b36204f95877994ec00feb2de"
            ]
          }
        },
        "04e95a84082f467aa8331235763ab9e2": {
          "model_module": "@jupyter-widgets/controls",
          "model_name": "VBoxModel",
          "state": {
            "_view_name": "VBoxView",
            "_dom_classes": [],
            "_model_name": "VBoxModel",
            "_view_module": "@jupyter-widgets/controls",
            "_model_module_version": "1.5.0",
            "_view_count": null,
            "_view_module_version": "1.5.0",
            "box_style": "",
            "layout": "IPY_MODEL_9852890eb1a841c4a7ea68845f1ff27c",
            "_model_module": "@jupyter-widgets/controls",
            "children": [
              "IPY_MODEL_774faaa5aebe4f5a8878b90dea6c75d5",
              "IPY_MODEL_09e8afa915b448c68256c8062b0cbdb5"
            ]
          }
        },
        "26df6abf4e7845aa88d200cfdbf364ff": {
          "model_module": "@jupyter-widgets/controls",
          "model_name": "VBoxModel",
          "state": {
            "_view_name": "VBoxView",
            "_dom_classes": [],
            "_model_name": "VBoxModel",
            "_view_module": "@jupyter-widgets/controls",
            "_model_module_version": "1.5.0",
            "_view_count": null,
            "_view_module_version": "1.5.0",
            "box_style": "",
            "layout": "IPY_MODEL_d82bd6a6635b487e8e75f220ff746465",
            "_model_module": "@jupyter-widgets/controls",
            "children": [
              "IPY_MODEL_8f3e2b8dc2eb4c558d5cd3ec83201a83",
              "IPY_MODEL_951e88576c9649049aa0cc1d73f185d1"
            ]
          }
        },
        "77d981ecdb824a87aed700dc543467aa": {
          "model_module": "@jupyter-widgets/controls",
          "model_name": "VBoxModel",
          "state": {
            "_view_name": "VBoxView",
            "_dom_classes": [],
            "_model_name": "VBoxModel",
            "_view_module": "@jupyter-widgets/controls",
            "_model_module_version": "1.5.0",
            "_view_count": null,
            "_view_module_version": "1.5.0",
            "box_style": "",
            "layout": "IPY_MODEL_9dc068bb77d847c29f6352f8c4455bf0",
            "_model_module": "@jupyter-widgets/controls",
            "children": [
              "IPY_MODEL_dfc54fb2f4134caabce0401bd60f795e",
              "IPY_MODEL_ccd627fa8c5446d084663d35e4adf846"
            ]
          }
        },
        "0b83e8b9eb8f40729206f222e8fcaea7": {
          "model_module": "@jupyter-widgets/controls",
          "model_name": "VBoxModel",
          "state": {
            "_view_name": "VBoxView",
            "_dom_classes": [],
            "_model_name": "VBoxModel",
            "_view_module": "@jupyter-widgets/controls",
            "_model_module_version": "1.5.0",
            "_view_count": null,
            "_view_module_version": "1.5.0",
            "box_style": "",
            "layout": "IPY_MODEL_0d57d0357a394c33a2f72a419b9c5d83",
            "_model_module": "@jupyter-widgets/controls",
            "children": [
              "IPY_MODEL_d0713c58cf5640928b48fe65ab30f5f1",
              "IPY_MODEL_0ea559609e3b4e69961ee0129ea71f6e"
            ]
          }
        }
      }
    }
  },
  "cells": [
    {
      "cell_type": "markdown",
      "metadata": {
        "id": "view-in-github",
        "colab_type": "text"
      },
      "source": [
        "<a href=\"https://colab.research.google.com/github/sowmyamanojna/CS6910-Deep-Learning-Assignment-2/blob/main/Part-B/Part_B.ipynb\" target=\"_parent\"><img src=\"https://colab.research.google.com/assets/colab-badge.svg\" alt=\"Open In Colab\"/></a>"
      ]
    },
    {
      "cell_type": "markdown",
      "metadata": {
        "id": "wH5KvffRmVw7"
      },
      "source": [
        "# Part-C: YOLOv3 for Forest Fire Detection\n",
        "\n",
        "## Importing necessary packages"
      ]
    },
    {
      "cell_type": "code",
      "metadata": {
        "id": "-LS0fc9-ZrXN"
      },
      "source": [
        "!pip install -q wandb\n",
        "import wandb\n",
        "import pathlib\n",
        "import numpy as np\n",
        "import pandas as pd\n",
        "import tensorflow as tf\n",
        "from tensorflow.keras.preprocessing import image_dataset_from_directory\n",
        "from tensorflow.keras.preprocessing.image import ImageDataGenerator\n",
        "from tensorflow.keras import layers, Model\n",
        "from tensorflow.keras.layers.experimental.preprocessing import Rescaling\n",
        "from PIL import Image"
      ],
      "execution_count": 1,
      "outputs": []
    },
    {
      "cell_type": "code",
      "metadata": {
        "colab": {
          "base_uri": "https://localhost:8080/"
        },
        "id": "1K34jr47OKyM",
        "outputId": "996b6316-6481-43c5-e78d-c2ebe1a75be1"
      },
      "source": [
        "from google.colab import drive\n",
        "drive.mount('/content/drive')"
      ],
      "execution_count": 2,
      "outputs": [
        {
          "output_type": "stream",
          "text": [
            "Drive already mounted at /content/drive; to attempt to forcibly remount, call drive.mount(\"/content/drive\", force_remount=True).\n"
          ],
          "name": "stdout"
        }
      ]
    },
    {
      "cell_type": "markdown",
      "metadata": {
        "id": "Oc0n3DwLmlWE"
      },
      "source": [
        "## Loading the Training Data, Split Validation data"
      ]
    },
    {
      "cell_type": "code",
      "metadata": {
        "colab": {
          "base_uri": "https://localhost:8080/"
        },
        "id": "1NwKzzeTZy1y",
        "outputId": "204496cb-26de-4d9a-e98c-e19037ef3128"
      },
      "source": [
        "################################################################\n",
        "# Preparing training (without augmentation) and validation set \n",
        "################################################################\n",
        "# Preparing training and validation sets without augmentation\n",
        "# Loading data from directory\n",
        "# data_dir = pathlib.Path('/content/drive/MyDrive/inaturalist_12K/train') # Set path to the right directory\n",
        "data_dir = '/content/drive/MyDrive/inaturalist_12K/train' # Set path to the right directory\n",
        "train_data = tf.keras.preprocessing.image_dataset_from_directory(\n",
        "                      directory = data_dir,\n",
        "                      labels = 'inferred',  \n",
        "                      label_mode = 'categorical',\n",
        "                      color_mode = 'rgb',\n",
        "                      batch_size = 32,\n",
        "                      image_size = (256, 256),\n",
        "                      shuffle = True,\n",
        "                      seed = 17,\n",
        "                      validation_split = 0.2,\n",
        "                      subset = 'training')\n",
        "\n",
        "val_data = tf.keras.preprocessing.image_dataset_from_directory(\n",
        "                      directory = data_dir,\n",
        "                      labels = 'inferred',  \n",
        "                      label_mode = 'categorical',\n",
        "                      color_mode = 'rgb',\n",
        "                      batch_size = 32,\n",
        "                      image_size = (256, 256),\n",
        "                      shuffle = True,\n",
        "                      seed = 17,\n",
        "                      validation_split = 0.2,\n",
        "                      subset = 'validation')\n",
        "\n",
        "# Retaining 25 percent of train and validation data and discarding the rest\n",
        "len_train, len_val = len(train_data), len(val_data)\n",
        "train_data = train_data.take(int(0.25*len_train))\n",
        "val_data = val_data.take(int(0.25*len_val))"
      ],
      "execution_count": 3,
      "outputs": [
        {
          "output_type": "stream",
          "text": [
            "Found 10000 files belonging to 10 classes.\n",
            "Using 8000 files for training.\n",
            "Found 10000 files belonging to 10 classes.\n",
            "Using 2000 files for validation.\n"
          ],
          "name": "stdout"
        }
      ]
    },
    {
      "cell_type": "code",
      "metadata": {
        "colab": {
          "base_uri": "https://localhost:8080/"
        },
        "id": "r6qajDpNZz-B",
        "outputId": "fc28b5f2-7e56-4bd0-8dc6-abb5345bee2a"
      },
      "source": [
        "################################################################\n",
        "# Preparing training set with augmentation \n",
        "################################################################\n",
        "train_data_augmenter = ImageDataGenerator(\n",
        "                            rescale = None,\n",
        "                            rotation_range = 20,\n",
        "                            width_shift_range = 0.2,\n",
        "                            height_shift_range = 0.2,\n",
        "                            brightness_range = [0.2, 1.5],\n",
        "                            shear_range = 0.2,\n",
        "                            zoom_range = 0.2,\n",
        "                            horizontal_flip=True,\n",
        "                            data_format = 'channels_last',\n",
        "                            validation_split = 0.2)        #Specifying parameters for augmentation of training data\n",
        "\n",
        "val_data_augmenter = ImageDataGenerator(validation_split = 0.2) #No augmentation of validation data\n",
        "\n",
        "train_aug_gen = train_data_augmenter.flow_from_directory(data_dir, shuffle = True, \\\n",
        "                                                         seed = 17, subset = 'training')\n",
        "val_aug_gen = val_data_augmenter.flow_from_directory(data_dir, shuffle = True, \\\n",
        "                                                     seed = 17, subset = 'validation')\n",
        "\n",
        "# train_aug_data = tf.data.Dataset.from_generator(\n",
        "#                     lambda: train_aug_gen,\n",
        "#                     output_types = (tf.float32, tf.float32),\n",
        "#                     output_shapes = ([None, 256, 256, 3], [None, 10]))\n",
        "\n",
        "# val_aug_data = tf.data.Dataset.from_generator(\n",
        "#                   lambda: val_aug_gen,\n",
        "#                   output_types = (tf.float32, tf.float32),\n",
        "#                   output_shapes = ([None, 256, 256, 3], [None, 10]))\n",
        "\n",
        "# Retaining 25 percent of train and validation data and discarding the rest\n",
        "# train_aug_data = train_aug_data.take(int(0.25*len_train))\n",
        "# val_aug_data = val_aug_data.take(int(0.25*len_val))"
      ],
      "execution_count": 4,
      "outputs": [
        {
          "output_type": "stream",
          "text": [
            "Found 8000 images belonging to 10 classes.\n",
            "Found 2000 images belonging to 10 classes.\n"
          ],
          "name": "stdout"
        }
      ]
    },
    {
      "cell_type": "markdown",
      "metadata": {
        "id": "NS0Zq3NrUiCr"
      },
      "source": [
        "Using tutorials:\n",
        "- https://www.tensorflow.org/tutorials/text/image_captioning\n",
        "- https://www.tensorflow.org/tutorials/images/transfer_learning\n"
      ]
    },
    {
      "cell_type": "markdown",
      "metadata": {
        "id": "fCfDj6b_ms37"
      },
      "source": [
        "## Building the `CNN` class  that ensures modularity of code "
      ]
    },
    {
      "cell_type": "code",
      "metadata": {
        "id": "z79mSMMEZ8xn"
      },
      "source": [
        "class CNN(Model):\n",
        "    def __init__(self, base_model_name, tune=False, offset=20):\n",
        "        super(CNN, self).__init__()\n",
        "        self.IMG_SHAPE = (256, 256, 3)\n",
        "        self.base_model_name = base_model_name\n",
        "        self.init_base_model()\n",
        "        \n",
        "        if tune:\n",
        "            self.base_model.trainable = True\n",
        "            fine_tune_at = len(self.base_model.layers)-offset\n",
        "            # Freeze all the layers before the `fine_tune_at` layer\n",
        "            for layer in self.base_model.layers[:fine_tune_at]:\n",
        "                layer.trainable =  False\n",
        "        else:\n",
        "            self.base_model.trainable = False\n",
        "\n",
        "        self.additional_avg_pool1 = layers.GlobalAveragePooling2D()\n",
        "        self.additional_dense1 = layers.Dense(10)\n",
        "\n",
        "    def init_base_model(self):\n",
        "        if self.base_model_name == \"InceptionV3\":\n",
        "            self.base_model = tf.keras.applications.InceptionV3(input_shape=self.IMG_SHAPE,\n",
        "                                               include_top=False,\n",
        "                                               weights='imagenet')\n",
        "        elif self.base_model_name == \"InceptionResNetV2\":\n",
        "            self.base_model = tf.keras.applications.InceptionResNetV2(input_shape=self.IMG_SHAPE,\n",
        "                                               include_top=False,\n",
        "                                               weights='imagenet')\n",
        "        elif self.base_model_name == \"ResNet50\":\n",
        "            self.base_model = tf.keras.applications.ResNet50(input_shape=self.IMG_SHAPE,\n",
        "                                               include_top=False,\n",
        "                                               weights='imagenet')\n",
        "        elif self.base_model_name == \"Xception\":\n",
        "            self.base_model = tf.keras.applications.Xception(input_shape=self.IMG_SHAPE,\n",
        "                                               include_top=False,\n",
        "                                               weights='imagenet')\n",
        "            \n",
        "    def call(self, inputs):\n",
        "        x = self.base_model(inputs)\n",
        "        x = self.additional_avg_pool1(x)\n",
        "        return self.additional_dense1(x)"
      ],
      "execution_count": 5,
      "outputs": []
    },
    {
      "cell_type": "markdown",
      "metadata": {
        "id": "C6U8E0zNm2fM"
      },
      "source": [
        "## Training without wandb"
      ]
    },
    {
      "cell_type": "code",
      "metadata": {
        "colab": {
          "base_uri": "https://localhost:8080/"
        },
        "id": "ro_YhWt-mSzL",
        "outputId": "ee040fd4-e5ae-4470-93dd-bfa23482ece8"
      },
      "source": [
        "base_model_name = \"ResNet50\"\n",
        "tune = False\n",
        "offset = 20\n",
        "\n",
        "model = CNN(base_model_name, tune, offset)\n",
        "\n",
        "base_learning_rate = 0.0001\n",
        "model.compile(optimizer=tf.keras.optimizers.Adam(lr=base_learning_rate),\n",
        "                loss=tf.keras.losses.CategoricalCrossentropy(from_logits=True),\n",
        "                metrics=['accuracy'])\n",
        "\n",
        "# history = model.fit(train_data, epochs=10, validation_data=val_data)\n",
        "history = model.fit(train_aug_gen, steps_per_epoch=62, \\\n",
        "                    epochs=10, validation_data=val_aug_gen, \\\n",
        "                    validation_steps=62, workers=8)"
      ],
      "execution_count": 6,
      "outputs": [
        {
          "output_type": "stream",
          "text": [
            "Epoch 1/10\n",
            "62/62 [==============================] - 78s 1s/step - loss: 2.9546 - accuracy: 0.1057 - val_loss: 2.5126 - val_accuracy: 0.1643\n",
            "Epoch 2/10\n",
            "62/62 [==============================] - 75s 1s/step - loss: 2.3557 - accuracy: 0.1684 - val_loss: 2.1185 - val_accuracy: 0.2611\n",
            "Epoch 3/10\n",
            "62/62 [==============================] - 74s 1s/step - loss: 2.0297 - accuracy: 0.2846 - val_loss: 1.8854 - val_accuracy: 0.3377\n",
            "Epoch 4/10\n",
            "62/62 [==============================] - 74s 1s/step - loss: 1.8514 - accuracy: 0.3548 - val_loss: 1.7115 - val_accuracy: 0.4052\n",
            "Epoch 5/10\n",
            "62/62 [==============================] - 74s 1s/step - loss: 1.7590 - accuracy: 0.3971 - val_loss: 1.6041 - val_accuracy: 0.4526\n",
            "Epoch 6/10\n",
            "62/62 [==============================] - 74s 1s/step - loss: 1.6568 - accuracy: 0.4395 - val_loss: 1.4925 - val_accuracy: 0.4975\n",
            "Epoch 7/10\n",
            "62/62 [==============================] - 74s 1s/step - loss: 1.5941 - accuracy: 0.4655 - val_loss: 1.4237 - val_accuracy: 0.5292\n",
            "Epoch 8/10\n",
            "62/62 [==============================] - 74s 1s/step - loss: 1.4997 - accuracy: 0.5005 - val_loss: 1.3614 - val_accuracy: 0.5514\n",
            "Epoch 9/10\n",
            "62/62 [==============================] - 74s 1s/step - loss: 1.4238 - accuracy: 0.5272 - val_loss: 1.3292 - val_accuracy: 0.5580\n",
            "Epoch 10/10\n",
            "62/62 [==============================] - 74s 1s/step - loss: 1.3951 - accuracy: 0.5317 - val_loss: 1.2855 - val_accuracy: 0.5726\n"
          ],
          "name": "stdout"
        }
      ]
    },
    {
      "cell_type": "markdown",
      "metadata": {
        "id": "398qbI77m5pt"
      },
      "source": [
        "## Train with wandb"
      ]
    },
    {
      "cell_type": "code",
      "metadata": {
        "id": "MCTRL1QdOGxX"
      },
      "source": [
        "###############################################\n",
        "# Listing the hyperparameters in wandb config \n",
        "###############################################\n",
        "sweep_config = {'name': 'random-test-sweep', 'method': 'grid'}\n",
        "sweep_config['metric'] = {'name': 'val_acc', 'goal': 'maximize'}\n",
        "parameters_dict = {\n",
        "                   'base_model_name': {'values': [\"InceptionV3\", \"InceptionResNetV2\", \"ResNet50\", \"Xception\"]},\n",
        "                   'tune': {'values': [False, True]},\n",
        "                   'data_aug': {'values': [False, True]}\n",
        "                  }\n",
        "sweep_config['parameters'] = parameters_dict"
      ],
      "execution_count": 7,
      "outputs": []
    },
    {
      "cell_type": "code",
      "metadata": {
        "id": "VA845WJNRizR"
      },
      "source": [
        "def pretrain_CNN_sweep(config=sweep_config):\n",
        "    with wandb.init(config=config):\n",
        "        config = wandb.init().config\n",
        "        wandb.run.name = 'BM_{}_tune_{}_aug_{}'.format(config.base_model_name, \\\n",
        "                                                       config.tune, config.data_aug)\n",
        "        \n",
        "        model = CNN(config.base_model_name, config.tune)\n",
        "        base_learning_rate = 0.0001\n",
        "        model.compile(optimizer=tf.keras.optimizers.Adam(lr=base_learning_rate),\n",
        "                loss=tf.keras.losses.CategoricalCrossentropy(from_logits=True),\n",
        "                metrics=['accuracy'])\n",
        "        \n",
        "        if config.data_aug == False:\n",
        "            history = model.fit(train_data, epochs=10, validation_data=val_data, \\\n",
        "                            callbacks = [wandb.keras.WandbCallback()])\n",
        "        else:\n",
        "            history = model.fit(train_aug_gen, steps_per_epoch=62, epochs=10, \\\n",
        "                                validation_data=val_aug_gen, validation_steps=62,\\\n",
        "                                workers=10, callbacks = [wandb.keras.WandbCallback()])"
      ],
      "execution_count": 11,
      "outputs": []
    },
    {
      "cell_type": "code",
      "metadata": {
        "colab": {
          "base_uri": "https://localhost:8080/",
          "height": 1000,
          "referenced_widgets": [
            "5d1a64870aa84e80a3d1768136f0cd59",
            "feb3034dc5be441f9bf48dfe145f9423",
            "489af449916c44e3896faabeb2d47237",
            "99698415c5254e69ba9c16c5688c12af",
            "8dbc323b6029476093c588c7ab3b8cb3",
            "a65c254422764d20afedf642b5236c47",
            "c7dd7a7141564e84b85e5a7594754728",
            "0506221511b042cfb3a51d2c3b004324",
            "558855d4469747b78cbcf8e283838f52",
            "12a0bacf188649349a6225dcd28db735",
            "8a964458e32f427a882486dc4292d152",
            "1fe62f8021fd47da8c0fc4a15823e874",
            "04e95a84082f467aa8331235763ab9e2",
            "26df6abf4e7845aa88d200cfdbf364ff",
            "77d981ecdb824a87aed700dc543467aa",
            "0b83e8b9eb8f40729206f222e8fcaea7"
          ]
        },
        "id": "7S7jQHRdqSYR",
        "outputId": "a617bae6-b4ef-4a0a-de0c-8ad524d8f669"
      },
      "source": [
        "#################################\n",
        "# Setting up wandb sweeps\n",
        "#################################\n",
        "sweep_id = wandb.sweep(sweep_config, project = 'DL-Assignment2-PartB')\n",
        "wandb.agent(sweep_id, function=pretrain_CNN_sweep)"
      ],
      "execution_count": 12,
      "outputs": [
        {
          "output_type": "stream",
          "text": [
            "Create sweep with ID: wdu7jyge\n",
            "Sweep URL: https://wandb.ai/cs6910-team/DL-Assignment2-PartB/sweeps/wdu7jyge\n"
          ],
          "name": "stdout"
        },
        {
          "output_type": "stream",
          "text": [
            "\u001b[34m\u001b[1mwandb\u001b[0m: Agent Starting Run: fldgqaem with config:\n",
            "\u001b[34m\u001b[1mwandb\u001b[0m: \tbase_model_name: InceptionV3\n",
            "\u001b[34m\u001b[1mwandb\u001b[0m: \tdata_aug: False\n",
            "\u001b[34m\u001b[1mwandb\u001b[0m: \ttune: False\n"
          ],
          "name": "stderr"
        },
        {
          "output_type": "display_data",
          "data": {
            "text/html": [
              "\n",
              "                Tracking run with wandb version 0.10.26<br/>\n",
              "                Syncing run <strong style=\"color:#cdcd00\">azure-sweep-1</strong> to <a href=\"https://wandb.ai\" target=\"_blank\">Weights & Biases</a> <a href=\"https://docs.wandb.com/integrations/jupyter.html\" target=\"_blank\">(Documentation)</a>.<br/>\n",
              "                Project page: <a href=\"https://wandb.ai/cs6910-team/DL-Assignment2-PartB\" target=\"_blank\">https://wandb.ai/cs6910-team/DL-Assignment2-PartB</a><br/>\n",
              "                Sweep page: <a href=\"https://wandb.ai/cs6910-team/DL-Assignment2-PartB/sweeps/wdu7jyge\" target=\"_blank\">https://wandb.ai/cs6910-team/DL-Assignment2-PartB/sweeps/wdu7jyge</a><br/>\n",
              "Run page: <a href=\"https://wandb.ai/cs6910-team/DL-Assignment2-PartB/runs/fldgqaem\" target=\"_blank\">https://wandb.ai/cs6910-team/DL-Assignment2-PartB/runs/fldgqaem</a><br/>\n",
              "                Run data is saved locally in <code>/content/wandb/run-20210414_070917-fldgqaem</code><br/><br/>\n",
              "            "
            ],
            "text/plain": [
              "<IPython.core.display.HTML object>"
            ]
          },
          "metadata": {
            "tags": []
          }
        },
        {
          "output_type": "display_data",
          "data": {
            "text/html": [
              "Finishing last run (ID:fldgqaem) before initializing another..."
            ],
            "text/plain": [
              "<IPython.core.display.HTML object>"
            ]
          },
          "metadata": {
            "tags": []
          }
        },
        {
          "output_type": "display_data",
          "data": {
            "text/html": [
              "<br/>Waiting for W&B process to finish, PID 3565<br/>Program ended successfully."
            ],
            "text/plain": [
              "<IPython.core.display.HTML object>"
            ]
          },
          "metadata": {
            "tags": []
          }
        },
        {
          "output_type": "display_data",
          "data": {
            "application/vnd.jupyter.widget-view+json": {
              "model_id": "5d1a64870aa84e80a3d1768136f0cd59",
              "version_minor": 0,
              "version_major": 2
            },
            "text/plain": [
              "VBox(children=(Label(value=' 0.03MB of 0.03MB uploaded (0.00MB deduped)\\r'), FloatProgress(value=1.0, max=1.0)…"
            ]
          },
          "metadata": {
            "tags": []
          }
        },
        {
          "output_type": "display_data",
          "data": {
            "text/html": [
              "Find user logs for this run at: <code>/content/wandb/run-20210414_070917-fldgqaem/logs/debug.log</code>"
            ],
            "text/plain": [
              "<IPython.core.display.HTML object>"
            ]
          },
          "metadata": {
            "tags": []
          }
        },
        {
          "output_type": "display_data",
          "data": {
            "text/html": [
              "Find internal logs for this run at: <code>/content/wandb/run-20210414_070917-fldgqaem/logs/debug-internal.log</code>"
            ],
            "text/plain": [
              "<IPython.core.display.HTML object>"
            ]
          },
          "metadata": {
            "tags": []
          }
        },
        {
          "output_type": "display_data",
          "data": {
            "text/html": [
              "Synced 4 W&B file(s), 0 media file(s), 2 artifact file(s) and 1 other file(s)"
            ],
            "text/plain": [
              "<IPython.core.display.HTML object>"
            ]
          },
          "metadata": {
            "tags": []
          }
        },
        {
          "output_type": "display_data",
          "data": {
            "text/html": [
              "\n",
              "                    <br/>Synced <strong style=\"color:#cdcd00\">azure-sweep-1</strong>: <a href=\"https://wandb.ai/cs6910-team/DL-Assignment2-PartB/runs/fldgqaem\" target=\"_blank\">https://wandb.ai/cs6910-team/DL-Assignment2-PartB/runs/fldgqaem</a><br/>\n",
              "                "
            ],
            "text/plain": [
              "<IPython.core.display.HTML object>"
            ]
          },
          "metadata": {
            "tags": []
          }
        },
        {
          "output_type": "display_data",
          "data": {
            "text/html": [
              "...Successfully finished last run (ID:fldgqaem). Initializing new run:<br/><br/>"
            ],
            "text/plain": [
              "<IPython.core.display.HTML object>"
            ]
          },
          "metadata": {
            "tags": []
          }
        },
        {
          "output_type": "display_data",
          "data": {
            "text/html": [
              "\n",
              "                Tracking run with wandb version 0.10.26<br/>\n",
              "                Syncing run <strong style=\"color:#cdcd00\">azure-sweep-1</strong> to <a href=\"https://wandb.ai\" target=\"_blank\">Weights & Biases</a> <a href=\"https://docs.wandb.com/integrations/jupyter.html\" target=\"_blank\">(Documentation)</a>.<br/>\n",
              "                Project page: <a href=\"https://wandb.ai/cs6910-team/DL-Assignment2-PartB\" target=\"_blank\">https://wandb.ai/cs6910-team/DL-Assignment2-PartB</a><br/>\n",
              "                Sweep page: <a href=\"https://wandb.ai/cs6910-team/DL-Assignment2-PartB/sweeps/wdu7jyge\" target=\"_blank\">https://wandb.ai/cs6910-team/DL-Assignment2-PartB/sweeps/wdu7jyge</a><br/>\n",
              "Run page: <a href=\"https://wandb.ai/cs6910-team/DL-Assignment2-PartB/runs/fldgqaem\" target=\"_blank\">https://wandb.ai/cs6910-team/DL-Assignment2-PartB/runs/fldgqaem</a><br/>\n",
              "                Run data is saved locally in <code>/content/wandb/run-20210414_070920-fldgqaem</code><br/><br/>\n",
              "            "
            ],
            "text/plain": [
              "<IPython.core.display.HTML object>"
            ]
          },
          "metadata": {
            "tags": []
          }
        },
        {
          "output_type": "stream",
          "text": [
            "Epoch 1/10\n",
            "62/62 [==============================] - 36s 483ms/step - loss: 21.9916 - accuracy: 0.0924 - val_loss: 11.0436 - val_accuracy: 0.1271\n"
          ],
          "name": "stdout"
        },
        {
          "output_type": "stream",
          "text": [
            "\u001b[34m\u001b[1mwandb\u001b[0m: \u001b[32m\u001b[41mERROR\u001b[0m Can't save model, h5py returned error: Saving the model to HDF5 format requires the model to be a Functional model or a Sequential model. It does not work for subclassed models, because such models are defined via the body of a Python method, which isn't safely serializable. Consider saving to the Tensorflow SavedModel format (by setting save_format=\"tf\") or using `save_weights`.\n"
          ],
          "name": "stderr"
        },
        {
          "output_type": "stream",
          "text": [
            "Epoch 2/10\n",
            "62/62 [==============================] - 30s 459ms/step - loss: 10.5274 - accuracy: 0.1083 - val_loss: 8.6774 - val_accuracy: 0.1292\n",
            "Epoch 3/10\n",
            "62/62 [==============================] - 30s 459ms/step - loss: 8.8910 - accuracy: 0.1057 - val_loss: 8.2379 - val_accuracy: 0.1375\n",
            "Epoch 4/10\n",
            "62/62 [==============================] - 30s 455ms/step - loss: 7.8416 - accuracy: 0.1204 - val_loss: 7.3140 - val_accuracy: 0.1333\n",
            "Epoch 5/10\n",
            "62/62 [==============================] - 31s 463ms/step - loss: 7.2795 - accuracy: 0.1164 - val_loss: 7.0561 - val_accuracy: 0.1187\n",
            "Epoch 6/10\n",
            "62/62 [==============================] - 30s 459ms/step - loss: 6.5678 - accuracy: 0.1263 - val_loss: 6.7489 - val_accuracy: 0.1312\n",
            "Epoch 7/10\n",
            "62/62 [==============================] - 31s 463ms/step - loss: 6.2510 - accuracy: 0.1343 - val_loss: 6.3339 - val_accuracy: 0.1500\n",
            "Epoch 8/10\n",
            "62/62 [==============================] - 30s 458ms/step - loss: 5.8442 - accuracy: 0.1472 - val_loss: 5.9909 - val_accuracy: 0.1417\n",
            "Epoch 9/10\n",
            "62/62 [==============================] - 30s 451ms/step - loss: 5.5803 - accuracy: 0.1412 - val_loss: 5.9482 - val_accuracy: 0.1375\n",
            "Epoch 10/10\n",
            "62/62 [==============================] - 29s 445ms/step - loss: 5.2815 - accuracy: 0.1519 - val_loss: 5.8178 - val_accuracy: 0.1437\n"
          ],
          "name": "stdout"
        },
        {
          "output_type": "stream",
          "text": [
            "\u001b[34m\u001b[1mwandb\u001b[0m: Agent Starting Run: czyljfbk with config:\n",
            "\u001b[34m\u001b[1mwandb\u001b[0m: \tbase_model_name: InceptionV3\n",
            "\u001b[34m\u001b[1mwandb\u001b[0m: \tdata_aug: False\n",
            "\u001b[34m\u001b[1mwandb\u001b[0m: \ttune: True\n"
          ],
          "name": "stderr"
        },
        {
          "output_type": "display_data",
          "data": {
            "text/html": [
              "\n",
              "                Tracking run with wandb version 0.10.26<br/>\n",
              "                Syncing run <strong style=\"color:#cdcd00\">eager-sweep-2</strong> to <a href=\"https://wandb.ai\" target=\"_blank\">Weights & Biases</a> <a href=\"https://docs.wandb.com/integrations/jupyter.html\" target=\"_blank\">(Documentation)</a>.<br/>\n",
              "                Project page: <a href=\"https://wandb.ai/cs6910-team/DL-Assignment2-PartB\" target=\"_blank\">https://wandb.ai/cs6910-team/DL-Assignment2-PartB</a><br/>\n",
              "                Sweep page: <a href=\"https://wandb.ai/cs6910-team/DL-Assignment2-PartB/sweeps/wdu7jyge\" target=\"_blank\">https://wandb.ai/cs6910-team/DL-Assignment2-PartB/sweeps/wdu7jyge</a><br/>\n",
              "Run page: <a href=\"https://wandb.ai/cs6910-team/DL-Assignment2-PartB/runs/czyljfbk\" target=\"_blank\">https://wandb.ai/cs6910-team/DL-Assignment2-PartB/runs/czyljfbk</a><br/>\n",
              "                Run data is saved locally in <code>/content/wandb/run-20210414_071440-czyljfbk</code><br/><br/>\n",
              "            "
            ],
            "text/plain": [
              "<IPython.core.display.HTML object>"
            ]
          },
          "metadata": {
            "tags": []
          }
        },
        {
          "output_type": "display_data",
          "data": {
            "text/html": [
              "Finishing last run (ID:czyljfbk) before initializing another..."
            ],
            "text/plain": [
              "<IPython.core.display.HTML object>"
            ]
          },
          "metadata": {
            "tags": []
          }
        },
        {
          "output_type": "display_data",
          "data": {
            "text/html": [
              "<br/>Waiting for W&B process to finish, PID 3663<br/>Program ended successfully."
            ],
            "text/plain": [
              "<IPython.core.display.HTML object>"
            ]
          },
          "metadata": {
            "tags": []
          }
        },
        {
          "output_type": "display_data",
          "data": {
            "application/vnd.jupyter.widget-view+json": {
              "model_id": "feb3034dc5be441f9bf48dfe145f9423",
              "version_minor": 0,
              "version_major": 2
            },
            "text/plain": [
              "VBox(children=(Label(value=' 0.04MB of 0.04MB uploaded (0.00MB deduped)\\r'), FloatProgress(value=1.0, max=1.0)…"
            ]
          },
          "metadata": {
            "tags": []
          }
        },
        {
          "output_type": "display_data",
          "data": {
            "text/html": [
              "Find user logs for this run at: <code>/content/wandb/run-20210414_071440-czyljfbk/logs/debug.log</code>"
            ],
            "text/plain": [
              "<IPython.core.display.HTML object>"
            ]
          },
          "metadata": {
            "tags": []
          }
        },
        {
          "output_type": "display_data",
          "data": {
            "text/html": [
              "Find internal logs for this run at: <code>/content/wandb/run-20210414_071440-czyljfbk/logs/debug-internal.log</code>"
            ],
            "text/plain": [
              "<IPython.core.display.HTML object>"
            ]
          },
          "metadata": {
            "tags": []
          }
        },
        {
          "output_type": "display_data",
          "data": {
            "text/html": [
              "Synced 4 W&B file(s), 0 media file(s), 2 artifact file(s) and 1 other file(s)"
            ],
            "text/plain": [
              "<IPython.core.display.HTML object>"
            ]
          },
          "metadata": {
            "tags": []
          }
        },
        {
          "output_type": "display_data",
          "data": {
            "text/html": [
              "\n",
              "                    <br/>Synced <strong style=\"color:#cdcd00\">eager-sweep-2</strong>: <a href=\"https://wandb.ai/cs6910-team/DL-Assignment2-PartB/runs/czyljfbk\" target=\"_blank\">https://wandb.ai/cs6910-team/DL-Assignment2-PartB/runs/czyljfbk</a><br/>\n",
              "                "
            ],
            "text/plain": [
              "<IPython.core.display.HTML object>"
            ]
          },
          "metadata": {
            "tags": []
          }
        },
        {
          "output_type": "display_data",
          "data": {
            "text/html": [
              "...Successfully finished last run (ID:czyljfbk). Initializing new run:<br/><br/>"
            ],
            "text/plain": [
              "<IPython.core.display.HTML object>"
            ]
          },
          "metadata": {
            "tags": []
          }
        },
        {
          "output_type": "display_data",
          "data": {
            "text/html": [
              "\n",
              "                Tracking run with wandb version 0.10.26<br/>\n",
              "                Syncing run <strong style=\"color:#cdcd00\">eager-sweep-2</strong> to <a href=\"https://wandb.ai\" target=\"_blank\">Weights & Biases</a> <a href=\"https://docs.wandb.com/integrations/jupyter.html\" target=\"_blank\">(Documentation)</a>.<br/>\n",
              "                Project page: <a href=\"https://wandb.ai/cs6910-team/DL-Assignment2-PartB\" target=\"_blank\">https://wandb.ai/cs6910-team/DL-Assignment2-PartB</a><br/>\n",
              "                Sweep page: <a href=\"https://wandb.ai/cs6910-team/DL-Assignment2-PartB/sweeps/wdu7jyge\" target=\"_blank\">https://wandb.ai/cs6910-team/DL-Assignment2-PartB/sweeps/wdu7jyge</a><br/>\n",
              "Run page: <a href=\"https://wandb.ai/cs6910-team/DL-Assignment2-PartB/runs/czyljfbk\" target=\"_blank\">https://wandb.ai/cs6910-team/DL-Assignment2-PartB/runs/czyljfbk</a><br/>\n",
              "                Run data is saved locally in <code>/content/wandb/run-20210414_071443-czyljfbk</code><br/><br/>\n",
              "            "
            ],
            "text/plain": [
              "<IPython.core.display.HTML object>"
            ]
          },
          "metadata": {
            "tags": []
          }
        },
        {
          "output_type": "stream",
          "text": [
            "Epoch 1/10\n",
            "62/62 [==============================] - 35s 468ms/step - loss: 2.3389 - accuracy: 0.1335 - val_loss: 2.3073 - val_accuracy: 0.1583\n"
          ],
          "name": "stdout"
        },
        {
          "output_type": "stream",
          "text": [
            "\u001b[34m\u001b[1mwandb\u001b[0m: \u001b[32m\u001b[41mERROR\u001b[0m Can't save model, h5py returned error: Saving the model to HDF5 format requires the model to be a Functional model or a Sequential model. It does not work for subclassed models, because such models are defined via the body of a Python method, which isn't safely serializable. Consider saving to the Tensorflow SavedModel format (by setting save_format=\"tf\") or using `save_weights`.\n"
          ],
          "name": "stderr"
        },
        {
          "output_type": "stream",
          "text": [
            "Epoch 2/10\n",
            "62/62 [==============================] - 30s 451ms/step - loss: 2.1151 - accuracy: 0.2353 - val_loss: 2.2168 - val_accuracy: 0.1896\n",
            "Epoch 3/10\n",
            "62/62 [==============================] - 30s 460ms/step - loss: 2.0217 - accuracy: 0.2893 - val_loss: 2.1619 - val_accuracy: 0.2021\n",
            "Epoch 4/10\n",
            "62/62 [==============================] - 31s 463ms/step - loss: 1.9510 - accuracy: 0.3134 - val_loss: 2.1501 - val_accuracy: 0.2208\n",
            "Epoch 5/10\n",
            "62/62 [==============================] - 31s 465ms/step - loss: 1.8736 - accuracy: 0.3909 - val_loss: 2.1781 - val_accuracy: 0.2167\n",
            "Epoch 6/10\n",
            "62/62 [==============================] - 31s 462ms/step - loss: 1.7961 - accuracy: 0.4177 - val_loss: 2.1696 - val_accuracy: 0.2021\n",
            "Epoch 7/10\n",
            "62/62 [==============================] - 31s 462ms/step - loss: 1.7380 - accuracy: 0.4553 - val_loss: 2.2209 - val_accuracy: 0.1979\n",
            "Epoch 8/10\n",
            "62/62 [==============================] - 31s 463ms/step - loss: 1.6871 - accuracy: 0.4831 - val_loss: 2.2183 - val_accuracy: 0.1979\n",
            "Epoch 9/10\n",
            "62/62 [==============================] - 30s 459ms/step - loss: 1.6242 - accuracy: 0.5190 - val_loss: 2.1786 - val_accuracy: 0.2229\n",
            "Epoch 10/10\n",
            "62/62 [==============================] - 31s 462ms/step - loss: 1.5775 - accuracy: 0.5376 - val_loss: 2.2181 - val_accuracy: 0.1937\n"
          ],
          "name": "stdout"
        },
        {
          "output_type": "stream",
          "text": [
            "\u001b[34m\u001b[1mwandb\u001b[0m: Agent Starting Run: 5bhx25l3 with config:\n",
            "\u001b[34m\u001b[1mwandb\u001b[0m: \tbase_model_name: InceptionV3\n",
            "\u001b[34m\u001b[1mwandb\u001b[0m: \tdata_aug: True\n",
            "\u001b[34m\u001b[1mwandb\u001b[0m: \ttune: False\n"
          ],
          "name": "stderr"
        },
        {
          "output_type": "display_data",
          "data": {
            "text/html": [
              "\n",
              "                Tracking run with wandb version 0.10.26<br/>\n",
              "                Syncing run <strong style=\"color:#cdcd00\">cosmic-sweep-3</strong> to <a href=\"https://wandb.ai\" target=\"_blank\">Weights & Biases</a> <a href=\"https://docs.wandb.com/integrations/jupyter.html\" target=\"_blank\">(Documentation)</a>.<br/>\n",
              "                Project page: <a href=\"https://wandb.ai/cs6910-team/DL-Assignment2-PartB\" target=\"_blank\">https://wandb.ai/cs6910-team/DL-Assignment2-PartB</a><br/>\n",
              "                Sweep page: <a href=\"https://wandb.ai/cs6910-team/DL-Assignment2-PartB/sweeps/wdu7jyge\" target=\"_blank\">https://wandb.ai/cs6910-team/DL-Assignment2-PartB/sweeps/wdu7jyge</a><br/>\n",
              "Run page: <a href=\"https://wandb.ai/cs6910-team/DL-Assignment2-PartB/runs/5bhx25l3\" target=\"_blank\">https://wandb.ai/cs6910-team/DL-Assignment2-PartB/runs/5bhx25l3</a><br/>\n",
              "                Run data is saved locally in <code>/content/wandb/run-20210414_072006-5bhx25l3</code><br/><br/>\n",
              "            "
            ],
            "text/plain": [
              "<IPython.core.display.HTML object>"
            ]
          },
          "metadata": {
            "tags": []
          }
        },
        {
          "output_type": "display_data",
          "data": {
            "text/html": [
              "Finishing last run (ID:5bhx25l3) before initializing another..."
            ],
            "text/plain": [
              "<IPython.core.display.HTML object>"
            ]
          },
          "metadata": {
            "tags": []
          }
        },
        {
          "output_type": "display_data",
          "data": {
            "text/html": [
              "<br/>Waiting for W&B process to finish, PID 3807<br/>Program ended successfully."
            ],
            "text/plain": [
              "<IPython.core.display.HTML object>"
            ]
          },
          "metadata": {
            "tags": []
          }
        },
        {
          "output_type": "display_data",
          "data": {
            "application/vnd.jupyter.widget-view+json": {
              "model_id": "489af449916c44e3896faabeb2d47237",
              "version_minor": 0,
              "version_major": 2
            },
            "text/plain": [
              "VBox(children=(Label(value=' 0.05MB of 0.05MB uploaded (0.00MB deduped)\\r'), FloatProgress(value=1.0, max=1.0)…"
            ]
          },
          "metadata": {
            "tags": []
          }
        },
        {
          "output_type": "display_data",
          "data": {
            "text/html": [
              "Find user logs for this run at: <code>/content/wandb/run-20210414_072006-5bhx25l3/logs/debug.log</code>"
            ],
            "text/plain": [
              "<IPython.core.display.HTML object>"
            ]
          },
          "metadata": {
            "tags": []
          }
        },
        {
          "output_type": "display_data",
          "data": {
            "text/html": [
              "Find internal logs for this run at: <code>/content/wandb/run-20210414_072006-5bhx25l3/logs/debug-internal.log</code>"
            ],
            "text/plain": [
              "<IPython.core.display.HTML object>"
            ]
          },
          "metadata": {
            "tags": []
          }
        },
        {
          "output_type": "display_data",
          "data": {
            "text/html": [
              "Synced 4 W&B file(s), 0 media file(s), 2 artifact file(s) and 1 other file(s)"
            ],
            "text/plain": [
              "<IPython.core.display.HTML object>"
            ]
          },
          "metadata": {
            "tags": []
          }
        },
        {
          "output_type": "display_data",
          "data": {
            "text/html": [
              "\n",
              "                    <br/>Synced <strong style=\"color:#cdcd00\">cosmic-sweep-3</strong>: <a href=\"https://wandb.ai/cs6910-team/DL-Assignment2-PartB/runs/5bhx25l3\" target=\"_blank\">https://wandb.ai/cs6910-team/DL-Assignment2-PartB/runs/5bhx25l3</a><br/>\n",
              "                "
            ],
            "text/plain": [
              "<IPython.core.display.HTML object>"
            ]
          },
          "metadata": {
            "tags": []
          }
        },
        {
          "output_type": "display_data",
          "data": {
            "text/html": [
              "...Successfully finished last run (ID:5bhx25l3). Initializing new run:<br/><br/>"
            ],
            "text/plain": [
              "<IPython.core.display.HTML object>"
            ]
          },
          "metadata": {
            "tags": []
          }
        },
        {
          "output_type": "display_data",
          "data": {
            "text/html": [
              "\n",
              "                Tracking run with wandb version 0.10.26<br/>\n",
              "                Syncing run <strong style=\"color:#cdcd00\">cosmic-sweep-3</strong> to <a href=\"https://wandb.ai\" target=\"_blank\">Weights & Biases</a> <a href=\"https://docs.wandb.com/integrations/jupyter.html\" target=\"_blank\">(Documentation)</a>.<br/>\n",
              "                Project page: <a href=\"https://wandb.ai/cs6910-team/DL-Assignment2-PartB\" target=\"_blank\">https://wandb.ai/cs6910-team/DL-Assignment2-PartB</a><br/>\n",
              "                Sweep page: <a href=\"https://wandb.ai/cs6910-team/DL-Assignment2-PartB/sweeps/wdu7jyge\" target=\"_blank\">https://wandb.ai/cs6910-team/DL-Assignment2-PartB/sweeps/wdu7jyge</a><br/>\n",
              "Run page: <a href=\"https://wandb.ai/cs6910-team/DL-Assignment2-PartB/runs/5bhx25l3\" target=\"_blank\">https://wandb.ai/cs6910-team/DL-Assignment2-PartB/runs/5bhx25l3</a><br/>\n",
              "                Run data is saved locally in <code>/content/wandb/run-20210414_072009-5bhx25l3</code><br/><br/>\n",
              "            "
            ],
            "text/plain": [
              "<IPython.core.display.HTML object>"
            ]
          },
          "metadata": {
            "tags": []
          }
        },
        {
          "output_type": "stream",
          "text": [
            "Epoch 1/10\n",
            "62/62 [==============================] - 87s 1s/step - loss: 17.2592 - accuracy: 0.0925 - val_loss: 10.2012 - val_accuracy: 0.1033\n"
          ],
          "name": "stdout"
        },
        {
          "output_type": "stream",
          "text": [
            "\u001b[34m\u001b[1mwandb\u001b[0m: \u001b[32m\u001b[41mERROR\u001b[0m Can't save model, h5py returned error: Saving the model to HDF5 format requires the model to be a Functional model or a Sequential model. It does not work for subclassed models, because such models are defined via the body of a Python method, which isn't safely serializable. Consider saving to the Tensorflow SavedModel format (by setting save_format=\"tf\") or using `save_weights`.\n"
          ],
          "name": "stderr"
        },
        {
          "output_type": "stream",
          "text": [
            "Epoch 2/10\n",
            "62/62 [==============================] - 81s 1s/step - loss: 8.4586 - accuracy: 0.1212 - val_loss: 8.5333 - val_accuracy: 0.1195\n",
            "Epoch 3/10\n",
            "62/62 [==============================] - 81s 1s/step - loss: 7.3472 - accuracy: 0.1305 - val_loss: 8.0303 - val_accuracy: 0.1240\n",
            "Epoch 4/10\n",
            "62/62 [==============================] - 81s 1s/step - loss: 6.5311 - accuracy: 0.1459 - val_loss: 7.4443 - val_accuracy: 0.1245\n",
            "Epoch 5/10\n",
            "62/62 [==============================] - 81s 1s/step - loss: 6.4454 - accuracy: 0.1170 - val_loss: 7.0616 - val_accuracy: 0.1285\n",
            "Epoch 6/10\n",
            "62/62 [==============================] - 81s 1s/step - loss: 6.0989 - accuracy: 0.1270 - val_loss: 6.5741 - val_accuracy: 0.1316\n",
            "Epoch 7/10\n",
            "62/62 [==============================] - 81s 1s/step - loss: 5.9218 - accuracy: 0.1323 - val_loss: 6.2418 - val_accuracy: 0.1406\n",
            "Epoch 8/10\n",
            "62/62 [==============================] - 81s 1s/step - loss: 5.7393 - accuracy: 0.1327 - val_loss: 5.9807 - val_accuracy: 0.1381\n",
            "Epoch 9/10\n",
            "62/62 [==============================] - 81s 1s/step - loss: 5.5118 - accuracy: 0.1123 - val_loss: 6.1322 - val_accuracy: 0.1316\n",
            "Epoch 10/10\n",
            "62/62 [==============================] - 81s 1s/step - loss: 5.4201 - accuracy: 0.1085 - val_loss: 5.6462 - val_accuracy: 0.1442\n"
          ],
          "name": "stdout"
        },
        {
          "output_type": "stream",
          "text": [
            "\u001b[34m\u001b[1mwandb\u001b[0m: Agent Starting Run: uxp11dm6 with config:\n",
            "\u001b[34m\u001b[1mwandb\u001b[0m: \tbase_model_name: InceptionV3\n",
            "\u001b[34m\u001b[1mwandb\u001b[0m: \tdata_aug: True\n",
            "\u001b[34m\u001b[1mwandb\u001b[0m: \ttune: True\n"
          ],
          "name": "stderr"
        },
        {
          "output_type": "display_data",
          "data": {
            "text/html": [
              "\n",
              "                Tracking run with wandb version 0.10.26<br/>\n",
              "                Syncing run <strong style=\"color:#cdcd00\">dulcet-sweep-4</strong> to <a href=\"https://wandb.ai\" target=\"_blank\">Weights & Biases</a> <a href=\"https://docs.wandb.com/integrations/jupyter.html\" target=\"_blank\">(Documentation)</a>.<br/>\n",
              "                Project page: <a href=\"https://wandb.ai/cs6910-team/DL-Assignment2-PartB\" target=\"_blank\">https://wandb.ai/cs6910-team/DL-Assignment2-PartB</a><br/>\n",
              "                Sweep page: <a href=\"https://wandb.ai/cs6910-team/DL-Assignment2-PartB/sweeps/wdu7jyge\" target=\"_blank\">https://wandb.ai/cs6910-team/DL-Assignment2-PartB/sweeps/wdu7jyge</a><br/>\n",
              "Run page: <a href=\"https://wandb.ai/cs6910-team/DL-Assignment2-PartB/runs/uxp11dm6\" target=\"_blank\">https://wandb.ai/cs6910-team/DL-Assignment2-PartB/runs/uxp11dm6</a><br/>\n",
              "                Run data is saved locally in <code>/content/wandb/run-20210414_073357-uxp11dm6</code><br/><br/>\n",
              "            "
            ],
            "text/plain": [
              "<IPython.core.display.HTML object>"
            ]
          },
          "metadata": {
            "tags": []
          }
        },
        {
          "output_type": "display_data",
          "data": {
            "text/html": [
              "Finishing last run (ID:uxp11dm6) before initializing another..."
            ],
            "text/plain": [
              "<IPython.core.display.HTML object>"
            ]
          },
          "metadata": {
            "tags": []
          }
        },
        {
          "output_type": "display_data",
          "data": {
            "text/html": [
              "<br/>Waiting for W&B process to finish, PID 4357<br/>Program ended successfully."
            ],
            "text/plain": [
              "<IPython.core.display.HTML object>"
            ]
          },
          "metadata": {
            "tags": []
          }
        },
        {
          "output_type": "display_data",
          "data": {
            "application/vnd.jupyter.widget-view+json": {
              "model_id": "99698415c5254e69ba9c16c5688c12af",
              "version_minor": 0,
              "version_major": 2
            },
            "text/plain": [
              "VBox(children=(Label(value=' 0.05MB of 0.05MB uploaded (0.00MB deduped)\\r'), FloatProgress(value=1.0, max=1.0)…"
            ]
          },
          "metadata": {
            "tags": []
          }
        },
        {
          "output_type": "display_data",
          "data": {
            "text/html": [
              "Find user logs for this run at: <code>/content/wandb/run-20210414_073357-uxp11dm6/logs/debug.log</code>"
            ],
            "text/plain": [
              "<IPython.core.display.HTML object>"
            ]
          },
          "metadata": {
            "tags": []
          }
        },
        {
          "output_type": "display_data",
          "data": {
            "text/html": [
              "Find internal logs for this run at: <code>/content/wandb/run-20210414_073357-uxp11dm6/logs/debug-internal.log</code>"
            ],
            "text/plain": [
              "<IPython.core.display.HTML object>"
            ]
          },
          "metadata": {
            "tags": []
          }
        },
        {
          "output_type": "display_data",
          "data": {
            "text/html": [
              "Synced 4 W&B file(s), 0 media file(s), 2 artifact file(s) and 1 other file(s)"
            ],
            "text/plain": [
              "<IPython.core.display.HTML object>"
            ]
          },
          "metadata": {
            "tags": []
          }
        },
        {
          "output_type": "display_data",
          "data": {
            "text/html": [
              "\n",
              "                    <br/>Synced <strong style=\"color:#cdcd00\">dulcet-sweep-4</strong>: <a href=\"https://wandb.ai/cs6910-team/DL-Assignment2-PartB/runs/uxp11dm6\" target=\"_blank\">https://wandb.ai/cs6910-team/DL-Assignment2-PartB/runs/uxp11dm6</a><br/>\n",
              "                "
            ],
            "text/plain": [
              "<IPython.core.display.HTML object>"
            ]
          },
          "metadata": {
            "tags": []
          }
        },
        {
          "output_type": "display_data",
          "data": {
            "text/html": [
              "...Successfully finished last run (ID:uxp11dm6). Initializing new run:<br/><br/>"
            ],
            "text/plain": [
              "<IPython.core.display.HTML object>"
            ]
          },
          "metadata": {
            "tags": []
          }
        },
        {
          "output_type": "display_data",
          "data": {
            "text/html": [
              "\n",
              "                Tracking run with wandb version 0.10.26<br/>\n",
              "                Syncing run <strong style=\"color:#cdcd00\">dulcet-sweep-4</strong> to <a href=\"https://wandb.ai\" target=\"_blank\">Weights & Biases</a> <a href=\"https://docs.wandb.com/integrations/jupyter.html\" target=\"_blank\">(Documentation)</a>.<br/>\n",
              "                Project page: <a href=\"https://wandb.ai/cs6910-team/DL-Assignment2-PartB\" target=\"_blank\">https://wandb.ai/cs6910-team/DL-Assignment2-PartB</a><br/>\n",
              "                Sweep page: <a href=\"https://wandb.ai/cs6910-team/DL-Assignment2-PartB/sweeps/wdu7jyge\" target=\"_blank\">https://wandb.ai/cs6910-team/DL-Assignment2-PartB/sweeps/wdu7jyge</a><br/>\n",
              "Run page: <a href=\"https://wandb.ai/cs6910-team/DL-Assignment2-PartB/runs/uxp11dm6\" target=\"_blank\">https://wandb.ai/cs6910-team/DL-Assignment2-PartB/runs/uxp11dm6</a><br/>\n",
              "                Run data is saved locally in <code>/content/wandb/run-20210414_073401-uxp11dm6</code><br/><br/>\n",
              "            "
            ],
            "text/plain": [
              "<IPython.core.display.HTML object>"
            ]
          },
          "metadata": {
            "tags": []
          }
        },
        {
          "output_type": "stream",
          "text": [
            "Epoch 1/10\n",
            "62/62 [==============================] - 87s 1s/step - loss: 2.3624 - accuracy: 0.1239 - val_loss: 2.3492 - val_accuracy: 0.1457\n"
          ],
          "name": "stdout"
        },
        {
          "output_type": "stream",
          "text": [
            "\u001b[34m\u001b[1mwandb\u001b[0m: \u001b[32m\u001b[41mERROR\u001b[0m Can't save model, h5py returned error: Saving the model to HDF5 format requires the model to be a Functional model or a Sequential model. It does not work for subclassed models, because such models are defined via the body of a Python method, which isn't safely serializable. Consider saving to the Tensorflow SavedModel format (by setting save_format=\"tf\") or using `save_weights`.\n"
          ],
          "name": "stderr"
        },
        {
          "output_type": "stream",
          "text": [
            "Epoch 2/10\n",
            "62/62 [==============================] - 81s 1s/step - loss: 2.2480 - accuracy: 0.1714 - val_loss: 2.2795 - val_accuracy: 0.1840\n",
            "Epoch 3/10\n",
            "62/62 [==============================] - 81s 1s/step - loss: 2.2298 - accuracy: 0.1764 - val_loss: 2.2549 - val_accuracy: 0.1789\n",
            "Epoch 4/10\n",
            "62/62 [==============================] - 81s 1s/step - loss: 2.2096 - accuracy: 0.1922 - val_loss: 2.2192 - val_accuracy: 0.1930\n",
            "Epoch 5/10\n",
            "62/62 [==============================] - 81s 1s/step - loss: 2.2021 - accuracy: 0.1994 - val_loss: 2.2106 - val_accuracy: 0.2056\n",
            "Epoch 6/10\n",
            "62/62 [==============================] - 81s 1s/step - loss: 2.1891 - accuracy: 0.2098 - val_loss: 2.2009 - val_accuracy: 0.2243\n",
            "Epoch 7/10\n",
            "62/62 [==============================] - 81s 1s/step - loss: 2.1956 - accuracy: 0.2099 - val_loss: 2.1665 - val_accuracy: 0.2233\n",
            "Epoch 8/10\n",
            "62/62 [==============================] - 80s 1s/step - loss: 2.1761 - accuracy: 0.1942 - val_loss: 2.2119 - val_accuracy: 0.2051\n",
            "Epoch 9/10\n",
            "62/62 [==============================] - 80s 1s/step - loss: 2.1730 - accuracy: 0.2119 - val_loss: 2.1681 - val_accuracy: 0.2112\n",
            "Epoch 10/10\n",
            "62/62 [==============================] - 81s 1s/step - loss: 2.1903 - accuracy: 0.1923 - val_loss: 2.2032 - val_accuracy: 0.2157\n"
          ],
          "name": "stdout"
        },
        {
          "output_type": "stream",
          "text": [
            "\u001b[34m\u001b[1mwandb\u001b[0m: Agent Starting Run: 5kogdqnp with config:\n",
            "\u001b[34m\u001b[1mwandb\u001b[0m: \tbase_model_name: InceptionResNetV2\n",
            "\u001b[34m\u001b[1mwandb\u001b[0m: \tdata_aug: False\n",
            "\u001b[34m\u001b[1mwandb\u001b[0m: \ttune: False\n"
          ],
          "name": "stderr"
        },
        {
          "output_type": "display_data",
          "data": {
            "text/html": [
              "\n",
              "                Tracking run with wandb version 0.10.26<br/>\n",
              "                Syncing run <strong style=\"color:#cdcd00\">good-sweep-5</strong> to <a href=\"https://wandb.ai\" target=\"_blank\">Weights & Biases</a> <a href=\"https://docs.wandb.com/integrations/jupyter.html\" target=\"_blank\">(Documentation)</a>.<br/>\n",
              "                Project page: <a href=\"https://wandb.ai/cs6910-team/DL-Assignment2-PartB\" target=\"_blank\">https://wandb.ai/cs6910-team/DL-Assignment2-PartB</a><br/>\n",
              "                Sweep page: <a href=\"https://wandb.ai/cs6910-team/DL-Assignment2-PartB/sweeps/wdu7jyge\" target=\"_blank\">https://wandb.ai/cs6910-team/DL-Assignment2-PartB/sweeps/wdu7jyge</a><br/>\n",
              "Run page: <a href=\"https://wandb.ai/cs6910-team/DL-Assignment2-PartB/runs/5kogdqnp\" target=\"_blank\">https://wandb.ai/cs6910-team/DL-Assignment2-PartB/runs/5kogdqnp</a><br/>\n",
              "                Run data is saved locally in <code>/content/wandb/run-20210414_074753-5kogdqnp</code><br/><br/>\n",
              "            "
            ],
            "text/plain": [
              "<IPython.core.display.HTML object>"
            ]
          },
          "metadata": {
            "tags": []
          }
        },
        {
          "output_type": "display_data",
          "data": {
            "text/html": [
              "Finishing last run (ID:5kogdqnp) before initializing another..."
            ],
            "text/plain": [
              "<IPython.core.display.HTML object>"
            ]
          },
          "metadata": {
            "tags": []
          }
        },
        {
          "output_type": "display_data",
          "data": {
            "text/html": [
              "<br/>Waiting for W&B process to finish, PID 4903<br/>Program ended successfully."
            ],
            "text/plain": [
              "<IPython.core.display.HTML object>"
            ]
          },
          "metadata": {
            "tags": []
          }
        },
        {
          "output_type": "display_data",
          "data": {
            "application/vnd.jupyter.widget-view+json": {
              "model_id": "8dbc323b6029476093c588c7ab3b8cb3",
              "version_minor": 0,
              "version_major": 2
            },
            "text/plain": [
              "VBox(children=(Label(value=' 0.06MB of 0.06MB uploaded (0.00MB deduped)\\r'), FloatProgress(value=1.0, max=1.0)…"
            ]
          },
          "metadata": {
            "tags": []
          }
        },
        {
          "output_type": "display_data",
          "data": {
            "text/html": [
              "Find user logs for this run at: <code>/content/wandb/run-20210414_074753-5kogdqnp/logs/debug.log</code>"
            ],
            "text/plain": [
              "<IPython.core.display.HTML object>"
            ]
          },
          "metadata": {
            "tags": []
          }
        },
        {
          "output_type": "display_data",
          "data": {
            "text/html": [
              "Find internal logs for this run at: <code>/content/wandb/run-20210414_074753-5kogdqnp/logs/debug-internal.log</code>"
            ],
            "text/plain": [
              "<IPython.core.display.HTML object>"
            ]
          },
          "metadata": {
            "tags": []
          }
        },
        {
          "output_type": "display_data",
          "data": {
            "text/html": [
              "Synced 4 W&B file(s), 0 media file(s), 2 artifact file(s) and 1 other file(s)"
            ],
            "text/plain": [
              "<IPython.core.display.HTML object>"
            ]
          },
          "metadata": {
            "tags": []
          }
        },
        {
          "output_type": "display_data",
          "data": {
            "text/html": [
              "\n",
              "                    <br/>Synced <strong style=\"color:#cdcd00\">good-sweep-5</strong>: <a href=\"https://wandb.ai/cs6910-team/DL-Assignment2-PartB/runs/5kogdqnp\" target=\"_blank\">https://wandb.ai/cs6910-team/DL-Assignment2-PartB/runs/5kogdqnp</a><br/>\n",
              "                "
            ],
            "text/plain": [
              "<IPython.core.display.HTML object>"
            ]
          },
          "metadata": {
            "tags": []
          }
        },
        {
          "output_type": "display_data",
          "data": {
            "text/html": [
              "...Successfully finished last run (ID:5kogdqnp). Initializing new run:<br/><br/>"
            ],
            "text/plain": [
              "<IPython.core.display.HTML object>"
            ]
          },
          "metadata": {
            "tags": []
          }
        },
        {
          "output_type": "display_data",
          "data": {
            "text/html": [
              "\n",
              "                Tracking run with wandb version 0.10.26<br/>\n",
              "                Syncing run <strong style=\"color:#cdcd00\">good-sweep-5</strong> to <a href=\"https://wandb.ai\" target=\"_blank\">Weights & Biases</a> <a href=\"https://docs.wandb.com/integrations/jupyter.html\" target=\"_blank\">(Documentation)</a>.<br/>\n",
              "                Project page: <a href=\"https://wandb.ai/cs6910-team/DL-Assignment2-PartB\" target=\"_blank\">https://wandb.ai/cs6910-team/DL-Assignment2-PartB</a><br/>\n",
              "                Sweep page: <a href=\"https://wandb.ai/cs6910-team/DL-Assignment2-PartB/sweeps/wdu7jyge\" target=\"_blank\">https://wandb.ai/cs6910-team/DL-Assignment2-PartB/sweeps/wdu7jyge</a><br/>\n",
              "Run page: <a href=\"https://wandb.ai/cs6910-team/DL-Assignment2-PartB/runs/5kogdqnp\" target=\"_blank\">https://wandb.ai/cs6910-team/DL-Assignment2-PartB/runs/5kogdqnp</a><br/>\n",
              "                Run data is saved locally in <code>/content/wandb/run-20210414_074755-5kogdqnp</code><br/><br/>\n",
              "            "
            ],
            "text/plain": [
              "<IPython.core.display.HTML object>"
            ]
          },
          "metadata": {
            "tags": []
          }
        },
        {
          "output_type": "stream",
          "text": [
            "Downloading data from https://storage.googleapis.com/tensorflow/keras-applications/inception_resnet_v2/inception_resnet_v2_weights_tf_dim_ordering_tf_kernels_notop.h5\n",
            "219062272/219055592 [==============================] - 2s 0us/step\n",
            "Epoch 1/10\n",
            "62/62 [==============================] - 57s 694ms/step - loss: 165.3622 - accuracy: 0.0932 - val_loss: 20.2593 - val_accuracy: 0.1042\n"
          ],
          "name": "stdout"
        },
        {
          "output_type": "stream",
          "text": [
            "\u001b[34m\u001b[1mwandb\u001b[0m: \u001b[32m\u001b[41mERROR\u001b[0m Can't save model, h5py returned error: Saving the model to HDF5 format requires the model to be a Functional model or a Sequential model. It does not work for subclassed models, because such models are defined via the body of a Python method, which isn't safely serializable. Consider saving to the Tensorflow SavedModel format (by setting save_format=\"tf\") or using `save_weights`.\n"
          ],
          "name": "stderr"
        },
        {
          "output_type": "stream",
          "text": [
            "Epoch 2/10\n",
            "62/62 [==============================] - 41s 630ms/step - loss: 19.7600 - accuracy: 0.1158 - val_loss: 16.0051 - val_accuracy: 0.1292\n",
            "Epoch 3/10\n",
            "62/62 [==============================] - 41s 630ms/step - loss: 16.8366 - accuracy: 0.1262 - val_loss: 13.7375 - val_accuracy: 0.1396\n",
            "Epoch 4/10\n",
            "62/62 [==============================] - 41s 632ms/step - loss: 13.7154 - accuracy: 0.1021 - val_loss: 12.3867 - val_accuracy: 0.1146\n",
            "Epoch 5/10\n",
            "62/62 [==============================] - 41s 628ms/step - loss: 11.4047 - accuracy: 0.1252 - val_loss: 9.7766 - val_accuracy: 0.1000\n",
            "Epoch 6/10\n",
            "62/62 [==============================] - 41s 630ms/step - loss: 10.0978 - accuracy: 0.1172 - val_loss: 7.8518 - val_accuracy: 0.0917\n",
            "Epoch 7/10\n",
            "62/62 [==============================] - 41s 629ms/step - loss: 8.8110 - accuracy: 0.1084 - val_loss: 10.3694 - val_accuracy: 0.0958\n",
            "Epoch 8/10\n",
            "62/62 [==============================] - 41s 632ms/step - loss: 9.5636 - accuracy: 0.1149 - val_loss: 7.8531 - val_accuracy: 0.1312\n",
            "Epoch 9/10\n",
            "62/62 [==============================] - 41s 628ms/step - loss: 8.4310 - accuracy: 0.1155 - val_loss: 6.9125 - val_accuracy: 0.0896\n",
            "Epoch 10/10\n",
            "62/62 [==============================] - 41s 629ms/step - loss: 7.3848 - accuracy: 0.1211 - val_loss: 7.0031 - val_accuracy: 0.1375\n"
          ],
          "name": "stdout"
        },
        {
          "output_type": "stream",
          "text": [
            "\u001b[34m\u001b[1mwandb\u001b[0m: Agent Starting Run: g5y75au8 with config:\n",
            "\u001b[34m\u001b[1mwandb\u001b[0m: \tbase_model_name: InceptionResNetV2\n",
            "\u001b[34m\u001b[1mwandb\u001b[0m: \tdata_aug: False\n",
            "\u001b[34m\u001b[1mwandb\u001b[0m: \ttune: True\n"
          ],
          "name": "stderr"
        },
        {
          "output_type": "display_data",
          "data": {
            "text/html": [
              "\n",
              "                Tracking run with wandb version 0.10.26<br/>\n",
              "                Syncing run <strong style=\"color:#cdcd00\">wise-sweep-6</strong> to <a href=\"https://wandb.ai\" target=\"_blank\">Weights & Biases</a> <a href=\"https://docs.wandb.com/integrations/jupyter.html\" target=\"_blank\">(Documentation)</a>.<br/>\n",
              "                Project page: <a href=\"https://wandb.ai/cs6910-team/DL-Assignment2-PartB\" target=\"_blank\">https://wandb.ai/cs6910-team/DL-Assignment2-PartB</a><br/>\n",
              "                Sweep page: <a href=\"https://wandb.ai/cs6910-team/DL-Assignment2-PartB/sweeps/wdu7jyge\" target=\"_blank\">https://wandb.ai/cs6910-team/DL-Assignment2-PartB/sweeps/wdu7jyge</a><br/>\n",
              "Run page: <a href=\"https://wandb.ai/cs6910-team/DL-Assignment2-PartB/runs/g5y75au8\" target=\"_blank\">https://wandb.ai/cs6910-team/DL-Assignment2-PartB/runs/g5y75au8</a><br/>\n",
              "                Run data is saved locally in <code>/content/wandb/run-20210414_075521-g5y75au8</code><br/><br/>\n",
              "            "
            ],
            "text/plain": [
              "<IPython.core.display.HTML object>"
            ]
          },
          "metadata": {
            "tags": []
          }
        },
        {
          "output_type": "display_data",
          "data": {
            "text/html": [
              "Finishing last run (ID:g5y75au8) before initializing another..."
            ],
            "text/plain": [
              "<IPython.core.display.HTML object>"
            ]
          },
          "metadata": {
            "tags": []
          }
        },
        {
          "output_type": "display_data",
          "data": {
            "text/html": [
              "<br/>Waiting for W&B process to finish, PID 5085<br/>Program ended successfully."
            ],
            "text/plain": [
              "<IPython.core.display.HTML object>"
            ]
          },
          "metadata": {
            "tags": []
          }
        },
        {
          "output_type": "display_data",
          "data": {
            "application/vnd.jupyter.widget-view+json": {
              "model_id": "a65c254422764d20afedf642b5236c47",
              "version_minor": 0,
              "version_major": 2
            },
            "text/plain": [
              "VBox(children=(Label(value=' 0.07MB of 0.07MB uploaded (0.00MB deduped)\\r'), FloatProgress(value=1.0, max=1.0)…"
            ]
          },
          "metadata": {
            "tags": []
          }
        },
        {
          "output_type": "display_data",
          "data": {
            "text/html": [
              "Find user logs for this run at: <code>/content/wandb/run-20210414_075521-g5y75au8/logs/debug.log</code>"
            ],
            "text/plain": [
              "<IPython.core.display.HTML object>"
            ]
          },
          "metadata": {
            "tags": []
          }
        },
        {
          "output_type": "display_data",
          "data": {
            "text/html": [
              "Find internal logs for this run at: <code>/content/wandb/run-20210414_075521-g5y75au8/logs/debug-internal.log</code>"
            ],
            "text/plain": [
              "<IPython.core.display.HTML object>"
            ]
          },
          "metadata": {
            "tags": []
          }
        },
        {
          "output_type": "display_data",
          "data": {
            "text/html": [
              "Synced 4 W&B file(s), 0 media file(s), 2 artifact file(s) and 1 other file(s)"
            ],
            "text/plain": [
              "<IPython.core.display.HTML object>"
            ]
          },
          "metadata": {
            "tags": []
          }
        },
        {
          "output_type": "display_data",
          "data": {
            "text/html": [
              "\n",
              "                    <br/>Synced <strong style=\"color:#cdcd00\">wise-sweep-6</strong>: <a href=\"https://wandb.ai/cs6910-team/DL-Assignment2-PartB/runs/g5y75au8\" target=\"_blank\">https://wandb.ai/cs6910-team/DL-Assignment2-PartB/runs/g5y75au8</a><br/>\n",
              "                "
            ],
            "text/plain": [
              "<IPython.core.display.HTML object>"
            ]
          },
          "metadata": {
            "tags": []
          }
        },
        {
          "output_type": "display_data",
          "data": {
            "text/html": [
              "...Successfully finished last run (ID:g5y75au8). Initializing new run:<br/><br/>"
            ],
            "text/plain": [
              "<IPython.core.display.HTML object>"
            ]
          },
          "metadata": {
            "tags": []
          }
        },
        {
          "output_type": "display_data",
          "data": {
            "text/html": [
              "\n",
              "                Tracking run with wandb version 0.10.26<br/>\n",
              "                Syncing run <strong style=\"color:#cdcd00\">wise-sweep-6</strong> to <a href=\"https://wandb.ai\" target=\"_blank\">Weights & Biases</a> <a href=\"https://docs.wandb.com/integrations/jupyter.html\" target=\"_blank\">(Documentation)</a>.<br/>\n",
              "                Project page: <a href=\"https://wandb.ai/cs6910-team/DL-Assignment2-PartB\" target=\"_blank\">https://wandb.ai/cs6910-team/DL-Assignment2-PartB</a><br/>\n",
              "                Sweep page: <a href=\"https://wandb.ai/cs6910-team/DL-Assignment2-PartB/sweeps/wdu7jyge\" target=\"_blank\">https://wandb.ai/cs6910-team/DL-Assignment2-PartB/sweeps/wdu7jyge</a><br/>\n",
              "Run page: <a href=\"https://wandb.ai/cs6910-team/DL-Assignment2-PartB/runs/g5y75au8\" target=\"_blank\">https://wandb.ai/cs6910-team/DL-Assignment2-PartB/runs/g5y75au8</a><br/>\n",
              "                Run data is saved locally in <code>/content/wandb/run-20210414_075523-g5y75au8</code><br/><br/>\n",
              "            "
            ],
            "text/plain": [
              "<IPython.core.display.HTML object>"
            ]
          },
          "metadata": {
            "tags": []
          }
        },
        {
          "output_type": "stream",
          "text": [
            "Epoch 1/10\n",
            "62/62 [==============================] - 57s 703ms/step - loss: 2.3967 - accuracy: 0.1196 - val_loss: 3.7351 - val_accuracy: 0.0938\n"
          ],
          "name": "stdout"
        },
        {
          "output_type": "stream",
          "text": [
            "\u001b[34m\u001b[1mwandb\u001b[0m: \u001b[32m\u001b[41mERROR\u001b[0m Can't save model, h5py returned error: Saving the model to HDF5 format requires the model to be a Functional model or a Sequential model. It does not work for subclassed models, because such models are defined via the body of a Python method, which isn't safely serializable. Consider saving to the Tensorflow SavedModel format (by setting save_format=\"tf\") or using `save_weights`.\n"
          ],
          "name": "stderr"
        },
        {
          "output_type": "stream",
          "text": [
            "Epoch 2/10\n",
            "62/62 [==============================] - 41s 636ms/step - loss: 2.2457 - accuracy: 0.1824 - val_loss: 2.9694 - val_accuracy: 0.1167\n",
            "Epoch 3/10\n",
            "62/62 [==============================] - 42s 641ms/step - loss: 2.2291 - accuracy: 0.1773 - val_loss: 3.1911 - val_accuracy: 0.1167\n",
            "Epoch 4/10\n",
            "62/62 [==============================] - 42s 639ms/step - loss: 2.2224 - accuracy: 0.1971 - val_loss: 2.8002 - val_accuracy: 0.1146\n",
            "Epoch 5/10\n",
            "62/62 [==============================] - 42s 640ms/step - loss: 2.2109 - accuracy: 0.1879 - val_loss: 2.6134 - val_accuracy: 0.1125\n",
            "Epoch 6/10\n",
            "62/62 [==============================] - 41s 636ms/step - loss: 2.2054 - accuracy: 0.1971 - val_loss: 2.6064 - val_accuracy: 0.1354\n",
            "Epoch 7/10\n",
            "62/62 [==============================] - 42s 642ms/step - loss: 2.1918 - accuracy: 0.1922 - val_loss: 3.2058 - val_accuracy: 0.1271\n",
            "Epoch 8/10\n",
            "62/62 [==============================] - 42s 643ms/step - loss: 2.1811 - accuracy: 0.2101 - val_loss: 2.6191 - val_accuracy: 0.1250\n",
            "Epoch 9/10\n",
            "62/62 [==============================] - 42s 641ms/step - loss: 2.1716 - accuracy: 0.2039 - val_loss: 2.7561 - val_accuracy: 0.1333\n",
            "Epoch 10/10\n",
            "62/62 [==============================] - 42s 643ms/step - loss: 2.1683 - accuracy: 0.2140 - val_loss: 2.6295 - val_accuracy: 0.1292\n"
          ],
          "name": "stdout"
        },
        {
          "output_type": "stream",
          "text": [
            "\u001b[34m\u001b[1mwandb\u001b[0m: Agent Starting Run: t21ouxmk with config:\n",
            "\u001b[34m\u001b[1mwandb\u001b[0m: \tbase_model_name: InceptionResNetV2\n",
            "\u001b[34m\u001b[1mwandb\u001b[0m: \tdata_aug: True\n",
            "\u001b[34m\u001b[1mwandb\u001b[0m: \ttune: False\n"
          ],
          "name": "stderr"
        },
        {
          "output_type": "display_data",
          "data": {
            "text/html": [
              "\n",
              "                Tracking run with wandb version 0.10.26<br/>\n",
              "                Syncing run <strong style=\"color:#cdcd00\">leafy-sweep-7</strong> to <a href=\"https://wandb.ai\" target=\"_blank\">Weights & Biases</a> <a href=\"https://docs.wandb.com/integrations/jupyter.html\" target=\"_blank\">(Documentation)</a>.<br/>\n",
              "                Project page: <a href=\"https://wandb.ai/cs6910-team/DL-Assignment2-PartB\" target=\"_blank\">https://wandb.ai/cs6910-team/DL-Assignment2-PartB</a><br/>\n",
              "                Sweep page: <a href=\"https://wandb.ai/cs6910-team/DL-Assignment2-PartB/sweeps/wdu7jyge\" target=\"_blank\">https://wandb.ai/cs6910-team/DL-Assignment2-PartB/sweeps/wdu7jyge</a><br/>\n",
              "Run page: <a href=\"https://wandb.ai/cs6910-team/DL-Assignment2-PartB/runs/t21ouxmk\" target=\"_blank\">https://wandb.ai/cs6910-team/DL-Assignment2-PartB/runs/t21ouxmk</a><br/>\n",
              "                Run data is saved locally in <code>/content/wandb/run-20210414_080250-t21ouxmk</code><br/><br/>\n",
              "            "
            ],
            "text/plain": [
              "<IPython.core.display.HTML object>"
            ]
          },
          "metadata": {
            "tags": []
          }
        },
        {
          "output_type": "display_data",
          "data": {
            "text/html": [
              "Finishing last run (ID:t21ouxmk) before initializing another..."
            ],
            "text/plain": [
              "<IPython.core.display.HTML object>"
            ]
          },
          "metadata": {
            "tags": []
          }
        },
        {
          "output_type": "display_data",
          "data": {
            "text/html": [
              "<br/>Waiting for W&B process to finish, PID 5269<br/>Program ended successfully."
            ],
            "text/plain": [
              "<IPython.core.display.HTML object>"
            ]
          },
          "metadata": {
            "tags": []
          }
        },
        {
          "output_type": "display_data",
          "data": {
            "application/vnd.jupyter.widget-view+json": {
              "model_id": "c7dd7a7141564e84b85e5a7594754728",
              "version_minor": 0,
              "version_major": 2
            },
            "text/plain": [
              "VBox(children=(Label(value=' 0.08MB of 0.08MB uploaded (0.00MB deduped)\\r'), FloatProgress(value=1.0, max=1.0)…"
            ]
          },
          "metadata": {
            "tags": []
          }
        },
        {
          "output_type": "display_data",
          "data": {
            "text/html": [
              "Find user logs for this run at: <code>/content/wandb/run-20210414_080250-t21ouxmk/logs/debug.log</code>"
            ],
            "text/plain": [
              "<IPython.core.display.HTML object>"
            ]
          },
          "metadata": {
            "tags": []
          }
        },
        {
          "output_type": "display_data",
          "data": {
            "text/html": [
              "Find internal logs for this run at: <code>/content/wandb/run-20210414_080250-t21ouxmk/logs/debug-internal.log</code>"
            ],
            "text/plain": [
              "<IPython.core.display.HTML object>"
            ]
          },
          "metadata": {
            "tags": []
          }
        },
        {
          "output_type": "display_data",
          "data": {
            "text/html": [
              "Synced 4 W&B file(s), 0 media file(s), 2 artifact file(s) and 1 other file(s)"
            ],
            "text/plain": [
              "<IPython.core.display.HTML object>"
            ]
          },
          "metadata": {
            "tags": []
          }
        },
        {
          "output_type": "display_data",
          "data": {
            "text/html": [
              "\n",
              "                    <br/>Synced <strong style=\"color:#cdcd00\">leafy-sweep-7</strong>: <a href=\"https://wandb.ai/cs6910-team/DL-Assignment2-PartB/runs/t21ouxmk\" target=\"_blank\">https://wandb.ai/cs6910-team/DL-Assignment2-PartB/runs/t21ouxmk</a><br/>\n",
              "                "
            ],
            "text/plain": [
              "<IPython.core.display.HTML object>"
            ]
          },
          "metadata": {
            "tags": []
          }
        },
        {
          "output_type": "display_data",
          "data": {
            "text/html": [
              "...Successfully finished last run (ID:t21ouxmk). Initializing new run:<br/><br/>"
            ],
            "text/plain": [
              "<IPython.core.display.HTML object>"
            ]
          },
          "metadata": {
            "tags": []
          }
        },
        {
          "output_type": "display_data",
          "data": {
            "text/html": [
              "\n",
              "                Tracking run with wandb version 0.10.26<br/>\n",
              "                Syncing run <strong style=\"color:#cdcd00\">leafy-sweep-7</strong> to <a href=\"https://wandb.ai\" target=\"_blank\">Weights & Biases</a> <a href=\"https://docs.wandb.com/integrations/jupyter.html\" target=\"_blank\">(Documentation)</a>.<br/>\n",
              "                Project page: <a href=\"https://wandb.ai/cs6910-team/DL-Assignment2-PartB\" target=\"_blank\">https://wandb.ai/cs6910-team/DL-Assignment2-PartB</a><br/>\n",
              "                Sweep page: <a href=\"https://wandb.ai/cs6910-team/DL-Assignment2-PartB/sweeps/wdu7jyge\" target=\"_blank\">https://wandb.ai/cs6910-team/DL-Assignment2-PartB/sweeps/wdu7jyge</a><br/>\n",
              "Run page: <a href=\"https://wandb.ai/cs6910-team/DL-Assignment2-PartB/runs/t21ouxmk\" target=\"_blank\">https://wandb.ai/cs6910-team/DL-Assignment2-PartB/runs/t21ouxmk</a><br/>\n",
              "                Run data is saved locally in <code>/content/wandb/run-20210414_080253-t21ouxmk</code><br/><br/>\n",
              "            "
            ],
            "text/plain": [
              "<IPython.core.display.HTML object>"
            ]
          },
          "metadata": {
            "tags": []
          }
        },
        {
          "output_type": "stream",
          "text": [
            "Epoch 1/10\n",
            "62/62 [==============================] - 101s 1s/step - loss: 166.0232 - accuracy: 0.0870 - val_loss: 20.6739 - val_accuracy: 0.0993\n"
          ],
          "name": "stdout"
        },
        {
          "output_type": "stream",
          "text": [
            "\u001b[34m\u001b[1mwandb\u001b[0m: \u001b[32m\u001b[41mERROR\u001b[0m Can't save model, h5py returned error: Saving the model to HDF5 format requires the model to be a Functional model or a Sequential model. It does not work for subclassed models, because such models are defined via the body of a Python method, which isn't safely serializable. Consider saving to the Tensorflow SavedModel format (by setting save_format=\"tf\") or using `save_weights`.\n"
          ],
          "name": "stderr"
        },
        {
          "output_type": "stream",
          "text": [
            "Epoch 2/10\n",
            "62/62 [==============================] - 86s 1s/step - loss: 15.4863 - accuracy: 0.1007 - val_loss: 13.3138 - val_accuracy: 0.1074\n",
            "Epoch 3/10\n",
            "62/62 [==============================] - 87s 1s/step - loss: 11.5240 - accuracy: 0.1138 - val_loss: 14.0195 - val_accuracy: 0.1149\n",
            "Epoch 4/10\n",
            "62/62 [==============================] - 87s 1s/step - loss: 11.3645 - accuracy: 0.0983 - val_loss: 11.9596 - val_accuracy: 0.1144\n",
            "Epoch 5/10\n",
            "62/62 [==============================] - 87s 1s/step - loss: 10.5901 - accuracy: 0.0970 - val_loss: 11.9762 - val_accuracy: 0.1159\n",
            "Epoch 6/10\n",
            "62/62 [==============================] - 87s 1s/step - loss: 8.6054 - accuracy: 0.1149 - val_loss: 10.3413 - val_accuracy: 0.1124\n",
            "Epoch 7/10\n",
            "62/62 [==============================] - 86s 1s/step - loss: 8.7448 - accuracy: 0.1303 - val_loss: 11.6452 - val_accuracy: 0.1104\n",
            "Epoch 8/10\n",
            "62/62 [==============================] - 84s 1s/step - loss: 9.0750 - accuracy: 0.1120 - val_loss: 9.8079 - val_accuracy: 0.1074\n",
            "Epoch 9/10\n",
            "62/62 [==============================] - 88s 1s/step - loss: 8.0889 - accuracy: 0.1203 - val_loss: 8.8438 - val_accuracy: 0.0998\n",
            "Epoch 10/10\n",
            "62/62 [==============================] - 87s 1s/step - loss: 7.4004 - accuracy: 0.0923 - val_loss: 10.1011 - val_accuracy: 0.1053\n"
          ],
          "name": "stdout"
        },
        {
          "output_type": "stream",
          "text": [
            "\u001b[34m\u001b[1mwandb\u001b[0m: Agent Starting Run: sb31tcus with config:\n",
            "\u001b[34m\u001b[1mwandb\u001b[0m: \tbase_model_name: InceptionResNetV2\n",
            "\u001b[34m\u001b[1mwandb\u001b[0m: \tdata_aug: True\n",
            "\u001b[34m\u001b[1mwandb\u001b[0m: \ttune: True\n"
          ],
          "name": "stderr"
        },
        {
          "output_type": "display_data",
          "data": {
            "text/html": [
              "\n",
              "                Tracking run with wandb version 0.10.26<br/>\n",
              "                Syncing run <strong style=\"color:#cdcd00\">classic-sweep-8</strong> to <a href=\"https://wandb.ai\" target=\"_blank\">Weights & Biases</a> <a href=\"https://docs.wandb.com/integrations/jupyter.html\" target=\"_blank\">(Documentation)</a>.<br/>\n",
              "                Project page: <a href=\"https://wandb.ai/cs6910-team/DL-Assignment2-PartB\" target=\"_blank\">https://wandb.ai/cs6910-team/DL-Assignment2-PartB</a><br/>\n",
              "                Sweep page: <a href=\"https://wandb.ai/cs6910-team/DL-Assignment2-PartB/sweeps/wdu7jyge\" target=\"_blank\">https://wandb.ai/cs6910-team/DL-Assignment2-PartB/sweeps/wdu7jyge</a><br/>\n",
              "Run page: <a href=\"https://wandb.ai/cs6910-team/DL-Assignment2-PartB/runs/sb31tcus\" target=\"_blank\">https://wandb.ai/cs6910-team/DL-Assignment2-PartB/runs/sb31tcus</a><br/>\n",
              "                Run data is saved locally in <code>/content/wandb/run-20210414_081752-sb31tcus</code><br/><br/>\n",
              "            "
            ],
            "text/plain": [
              "<IPython.core.display.HTML object>"
            ]
          },
          "metadata": {
            "tags": []
          }
        },
        {
          "output_type": "display_data",
          "data": {
            "text/html": [
              "Finishing last run (ID:sb31tcus) before initializing another..."
            ],
            "text/plain": [
              "<IPython.core.display.HTML object>"
            ]
          },
          "metadata": {
            "tags": []
          }
        },
        {
          "output_type": "display_data",
          "data": {
            "text/html": [
              "<br/>Waiting for W&B process to finish, PID 5834<br/>Program ended successfully."
            ],
            "text/plain": [
              "<IPython.core.display.HTML object>"
            ]
          },
          "metadata": {
            "tags": []
          }
        },
        {
          "output_type": "display_data",
          "data": {
            "application/vnd.jupyter.widget-view+json": {
              "model_id": "0506221511b042cfb3a51d2c3b004324",
              "version_minor": 0,
              "version_major": 2
            },
            "text/plain": [
              "VBox(children=(Label(value=' 0.08MB of 0.08MB uploaded (0.00MB deduped)\\r'), FloatProgress(value=1.0, max=1.0)…"
            ]
          },
          "metadata": {
            "tags": []
          }
        },
        {
          "output_type": "display_data",
          "data": {
            "text/html": [
              "Find user logs for this run at: <code>/content/wandb/run-20210414_081752-sb31tcus/logs/debug.log</code>"
            ],
            "text/plain": [
              "<IPython.core.display.HTML object>"
            ]
          },
          "metadata": {
            "tags": []
          }
        },
        {
          "output_type": "display_data",
          "data": {
            "text/html": [
              "Find internal logs for this run at: <code>/content/wandb/run-20210414_081752-sb31tcus/logs/debug-internal.log</code>"
            ],
            "text/plain": [
              "<IPython.core.display.HTML object>"
            ]
          },
          "metadata": {
            "tags": []
          }
        },
        {
          "output_type": "display_data",
          "data": {
            "text/html": [
              "Synced 4 W&B file(s), 0 media file(s), 2 artifact file(s) and 1 other file(s)"
            ],
            "text/plain": [
              "<IPython.core.display.HTML object>"
            ]
          },
          "metadata": {
            "tags": []
          }
        },
        {
          "output_type": "display_data",
          "data": {
            "text/html": [
              "\n",
              "                    <br/>Synced <strong style=\"color:#cdcd00\">classic-sweep-8</strong>: <a href=\"https://wandb.ai/cs6910-team/DL-Assignment2-PartB/runs/sb31tcus\" target=\"_blank\">https://wandb.ai/cs6910-team/DL-Assignment2-PartB/runs/sb31tcus</a><br/>\n",
              "                "
            ],
            "text/plain": [
              "<IPython.core.display.HTML object>"
            ]
          },
          "metadata": {
            "tags": []
          }
        },
        {
          "output_type": "display_data",
          "data": {
            "text/html": [
              "...Successfully finished last run (ID:sb31tcus). Initializing new run:<br/><br/>"
            ],
            "text/plain": [
              "<IPython.core.display.HTML object>"
            ]
          },
          "metadata": {
            "tags": []
          }
        },
        {
          "output_type": "display_data",
          "data": {
            "text/html": [
              "\n",
              "                Tracking run with wandb version 0.10.26<br/>\n",
              "                Syncing run <strong style=\"color:#cdcd00\">classic-sweep-8</strong> to <a href=\"https://wandb.ai\" target=\"_blank\">Weights & Biases</a> <a href=\"https://docs.wandb.com/integrations/jupyter.html\" target=\"_blank\">(Documentation)</a>.<br/>\n",
              "                Project page: <a href=\"https://wandb.ai/cs6910-team/DL-Assignment2-PartB\" target=\"_blank\">https://wandb.ai/cs6910-team/DL-Assignment2-PartB</a><br/>\n",
              "                Sweep page: <a href=\"https://wandb.ai/cs6910-team/DL-Assignment2-PartB/sweeps/wdu7jyge\" target=\"_blank\">https://wandb.ai/cs6910-team/DL-Assignment2-PartB/sweeps/wdu7jyge</a><br/>\n",
              "Run page: <a href=\"https://wandb.ai/cs6910-team/DL-Assignment2-PartB/runs/sb31tcus\" target=\"_blank\">https://wandb.ai/cs6910-team/DL-Assignment2-PartB/runs/sb31tcus</a><br/>\n",
              "                Run data is saved locally in <code>/content/wandb/run-20210414_081757-sb31tcus</code><br/><br/>\n",
              "            "
            ],
            "text/plain": [
              "<IPython.core.display.HTML object>"
            ]
          },
          "metadata": {
            "tags": []
          }
        },
        {
          "output_type": "stream",
          "text": [
            "Epoch 1/10\n",
            "62/62 [==============================] - 104s 1s/step - loss: 2.4586 - accuracy: 0.1126 - val_loss: 3.1316 - val_accuracy: 0.1174\n"
          ],
          "name": "stdout"
        },
        {
          "output_type": "stream",
          "text": [
            "\u001b[34m\u001b[1mwandb\u001b[0m: \u001b[32m\u001b[41mERROR\u001b[0m Can't save model, h5py returned error: Saving the model to HDF5 format requires the model to be a Functional model or a Sequential model. It does not work for subclassed models, because such models are defined via the body of a Python method, which isn't safely serializable. Consider saving to the Tensorflow SavedModel format (by setting save_format=\"tf\") or using `save_weights`.\n"
          ],
          "name": "stderr"
        },
        {
          "output_type": "stream",
          "text": [
            "Epoch 2/10\n",
            "62/62 [==============================] - 89s 1s/step - loss: 2.3038 - accuracy: 0.1394 - val_loss: 2.9069 - val_accuracy: 0.1200\n",
            "Epoch 3/10\n",
            "62/62 [==============================] - 88s 1s/step - loss: 2.3022 - accuracy: 0.1170 - val_loss: 2.6530 - val_accuracy: 0.1053\n",
            "Epoch 4/10\n",
            "62/62 [==============================] - 88s 1s/step - loss: 2.2963 - accuracy: 0.1280 - val_loss: 2.5383 - val_accuracy: 0.1416\n",
            "Epoch 5/10\n",
            "62/62 [==============================] - 88s 1s/step - loss: 2.2881 - accuracy: 0.1417 - val_loss: 2.4585 - val_accuracy: 0.1174\n",
            "Epoch 6/10\n",
            "62/62 [==============================] - 88s 1s/step - loss: 2.2928 - accuracy: 0.1350 - val_loss: 2.8464 - val_accuracy: 0.0983\n",
            "Epoch 7/10\n",
            "62/62 [==============================] - 88s 1s/step - loss: 2.2784 - accuracy: 0.1409 - val_loss: 2.5546 - val_accuracy: 0.1064\n",
            "Epoch 8/10\n",
            "62/62 [==============================] - 89s 1s/step - loss: 2.3005 - accuracy: 0.1403 - val_loss: 2.5037 - val_accuracy: 0.1220\n",
            "Epoch 9/10\n",
            "62/62 [==============================] - 88s 1s/step - loss: 2.2713 - accuracy: 0.1335 - val_loss: 2.4539 - val_accuracy: 0.1048\n",
            "Epoch 10/10\n",
            "62/62 [==============================] - 88s 1s/step - loss: 2.2696 - accuracy: 0.1435 - val_loss: 2.3955 - val_accuracy: 0.1159\n"
          ],
          "name": "stdout"
        },
        {
          "output_type": "stream",
          "text": [
            "\u001b[34m\u001b[1mwandb\u001b[0m: Sweep Agent: Waiting for job.\n",
            "\u001b[34m\u001b[1mwandb\u001b[0m: Job received.\n",
            "\u001b[34m\u001b[1mwandb\u001b[0m: Agent Starting Run: 3qnzzs7r with config:\n",
            "\u001b[34m\u001b[1mwandb\u001b[0m: \tbase_model_name: ResNet50\n",
            "\u001b[34m\u001b[1mwandb\u001b[0m: \tdata_aug: False\n",
            "\u001b[34m\u001b[1mwandb\u001b[0m: \ttune: False\n"
          ],
          "name": "stderr"
        },
        {
          "output_type": "display_data",
          "data": {
            "text/html": [
              "\n",
              "                Tracking run with wandb version 0.10.26<br/>\n",
              "                Syncing run <strong style=\"color:#cdcd00\">light-sweep-9</strong> to <a href=\"https://wandb.ai\" target=\"_blank\">Weights & Biases</a> <a href=\"https://docs.wandb.com/integrations/jupyter.html\" target=\"_blank\">(Documentation)</a>.<br/>\n",
              "                Project page: <a href=\"https://wandb.ai/cs6910-team/DL-Assignment2-PartB\" target=\"_blank\">https://wandb.ai/cs6910-team/DL-Assignment2-PartB</a><br/>\n",
              "                Sweep page: <a href=\"https://wandb.ai/cs6910-team/DL-Assignment2-PartB/sweeps/wdu7jyge\" target=\"_blank\">https://wandb.ai/cs6910-team/DL-Assignment2-PartB/sweeps/wdu7jyge</a><br/>\n",
              "Run page: <a href=\"https://wandb.ai/cs6910-team/DL-Assignment2-PartB/runs/3qnzzs7r\" target=\"_blank\">https://wandb.ai/cs6910-team/DL-Assignment2-PartB/runs/3qnzzs7r</a><br/>\n",
              "                Run data is saved locally in <code>/content/wandb/run-20210414_083329-3qnzzs7r</code><br/><br/>\n",
              "            "
            ],
            "text/plain": [
              "<IPython.core.display.HTML object>"
            ]
          },
          "metadata": {
            "tags": []
          }
        },
        {
          "output_type": "display_data",
          "data": {
            "text/html": [
              "Finishing last run (ID:3qnzzs7r) before initializing another..."
            ],
            "text/plain": [
              "<IPython.core.display.HTML object>"
            ]
          },
          "metadata": {
            "tags": []
          }
        },
        {
          "output_type": "display_data",
          "data": {
            "text/html": [
              "<br/>Waiting for W&B process to finish, PID 6406<br/>Program ended successfully."
            ],
            "text/plain": [
              "<IPython.core.display.HTML object>"
            ]
          },
          "metadata": {
            "tags": []
          }
        },
        {
          "output_type": "display_data",
          "data": {
            "application/vnd.jupyter.widget-view+json": {
              "model_id": "558855d4469747b78cbcf8e283838f52",
              "version_minor": 0,
              "version_major": 2
            },
            "text/plain": [
              "VBox(children=(Label(value=' 0.09MB of 0.09MB uploaded (0.00MB deduped)\\r'), FloatProgress(value=1.0, max=1.0)…"
            ]
          },
          "metadata": {
            "tags": []
          }
        },
        {
          "output_type": "display_data",
          "data": {
            "text/html": [
              "Find user logs for this run at: <code>/content/wandb/run-20210414_083329-3qnzzs7r/logs/debug.log</code>"
            ],
            "text/plain": [
              "<IPython.core.display.HTML object>"
            ]
          },
          "metadata": {
            "tags": []
          }
        },
        {
          "output_type": "display_data",
          "data": {
            "text/html": [
              "Find internal logs for this run at: <code>/content/wandb/run-20210414_083329-3qnzzs7r/logs/debug-internal.log</code>"
            ],
            "text/plain": [
              "<IPython.core.display.HTML object>"
            ]
          },
          "metadata": {
            "tags": []
          }
        },
        {
          "output_type": "display_data",
          "data": {
            "text/html": [
              "Synced 4 W&B file(s), 0 media file(s), 2 artifact file(s) and 1 other file(s)"
            ],
            "text/plain": [
              "<IPython.core.display.HTML object>"
            ]
          },
          "metadata": {
            "tags": []
          }
        },
        {
          "output_type": "display_data",
          "data": {
            "text/html": [
              "\n",
              "                    <br/>Synced <strong style=\"color:#cdcd00\">light-sweep-9</strong>: <a href=\"https://wandb.ai/cs6910-team/DL-Assignment2-PartB/runs/3qnzzs7r\" target=\"_blank\">https://wandb.ai/cs6910-team/DL-Assignment2-PartB/runs/3qnzzs7r</a><br/>\n",
              "                "
            ],
            "text/plain": [
              "<IPython.core.display.HTML object>"
            ]
          },
          "metadata": {
            "tags": []
          }
        },
        {
          "output_type": "display_data",
          "data": {
            "text/html": [
              "...Successfully finished last run (ID:3qnzzs7r). Initializing new run:<br/><br/>"
            ],
            "text/plain": [
              "<IPython.core.display.HTML object>"
            ]
          },
          "metadata": {
            "tags": []
          }
        },
        {
          "output_type": "display_data",
          "data": {
            "text/html": [
              "\n",
              "                Tracking run with wandb version 0.10.26<br/>\n",
              "                Syncing run <strong style=\"color:#cdcd00\">light-sweep-9</strong> to <a href=\"https://wandb.ai\" target=\"_blank\">Weights & Biases</a> <a href=\"https://docs.wandb.com/integrations/jupyter.html\" target=\"_blank\">(Documentation)</a>.<br/>\n",
              "                Project page: <a href=\"https://wandb.ai/cs6910-team/DL-Assignment2-PartB\" target=\"_blank\">https://wandb.ai/cs6910-team/DL-Assignment2-PartB</a><br/>\n",
              "                Sweep page: <a href=\"https://wandb.ai/cs6910-team/DL-Assignment2-PartB/sweeps/wdu7jyge\" target=\"_blank\">https://wandb.ai/cs6910-team/DL-Assignment2-PartB/sweeps/wdu7jyge</a><br/>\n",
              "Run page: <a href=\"https://wandb.ai/cs6910-team/DL-Assignment2-PartB/runs/3qnzzs7r\" target=\"_blank\">https://wandb.ai/cs6910-team/DL-Assignment2-PartB/runs/3qnzzs7r</a><br/>\n",
              "                Run data is saved locally in <code>/content/wandb/run-20210414_083333-3qnzzs7r</code><br/><br/>\n",
              "            "
            ],
            "text/plain": [
              "<IPython.core.display.HTML object>"
            ]
          },
          "metadata": {
            "tags": []
          }
        },
        {
          "output_type": "stream",
          "text": [
            "Epoch 1/10\n",
            "62/62 [==============================] - 39s 541ms/step - loss: 2.6843 - accuracy: 0.1091 - val_loss: 2.2716 - val_accuracy: 0.2042\n"
          ],
          "name": "stdout"
        },
        {
          "output_type": "stream",
          "text": [
            "\u001b[34m\u001b[1mwandb\u001b[0m: \u001b[32m\u001b[41mERROR\u001b[0m Can't save model, h5py returned error: Saving the model to HDF5 format requires the model to be a Functional model or a Sequential model. It does not work for subclassed models, because such models are defined via the body of a Python method, which isn't safely serializable. Consider saving to the Tensorflow SavedModel format (by setting save_format=\"tf\") or using `save_weights`.\n"
          ],
          "name": "stderr"
        },
        {
          "output_type": "stream",
          "text": [
            "Epoch 2/10\n",
            "62/62 [==============================] - 34s 511ms/step - loss: 2.1079 - accuracy: 0.2645 - val_loss: 1.8628 - val_accuracy: 0.3542\n",
            "Epoch 3/10\n",
            "62/62 [==============================] - 34s 509ms/step - loss: 1.7812 - accuracy: 0.3933 - val_loss: 1.6494 - val_accuracy: 0.4458\n",
            "Epoch 4/10\n",
            "62/62 [==============================] - 33s 506ms/step - loss: 1.5422 - accuracy: 0.5044 - val_loss: 1.4869 - val_accuracy: 0.4812\n",
            "Epoch 5/10\n",
            "62/62 [==============================] - 33s 507ms/step - loss: 1.3692 - accuracy: 0.5770 - val_loss: 1.4436 - val_accuracy: 0.5125\n",
            "Epoch 6/10\n",
            "62/62 [==============================] - 33s 506ms/step - loss: 1.2799 - accuracy: 0.6075 - val_loss: 1.3594 - val_accuracy: 0.5208\n",
            "Epoch 7/10\n",
            "62/62 [==============================] - 34s 513ms/step - loss: 1.1967 - accuracy: 0.6311 - val_loss: 1.2818 - val_accuracy: 0.5562\n",
            "Epoch 8/10\n",
            "62/62 [==============================] - 34s 510ms/step - loss: 1.1293 - accuracy: 0.6542 - val_loss: 1.2358 - val_accuracy: 0.5854\n",
            "Epoch 9/10\n",
            "62/62 [==============================] - 33s 507ms/step - loss: 1.0541 - accuracy: 0.6818 - val_loss: 1.2322 - val_accuracy: 0.5833\n",
            "Epoch 10/10\n",
            "62/62 [==============================] - 34s 509ms/step - loss: 1.0294 - accuracy: 0.6877 - val_loss: 1.1700 - val_accuracy: 0.6125\n"
          ],
          "name": "stdout"
        },
        {
          "output_type": "stream",
          "text": [
            "\u001b[34m\u001b[1mwandb\u001b[0m: Agent Starting Run: uuu55fak with config:\n",
            "\u001b[34m\u001b[1mwandb\u001b[0m: \tbase_model_name: ResNet50\n",
            "\u001b[34m\u001b[1mwandb\u001b[0m: \tdata_aug: False\n",
            "\u001b[34m\u001b[1mwandb\u001b[0m: \ttune: True\n"
          ],
          "name": "stderr"
        },
        {
          "output_type": "display_data",
          "data": {
            "text/html": [
              "\n",
              "                Tracking run with wandb version 0.10.26<br/>\n",
              "                Syncing run <strong style=\"color:#cdcd00\">super-sweep-10</strong> to <a href=\"https://wandb.ai\" target=\"_blank\">Weights & Biases</a> <a href=\"https://docs.wandb.com/integrations/jupyter.html\" target=\"_blank\">(Documentation)</a>.<br/>\n",
              "                Project page: <a href=\"https://wandb.ai/cs6910-team/DL-Assignment2-PartB\" target=\"_blank\">https://wandb.ai/cs6910-team/DL-Assignment2-PartB</a><br/>\n",
              "                Sweep page: <a href=\"https://wandb.ai/cs6910-team/DL-Assignment2-PartB/sweeps/wdu7jyge\" target=\"_blank\">https://wandb.ai/cs6910-team/DL-Assignment2-PartB/sweeps/wdu7jyge</a><br/>\n",
              "Run page: <a href=\"https://wandb.ai/cs6910-team/DL-Assignment2-PartB/runs/uuu55fak\" target=\"_blank\">https://wandb.ai/cs6910-team/DL-Assignment2-PartB/runs/uuu55fak</a><br/>\n",
              "                Run data is saved locally in <code>/content/wandb/run-20210414_083929-uuu55fak</code><br/><br/>\n",
              "            "
            ],
            "text/plain": [
              "<IPython.core.display.HTML object>"
            ]
          },
          "metadata": {
            "tags": []
          }
        },
        {
          "output_type": "display_data",
          "data": {
            "text/html": [
              "Finishing last run (ID:uuu55fak) before initializing another..."
            ],
            "text/plain": [
              "<IPython.core.display.HTML object>"
            ]
          },
          "metadata": {
            "tags": []
          }
        },
        {
          "output_type": "display_data",
          "data": {
            "text/html": [
              "<br/>Waiting for W&B process to finish, PID 6568<br/>Program ended successfully."
            ],
            "text/plain": [
              "<IPython.core.display.HTML object>"
            ]
          },
          "metadata": {
            "tags": []
          }
        },
        {
          "output_type": "display_data",
          "data": {
            "application/vnd.jupyter.widget-view+json": {
              "model_id": "12a0bacf188649349a6225dcd28db735",
              "version_minor": 0,
              "version_major": 2
            },
            "text/plain": [
              "VBox(children=(Label(value=' 0.10MB of 0.10MB uploaded (0.00MB deduped)\\r'), FloatProgress(value=1.0, max=1.0)…"
            ]
          },
          "metadata": {
            "tags": []
          }
        },
        {
          "output_type": "display_data",
          "data": {
            "text/html": [
              "Find user logs for this run at: <code>/content/wandb/run-20210414_083929-uuu55fak/logs/debug.log</code>"
            ],
            "text/plain": [
              "<IPython.core.display.HTML object>"
            ]
          },
          "metadata": {
            "tags": []
          }
        },
        {
          "output_type": "display_data",
          "data": {
            "text/html": [
              "Find internal logs for this run at: <code>/content/wandb/run-20210414_083929-uuu55fak/logs/debug-internal.log</code>"
            ],
            "text/plain": [
              "<IPython.core.display.HTML object>"
            ]
          },
          "metadata": {
            "tags": []
          }
        },
        {
          "output_type": "display_data",
          "data": {
            "text/html": [
              "Synced 4 W&B file(s), 0 media file(s), 2 artifact file(s) and 1 other file(s)"
            ],
            "text/plain": [
              "<IPython.core.display.HTML object>"
            ]
          },
          "metadata": {
            "tags": []
          }
        },
        {
          "output_type": "display_data",
          "data": {
            "text/html": [
              "\n",
              "                    <br/>Synced <strong style=\"color:#cdcd00\">super-sweep-10</strong>: <a href=\"https://wandb.ai/cs6910-team/DL-Assignment2-PartB/runs/uuu55fak\" target=\"_blank\">https://wandb.ai/cs6910-team/DL-Assignment2-PartB/runs/uuu55fak</a><br/>\n",
              "                "
            ],
            "text/plain": [
              "<IPython.core.display.HTML object>"
            ]
          },
          "metadata": {
            "tags": []
          }
        },
        {
          "output_type": "display_data",
          "data": {
            "text/html": [
              "...Successfully finished last run (ID:uuu55fak). Initializing new run:<br/><br/>"
            ],
            "text/plain": [
              "<IPython.core.display.HTML object>"
            ]
          },
          "metadata": {
            "tags": []
          }
        },
        {
          "output_type": "display_data",
          "data": {
            "text/html": [
              "\n",
              "                Tracking run with wandb version 0.10.26<br/>\n",
              "                Syncing run <strong style=\"color:#cdcd00\">super-sweep-10</strong> to <a href=\"https://wandb.ai\" target=\"_blank\">Weights & Biases</a> <a href=\"https://docs.wandb.com/integrations/jupyter.html\" target=\"_blank\">(Documentation)</a>.<br/>\n",
              "                Project page: <a href=\"https://wandb.ai/cs6910-team/DL-Assignment2-PartB\" target=\"_blank\">https://wandb.ai/cs6910-team/DL-Assignment2-PartB</a><br/>\n",
              "                Sweep page: <a href=\"https://wandb.ai/cs6910-team/DL-Assignment2-PartB/sweeps/wdu7jyge\" target=\"_blank\">https://wandb.ai/cs6910-team/DL-Assignment2-PartB/sweeps/wdu7jyge</a><br/>\n",
              "Run page: <a href=\"https://wandb.ai/cs6910-team/DL-Assignment2-PartB/runs/uuu55fak\" target=\"_blank\">https://wandb.ai/cs6910-team/DL-Assignment2-PartB/runs/uuu55fak</a><br/>\n",
              "                Run data is saved locally in <code>/content/wandb/run-20210414_083932-uuu55fak</code><br/><br/>\n",
              "            "
            ],
            "text/plain": [
              "<IPython.core.display.HTML object>"
            ]
          },
          "metadata": {
            "tags": []
          }
        },
        {
          "output_type": "stream",
          "text": [
            "Epoch 1/10\n",
            "62/62 [==============================] - 41s 559ms/step - loss: 1.9419 - accuracy: 0.3336 - val_loss: 1.3633 - val_accuracy: 0.5833\n"
          ],
          "name": "stdout"
        },
        {
          "output_type": "stream",
          "text": [
            "\u001b[34m\u001b[1mwandb\u001b[0m: \u001b[32m\u001b[41mERROR\u001b[0m Can't save model, h5py returned error: Saving the model to HDF5 format requires the model to be a Functional model or a Sequential model. It does not work for subclassed models, because such models are defined via the body of a Python method, which isn't safely serializable. Consider saving to the Tensorflow SavedModel format (by setting save_format=\"tf\") or using `save_weights`.\n"
          ],
          "name": "stderr"
        },
        {
          "output_type": "stream",
          "text": [
            "Epoch 2/10\n",
            "62/62 [==============================] - 35s 534ms/step - loss: 0.4972 - accuracy: 0.8742 - val_loss: 1.2118 - val_accuracy: 0.6458\n",
            "Epoch 3/10\n",
            "62/62 [==============================] - 35s 532ms/step - loss: 0.1607 - accuracy: 0.9809 - val_loss: 1.1460 - val_accuracy: 0.6687\n",
            "Epoch 4/10\n",
            "62/62 [==============================] - 35s 536ms/step - loss: 0.0620 - accuracy: 0.9982 - val_loss: 1.1165 - val_accuracy: 0.6771\n",
            "Epoch 5/10\n",
            "62/62 [==============================] - 35s 531ms/step - loss: 0.0263 - accuracy: 0.9984 - val_loss: 1.0956 - val_accuracy: 0.6687\n",
            "Epoch 6/10\n",
            "62/62 [==============================] - 35s 536ms/step - loss: 0.0155 - accuracy: 0.9998 - val_loss: 1.1433 - val_accuracy: 0.6604\n",
            "Epoch 7/10\n",
            "62/62 [==============================] - 35s 533ms/step - loss: 0.0103 - accuracy: 0.9999 - val_loss: 1.1847 - val_accuracy: 0.6792\n",
            "Epoch 8/10\n",
            "62/62 [==============================] - 35s 539ms/step - loss: 0.0066 - accuracy: 1.0000 - val_loss: 1.1468 - val_accuracy: 0.6812\n",
            "Epoch 9/10\n",
            "62/62 [==============================] - 35s 534ms/step - loss: 0.0065 - accuracy: 0.9994 - val_loss: 1.1581 - val_accuracy: 0.6917\n",
            "Epoch 10/10\n",
            "62/62 [==============================] - 35s 538ms/step - loss: 0.0040 - accuracy: 1.0000 - val_loss: 1.1806 - val_accuracy: 0.6792\n"
          ],
          "name": "stdout"
        },
        {
          "output_type": "stream",
          "text": [
            "\u001b[34m\u001b[1mwandb\u001b[0m: Agent Starting Run: wdbh0to1 with config:\n",
            "\u001b[34m\u001b[1mwandb\u001b[0m: \tbase_model_name: ResNet50\n",
            "\u001b[34m\u001b[1mwandb\u001b[0m: \tdata_aug: True\n",
            "\u001b[34m\u001b[1mwandb\u001b[0m: \ttune: False\n"
          ],
          "name": "stderr"
        },
        {
          "output_type": "display_data",
          "data": {
            "text/html": [
              "\n",
              "                Tracking run with wandb version 0.10.26<br/>\n",
              "                Syncing run <strong style=\"color:#cdcd00\">decent-sweep-11</strong> to <a href=\"https://wandb.ai\" target=\"_blank\">Weights & Biases</a> <a href=\"https://docs.wandb.com/integrations/jupyter.html\" target=\"_blank\">(Documentation)</a>.<br/>\n",
              "                Project page: <a href=\"https://wandb.ai/cs6910-team/DL-Assignment2-PartB\" target=\"_blank\">https://wandb.ai/cs6910-team/DL-Assignment2-PartB</a><br/>\n",
              "                Sweep page: <a href=\"https://wandb.ai/cs6910-team/DL-Assignment2-PartB/sweeps/wdu7jyge\" target=\"_blank\">https://wandb.ai/cs6910-team/DL-Assignment2-PartB/sweeps/wdu7jyge</a><br/>\n",
              "Run page: <a href=\"https://wandb.ai/cs6910-team/DL-Assignment2-PartB/runs/wdbh0to1\" target=\"_blank\">https://wandb.ai/cs6910-team/DL-Assignment2-PartB/runs/wdbh0to1</a><br/>\n",
              "                Run data is saved locally in <code>/content/wandb/run-20210414_084545-wdbh0to1</code><br/><br/>\n",
              "            "
            ],
            "text/plain": [
              "<IPython.core.display.HTML object>"
            ]
          },
          "metadata": {
            "tags": []
          }
        },
        {
          "output_type": "display_data",
          "data": {
            "text/html": [
              "Finishing last run (ID:wdbh0to1) before initializing another..."
            ],
            "text/plain": [
              "<IPython.core.display.HTML object>"
            ]
          },
          "metadata": {
            "tags": []
          }
        },
        {
          "output_type": "display_data",
          "data": {
            "text/html": [
              "<br/>Waiting for W&B process to finish, PID 6732<br/>Program ended successfully."
            ],
            "text/plain": [
              "<IPython.core.display.HTML object>"
            ]
          },
          "metadata": {
            "tags": []
          }
        },
        {
          "output_type": "display_data",
          "data": {
            "application/vnd.jupyter.widget-view+json": {
              "model_id": "8a964458e32f427a882486dc4292d152",
              "version_minor": 0,
              "version_major": 2
            },
            "text/plain": [
              "VBox(children=(Label(value=' 0.11MB of 0.11MB uploaded (0.00MB deduped)\\r'), FloatProgress(value=1.0, max=1.0)…"
            ]
          },
          "metadata": {
            "tags": []
          }
        },
        {
          "output_type": "display_data",
          "data": {
            "text/html": [
              "Find user logs for this run at: <code>/content/wandb/run-20210414_084545-wdbh0to1/logs/debug.log</code>"
            ],
            "text/plain": [
              "<IPython.core.display.HTML object>"
            ]
          },
          "metadata": {
            "tags": []
          }
        },
        {
          "output_type": "display_data",
          "data": {
            "text/html": [
              "Find internal logs for this run at: <code>/content/wandb/run-20210414_084545-wdbh0to1/logs/debug-internal.log</code>"
            ],
            "text/plain": [
              "<IPython.core.display.HTML object>"
            ]
          },
          "metadata": {
            "tags": []
          }
        },
        {
          "output_type": "display_data",
          "data": {
            "text/html": [
              "Synced 4 W&B file(s), 0 media file(s), 2 artifact file(s) and 1 other file(s)"
            ],
            "text/plain": [
              "<IPython.core.display.HTML object>"
            ]
          },
          "metadata": {
            "tags": []
          }
        },
        {
          "output_type": "display_data",
          "data": {
            "text/html": [
              "\n",
              "                    <br/>Synced <strong style=\"color:#cdcd00\">decent-sweep-11</strong>: <a href=\"https://wandb.ai/cs6910-team/DL-Assignment2-PartB/runs/wdbh0to1\" target=\"_blank\">https://wandb.ai/cs6910-team/DL-Assignment2-PartB/runs/wdbh0to1</a><br/>\n",
              "                "
            ],
            "text/plain": [
              "<IPython.core.display.HTML object>"
            ]
          },
          "metadata": {
            "tags": []
          }
        },
        {
          "output_type": "display_data",
          "data": {
            "text/html": [
              "...Successfully finished last run (ID:wdbh0to1). Initializing new run:<br/><br/>"
            ],
            "text/plain": [
              "<IPython.core.display.HTML object>"
            ]
          },
          "metadata": {
            "tags": []
          }
        },
        {
          "output_type": "display_data",
          "data": {
            "text/html": [
              "\n",
              "                Tracking run with wandb version 0.10.26<br/>\n",
              "                Syncing run <strong style=\"color:#cdcd00\">decent-sweep-11</strong> to <a href=\"https://wandb.ai\" target=\"_blank\">Weights & Biases</a> <a href=\"https://docs.wandb.com/integrations/jupyter.html\" target=\"_blank\">(Documentation)</a>.<br/>\n",
              "                Project page: <a href=\"https://wandb.ai/cs6910-team/DL-Assignment2-PartB\" target=\"_blank\">https://wandb.ai/cs6910-team/DL-Assignment2-PartB</a><br/>\n",
              "                Sweep page: <a href=\"https://wandb.ai/cs6910-team/DL-Assignment2-PartB/sweeps/wdu7jyge\" target=\"_blank\">https://wandb.ai/cs6910-team/DL-Assignment2-PartB/sweeps/wdu7jyge</a><br/>\n",
              "Run page: <a href=\"https://wandb.ai/cs6910-team/DL-Assignment2-PartB/runs/wdbh0to1\" target=\"_blank\">https://wandb.ai/cs6910-team/DL-Assignment2-PartB/runs/wdbh0to1</a><br/>\n",
              "                Run data is saved locally in <code>/content/wandb/run-20210414_084547-wdbh0to1</code><br/><br/>\n",
              "            "
            ],
            "text/plain": [
              "<IPython.core.display.HTML object>"
            ]
          },
          "metadata": {
            "tags": []
          }
        },
        {
          "output_type": "stream",
          "text": [
            "Epoch 1/10\n",
            "62/62 [==============================] - 88s 1s/step - loss: 2.5461 - accuracy: 0.1195 - val_loss: 2.2864 - val_accuracy: 0.2016\n"
          ],
          "name": "stdout"
        },
        {
          "output_type": "stream",
          "text": [
            "\u001b[34m\u001b[1mwandb\u001b[0m: \u001b[32m\u001b[41mERROR\u001b[0m Can't save model, h5py returned error: Saving the model to HDF5 format requires the model to be a Functional model or a Sequential model. It does not work for subclassed models, because such models are defined via the body of a Python method, which isn't safely serializable. Consider saving to the Tensorflow SavedModel format (by setting save_format=\"tf\") or using `save_weights`.\n"
          ],
          "name": "stderr"
        },
        {
          "output_type": "stream",
          "text": [
            "Epoch 2/10\n",
            "62/62 [==============================] - 83s 1s/step - loss: 2.1832 - accuracy: 0.2169 - val_loss: 1.9749 - val_accuracy: 0.3059\n",
            "Epoch 3/10\n",
            "62/62 [==============================] - 84s 1s/step - loss: 1.9712 - accuracy: 0.3172 - val_loss: 1.7721 - val_accuracy: 0.3931\n",
            "Epoch 4/10\n",
            "62/62 [==============================] - 83s 1s/step - loss: 1.7923 - accuracy: 0.3813 - val_loss: 1.6462 - val_accuracy: 0.4320\n",
            "Epoch 5/10\n",
            "62/62 [==============================] - 83s 1s/step - loss: 1.6629 - accuracy: 0.4207 - val_loss: 1.5347 - val_accuracy: 0.4814\n",
            "Epoch 6/10\n",
            "62/62 [==============================] - 83s 1s/step - loss: 1.6166 - accuracy: 0.4519 - val_loss: 1.4628 - val_accuracy: 0.5086\n",
            "Epoch 7/10\n",
            "62/62 [==============================] - 84s 1s/step - loss: 1.5675 - accuracy: 0.4701 - val_loss: 1.3948 - val_accuracy: 0.5287\n",
            "Epoch 8/10\n",
            "62/62 [==============================] - 84s 1s/step - loss: 1.4930 - accuracy: 0.4805 - val_loss: 1.3498 - val_accuracy: 0.5474\n",
            "Epoch 9/10\n",
            "62/62 [==============================] - 83s 1s/step - loss: 1.4279 - accuracy: 0.5332 - val_loss: 1.3112 - val_accuracy: 0.5625\n",
            "Epoch 10/10\n",
            "62/62 [==============================] - 84s 1s/step - loss: 1.3917 - accuracy: 0.5231 - val_loss: 1.2813 - val_accuracy: 0.5806\n"
          ],
          "name": "stdout"
        },
        {
          "output_type": "stream",
          "text": [
            "\u001b[34m\u001b[1mwandb\u001b[0m: Agent Starting Run: j93emz11 with config:\n",
            "\u001b[34m\u001b[1mwandb\u001b[0m: \tbase_model_name: ResNet50\n",
            "\u001b[34m\u001b[1mwandb\u001b[0m: \tdata_aug: True\n",
            "\u001b[34m\u001b[1mwandb\u001b[0m: \ttune: True\n"
          ],
          "name": "stderr"
        },
        {
          "output_type": "display_data",
          "data": {
            "text/html": [
              "\n",
              "                Tracking run with wandb version 0.10.26<br/>\n",
              "                Syncing run <strong style=\"color:#cdcd00\">firm-sweep-12</strong> to <a href=\"https://wandb.ai\" target=\"_blank\">Weights & Biases</a> <a href=\"https://docs.wandb.com/integrations/jupyter.html\" target=\"_blank\">(Documentation)</a>.<br/>\n",
              "                Project page: <a href=\"https://wandb.ai/cs6910-team/DL-Assignment2-PartB\" target=\"_blank\">https://wandb.ai/cs6910-team/DL-Assignment2-PartB</a><br/>\n",
              "                Sweep page: <a href=\"https://wandb.ai/cs6910-team/DL-Assignment2-PartB/sweeps/wdu7jyge\" target=\"_blank\">https://wandb.ai/cs6910-team/DL-Assignment2-PartB/sweeps/wdu7jyge</a><br/>\n",
              "Run page: <a href=\"https://wandb.ai/cs6910-team/DL-Assignment2-PartB/runs/j93emz11\" target=\"_blank\">https://wandb.ai/cs6910-team/DL-Assignment2-PartB/runs/j93emz11</a><br/>\n",
              "                Run data is saved locally in <code>/content/wandb/run-20210414_090001-j93emz11</code><br/><br/>\n",
              "            "
            ],
            "text/plain": [
              "<IPython.core.display.HTML object>"
            ]
          },
          "metadata": {
            "tags": []
          }
        },
        {
          "output_type": "display_data",
          "data": {
            "text/html": [
              "Finishing last run (ID:j93emz11) before initializing another..."
            ],
            "text/plain": [
              "<IPython.core.display.HTML object>"
            ]
          },
          "metadata": {
            "tags": []
          }
        },
        {
          "output_type": "display_data",
          "data": {
            "text/html": [
              "<br/>Waiting for W&B process to finish, PID 7286<br/>Program ended successfully."
            ],
            "text/plain": [
              "<IPython.core.display.HTML object>"
            ]
          },
          "metadata": {
            "tags": []
          }
        },
        {
          "output_type": "display_data",
          "data": {
            "application/vnd.jupyter.widget-view+json": {
              "model_id": "1fe62f8021fd47da8c0fc4a15823e874",
              "version_minor": 0,
              "version_major": 2
            },
            "text/plain": [
              "VBox(children=(Label(value=' 0.11MB of 0.11MB uploaded (0.00MB deduped)\\r'), FloatProgress(value=1.0, max=1.0)…"
            ]
          },
          "metadata": {
            "tags": []
          }
        },
        {
          "output_type": "display_data",
          "data": {
            "text/html": [
              "Find user logs for this run at: <code>/content/wandb/run-20210414_090001-j93emz11/logs/debug.log</code>"
            ],
            "text/plain": [
              "<IPython.core.display.HTML object>"
            ]
          },
          "metadata": {
            "tags": []
          }
        },
        {
          "output_type": "display_data",
          "data": {
            "text/html": [
              "Find internal logs for this run at: <code>/content/wandb/run-20210414_090001-j93emz11/logs/debug-internal.log</code>"
            ],
            "text/plain": [
              "<IPython.core.display.HTML object>"
            ]
          },
          "metadata": {
            "tags": []
          }
        },
        {
          "output_type": "display_data",
          "data": {
            "text/html": [
              "Synced 4 W&B file(s), 0 media file(s), 2 artifact file(s) and 1 other file(s)"
            ],
            "text/plain": [
              "<IPython.core.display.HTML object>"
            ]
          },
          "metadata": {
            "tags": []
          }
        },
        {
          "output_type": "display_data",
          "data": {
            "text/html": [
              "\n",
              "                    <br/>Synced <strong style=\"color:#cdcd00\">firm-sweep-12</strong>: <a href=\"https://wandb.ai/cs6910-team/DL-Assignment2-PartB/runs/j93emz11\" target=\"_blank\">https://wandb.ai/cs6910-team/DL-Assignment2-PartB/runs/j93emz11</a><br/>\n",
              "                "
            ],
            "text/plain": [
              "<IPython.core.display.HTML object>"
            ]
          },
          "metadata": {
            "tags": []
          }
        },
        {
          "output_type": "display_data",
          "data": {
            "text/html": [
              "...Successfully finished last run (ID:j93emz11). Initializing new run:<br/><br/>"
            ],
            "text/plain": [
              "<IPython.core.display.HTML object>"
            ]
          },
          "metadata": {
            "tags": []
          }
        },
        {
          "output_type": "display_data",
          "data": {
            "text/html": [
              "\n",
              "                Tracking run with wandb version 0.10.26<br/>\n",
              "                Syncing run <strong style=\"color:#cdcd00\">firm-sweep-12</strong> to <a href=\"https://wandb.ai\" target=\"_blank\">Weights & Biases</a> <a href=\"https://docs.wandb.com/integrations/jupyter.html\" target=\"_blank\">(Documentation)</a>.<br/>\n",
              "                Project page: <a href=\"https://wandb.ai/cs6910-team/DL-Assignment2-PartB\" target=\"_blank\">https://wandb.ai/cs6910-team/DL-Assignment2-PartB</a><br/>\n",
              "                Sweep page: <a href=\"https://wandb.ai/cs6910-team/DL-Assignment2-PartB/sweeps/wdu7jyge\" target=\"_blank\">https://wandb.ai/cs6910-team/DL-Assignment2-PartB/sweeps/wdu7jyge</a><br/>\n",
              "Run page: <a href=\"https://wandb.ai/cs6910-team/DL-Assignment2-PartB/runs/j93emz11\" target=\"_blank\">https://wandb.ai/cs6910-team/DL-Assignment2-PartB/runs/j93emz11</a><br/>\n",
              "                Run data is saved locally in <code>/content/wandb/run-20210414_090009-j93emz11</code><br/><br/>\n",
              "            "
            ],
            "text/plain": [
              "<IPython.core.display.HTML object>"
            ]
          },
          "metadata": {
            "tags": []
          }
        },
        {
          "output_type": "stream",
          "text": [
            "Epoch 1/10\n",
            "62/62 [==============================] - 89s 1s/step - loss: 2.1274 - accuracy: 0.2862 - val_loss: 1.5148 - val_accuracy: 0.5892\n"
          ],
          "name": "stdout"
        },
        {
          "output_type": "stream",
          "text": [
            "\u001b[34m\u001b[1mwandb\u001b[0m: \u001b[32m\u001b[41mERROR\u001b[0m Can't save model, h5py returned error: Saving the model to HDF5 format requires the model to be a Functional model or a Sequential model. It does not work for subclassed models, because such models are defined via the body of a Python method, which isn't safely serializable. Consider saving to the Tensorflow SavedModel format (by setting save_format=\"tf\") or using `save_weights`.\n"
          ],
          "name": "stderr"
        },
        {
          "output_type": "stream",
          "text": [
            "Epoch 2/10\n",
            "62/62 [==============================] - 85s 1s/step - loss: 1.3383 - accuracy: 0.5546 - val_loss: 1.4629 - val_accuracy: 0.6310\n",
            "Epoch 3/10\n",
            "62/62 [==============================] - 84s 1s/step - loss: 1.0497 - accuracy: 0.6424 - val_loss: 1.2647 - val_accuracy: 0.6573\n",
            "Epoch 4/10\n",
            "62/62 [==============================] - 85s 1s/step - loss: 0.9323 - accuracy: 0.6991 - val_loss: 1.1899 - val_accuracy: 0.6623\n",
            "Epoch 5/10\n",
            "62/62 [==============================] - 85s 1s/step - loss: 0.8649 - accuracy: 0.7213 - val_loss: 1.1865 - val_accuracy: 0.6699\n",
            "Epoch 6/10\n",
            "62/62 [==============================] - 85s 1s/step - loss: 0.8553 - accuracy: 0.7089 - val_loss: 1.1668 - val_accuracy: 0.6835\n",
            "Epoch 7/10\n",
            "62/62 [==============================] - 85s 1s/step - loss: 0.7538 - accuracy: 0.7519 - val_loss: 1.1239 - val_accuracy: 0.6739\n",
            "Epoch 8/10\n",
            "62/62 [==============================] - 85s 1s/step - loss: 0.6750 - accuracy: 0.7867 - val_loss: 1.4610 - val_accuracy: 0.6512\n",
            "Epoch 9/10\n",
            "62/62 [==============================] - 85s 1s/step - loss: 0.6532 - accuracy: 0.7874 - val_loss: 1.2021 - val_accuracy: 0.6880\n",
            "Epoch 10/10\n",
            "62/62 [==============================] - 85s 1s/step - loss: 0.6232 - accuracy: 0.7939 - val_loss: 1.2944 - val_accuracy: 0.6845\n"
          ],
          "name": "stdout"
        },
        {
          "output_type": "stream",
          "text": [
            "\u001b[34m\u001b[1mwandb\u001b[0m: Agent Starting Run: piurnogd with config:\n",
            "\u001b[34m\u001b[1mwandb\u001b[0m: \tbase_model_name: Xception\n",
            "\u001b[34m\u001b[1mwandb\u001b[0m: \tdata_aug: False\n",
            "\u001b[34m\u001b[1mwandb\u001b[0m: \ttune: False\n"
          ],
          "name": "stderr"
        },
        {
          "output_type": "display_data",
          "data": {
            "text/html": [
              "\n",
              "                Tracking run with wandb version 0.10.26<br/>\n",
              "                Syncing run <strong style=\"color:#cdcd00\">northern-sweep-13</strong> to <a href=\"https://wandb.ai\" target=\"_blank\">Weights & Biases</a> <a href=\"https://docs.wandb.com/integrations/jupyter.html\" target=\"_blank\">(Documentation)</a>.<br/>\n",
              "                Project page: <a href=\"https://wandb.ai/cs6910-team/DL-Assignment2-PartB\" target=\"_blank\">https://wandb.ai/cs6910-team/DL-Assignment2-PartB</a><br/>\n",
              "                Sweep page: <a href=\"https://wandb.ai/cs6910-team/DL-Assignment2-PartB/sweeps/wdu7jyge\" target=\"_blank\">https://wandb.ai/cs6910-team/DL-Assignment2-PartB/sweeps/wdu7jyge</a><br/>\n",
              "Run page: <a href=\"https://wandb.ai/cs6910-team/DL-Assignment2-PartB/runs/piurnogd\" target=\"_blank\">https://wandb.ai/cs6910-team/DL-Assignment2-PartB/runs/piurnogd</a><br/>\n",
              "                Run data is saved locally in <code>/content/wandb/run-20210414_091436-piurnogd</code><br/><br/>\n",
              "            "
            ],
            "text/plain": [
              "<IPython.core.display.HTML object>"
            ]
          },
          "metadata": {
            "tags": []
          }
        },
        {
          "output_type": "display_data",
          "data": {
            "text/html": [
              "Finishing last run (ID:piurnogd) before initializing another..."
            ],
            "text/plain": [
              "<IPython.core.display.HTML object>"
            ]
          },
          "metadata": {
            "tags": []
          }
        },
        {
          "output_type": "display_data",
          "data": {
            "text/html": [
              "<br/>Waiting for W&B process to finish, PID 7840<br/>Program ended successfully."
            ],
            "text/plain": [
              "<IPython.core.display.HTML object>"
            ]
          },
          "metadata": {
            "tags": []
          }
        },
        {
          "output_type": "display_data",
          "data": {
            "application/vnd.jupyter.widget-view+json": {
              "model_id": "04e95a84082f467aa8331235763ab9e2",
              "version_minor": 0,
              "version_major": 2
            },
            "text/plain": [
              "VBox(children=(Label(value=' 0.12MB of 0.12MB uploaded (0.00MB deduped)\\r'), FloatProgress(value=1.0, max=1.0)…"
            ]
          },
          "metadata": {
            "tags": []
          }
        },
        {
          "output_type": "display_data",
          "data": {
            "text/html": [
              "Find user logs for this run at: <code>/content/wandb/run-20210414_091436-piurnogd/logs/debug.log</code>"
            ],
            "text/plain": [
              "<IPython.core.display.HTML object>"
            ]
          },
          "metadata": {
            "tags": []
          }
        },
        {
          "output_type": "display_data",
          "data": {
            "text/html": [
              "Find internal logs for this run at: <code>/content/wandb/run-20210414_091436-piurnogd/logs/debug-internal.log</code>"
            ],
            "text/plain": [
              "<IPython.core.display.HTML object>"
            ]
          },
          "metadata": {
            "tags": []
          }
        },
        {
          "output_type": "display_data",
          "data": {
            "text/html": [
              "Synced 4 W&B file(s), 0 media file(s), 2 artifact file(s) and 1 other file(s)"
            ],
            "text/plain": [
              "<IPython.core.display.HTML object>"
            ]
          },
          "metadata": {
            "tags": []
          }
        },
        {
          "output_type": "display_data",
          "data": {
            "text/html": [
              "\n",
              "                    <br/>Synced <strong style=\"color:#cdcd00\">northern-sweep-13</strong>: <a href=\"https://wandb.ai/cs6910-team/DL-Assignment2-PartB/runs/piurnogd\" target=\"_blank\">https://wandb.ai/cs6910-team/DL-Assignment2-PartB/runs/piurnogd</a><br/>\n",
              "                "
            ],
            "text/plain": [
              "<IPython.core.display.HTML object>"
            ]
          },
          "metadata": {
            "tags": []
          }
        },
        {
          "output_type": "display_data",
          "data": {
            "text/html": [
              "...Successfully finished last run (ID:piurnogd). Initializing new run:<br/><br/>"
            ],
            "text/plain": [
              "<IPython.core.display.HTML object>"
            ]
          },
          "metadata": {
            "tags": []
          }
        },
        {
          "output_type": "display_data",
          "data": {
            "text/html": [
              "\n",
              "                Tracking run with wandb version 0.10.26<br/>\n",
              "                Syncing run <strong style=\"color:#cdcd00\">northern-sweep-13</strong> to <a href=\"https://wandb.ai\" target=\"_blank\">Weights & Biases</a> <a href=\"https://docs.wandb.com/integrations/jupyter.html\" target=\"_blank\">(Documentation)</a>.<br/>\n",
              "                Project page: <a href=\"https://wandb.ai/cs6910-team/DL-Assignment2-PartB\" target=\"_blank\">https://wandb.ai/cs6910-team/DL-Assignment2-PartB</a><br/>\n",
              "                Sweep page: <a href=\"https://wandb.ai/cs6910-team/DL-Assignment2-PartB/sweeps/wdu7jyge\" target=\"_blank\">https://wandb.ai/cs6910-team/DL-Assignment2-PartB/sweeps/wdu7jyge</a><br/>\n",
              "Run page: <a href=\"https://wandb.ai/cs6910-team/DL-Assignment2-PartB/runs/piurnogd\" target=\"_blank\">https://wandb.ai/cs6910-team/DL-Assignment2-PartB/runs/piurnogd</a><br/>\n",
              "                Run data is saved locally in <code>/content/wandb/run-20210414_091444-piurnogd</code><br/><br/>\n",
              "            "
            ],
            "text/plain": [
              "<IPython.core.display.HTML object>"
            ]
          },
          "metadata": {
            "tags": []
          }
        },
        {
          "output_type": "stream",
          "text": [
            "Downloading data from https://storage.googleapis.com/tensorflow/keras-applications/xception/xception_weights_tf_dim_ordering_tf_kernels_notop.h5\n",
            "83689472/83683744 [==============================] - 1s 0us/step\n",
            "Epoch 1/10\n",
            "62/62 [==============================] - 46s 626ms/step - loss: 16.8733 - accuracy: 0.1074 - val_loss: 9.7246 - val_accuracy: 0.1000\n"
          ],
          "name": "stdout"
        },
        {
          "output_type": "stream",
          "text": [
            "\u001b[34m\u001b[1mwandb\u001b[0m: \u001b[32m\u001b[41mERROR\u001b[0m Can't save model, h5py returned error: Saving the model to HDF5 format requires the model to be a Functional model or a Sequential model. It does not work for subclassed models, because such models are defined via the body of a Python method, which isn't safely serializable. Consider saving to the Tensorflow SavedModel format (by setting save_format=\"tf\") or using `save_weights`.\n"
          ],
          "name": "stderr"
        },
        {
          "output_type": "stream",
          "text": [
            "Epoch 2/10\n",
            "62/62 [==============================] - 38s 581ms/step - loss: 8.1178 - accuracy: 0.1306 - val_loss: 6.9283 - val_accuracy: 0.1396\n",
            "Epoch 3/10\n",
            "62/62 [==============================] - 38s 581ms/step - loss: 6.4907 - accuracy: 0.1509 - val_loss: 5.8906 - val_accuracy: 0.1479\n",
            "Epoch 4/10\n",
            "62/62 [==============================] - 38s 581ms/step - loss: 5.5501 - accuracy: 0.1540 - val_loss: 5.6022 - val_accuracy: 0.1521\n",
            "Epoch 5/10\n",
            "62/62 [==============================] - 38s 581ms/step - loss: 5.1459 - accuracy: 0.1643 - val_loss: 5.2184 - val_accuracy: 0.1500\n",
            "Epoch 6/10\n",
            "62/62 [==============================] - 38s 578ms/step - loss: 4.6732 - accuracy: 0.1791 - val_loss: 5.1491 - val_accuracy: 0.1521\n",
            "Epoch 7/10\n",
            "62/62 [==============================] - 38s 578ms/step - loss: 4.4859 - accuracy: 0.1748 - val_loss: 4.6898 - val_accuracy: 0.1562\n",
            "Epoch 8/10\n",
            "62/62 [==============================] - 38s 581ms/step - loss: 4.2095 - accuracy: 0.1889 - val_loss: 4.5967 - val_accuracy: 0.1583\n",
            "Epoch 9/10\n",
            "62/62 [==============================] - 38s 581ms/step - loss: 4.0553 - accuracy: 0.1740 - val_loss: 4.5205 - val_accuracy: 0.1646\n",
            "Epoch 10/10\n",
            "62/62 [==============================] - 38s 580ms/step - loss: 3.8600 - accuracy: 0.1853 - val_loss: 4.3981 - val_accuracy: 0.1750\n"
          ],
          "name": "stdout"
        },
        {
          "output_type": "stream",
          "text": [
            "\u001b[34m\u001b[1mwandb\u001b[0m: Agent Starting Run: z0r3z643 with config:\n",
            "\u001b[34m\u001b[1mwandb\u001b[0m: \tbase_model_name: Xception\n",
            "\u001b[34m\u001b[1mwandb\u001b[0m: \tdata_aug: False\n",
            "\u001b[34m\u001b[1mwandb\u001b[0m: \ttune: True\n"
          ],
          "name": "stderr"
        },
        {
          "output_type": "display_data",
          "data": {
            "text/html": [
              "\n",
              "                Tracking run with wandb version 0.10.26<br/>\n",
              "                Syncing run <strong style=\"color:#cdcd00\">logical-sweep-14</strong> to <a href=\"https://wandb.ai\" target=\"_blank\">Weights & Biases</a> <a href=\"https://docs.wandb.com/integrations/jupyter.html\" target=\"_blank\">(Documentation)</a>.<br/>\n",
              "                Project page: <a href=\"https://wandb.ai/cs6910-team/DL-Assignment2-PartB\" target=\"_blank\">https://wandb.ai/cs6910-team/DL-Assignment2-PartB</a><br/>\n",
              "                Sweep page: <a href=\"https://wandb.ai/cs6910-team/DL-Assignment2-PartB/sweeps/wdu7jyge\" target=\"_blank\">https://wandb.ai/cs6910-team/DL-Assignment2-PartB/sweeps/wdu7jyge</a><br/>\n",
              "Run page: <a href=\"https://wandb.ai/cs6910-team/DL-Assignment2-PartB/runs/z0r3z643\" target=\"_blank\">https://wandb.ai/cs6910-team/DL-Assignment2-PartB/runs/z0r3z643</a><br/>\n",
              "                Run data is saved locally in <code>/content/wandb/run-20210414_092129-z0r3z643</code><br/><br/>\n",
              "            "
            ],
            "text/plain": [
              "<IPython.core.display.HTML object>"
            ]
          },
          "metadata": {
            "tags": []
          }
        },
        {
          "output_type": "display_data",
          "data": {
            "text/html": [
              "Finishing last run (ID:z0r3z643) before initializing another..."
            ],
            "text/plain": [
              "<IPython.core.display.HTML object>"
            ]
          },
          "metadata": {
            "tags": []
          }
        },
        {
          "output_type": "display_data",
          "data": {
            "text/html": [
              "<br/>Waiting for W&B process to finish, PID 8016<br/>Program ended successfully."
            ],
            "text/plain": [
              "<IPython.core.display.HTML object>"
            ]
          },
          "metadata": {
            "tags": []
          }
        },
        {
          "output_type": "display_data",
          "data": {
            "application/vnd.jupyter.widget-view+json": {
              "model_id": "26df6abf4e7845aa88d200cfdbf364ff",
              "version_minor": 0,
              "version_major": 2
            },
            "text/plain": [
              "VBox(children=(Label(value=' 0.13MB of 0.13MB uploaded (0.00MB deduped)\\r'), FloatProgress(value=1.0, max=1.0)…"
            ]
          },
          "metadata": {
            "tags": []
          }
        },
        {
          "output_type": "display_data",
          "data": {
            "text/html": [
              "Find user logs for this run at: <code>/content/wandb/run-20210414_092129-z0r3z643/logs/debug.log</code>"
            ],
            "text/plain": [
              "<IPython.core.display.HTML object>"
            ]
          },
          "metadata": {
            "tags": []
          }
        },
        {
          "output_type": "display_data",
          "data": {
            "text/html": [
              "Find internal logs for this run at: <code>/content/wandb/run-20210414_092129-z0r3z643/logs/debug-internal.log</code>"
            ],
            "text/plain": [
              "<IPython.core.display.HTML object>"
            ]
          },
          "metadata": {
            "tags": []
          }
        },
        {
          "output_type": "display_data",
          "data": {
            "text/html": [
              "Synced 4 W&B file(s), 0 media file(s), 2 artifact file(s) and 1 other file(s)"
            ],
            "text/plain": [
              "<IPython.core.display.HTML object>"
            ]
          },
          "metadata": {
            "tags": []
          }
        },
        {
          "output_type": "display_data",
          "data": {
            "text/html": [
              "\n",
              "                    <br/>Synced <strong style=\"color:#cdcd00\">logical-sweep-14</strong>: <a href=\"https://wandb.ai/cs6910-team/DL-Assignment2-PartB/runs/z0r3z643\" target=\"_blank\">https://wandb.ai/cs6910-team/DL-Assignment2-PartB/runs/z0r3z643</a><br/>\n",
              "                "
            ],
            "text/plain": [
              "<IPython.core.display.HTML object>"
            ]
          },
          "metadata": {
            "tags": []
          }
        },
        {
          "output_type": "display_data",
          "data": {
            "text/html": [
              "...Successfully finished last run (ID:z0r3z643). Initializing new run:<br/><br/>"
            ],
            "text/plain": [
              "<IPython.core.display.HTML object>"
            ]
          },
          "metadata": {
            "tags": []
          }
        },
        {
          "output_type": "display_data",
          "data": {
            "text/html": [
              "\n",
              "                Tracking run with wandb version 0.10.26<br/>\n",
              "                Syncing run <strong style=\"color:#cdcd00\">logical-sweep-14</strong> to <a href=\"https://wandb.ai\" target=\"_blank\">Weights & Biases</a> <a href=\"https://docs.wandb.com/integrations/jupyter.html\" target=\"_blank\">(Documentation)</a>.<br/>\n",
              "                Project page: <a href=\"https://wandb.ai/cs6910-team/DL-Assignment2-PartB\" target=\"_blank\">https://wandb.ai/cs6910-team/DL-Assignment2-PartB</a><br/>\n",
              "                Sweep page: <a href=\"https://wandb.ai/cs6910-team/DL-Assignment2-PartB/sweeps/wdu7jyge\" target=\"_blank\">https://wandb.ai/cs6910-team/DL-Assignment2-PartB/sweeps/wdu7jyge</a><br/>\n",
              "Run page: <a href=\"https://wandb.ai/cs6910-team/DL-Assignment2-PartB/runs/z0r3z643\" target=\"_blank\">https://wandb.ai/cs6910-team/DL-Assignment2-PartB/runs/z0r3z643</a><br/>\n",
              "                Run data is saved locally in <code>/content/wandb/run-20210414_092131-z0r3z643</code><br/><br/>\n",
              "            "
            ],
            "text/plain": [
              "<IPython.core.display.HTML object>"
            ]
          },
          "metadata": {
            "tags": []
          }
        },
        {
          "output_type": "stream",
          "text": [
            "Epoch 1/10\n",
            "62/62 [==============================] - 46s 651ms/step - loss: 2.2784 - accuracy: 0.1467 - val_loss: 2.2676 - val_accuracy: 0.1729\n"
          ],
          "name": "stdout"
        },
        {
          "output_type": "stream",
          "text": [
            "\u001b[34m\u001b[1mwandb\u001b[0m: \u001b[32m\u001b[41mERROR\u001b[0m Can't save model, h5py returned error: Saving the model to HDF5 format requires the model to be a Functional model or a Sequential model. It does not work for subclassed models, because such models are defined via the body of a Python method, which isn't safely serializable. Consider saving to the Tensorflow SavedModel format (by setting save_format=\"tf\") or using `save_weights`.\n"
          ],
          "name": "stderr"
        },
        {
          "output_type": "stream",
          "text": [
            "Epoch 2/10\n",
            "62/62 [==============================] - 41s 631ms/step - loss: 2.1067 - accuracy: 0.2582 - val_loss: 2.2874 - val_accuracy: 0.1813\n",
            "Epoch 3/10\n",
            "62/62 [==============================] - 41s 632ms/step - loss: 1.9727 - accuracy: 0.3279 - val_loss: 2.1611 - val_accuracy: 0.2229\n",
            "Epoch 4/10\n",
            "62/62 [==============================] - 41s 631ms/step - loss: 1.8173 - accuracy: 0.3678 - val_loss: 2.1440 - val_accuracy: 0.2062\n",
            "Epoch 5/10\n",
            "62/62 [==============================] - 41s 629ms/step - loss: 1.6847 - accuracy: 0.4261 - val_loss: 2.1458 - val_accuracy: 0.2354\n",
            "Epoch 6/10\n",
            "62/62 [==============================] - 41s 632ms/step - loss: 1.5689 - accuracy: 0.4851 - val_loss: 2.2544 - val_accuracy: 0.2188\n",
            "Epoch 7/10\n",
            "62/62 [==============================] - 42s 633ms/step - loss: 1.4017 - accuracy: 0.5764 - val_loss: 2.1521 - val_accuracy: 0.2167\n",
            "Epoch 8/10\n",
            "62/62 [==============================] - 41s 634ms/step - loss: 1.2692 - accuracy: 0.6220 - val_loss: 2.3830 - val_accuracy: 0.1958\n",
            "Epoch 9/10\n",
            "62/62 [==============================] - 41s 631ms/step - loss: 1.1656 - accuracy: 0.6803 - val_loss: 2.2503 - val_accuracy: 0.2292\n",
            "Epoch 10/10\n",
            "62/62 [==============================] - 41s 633ms/step - loss: 1.0162 - accuracy: 0.7443 - val_loss: 2.5481 - val_accuracy: 0.2438\n"
          ],
          "name": "stdout"
        },
        {
          "output_type": "stream",
          "text": [
            "\u001b[34m\u001b[1mwandb\u001b[0m: Agent Starting Run: 29tnljtm with config:\n",
            "\u001b[34m\u001b[1mwandb\u001b[0m: \tbase_model_name: Xception\n",
            "\u001b[34m\u001b[1mwandb\u001b[0m: \tdata_aug: True\n",
            "\u001b[34m\u001b[1mwandb\u001b[0m: \ttune: False\n"
          ],
          "name": "stderr"
        },
        {
          "output_type": "display_data",
          "data": {
            "text/html": [
              "\n",
              "                Tracking run with wandb version 0.10.26<br/>\n",
              "                Syncing run <strong style=\"color:#cdcd00\">desert-sweep-15</strong> to <a href=\"https://wandb.ai\" target=\"_blank\">Weights & Biases</a> <a href=\"https://docs.wandb.com/integrations/jupyter.html\" target=\"_blank\">(Documentation)</a>.<br/>\n",
              "                Project page: <a href=\"https://wandb.ai/cs6910-team/DL-Assignment2-PartB\" target=\"_blank\">https://wandb.ai/cs6910-team/DL-Assignment2-PartB</a><br/>\n",
              "                Sweep page: <a href=\"https://wandb.ai/cs6910-team/DL-Assignment2-PartB/sweeps/wdu7jyge\" target=\"_blank\">https://wandb.ai/cs6910-team/DL-Assignment2-PartB/sweeps/wdu7jyge</a><br/>\n",
              "Run page: <a href=\"https://wandb.ai/cs6910-team/DL-Assignment2-PartB/runs/29tnljtm\" target=\"_blank\">https://wandb.ai/cs6910-team/DL-Assignment2-PartB/runs/29tnljtm</a><br/>\n",
              "                Run data is saved locally in <code>/content/wandb/run-20210414_092840-29tnljtm</code><br/><br/>\n",
              "            "
            ],
            "text/plain": [
              "<IPython.core.display.HTML object>"
            ]
          },
          "metadata": {
            "tags": []
          }
        },
        {
          "output_type": "display_data",
          "data": {
            "text/html": [
              "Finishing last run (ID:29tnljtm) before initializing another..."
            ],
            "text/plain": [
              "<IPython.core.display.HTML object>"
            ]
          },
          "metadata": {
            "tags": []
          }
        },
        {
          "output_type": "display_data",
          "data": {
            "text/html": [
              "<br/>Waiting for W&B process to finish, PID 8194<br/>Program ended successfully."
            ],
            "text/plain": [
              "<IPython.core.display.HTML object>"
            ]
          },
          "metadata": {
            "tags": []
          }
        },
        {
          "output_type": "display_data",
          "data": {
            "application/vnd.jupyter.widget-view+json": {
              "model_id": "77d981ecdb824a87aed700dc543467aa",
              "version_minor": 0,
              "version_major": 2
            },
            "text/plain": [
              "VBox(children=(Label(value=' 0.13MB of 0.13MB uploaded (0.00MB deduped)\\r'), FloatProgress(value=1.0, max=1.0)…"
            ]
          },
          "metadata": {
            "tags": []
          }
        },
        {
          "output_type": "display_data",
          "data": {
            "text/html": [
              "Find user logs for this run at: <code>/content/wandb/run-20210414_092840-29tnljtm/logs/debug.log</code>"
            ],
            "text/plain": [
              "<IPython.core.display.HTML object>"
            ]
          },
          "metadata": {
            "tags": []
          }
        },
        {
          "output_type": "display_data",
          "data": {
            "text/html": [
              "Find internal logs for this run at: <code>/content/wandb/run-20210414_092840-29tnljtm/logs/debug-internal.log</code>"
            ],
            "text/plain": [
              "<IPython.core.display.HTML object>"
            ]
          },
          "metadata": {
            "tags": []
          }
        },
        {
          "output_type": "display_data",
          "data": {
            "text/html": [
              "Synced 4 W&B file(s), 0 media file(s), 2 artifact file(s) and 1 other file(s)"
            ],
            "text/plain": [
              "<IPython.core.display.HTML object>"
            ]
          },
          "metadata": {
            "tags": []
          }
        },
        {
          "output_type": "display_data",
          "data": {
            "text/html": [
              "\n",
              "                    <br/>Synced <strong style=\"color:#cdcd00\">desert-sweep-15</strong>: <a href=\"https://wandb.ai/cs6910-team/DL-Assignment2-PartB/runs/29tnljtm\" target=\"_blank\">https://wandb.ai/cs6910-team/DL-Assignment2-PartB/runs/29tnljtm</a><br/>\n",
              "                "
            ],
            "text/plain": [
              "<IPython.core.display.HTML object>"
            ]
          },
          "metadata": {
            "tags": []
          }
        },
        {
          "output_type": "display_data",
          "data": {
            "text/html": [
              "...Successfully finished last run (ID:29tnljtm). Initializing new run:<br/><br/>"
            ],
            "text/plain": [
              "<IPython.core.display.HTML object>"
            ]
          },
          "metadata": {
            "tags": []
          }
        },
        {
          "output_type": "display_data",
          "data": {
            "text/html": [
              "\n",
              "                Tracking run with wandb version 0.10.26<br/>\n",
              "                Syncing run <strong style=\"color:#cdcd00\">desert-sweep-15</strong> to <a href=\"https://wandb.ai\" target=\"_blank\">Weights & Biases</a> <a href=\"https://docs.wandb.com/integrations/jupyter.html\" target=\"_blank\">(Documentation)</a>.<br/>\n",
              "                Project page: <a href=\"https://wandb.ai/cs6910-team/DL-Assignment2-PartB\" target=\"_blank\">https://wandb.ai/cs6910-team/DL-Assignment2-PartB</a><br/>\n",
              "                Sweep page: <a href=\"https://wandb.ai/cs6910-team/DL-Assignment2-PartB/sweeps/wdu7jyge\" target=\"_blank\">https://wandb.ai/cs6910-team/DL-Assignment2-PartB/sweeps/wdu7jyge</a><br/>\n",
              "Run page: <a href=\"https://wandb.ai/cs6910-team/DL-Assignment2-PartB/runs/29tnljtm\" target=\"_blank\">https://wandb.ai/cs6910-team/DL-Assignment2-PartB/runs/29tnljtm</a><br/>\n",
              "                Run data is saved locally in <code>/content/wandb/run-20210414_092843-29tnljtm</code><br/><br/>\n",
              "            "
            ],
            "text/plain": [
              "<IPython.core.display.HTML object>"
            ]
          },
          "metadata": {
            "tags": []
          }
        },
        {
          "output_type": "stream",
          "text": [
            "Epoch 1/10\n",
            "62/62 [==============================] - 90s 1s/step - loss: 12.7997 - accuracy: 0.1149 - val_loss: 8.7435 - val_accuracy: 0.1139\n"
          ],
          "name": "stdout"
        },
        {
          "output_type": "stream",
          "text": [
            "\u001b[34m\u001b[1mwandb\u001b[0m: \u001b[32m\u001b[41mERROR\u001b[0m Can't save model, h5py returned error: Saving the model to HDF5 format requires the model to be a Functional model or a Sequential model. It does not work for subclassed models, because such models are defined via the body of a Python method, which isn't safely serializable. Consider saving to the Tensorflow SavedModel format (by setting save_format=\"tf\") or using `save_weights`.\n"
          ],
          "name": "stderr"
        },
        {
          "output_type": "stream",
          "text": [
            "Epoch 2/10\n",
            "62/62 [==============================] - 86s 1s/step - loss: 7.1666 - accuracy: 0.1193 - val_loss: 7.1392 - val_accuracy: 0.1164\n",
            "Epoch 3/10\n",
            "62/62 [==============================] - 86s 1s/step - loss: 6.1316 - accuracy: 0.1311 - val_loss: 6.2513 - val_accuracy: 0.1220\n",
            "Epoch 4/10\n",
            "62/62 [==============================] - 86s 1s/step - loss: 5.5526 - accuracy: 0.1230 - val_loss: 5.7676 - val_accuracy: 0.1245\n",
            "Epoch 5/10\n",
            "62/62 [==============================] - 86s 1s/step - loss: 5.0311 - accuracy: 0.1220 - val_loss: 5.3828 - val_accuracy: 0.1366\n",
            "Epoch 6/10\n",
            "62/62 [==============================] - 86s 1s/step - loss: 4.6036 - accuracy: 0.1443 - val_loss: 5.1996 - val_accuracy: 0.1416\n",
            "Epoch 7/10\n",
            "62/62 [==============================] - 86s 1s/step - loss: 4.6546 - accuracy: 0.1564 - val_loss: 4.9376 - val_accuracy: 0.1426\n",
            "Epoch 8/10\n",
            "62/62 [==============================] - 86s 1s/step - loss: 4.3846 - accuracy: 0.1363 - val_loss: 4.7704 - val_accuracy: 0.1442\n",
            "Epoch 9/10\n",
            "62/62 [==============================] - 86s 1s/step - loss: 4.2830 - accuracy: 0.1374 - val_loss: 4.6364 - val_accuracy: 0.1457\n",
            "Epoch 10/10\n",
            "62/62 [==============================] - 86s 1s/step - loss: 4.2480 - accuracy: 0.1436 - val_loss: 4.5176 - val_accuracy: 0.1482\n"
          ],
          "name": "stdout"
        },
        {
          "output_type": "stream",
          "text": [
            "\u001b[34m\u001b[1mwandb\u001b[0m: Agent Starting Run: ba3h8ard with config:\n",
            "\u001b[34m\u001b[1mwandb\u001b[0m: \tbase_model_name: Xception\n",
            "\u001b[34m\u001b[1mwandb\u001b[0m: \tdata_aug: True\n",
            "\u001b[34m\u001b[1mwandb\u001b[0m: \ttune: True\n"
          ],
          "name": "stderr"
        },
        {
          "output_type": "display_data",
          "data": {
            "text/html": [
              "\n",
              "                Tracking run with wandb version 0.10.26<br/>\n",
              "                Syncing run <strong style=\"color:#cdcd00\">eager-sweep-16</strong> to <a href=\"https://wandb.ai\" target=\"_blank\">Weights & Biases</a> <a href=\"https://docs.wandb.com/integrations/jupyter.html\" target=\"_blank\">(Documentation)</a>.<br/>\n",
              "                Project page: <a href=\"https://wandb.ai/cs6910-team/DL-Assignment2-PartB\" target=\"_blank\">https://wandb.ai/cs6910-team/DL-Assignment2-PartB</a><br/>\n",
              "                Sweep page: <a href=\"https://wandb.ai/cs6910-team/DL-Assignment2-PartB/sweeps/wdu7jyge\" target=\"_blank\">https://wandb.ai/cs6910-team/DL-Assignment2-PartB/sweeps/wdu7jyge</a><br/>\n",
              "Run page: <a href=\"https://wandb.ai/cs6910-team/DL-Assignment2-PartB/runs/ba3h8ard\" target=\"_blank\">https://wandb.ai/cs6910-team/DL-Assignment2-PartB/runs/ba3h8ard</a><br/>\n",
              "                Run data is saved locally in <code>/content/wandb/run-20210414_094322-ba3h8ard</code><br/><br/>\n",
              "            "
            ],
            "text/plain": [
              "<IPython.core.display.HTML object>"
            ]
          },
          "metadata": {
            "tags": []
          }
        },
        {
          "output_type": "display_data",
          "data": {
            "text/html": [
              "Finishing last run (ID:ba3h8ard) before initializing another..."
            ],
            "text/plain": [
              "<IPython.core.display.HTML object>"
            ]
          },
          "metadata": {
            "tags": []
          }
        },
        {
          "output_type": "display_data",
          "data": {
            "text/html": [
              "<br/>Waiting for W&B process to finish, PID 8750<br/>Program ended successfully."
            ],
            "text/plain": [
              "<IPython.core.display.HTML object>"
            ]
          },
          "metadata": {
            "tags": []
          }
        },
        {
          "output_type": "display_data",
          "data": {
            "application/vnd.jupyter.widget-view+json": {
              "model_id": "0b83e8b9eb8f40729206f222e8fcaea7",
              "version_minor": 0,
              "version_major": 2
            },
            "text/plain": [
              "VBox(children=(Label(value=' 0.14MB of 0.14MB uploaded (0.00MB deduped)\\r'), FloatProgress(value=1.0, max=1.0)…"
            ]
          },
          "metadata": {
            "tags": []
          }
        },
        {
          "output_type": "display_data",
          "data": {
            "text/html": [
              "Find user logs for this run at: <code>/content/wandb/run-20210414_094322-ba3h8ard/logs/debug.log</code>"
            ],
            "text/plain": [
              "<IPython.core.display.HTML object>"
            ]
          },
          "metadata": {
            "tags": []
          }
        },
        {
          "output_type": "display_data",
          "data": {
            "text/html": [
              "Find internal logs for this run at: <code>/content/wandb/run-20210414_094322-ba3h8ard/logs/debug-internal.log</code>"
            ],
            "text/plain": [
              "<IPython.core.display.HTML object>"
            ]
          },
          "metadata": {
            "tags": []
          }
        },
        {
          "output_type": "display_data",
          "data": {
            "text/html": [
              "Synced 4 W&B file(s), 0 media file(s), 2 artifact file(s) and 1 other file(s)"
            ],
            "text/plain": [
              "<IPython.core.display.HTML object>"
            ]
          },
          "metadata": {
            "tags": []
          }
        },
        {
          "output_type": "display_data",
          "data": {
            "text/html": [
              "\n",
              "                    <br/>Synced <strong style=\"color:#cdcd00\">eager-sweep-16</strong>: <a href=\"https://wandb.ai/cs6910-team/DL-Assignment2-PartB/runs/ba3h8ard\" target=\"_blank\">https://wandb.ai/cs6910-team/DL-Assignment2-PartB/runs/ba3h8ard</a><br/>\n",
              "                "
            ],
            "text/plain": [
              "<IPython.core.display.HTML object>"
            ]
          },
          "metadata": {
            "tags": []
          }
        },
        {
          "output_type": "display_data",
          "data": {
            "text/html": [
              "...Successfully finished last run (ID:ba3h8ard). Initializing new run:<br/><br/>"
            ],
            "text/plain": [
              "<IPython.core.display.HTML object>"
            ]
          },
          "metadata": {
            "tags": []
          }
        },
        {
          "output_type": "display_data",
          "data": {
            "text/html": [
              "\n",
              "                Tracking run with wandb version 0.10.26<br/>\n",
              "                Syncing run <strong style=\"color:#cdcd00\">eager-sweep-16</strong> to <a href=\"https://wandb.ai\" target=\"_blank\">Weights & Biases</a> <a href=\"https://docs.wandb.com/integrations/jupyter.html\" target=\"_blank\">(Documentation)</a>.<br/>\n",
              "                Project page: <a href=\"https://wandb.ai/cs6910-team/DL-Assignment2-PartB\" target=\"_blank\">https://wandb.ai/cs6910-team/DL-Assignment2-PartB</a><br/>\n",
              "                Sweep page: <a href=\"https://wandb.ai/cs6910-team/DL-Assignment2-PartB/sweeps/wdu7jyge\" target=\"_blank\">https://wandb.ai/cs6910-team/DL-Assignment2-PartB/sweeps/wdu7jyge</a><br/>\n",
              "Run page: <a href=\"https://wandb.ai/cs6910-team/DL-Assignment2-PartB/runs/ba3h8ard\" target=\"_blank\">https://wandb.ai/cs6910-team/DL-Assignment2-PartB/runs/ba3h8ard</a><br/>\n",
              "                Run data is saved locally in <code>/content/wandb/run-20210414_094331-ba3h8ard</code><br/><br/>\n",
              "            "
            ],
            "text/plain": [
              "<IPython.core.display.HTML object>"
            ]
          },
          "metadata": {
            "tags": []
          }
        },
        {
          "output_type": "stream",
          "text": [
            "Epoch 1/10\n",
            "62/62 [==============================] - 92s 1s/step - loss: 2.2913 - accuracy: 0.1185 - val_loss: 2.2749 - val_accuracy: 0.1421\n"
          ],
          "name": "stdout"
        },
        {
          "output_type": "stream",
          "text": [
            "\u001b[34m\u001b[1mwandb\u001b[0m: \u001b[32m\u001b[41mERROR\u001b[0m Can't save model, h5py returned error: Saving the model to HDF5 format requires the model to be a Functional model or a Sequential model. It does not work for subclassed models, because such models are defined via the body of a Python method, which isn't safely serializable. Consider saving to the Tensorflow SavedModel format (by setting save_format=\"tf\") or using `save_weights`.\n"
          ],
          "name": "stderr"
        },
        {
          "output_type": "stream",
          "text": [
            "Epoch 2/10\n",
            "62/62 [==============================] - 88s 1s/step - loss: 2.2507 - accuracy: 0.1648 - val_loss: 2.2529 - val_accuracy: 0.1789\n",
            "Epoch 3/10\n",
            "62/62 [==============================] - 88s 1s/step - loss: 2.2255 - accuracy: 0.1760 - val_loss: 2.1917 - val_accuracy: 0.2031\n",
            "Epoch 4/10\n",
            "62/62 [==============================] - 87s 1s/step - loss: 2.1741 - accuracy: 0.2256 - val_loss: 2.2114 - val_accuracy: 0.1704\n",
            "Epoch 5/10\n",
            "62/62 [==============================] - 87s 1s/step - loss: 2.1823 - accuracy: 0.1905 - val_loss: 2.1798 - val_accuracy: 0.2167\n",
            "Epoch 6/10\n",
            "62/62 [==============================] - 87s 1s/step - loss: 2.1656 - accuracy: 0.2255 - val_loss: 2.1629 - val_accuracy: 0.2203\n",
            "Epoch 7/10\n",
            "62/62 [==============================] - 87s 1s/step - loss: 2.1534 - accuracy: 0.2219 - val_loss: 2.1759 - val_accuracy: 0.1991\n",
            "Epoch 8/10\n",
            "62/62 [==============================] - 87s 1s/step - loss: 2.1427 - accuracy: 0.2112 - val_loss: 2.2195 - val_accuracy: 0.2122\n",
            "Epoch 9/10\n",
            "62/62 [==============================] - 87s 1s/step - loss: 2.1334 - accuracy: 0.2184 - val_loss: 2.0798 - val_accuracy: 0.2369\n",
            "Epoch 10/10\n",
            "62/62 [==============================] - 87s 1s/step - loss: 2.0878 - accuracy: 0.2419 - val_loss: 2.1966 - val_accuracy: 0.1910\n"
          ],
          "name": "stdout"
        },
        {
          "output_type": "stream",
          "text": [
            "\u001b[34m\u001b[1mwandb\u001b[0m: Sweep Agent: Waiting for job.\n",
            "\u001b[34m\u001b[1mwandb\u001b[0m: Sweep Agent: Exiting.\n"
          ],
          "name": "stderr"
        }
      ]
    },
    {
      "cell_type": "code",
      "metadata": {
        "id": "9pWjrCXM83Wb"
      },
      "source": [
        ""
      ],
      "execution_count": 9,
      "outputs": []
    }
  ]
}