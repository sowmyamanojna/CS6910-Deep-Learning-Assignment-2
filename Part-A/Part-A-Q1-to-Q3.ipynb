{
  "nbformat": 4,
  "nbformat_minor": 0,
  "metadata": {
    "colab": {
      "name": "DL-Assignment2-PartA.ipynb",
      "provenance": [],
      "collapsed_sections": []
    },
    "kernelspec": {
      "name": "python3",
      "display_name": "Python 3"
    },
    "language_info": {
      "name": "python"
    },
    "widgets": {
      "application/vnd.jupyter.widget-state+json": {
        "e8622d034a144735b898d161aabf1080": {
          "model_module": "@jupyter-widgets/controls",
          "model_name": "VBoxModel",
          "state": {
            "_view_name": "VBoxView",
            "_dom_classes": [],
            "_model_name": "VBoxModel",
            "_view_module": "@jupyter-widgets/controls",
            "_model_module_version": "1.5.0",
            "_view_count": null,
            "_view_module_version": "1.5.0",
            "box_style": "",
            "layout": "IPY_MODEL_d4cff88a2d4b4b0bb2a5fc108162b55e",
            "_model_module": "@jupyter-widgets/controls",
            "children": [
              "IPY_MODEL_af2843e73a0048f4be9fde220a51de42",
              "IPY_MODEL_84f9b40c0e604ab59147d6b4ab1f5224"
            ]
          }
        },
        "d4cff88a2d4b4b0bb2a5fc108162b55e": {
          "model_module": "@jupyter-widgets/base",
          "model_name": "LayoutModel",
          "state": {
            "_view_name": "LayoutView",
            "grid_template_rows": null,
            "right": null,
            "justify_content": null,
            "_view_module": "@jupyter-widgets/base",
            "overflow": null,
            "_model_module_version": "1.2.0",
            "_view_count": null,
            "flex_flow": null,
            "width": null,
            "min_width": null,
            "border": null,
            "align_items": null,
            "bottom": null,
            "_model_module": "@jupyter-widgets/base",
            "top": null,
            "grid_column": null,
            "overflow_y": null,
            "overflow_x": null,
            "grid_auto_flow": null,
            "grid_area": null,
            "grid_template_columns": null,
            "flex": null,
            "_model_name": "LayoutModel",
            "justify_items": null,
            "grid_row": null,
            "max_height": null,
            "align_content": null,
            "visibility": null,
            "align_self": null,
            "height": null,
            "min_height": null,
            "padding": null,
            "grid_auto_rows": null,
            "grid_gap": null,
            "max_width": null,
            "order": null,
            "_view_module_version": "1.2.0",
            "grid_template_areas": null,
            "object_position": null,
            "object_fit": null,
            "grid_auto_columns": null,
            "margin": null,
            "display": null,
            "left": null
          }
        },
        "af2843e73a0048f4be9fde220a51de42": {
          "model_module": "@jupyter-widgets/controls",
          "model_name": "LabelModel",
          "state": {
            "_view_name": "LabelView",
            "style": "IPY_MODEL_5387e25ed57344ddb04a2b0e27533473",
            "_dom_classes": [],
            "description": "",
            "_model_name": "LabelModel",
            "placeholder": "​",
            "_view_module": "@jupyter-widgets/controls",
            "_model_module_version": "1.5.0",
            "value": " 0.06MB of 0.06MB uploaded (0.00MB deduped)\r",
            "_view_count": null,
            "_view_module_version": "1.5.0",
            "description_tooltip": null,
            "_model_module": "@jupyter-widgets/controls",
            "layout": "IPY_MODEL_8d75b42a6e6f43b1a8be9d7bc2909f6b"
          }
        },
        "84f9b40c0e604ab59147d6b4ab1f5224": {
          "model_module": "@jupyter-widgets/controls",
          "model_name": "FloatProgressModel",
          "state": {
            "_view_name": "ProgressView",
            "style": "IPY_MODEL_792d2e8b831b489e8d1d960b5a81fad3",
            "_dom_classes": [],
            "description": "",
            "_model_name": "FloatProgressModel",
            "bar_style": "",
            "max": 1,
            "_view_module": "@jupyter-widgets/controls",
            "_model_module_version": "1.5.0",
            "value": 1,
            "_view_count": null,
            "_view_module_version": "1.5.0",
            "orientation": "horizontal",
            "min": 0,
            "description_tooltip": null,
            "_model_module": "@jupyter-widgets/controls",
            "layout": "IPY_MODEL_299587a0f5f8464cac67a2c059381f71"
          }
        },
        "5387e25ed57344ddb04a2b0e27533473": {
          "model_module": "@jupyter-widgets/controls",
          "model_name": "DescriptionStyleModel",
          "state": {
            "_view_name": "StyleView",
            "_model_name": "DescriptionStyleModel",
            "description_width": "",
            "_view_module": "@jupyter-widgets/base",
            "_model_module_version": "1.5.0",
            "_view_count": null,
            "_view_module_version": "1.2.0",
            "_model_module": "@jupyter-widgets/controls"
          }
        },
        "8d75b42a6e6f43b1a8be9d7bc2909f6b": {
          "model_module": "@jupyter-widgets/base",
          "model_name": "LayoutModel",
          "state": {
            "_view_name": "LayoutView",
            "grid_template_rows": null,
            "right": null,
            "justify_content": null,
            "_view_module": "@jupyter-widgets/base",
            "overflow": null,
            "_model_module_version": "1.2.0",
            "_view_count": null,
            "flex_flow": null,
            "width": null,
            "min_width": null,
            "border": null,
            "align_items": null,
            "bottom": null,
            "_model_module": "@jupyter-widgets/base",
            "top": null,
            "grid_column": null,
            "overflow_y": null,
            "overflow_x": null,
            "grid_auto_flow": null,
            "grid_area": null,
            "grid_template_columns": null,
            "flex": null,
            "_model_name": "LayoutModel",
            "justify_items": null,
            "grid_row": null,
            "max_height": null,
            "align_content": null,
            "visibility": null,
            "align_self": null,
            "height": null,
            "min_height": null,
            "padding": null,
            "grid_auto_rows": null,
            "grid_gap": null,
            "max_width": null,
            "order": null,
            "_view_module_version": "1.2.0",
            "grid_template_areas": null,
            "object_position": null,
            "object_fit": null,
            "grid_auto_columns": null,
            "margin": null,
            "display": null,
            "left": null
          }
        },
        "792d2e8b831b489e8d1d960b5a81fad3": {
          "model_module": "@jupyter-widgets/controls",
          "model_name": "ProgressStyleModel",
          "state": {
            "_view_name": "StyleView",
            "_model_name": "ProgressStyleModel",
            "description_width": "",
            "_view_module": "@jupyter-widgets/base",
            "_model_module_version": "1.5.0",
            "_view_count": null,
            "_view_module_version": "1.2.0",
            "bar_color": null,
            "_model_module": "@jupyter-widgets/controls"
          }
        },
        "299587a0f5f8464cac67a2c059381f71": {
          "model_module": "@jupyter-widgets/base",
          "model_name": "LayoutModel",
          "state": {
            "_view_name": "LayoutView",
            "grid_template_rows": null,
            "right": null,
            "justify_content": null,
            "_view_module": "@jupyter-widgets/base",
            "overflow": null,
            "_model_module_version": "1.2.0",
            "_view_count": null,
            "flex_flow": null,
            "width": null,
            "min_width": null,
            "border": null,
            "align_items": null,
            "bottom": null,
            "_model_module": "@jupyter-widgets/base",
            "top": null,
            "grid_column": null,
            "overflow_y": null,
            "overflow_x": null,
            "grid_auto_flow": null,
            "grid_area": null,
            "grid_template_columns": null,
            "flex": null,
            "_model_name": "LayoutModel",
            "justify_items": null,
            "grid_row": null,
            "max_height": null,
            "align_content": null,
            "visibility": null,
            "align_self": null,
            "height": null,
            "min_height": null,
            "padding": null,
            "grid_auto_rows": null,
            "grid_gap": null,
            "max_width": null,
            "order": null,
            "_view_module_version": "1.2.0",
            "grid_template_areas": null,
            "object_position": null,
            "object_fit": null,
            "grid_auto_columns": null,
            "margin": null,
            "display": null,
            "left": null
          }
        },
        "8f1ebd142d274ba8926dfa162910cb57": {
          "model_module": "@jupyter-widgets/controls",
          "model_name": "VBoxModel",
          "state": {
            "_view_name": "VBoxView",
            "_dom_classes": [],
            "_model_name": "VBoxModel",
            "_view_module": "@jupyter-widgets/controls",
            "_model_module_version": "1.5.0",
            "_view_count": null,
            "_view_module_version": "1.5.0",
            "box_style": "",
            "layout": "IPY_MODEL_93f019ea99b148b880195e7398da4802",
            "_model_module": "@jupyter-widgets/controls",
            "children": [
              "IPY_MODEL_82f42363ddd94cb182195f6d611a17b7",
              "IPY_MODEL_42151ff118c14538801a2b8218029758"
            ]
          }
        },
        "93f019ea99b148b880195e7398da4802": {
          "model_module": "@jupyter-widgets/base",
          "model_name": "LayoutModel",
          "state": {
            "_view_name": "LayoutView",
            "grid_template_rows": null,
            "right": null,
            "justify_content": null,
            "_view_module": "@jupyter-widgets/base",
            "overflow": null,
            "_model_module_version": "1.2.0",
            "_view_count": null,
            "flex_flow": null,
            "width": null,
            "min_width": null,
            "border": null,
            "align_items": null,
            "bottom": null,
            "_model_module": "@jupyter-widgets/base",
            "top": null,
            "grid_column": null,
            "overflow_y": null,
            "overflow_x": null,
            "grid_auto_flow": null,
            "grid_area": null,
            "grid_template_columns": null,
            "flex": null,
            "_model_name": "LayoutModel",
            "justify_items": null,
            "grid_row": null,
            "max_height": null,
            "align_content": null,
            "visibility": null,
            "align_self": null,
            "height": null,
            "min_height": null,
            "padding": null,
            "grid_auto_rows": null,
            "grid_gap": null,
            "max_width": null,
            "order": null,
            "_view_module_version": "1.2.0",
            "grid_template_areas": null,
            "object_position": null,
            "object_fit": null,
            "grid_auto_columns": null,
            "margin": null,
            "display": null,
            "left": null
          }
        },
        "82f42363ddd94cb182195f6d611a17b7": {
          "model_module": "@jupyter-widgets/controls",
          "model_name": "LabelModel",
          "state": {
            "_view_name": "LabelView",
            "style": "IPY_MODEL_4978eb22bb7d411d97f9f8fb85fc91d8",
            "_dom_classes": [],
            "description": "",
            "_model_name": "LabelModel",
            "placeholder": "​",
            "_view_module": "@jupyter-widgets/controls",
            "_model_module_version": "1.5.0",
            "value": " 0.07MB of 0.07MB uploaded (0.00MB deduped)\r",
            "_view_count": null,
            "_view_module_version": "1.5.0",
            "description_tooltip": null,
            "_model_module": "@jupyter-widgets/controls",
            "layout": "IPY_MODEL_cba6b94279794e75a98579ef48c324fc"
          }
        },
        "42151ff118c14538801a2b8218029758": {
          "model_module": "@jupyter-widgets/controls",
          "model_name": "FloatProgressModel",
          "state": {
            "_view_name": "ProgressView",
            "style": "IPY_MODEL_3e8eb505a44f4f6ca6dd31bd1bee069c",
            "_dom_classes": [],
            "description": "",
            "_model_name": "FloatProgressModel",
            "bar_style": "",
            "max": 1,
            "_view_module": "@jupyter-widgets/controls",
            "_model_module_version": "1.5.0",
            "value": 1,
            "_view_count": null,
            "_view_module_version": "1.5.0",
            "orientation": "horizontal",
            "min": 0,
            "description_tooltip": null,
            "_model_module": "@jupyter-widgets/controls",
            "layout": "IPY_MODEL_a083483a69674133b9583dfc9bacc468"
          }
        },
        "4978eb22bb7d411d97f9f8fb85fc91d8": {
          "model_module": "@jupyter-widgets/controls",
          "model_name": "DescriptionStyleModel",
          "state": {
            "_view_name": "StyleView",
            "_model_name": "DescriptionStyleModel",
            "description_width": "",
            "_view_module": "@jupyter-widgets/base",
            "_model_module_version": "1.5.0",
            "_view_count": null,
            "_view_module_version": "1.2.0",
            "_model_module": "@jupyter-widgets/controls"
          }
        },
        "cba6b94279794e75a98579ef48c324fc": {
          "model_module": "@jupyter-widgets/base",
          "model_name": "LayoutModel",
          "state": {
            "_view_name": "LayoutView",
            "grid_template_rows": null,
            "right": null,
            "justify_content": null,
            "_view_module": "@jupyter-widgets/base",
            "overflow": null,
            "_model_module_version": "1.2.0",
            "_view_count": null,
            "flex_flow": null,
            "width": null,
            "min_width": null,
            "border": null,
            "align_items": null,
            "bottom": null,
            "_model_module": "@jupyter-widgets/base",
            "top": null,
            "grid_column": null,
            "overflow_y": null,
            "overflow_x": null,
            "grid_auto_flow": null,
            "grid_area": null,
            "grid_template_columns": null,
            "flex": null,
            "_model_name": "LayoutModel",
            "justify_items": null,
            "grid_row": null,
            "max_height": null,
            "align_content": null,
            "visibility": null,
            "align_self": null,
            "height": null,
            "min_height": null,
            "padding": null,
            "grid_auto_rows": null,
            "grid_gap": null,
            "max_width": null,
            "order": null,
            "_view_module_version": "1.2.0",
            "grid_template_areas": null,
            "object_position": null,
            "object_fit": null,
            "grid_auto_columns": null,
            "margin": null,
            "display": null,
            "left": null
          }
        },
        "3e8eb505a44f4f6ca6dd31bd1bee069c": {
          "model_module": "@jupyter-widgets/controls",
          "model_name": "ProgressStyleModel",
          "state": {
            "_view_name": "StyleView",
            "_model_name": "ProgressStyleModel",
            "description_width": "",
            "_view_module": "@jupyter-widgets/base",
            "_model_module_version": "1.5.0",
            "_view_count": null,
            "_view_module_version": "1.2.0",
            "bar_color": null,
            "_model_module": "@jupyter-widgets/controls"
          }
        },
        "a083483a69674133b9583dfc9bacc468": {
          "model_module": "@jupyter-widgets/base",
          "model_name": "LayoutModel",
          "state": {
            "_view_name": "LayoutView",
            "grid_template_rows": null,
            "right": null,
            "justify_content": null,
            "_view_module": "@jupyter-widgets/base",
            "overflow": null,
            "_model_module_version": "1.2.0",
            "_view_count": null,
            "flex_flow": null,
            "width": null,
            "min_width": null,
            "border": null,
            "align_items": null,
            "bottom": null,
            "_model_module": "@jupyter-widgets/base",
            "top": null,
            "grid_column": null,
            "overflow_y": null,
            "overflow_x": null,
            "grid_auto_flow": null,
            "grid_area": null,
            "grid_template_columns": null,
            "flex": null,
            "_model_name": "LayoutModel",
            "justify_items": null,
            "grid_row": null,
            "max_height": null,
            "align_content": null,
            "visibility": null,
            "align_self": null,
            "height": null,
            "min_height": null,
            "padding": null,
            "grid_auto_rows": null,
            "grid_gap": null,
            "max_width": null,
            "order": null,
            "_view_module_version": "1.2.0",
            "grid_template_areas": null,
            "object_position": null,
            "object_fit": null,
            "grid_auto_columns": null,
            "margin": null,
            "display": null,
            "left": null
          }
        },
        "89766206d4e74109b7d068dd6a4ad21d": {
          "model_module": "@jupyter-widgets/controls",
          "model_name": "VBoxModel",
          "state": {
            "_view_name": "VBoxView",
            "_dom_classes": [],
            "_model_name": "VBoxModel",
            "_view_module": "@jupyter-widgets/controls",
            "_model_module_version": "1.5.0",
            "_view_count": null,
            "_view_module_version": "1.5.0",
            "box_style": "",
            "layout": "IPY_MODEL_a1cef1dc297742ba8e31399c8b6799be",
            "_model_module": "@jupyter-widgets/controls",
            "children": [
              "IPY_MODEL_fc2e819074cb43ce92b9d4e650a64ece",
              "IPY_MODEL_f817b1cc2aab4c8b917042f49b26b0ae"
            ]
          }
        },
        "a1cef1dc297742ba8e31399c8b6799be": {
          "model_module": "@jupyter-widgets/base",
          "model_name": "LayoutModel",
          "state": {
            "_view_name": "LayoutView",
            "grid_template_rows": null,
            "right": null,
            "justify_content": null,
            "_view_module": "@jupyter-widgets/base",
            "overflow": null,
            "_model_module_version": "1.2.0",
            "_view_count": null,
            "flex_flow": null,
            "width": null,
            "min_width": null,
            "border": null,
            "align_items": null,
            "bottom": null,
            "_model_module": "@jupyter-widgets/base",
            "top": null,
            "grid_column": null,
            "overflow_y": null,
            "overflow_x": null,
            "grid_auto_flow": null,
            "grid_area": null,
            "grid_template_columns": null,
            "flex": null,
            "_model_name": "LayoutModel",
            "justify_items": null,
            "grid_row": null,
            "max_height": null,
            "align_content": null,
            "visibility": null,
            "align_self": null,
            "height": null,
            "min_height": null,
            "padding": null,
            "grid_auto_rows": null,
            "grid_gap": null,
            "max_width": null,
            "order": null,
            "_view_module_version": "1.2.0",
            "grid_template_areas": null,
            "object_position": null,
            "object_fit": null,
            "grid_auto_columns": null,
            "margin": null,
            "display": null,
            "left": null
          }
        },
        "fc2e819074cb43ce92b9d4e650a64ece": {
          "model_module": "@jupyter-widgets/controls",
          "model_name": "LabelModel",
          "state": {
            "_view_name": "LabelView",
            "style": "IPY_MODEL_c6ff3fe06190463989b788dfa0e8e765",
            "_dom_classes": [],
            "description": "",
            "_model_name": "LabelModel",
            "placeholder": "​",
            "_view_module": "@jupyter-widgets/controls",
            "_model_module_version": "1.5.0",
            "value": " 0.09MB of 0.09MB uploaded (0.00MB deduped)\r",
            "_view_count": null,
            "_view_module_version": "1.5.0",
            "description_tooltip": null,
            "_model_module": "@jupyter-widgets/controls",
            "layout": "IPY_MODEL_ed9436f614a5484db8a4fd844ecea05b"
          }
        },
        "f817b1cc2aab4c8b917042f49b26b0ae": {
          "model_module": "@jupyter-widgets/controls",
          "model_name": "FloatProgressModel",
          "state": {
            "_view_name": "ProgressView",
            "style": "IPY_MODEL_c7113eb4e7f9453aa659f775c337642d",
            "_dom_classes": [],
            "description": "",
            "_model_name": "FloatProgressModel",
            "bar_style": "",
            "max": 1,
            "_view_module": "@jupyter-widgets/controls",
            "_model_module_version": "1.5.0",
            "value": 1,
            "_view_count": null,
            "_view_module_version": "1.5.0",
            "orientation": "horizontal",
            "min": 0,
            "description_tooltip": null,
            "_model_module": "@jupyter-widgets/controls",
            "layout": "IPY_MODEL_bbfd6ed49b5640bda9dd4b23150b2b81"
          }
        },
        "c6ff3fe06190463989b788dfa0e8e765": {
          "model_module": "@jupyter-widgets/controls",
          "model_name": "DescriptionStyleModel",
          "state": {
            "_view_name": "StyleView",
            "_model_name": "DescriptionStyleModel",
            "description_width": "",
            "_view_module": "@jupyter-widgets/base",
            "_model_module_version": "1.5.0",
            "_view_count": null,
            "_view_module_version": "1.2.0",
            "_model_module": "@jupyter-widgets/controls"
          }
        },
        "ed9436f614a5484db8a4fd844ecea05b": {
          "model_module": "@jupyter-widgets/base",
          "model_name": "LayoutModel",
          "state": {
            "_view_name": "LayoutView",
            "grid_template_rows": null,
            "right": null,
            "justify_content": null,
            "_view_module": "@jupyter-widgets/base",
            "overflow": null,
            "_model_module_version": "1.2.0",
            "_view_count": null,
            "flex_flow": null,
            "width": null,
            "min_width": null,
            "border": null,
            "align_items": null,
            "bottom": null,
            "_model_module": "@jupyter-widgets/base",
            "top": null,
            "grid_column": null,
            "overflow_y": null,
            "overflow_x": null,
            "grid_auto_flow": null,
            "grid_area": null,
            "grid_template_columns": null,
            "flex": null,
            "_model_name": "LayoutModel",
            "justify_items": null,
            "grid_row": null,
            "max_height": null,
            "align_content": null,
            "visibility": null,
            "align_self": null,
            "height": null,
            "min_height": null,
            "padding": null,
            "grid_auto_rows": null,
            "grid_gap": null,
            "max_width": null,
            "order": null,
            "_view_module_version": "1.2.0",
            "grid_template_areas": null,
            "object_position": null,
            "object_fit": null,
            "grid_auto_columns": null,
            "margin": null,
            "display": null,
            "left": null
          }
        },
        "c7113eb4e7f9453aa659f775c337642d": {
          "model_module": "@jupyter-widgets/controls",
          "model_name": "ProgressStyleModel",
          "state": {
            "_view_name": "StyleView",
            "_model_name": "ProgressStyleModel",
            "description_width": "",
            "_view_module": "@jupyter-widgets/base",
            "_model_module_version": "1.5.0",
            "_view_count": null,
            "_view_module_version": "1.2.0",
            "bar_color": null,
            "_model_module": "@jupyter-widgets/controls"
          }
        },
        "bbfd6ed49b5640bda9dd4b23150b2b81": {
          "model_module": "@jupyter-widgets/base",
          "model_name": "LayoutModel",
          "state": {
            "_view_name": "LayoutView",
            "grid_template_rows": null,
            "right": null,
            "justify_content": null,
            "_view_module": "@jupyter-widgets/base",
            "overflow": null,
            "_model_module_version": "1.2.0",
            "_view_count": null,
            "flex_flow": null,
            "width": null,
            "min_width": null,
            "border": null,
            "align_items": null,
            "bottom": null,
            "_model_module": "@jupyter-widgets/base",
            "top": null,
            "grid_column": null,
            "overflow_y": null,
            "overflow_x": null,
            "grid_auto_flow": null,
            "grid_area": null,
            "grid_template_columns": null,
            "flex": null,
            "_model_name": "LayoutModel",
            "justify_items": null,
            "grid_row": null,
            "max_height": null,
            "align_content": null,
            "visibility": null,
            "align_self": null,
            "height": null,
            "min_height": null,
            "padding": null,
            "grid_auto_rows": null,
            "grid_gap": null,
            "max_width": null,
            "order": null,
            "_view_module_version": "1.2.0",
            "grid_template_areas": null,
            "object_position": null,
            "object_fit": null,
            "grid_auto_columns": null,
            "margin": null,
            "display": null,
            "left": null
          }
        },
        "76c93d743e03476ebc3f0e58db6802ed": {
          "model_module": "@jupyter-widgets/controls",
          "model_name": "VBoxModel",
          "state": {
            "_view_name": "VBoxView",
            "_dom_classes": [],
            "_model_name": "VBoxModel",
            "_view_module": "@jupyter-widgets/controls",
            "_model_module_version": "1.5.0",
            "_view_count": null,
            "_view_module_version": "1.5.0",
            "box_style": "",
            "layout": "IPY_MODEL_ba5ba54956364bd0b99a54102ad4682a",
            "_model_module": "@jupyter-widgets/controls",
            "children": [
              "IPY_MODEL_9f7ba9243a4941159a721195f17d66bd",
              "IPY_MODEL_2c2e90e5cf124c4b9b906a40165ffc10"
            ]
          }
        },
        "ba5ba54956364bd0b99a54102ad4682a": {
          "model_module": "@jupyter-widgets/base",
          "model_name": "LayoutModel",
          "state": {
            "_view_name": "LayoutView",
            "grid_template_rows": null,
            "right": null,
            "justify_content": null,
            "_view_module": "@jupyter-widgets/base",
            "overflow": null,
            "_model_module_version": "1.2.0",
            "_view_count": null,
            "flex_flow": null,
            "width": null,
            "min_width": null,
            "border": null,
            "align_items": null,
            "bottom": null,
            "_model_module": "@jupyter-widgets/base",
            "top": null,
            "grid_column": null,
            "overflow_y": null,
            "overflow_x": null,
            "grid_auto_flow": null,
            "grid_area": null,
            "grid_template_columns": null,
            "flex": null,
            "_model_name": "LayoutModel",
            "justify_items": null,
            "grid_row": null,
            "max_height": null,
            "align_content": null,
            "visibility": null,
            "align_self": null,
            "height": null,
            "min_height": null,
            "padding": null,
            "grid_auto_rows": null,
            "grid_gap": null,
            "max_width": null,
            "order": null,
            "_view_module_version": "1.2.0",
            "grid_template_areas": null,
            "object_position": null,
            "object_fit": null,
            "grid_auto_columns": null,
            "margin": null,
            "display": null,
            "left": null
          }
        },
        "9f7ba9243a4941159a721195f17d66bd": {
          "model_module": "@jupyter-widgets/controls",
          "model_name": "LabelModel",
          "state": {
            "_view_name": "LabelView",
            "style": "IPY_MODEL_48d11e36b4494ee48d41f49778785986",
            "_dom_classes": [],
            "description": "",
            "_model_name": "LabelModel",
            "placeholder": "​",
            "_view_module": "@jupyter-widgets/controls",
            "_model_module_version": "1.5.0",
            "value": " 0.10MB of 0.10MB uploaded (0.00MB deduped)\r",
            "_view_count": null,
            "_view_module_version": "1.5.0",
            "description_tooltip": null,
            "_model_module": "@jupyter-widgets/controls",
            "layout": "IPY_MODEL_5ef64d0468ac419f939753debd20af5e"
          }
        },
        "2c2e90e5cf124c4b9b906a40165ffc10": {
          "model_module": "@jupyter-widgets/controls",
          "model_name": "FloatProgressModel",
          "state": {
            "_view_name": "ProgressView",
            "style": "IPY_MODEL_bf0b527e40904e5085fccb7c79de78f1",
            "_dom_classes": [],
            "description": "",
            "_model_name": "FloatProgressModel",
            "bar_style": "",
            "max": 1,
            "_view_module": "@jupyter-widgets/controls",
            "_model_module_version": "1.5.0",
            "value": 1,
            "_view_count": null,
            "_view_module_version": "1.5.0",
            "orientation": "horizontal",
            "min": 0,
            "description_tooltip": null,
            "_model_module": "@jupyter-widgets/controls",
            "layout": "IPY_MODEL_7b0656b170e94a0799706a144c432125"
          }
        },
        "48d11e36b4494ee48d41f49778785986": {
          "model_module": "@jupyter-widgets/controls",
          "model_name": "DescriptionStyleModel",
          "state": {
            "_view_name": "StyleView",
            "_model_name": "DescriptionStyleModel",
            "description_width": "",
            "_view_module": "@jupyter-widgets/base",
            "_model_module_version": "1.5.0",
            "_view_count": null,
            "_view_module_version": "1.2.0",
            "_model_module": "@jupyter-widgets/controls"
          }
        },
        "5ef64d0468ac419f939753debd20af5e": {
          "model_module": "@jupyter-widgets/base",
          "model_name": "LayoutModel",
          "state": {
            "_view_name": "LayoutView",
            "grid_template_rows": null,
            "right": null,
            "justify_content": null,
            "_view_module": "@jupyter-widgets/base",
            "overflow": null,
            "_model_module_version": "1.2.0",
            "_view_count": null,
            "flex_flow": null,
            "width": null,
            "min_width": null,
            "border": null,
            "align_items": null,
            "bottom": null,
            "_model_module": "@jupyter-widgets/base",
            "top": null,
            "grid_column": null,
            "overflow_y": null,
            "overflow_x": null,
            "grid_auto_flow": null,
            "grid_area": null,
            "grid_template_columns": null,
            "flex": null,
            "_model_name": "LayoutModel",
            "justify_items": null,
            "grid_row": null,
            "max_height": null,
            "align_content": null,
            "visibility": null,
            "align_self": null,
            "height": null,
            "min_height": null,
            "padding": null,
            "grid_auto_rows": null,
            "grid_gap": null,
            "max_width": null,
            "order": null,
            "_view_module_version": "1.2.0",
            "grid_template_areas": null,
            "object_position": null,
            "object_fit": null,
            "grid_auto_columns": null,
            "margin": null,
            "display": null,
            "left": null
          }
        },
        "bf0b527e40904e5085fccb7c79de78f1": {
          "model_module": "@jupyter-widgets/controls",
          "model_name": "ProgressStyleModel",
          "state": {
            "_view_name": "StyleView",
            "_model_name": "ProgressStyleModel",
            "description_width": "",
            "_view_module": "@jupyter-widgets/base",
            "_model_module_version": "1.5.0",
            "_view_count": null,
            "_view_module_version": "1.2.0",
            "bar_color": null,
            "_model_module": "@jupyter-widgets/controls"
          }
        },
        "7b0656b170e94a0799706a144c432125": {
          "model_module": "@jupyter-widgets/base",
          "model_name": "LayoutModel",
          "state": {
            "_view_name": "LayoutView",
            "grid_template_rows": null,
            "right": null,
            "justify_content": null,
            "_view_module": "@jupyter-widgets/base",
            "overflow": null,
            "_model_module_version": "1.2.0",
            "_view_count": null,
            "flex_flow": null,
            "width": null,
            "min_width": null,
            "border": null,
            "align_items": null,
            "bottom": null,
            "_model_module": "@jupyter-widgets/base",
            "top": null,
            "grid_column": null,
            "overflow_y": null,
            "overflow_x": null,
            "grid_auto_flow": null,
            "grid_area": null,
            "grid_template_columns": null,
            "flex": null,
            "_model_name": "LayoutModel",
            "justify_items": null,
            "grid_row": null,
            "max_height": null,
            "align_content": null,
            "visibility": null,
            "align_self": null,
            "height": null,
            "min_height": null,
            "padding": null,
            "grid_auto_rows": null,
            "grid_gap": null,
            "max_width": null,
            "order": null,
            "_view_module_version": "1.2.0",
            "grid_template_areas": null,
            "object_position": null,
            "object_fit": null,
            "grid_auto_columns": null,
            "margin": null,
            "display": null,
            "left": null
          }
        },
        "673c74e638044e9ebac97e95912cb83a": {
          "model_module": "@jupyter-widgets/controls",
          "model_name": "VBoxModel",
          "state": {
            "_view_name": "VBoxView",
            "_dom_classes": [],
            "_model_name": "VBoxModel",
            "_view_module": "@jupyter-widgets/controls",
            "_model_module_version": "1.5.0",
            "_view_count": null,
            "_view_module_version": "1.5.0",
            "box_style": "",
            "layout": "IPY_MODEL_ecfd199c95a44de2a1c6a23a59ca9e37",
            "_model_module": "@jupyter-widgets/controls",
            "children": [
              "IPY_MODEL_87b308c86d7b484db13ef542e6169d4d",
              "IPY_MODEL_3a4c4013fc3e4b578bb282d8e39c10dd"
            ]
          }
        },
        "ecfd199c95a44de2a1c6a23a59ca9e37": {
          "model_module": "@jupyter-widgets/base",
          "model_name": "LayoutModel",
          "state": {
            "_view_name": "LayoutView",
            "grid_template_rows": null,
            "right": null,
            "justify_content": null,
            "_view_module": "@jupyter-widgets/base",
            "overflow": null,
            "_model_module_version": "1.2.0",
            "_view_count": null,
            "flex_flow": null,
            "width": null,
            "min_width": null,
            "border": null,
            "align_items": null,
            "bottom": null,
            "_model_module": "@jupyter-widgets/base",
            "top": null,
            "grid_column": null,
            "overflow_y": null,
            "overflow_x": null,
            "grid_auto_flow": null,
            "grid_area": null,
            "grid_template_columns": null,
            "flex": null,
            "_model_name": "LayoutModel",
            "justify_items": null,
            "grid_row": null,
            "max_height": null,
            "align_content": null,
            "visibility": null,
            "align_self": null,
            "height": null,
            "min_height": null,
            "padding": null,
            "grid_auto_rows": null,
            "grid_gap": null,
            "max_width": null,
            "order": null,
            "_view_module_version": "1.2.0",
            "grid_template_areas": null,
            "object_position": null,
            "object_fit": null,
            "grid_auto_columns": null,
            "margin": null,
            "display": null,
            "left": null
          }
        },
        "87b308c86d7b484db13ef542e6169d4d": {
          "model_module": "@jupyter-widgets/controls",
          "model_name": "LabelModel",
          "state": {
            "_view_name": "LabelView",
            "style": "IPY_MODEL_01b06c7d4f17439a841d67068142ae3d",
            "_dom_classes": [],
            "description": "",
            "_model_name": "LabelModel",
            "placeholder": "​",
            "_view_module": "@jupyter-widgets/controls",
            "_model_module_version": "1.5.0",
            "value": " 0.11MB of 0.11MB uploaded (0.00MB deduped)\r",
            "_view_count": null,
            "_view_module_version": "1.5.0",
            "description_tooltip": null,
            "_model_module": "@jupyter-widgets/controls",
            "layout": "IPY_MODEL_b01cb1e293434a409258213f4dbc0ff2"
          }
        },
        "3a4c4013fc3e4b578bb282d8e39c10dd": {
          "model_module": "@jupyter-widgets/controls",
          "model_name": "FloatProgressModel",
          "state": {
            "_view_name": "ProgressView",
            "style": "IPY_MODEL_68985871c2ea430eb76077b8bffde80c",
            "_dom_classes": [],
            "description": "",
            "_model_name": "FloatProgressModel",
            "bar_style": "",
            "max": 1,
            "_view_module": "@jupyter-widgets/controls",
            "_model_module_version": "1.5.0",
            "value": 1,
            "_view_count": null,
            "_view_module_version": "1.5.0",
            "orientation": "horizontal",
            "min": 0,
            "description_tooltip": null,
            "_model_module": "@jupyter-widgets/controls",
            "layout": "IPY_MODEL_cbed981b7d4440748a91b9ac30e7e8ba"
          }
        },
        "01b06c7d4f17439a841d67068142ae3d": {
          "model_module": "@jupyter-widgets/controls",
          "model_name": "DescriptionStyleModel",
          "state": {
            "_view_name": "StyleView",
            "_model_name": "DescriptionStyleModel",
            "description_width": "",
            "_view_module": "@jupyter-widgets/base",
            "_model_module_version": "1.5.0",
            "_view_count": null,
            "_view_module_version": "1.2.0",
            "_model_module": "@jupyter-widgets/controls"
          }
        },
        "b01cb1e293434a409258213f4dbc0ff2": {
          "model_module": "@jupyter-widgets/base",
          "model_name": "LayoutModel",
          "state": {
            "_view_name": "LayoutView",
            "grid_template_rows": null,
            "right": null,
            "justify_content": null,
            "_view_module": "@jupyter-widgets/base",
            "overflow": null,
            "_model_module_version": "1.2.0",
            "_view_count": null,
            "flex_flow": null,
            "width": null,
            "min_width": null,
            "border": null,
            "align_items": null,
            "bottom": null,
            "_model_module": "@jupyter-widgets/base",
            "top": null,
            "grid_column": null,
            "overflow_y": null,
            "overflow_x": null,
            "grid_auto_flow": null,
            "grid_area": null,
            "grid_template_columns": null,
            "flex": null,
            "_model_name": "LayoutModel",
            "justify_items": null,
            "grid_row": null,
            "max_height": null,
            "align_content": null,
            "visibility": null,
            "align_self": null,
            "height": null,
            "min_height": null,
            "padding": null,
            "grid_auto_rows": null,
            "grid_gap": null,
            "max_width": null,
            "order": null,
            "_view_module_version": "1.2.0",
            "grid_template_areas": null,
            "object_position": null,
            "object_fit": null,
            "grid_auto_columns": null,
            "margin": null,
            "display": null,
            "left": null
          }
        },
        "68985871c2ea430eb76077b8bffde80c": {
          "model_module": "@jupyter-widgets/controls",
          "model_name": "ProgressStyleModel",
          "state": {
            "_view_name": "StyleView",
            "_model_name": "ProgressStyleModel",
            "description_width": "",
            "_view_module": "@jupyter-widgets/base",
            "_model_module_version": "1.5.0",
            "_view_count": null,
            "_view_module_version": "1.2.0",
            "bar_color": null,
            "_model_module": "@jupyter-widgets/controls"
          }
        },
        "cbed981b7d4440748a91b9ac30e7e8ba": {
          "model_module": "@jupyter-widgets/base",
          "model_name": "LayoutModel",
          "state": {
            "_view_name": "LayoutView",
            "grid_template_rows": null,
            "right": null,
            "justify_content": null,
            "_view_module": "@jupyter-widgets/base",
            "overflow": null,
            "_model_module_version": "1.2.0",
            "_view_count": null,
            "flex_flow": null,
            "width": null,
            "min_width": null,
            "border": null,
            "align_items": null,
            "bottom": null,
            "_model_module": "@jupyter-widgets/base",
            "top": null,
            "grid_column": null,
            "overflow_y": null,
            "overflow_x": null,
            "grid_auto_flow": null,
            "grid_area": null,
            "grid_template_columns": null,
            "flex": null,
            "_model_name": "LayoutModel",
            "justify_items": null,
            "grid_row": null,
            "max_height": null,
            "align_content": null,
            "visibility": null,
            "align_self": null,
            "height": null,
            "min_height": null,
            "padding": null,
            "grid_auto_rows": null,
            "grid_gap": null,
            "max_width": null,
            "order": null,
            "_view_module_version": "1.2.0",
            "grid_template_areas": null,
            "object_position": null,
            "object_fit": null,
            "grid_auto_columns": null,
            "margin": null,
            "display": null,
            "left": null
          }
        },
        "503151b7f76f42f5956d0eeb1c1d38d0": {
          "model_module": "@jupyter-widgets/controls",
          "model_name": "VBoxModel",
          "state": {
            "_view_name": "VBoxView",
            "_dom_classes": [],
            "_model_name": "VBoxModel",
            "_view_module": "@jupyter-widgets/controls",
            "_model_module_version": "1.5.0",
            "_view_count": null,
            "_view_module_version": "1.5.0",
            "box_style": "",
            "layout": "IPY_MODEL_4be19e62462741b09cfee277cb7d2fc8",
            "_model_module": "@jupyter-widgets/controls",
            "children": [
              "IPY_MODEL_73315ebe09394ccab9318fe113ba8f6b",
              "IPY_MODEL_4ca528cadb5741b78539d555f2c45c2d"
            ]
          }
        },
        "4be19e62462741b09cfee277cb7d2fc8": {
          "model_module": "@jupyter-widgets/base",
          "model_name": "LayoutModel",
          "state": {
            "_view_name": "LayoutView",
            "grid_template_rows": null,
            "right": null,
            "justify_content": null,
            "_view_module": "@jupyter-widgets/base",
            "overflow": null,
            "_model_module_version": "1.2.0",
            "_view_count": null,
            "flex_flow": null,
            "width": null,
            "min_width": null,
            "border": null,
            "align_items": null,
            "bottom": null,
            "_model_module": "@jupyter-widgets/base",
            "top": null,
            "grid_column": null,
            "overflow_y": null,
            "overflow_x": null,
            "grid_auto_flow": null,
            "grid_area": null,
            "grid_template_columns": null,
            "flex": null,
            "_model_name": "LayoutModel",
            "justify_items": null,
            "grid_row": null,
            "max_height": null,
            "align_content": null,
            "visibility": null,
            "align_self": null,
            "height": null,
            "min_height": null,
            "padding": null,
            "grid_auto_rows": null,
            "grid_gap": null,
            "max_width": null,
            "order": null,
            "_view_module_version": "1.2.0",
            "grid_template_areas": null,
            "object_position": null,
            "object_fit": null,
            "grid_auto_columns": null,
            "margin": null,
            "display": null,
            "left": null
          }
        },
        "73315ebe09394ccab9318fe113ba8f6b": {
          "model_module": "@jupyter-widgets/controls",
          "model_name": "LabelModel",
          "state": {
            "_view_name": "LabelView",
            "style": "IPY_MODEL_d144d636268945e0b6d6d6a819e07c74",
            "_dom_classes": [],
            "description": "",
            "_model_name": "LabelModel",
            "placeholder": "​",
            "_view_module": "@jupyter-widgets/controls",
            "_model_module_version": "1.5.0",
            "value": " 0.13MB of 0.13MB uploaded (0.00MB deduped)\r",
            "_view_count": null,
            "_view_module_version": "1.5.0",
            "description_tooltip": null,
            "_model_module": "@jupyter-widgets/controls",
            "layout": "IPY_MODEL_20e387fa99724171b7082fa335578d06"
          }
        },
        "4ca528cadb5741b78539d555f2c45c2d": {
          "model_module": "@jupyter-widgets/controls",
          "model_name": "FloatProgressModel",
          "state": {
            "_view_name": "ProgressView",
            "style": "IPY_MODEL_920ff95910e046c88f0a73672587266a",
            "_dom_classes": [],
            "description": "",
            "_model_name": "FloatProgressModel",
            "bar_style": "",
            "max": 1,
            "_view_module": "@jupyter-widgets/controls",
            "_model_module_version": "1.5.0",
            "value": 1,
            "_view_count": null,
            "_view_module_version": "1.5.0",
            "orientation": "horizontal",
            "min": 0,
            "description_tooltip": null,
            "_model_module": "@jupyter-widgets/controls",
            "layout": "IPY_MODEL_6f75fcab58984ae9a46ce366c9b3efa8"
          }
        },
        "d144d636268945e0b6d6d6a819e07c74": {
          "model_module": "@jupyter-widgets/controls",
          "model_name": "DescriptionStyleModel",
          "state": {
            "_view_name": "StyleView",
            "_model_name": "DescriptionStyleModel",
            "description_width": "",
            "_view_module": "@jupyter-widgets/base",
            "_model_module_version": "1.5.0",
            "_view_count": null,
            "_view_module_version": "1.2.0",
            "_model_module": "@jupyter-widgets/controls"
          }
        },
        "20e387fa99724171b7082fa335578d06": {
          "model_module": "@jupyter-widgets/base",
          "model_name": "LayoutModel",
          "state": {
            "_view_name": "LayoutView",
            "grid_template_rows": null,
            "right": null,
            "justify_content": null,
            "_view_module": "@jupyter-widgets/base",
            "overflow": null,
            "_model_module_version": "1.2.0",
            "_view_count": null,
            "flex_flow": null,
            "width": null,
            "min_width": null,
            "border": null,
            "align_items": null,
            "bottom": null,
            "_model_module": "@jupyter-widgets/base",
            "top": null,
            "grid_column": null,
            "overflow_y": null,
            "overflow_x": null,
            "grid_auto_flow": null,
            "grid_area": null,
            "grid_template_columns": null,
            "flex": null,
            "_model_name": "LayoutModel",
            "justify_items": null,
            "grid_row": null,
            "max_height": null,
            "align_content": null,
            "visibility": null,
            "align_self": null,
            "height": null,
            "min_height": null,
            "padding": null,
            "grid_auto_rows": null,
            "grid_gap": null,
            "max_width": null,
            "order": null,
            "_view_module_version": "1.2.0",
            "grid_template_areas": null,
            "object_position": null,
            "object_fit": null,
            "grid_auto_columns": null,
            "margin": null,
            "display": null,
            "left": null
          }
        },
        "920ff95910e046c88f0a73672587266a": {
          "model_module": "@jupyter-widgets/controls",
          "model_name": "ProgressStyleModel",
          "state": {
            "_view_name": "StyleView",
            "_model_name": "ProgressStyleModel",
            "description_width": "",
            "_view_module": "@jupyter-widgets/base",
            "_model_module_version": "1.5.0",
            "_view_count": null,
            "_view_module_version": "1.2.0",
            "bar_color": null,
            "_model_module": "@jupyter-widgets/controls"
          }
        },
        "6f75fcab58984ae9a46ce366c9b3efa8": {
          "model_module": "@jupyter-widgets/base",
          "model_name": "LayoutModel",
          "state": {
            "_view_name": "LayoutView",
            "grid_template_rows": null,
            "right": null,
            "justify_content": null,
            "_view_module": "@jupyter-widgets/base",
            "overflow": null,
            "_model_module_version": "1.2.0",
            "_view_count": null,
            "flex_flow": null,
            "width": null,
            "min_width": null,
            "border": null,
            "align_items": null,
            "bottom": null,
            "_model_module": "@jupyter-widgets/base",
            "top": null,
            "grid_column": null,
            "overflow_y": null,
            "overflow_x": null,
            "grid_auto_flow": null,
            "grid_area": null,
            "grid_template_columns": null,
            "flex": null,
            "_model_name": "LayoutModel",
            "justify_items": null,
            "grid_row": null,
            "max_height": null,
            "align_content": null,
            "visibility": null,
            "align_self": null,
            "height": null,
            "min_height": null,
            "padding": null,
            "grid_auto_rows": null,
            "grid_gap": null,
            "max_width": null,
            "order": null,
            "_view_module_version": "1.2.0",
            "grid_template_areas": null,
            "object_position": null,
            "object_fit": null,
            "grid_auto_columns": null,
            "margin": null,
            "display": null,
            "left": null
          }
        },
        "40402f949f6347fe9186eeab046d1d17": {
          "model_module": "@jupyter-widgets/controls",
          "model_name": "VBoxModel",
          "state": {
            "_view_name": "VBoxView",
            "_dom_classes": [],
            "_model_name": "VBoxModel",
            "_view_module": "@jupyter-widgets/controls",
            "_model_module_version": "1.5.0",
            "_view_count": null,
            "_view_module_version": "1.5.0",
            "box_style": "",
            "layout": "IPY_MODEL_d33c4a5c171c4daa98786bb4aac1283f",
            "_model_module": "@jupyter-widgets/controls",
            "children": [
              "IPY_MODEL_c1b62a32c02e45b59e804e876c49bea8",
              "IPY_MODEL_d8dffe667d554b8c8e4827f15fc88a02"
            ]
          }
        },
        "d33c4a5c171c4daa98786bb4aac1283f": {
          "model_module": "@jupyter-widgets/base",
          "model_name": "LayoutModel",
          "state": {
            "_view_name": "LayoutView",
            "grid_template_rows": null,
            "right": null,
            "justify_content": null,
            "_view_module": "@jupyter-widgets/base",
            "overflow": null,
            "_model_module_version": "1.2.0",
            "_view_count": null,
            "flex_flow": null,
            "width": null,
            "min_width": null,
            "border": null,
            "align_items": null,
            "bottom": null,
            "_model_module": "@jupyter-widgets/base",
            "top": null,
            "grid_column": null,
            "overflow_y": null,
            "overflow_x": null,
            "grid_auto_flow": null,
            "grid_area": null,
            "grid_template_columns": null,
            "flex": null,
            "_model_name": "LayoutModel",
            "justify_items": null,
            "grid_row": null,
            "max_height": null,
            "align_content": null,
            "visibility": null,
            "align_self": null,
            "height": null,
            "min_height": null,
            "padding": null,
            "grid_auto_rows": null,
            "grid_gap": null,
            "max_width": null,
            "order": null,
            "_view_module_version": "1.2.0",
            "grid_template_areas": null,
            "object_position": null,
            "object_fit": null,
            "grid_auto_columns": null,
            "margin": null,
            "display": null,
            "left": null
          }
        },
        "c1b62a32c02e45b59e804e876c49bea8": {
          "model_module": "@jupyter-widgets/controls",
          "model_name": "LabelModel",
          "state": {
            "_view_name": "LabelView",
            "style": "IPY_MODEL_ffee3dd2a7ad4ce9940104b87372384a",
            "_dom_classes": [],
            "description": "",
            "_model_name": "LabelModel",
            "placeholder": "​",
            "_view_module": "@jupyter-widgets/controls",
            "_model_module_version": "1.5.0",
            "value": " 0.14MB of 0.14MB uploaded (0.00MB deduped)\r",
            "_view_count": null,
            "_view_module_version": "1.5.0",
            "description_tooltip": null,
            "_model_module": "@jupyter-widgets/controls",
            "layout": "IPY_MODEL_da0f41f4bbeb4e1da7be2ee887e76efd"
          }
        },
        "d8dffe667d554b8c8e4827f15fc88a02": {
          "model_module": "@jupyter-widgets/controls",
          "model_name": "FloatProgressModel",
          "state": {
            "_view_name": "ProgressView",
            "style": "IPY_MODEL_27a94e033c874cfea3e279233f10d425",
            "_dom_classes": [],
            "description": "",
            "_model_name": "FloatProgressModel",
            "bar_style": "",
            "max": 1,
            "_view_module": "@jupyter-widgets/controls",
            "_model_module_version": "1.5.0",
            "value": 1,
            "_view_count": null,
            "_view_module_version": "1.5.0",
            "orientation": "horizontal",
            "min": 0,
            "description_tooltip": null,
            "_model_module": "@jupyter-widgets/controls",
            "layout": "IPY_MODEL_330e7dffadee431faa7cfa49ce8bcd9a"
          }
        },
        "ffee3dd2a7ad4ce9940104b87372384a": {
          "model_module": "@jupyter-widgets/controls",
          "model_name": "DescriptionStyleModel",
          "state": {
            "_view_name": "StyleView",
            "_model_name": "DescriptionStyleModel",
            "description_width": "",
            "_view_module": "@jupyter-widgets/base",
            "_model_module_version": "1.5.0",
            "_view_count": null,
            "_view_module_version": "1.2.0",
            "_model_module": "@jupyter-widgets/controls"
          }
        },
        "da0f41f4bbeb4e1da7be2ee887e76efd": {
          "model_module": "@jupyter-widgets/base",
          "model_name": "LayoutModel",
          "state": {
            "_view_name": "LayoutView",
            "grid_template_rows": null,
            "right": null,
            "justify_content": null,
            "_view_module": "@jupyter-widgets/base",
            "overflow": null,
            "_model_module_version": "1.2.0",
            "_view_count": null,
            "flex_flow": null,
            "width": null,
            "min_width": null,
            "border": null,
            "align_items": null,
            "bottom": null,
            "_model_module": "@jupyter-widgets/base",
            "top": null,
            "grid_column": null,
            "overflow_y": null,
            "overflow_x": null,
            "grid_auto_flow": null,
            "grid_area": null,
            "grid_template_columns": null,
            "flex": null,
            "_model_name": "LayoutModel",
            "justify_items": null,
            "grid_row": null,
            "max_height": null,
            "align_content": null,
            "visibility": null,
            "align_self": null,
            "height": null,
            "min_height": null,
            "padding": null,
            "grid_auto_rows": null,
            "grid_gap": null,
            "max_width": null,
            "order": null,
            "_view_module_version": "1.2.0",
            "grid_template_areas": null,
            "object_position": null,
            "object_fit": null,
            "grid_auto_columns": null,
            "margin": null,
            "display": null,
            "left": null
          }
        },
        "27a94e033c874cfea3e279233f10d425": {
          "model_module": "@jupyter-widgets/controls",
          "model_name": "ProgressStyleModel",
          "state": {
            "_view_name": "StyleView",
            "_model_name": "ProgressStyleModel",
            "description_width": "",
            "_view_module": "@jupyter-widgets/base",
            "_model_module_version": "1.5.0",
            "_view_count": null,
            "_view_module_version": "1.2.0",
            "bar_color": null,
            "_model_module": "@jupyter-widgets/controls"
          }
        },
        "330e7dffadee431faa7cfa49ce8bcd9a": {
          "model_module": "@jupyter-widgets/base",
          "model_name": "LayoutModel",
          "state": {
            "_view_name": "LayoutView",
            "grid_template_rows": null,
            "right": null,
            "justify_content": null,
            "_view_module": "@jupyter-widgets/base",
            "overflow": null,
            "_model_module_version": "1.2.0",
            "_view_count": null,
            "flex_flow": null,
            "width": null,
            "min_width": null,
            "border": null,
            "align_items": null,
            "bottom": null,
            "_model_module": "@jupyter-widgets/base",
            "top": null,
            "grid_column": null,
            "overflow_y": null,
            "overflow_x": null,
            "grid_auto_flow": null,
            "grid_area": null,
            "grid_template_columns": null,
            "flex": null,
            "_model_name": "LayoutModel",
            "justify_items": null,
            "grid_row": null,
            "max_height": null,
            "align_content": null,
            "visibility": null,
            "align_self": null,
            "height": null,
            "min_height": null,
            "padding": null,
            "grid_auto_rows": null,
            "grid_gap": null,
            "max_width": null,
            "order": null,
            "_view_module_version": "1.2.0",
            "grid_template_areas": null,
            "object_position": null,
            "object_fit": null,
            "grid_auto_columns": null,
            "margin": null,
            "display": null,
            "left": null
          }
        },
        "db98bcbf76c24458bcc1b337ad0465aa": {
          "model_module": "@jupyter-widgets/controls",
          "model_name": "VBoxModel",
          "state": {
            "_view_name": "VBoxView",
            "_dom_classes": [],
            "_model_name": "VBoxModel",
            "_view_module": "@jupyter-widgets/controls",
            "_model_module_version": "1.5.0",
            "_view_count": null,
            "_view_module_version": "1.5.0",
            "box_style": "",
            "layout": "IPY_MODEL_dc0e1f929ac1403cb09d7a3fdeacfc2d",
            "_model_module": "@jupyter-widgets/controls",
            "children": [
              "IPY_MODEL_c07d4e8c40c94e958adff1d72094a2a1",
              "IPY_MODEL_153474b14c5d448aa49932ac2322542b"
            ]
          }
        },
        "dc0e1f929ac1403cb09d7a3fdeacfc2d": {
          "model_module": "@jupyter-widgets/base",
          "model_name": "LayoutModel",
          "state": {
            "_view_name": "LayoutView",
            "grid_template_rows": null,
            "right": null,
            "justify_content": null,
            "_view_module": "@jupyter-widgets/base",
            "overflow": null,
            "_model_module_version": "1.2.0",
            "_view_count": null,
            "flex_flow": null,
            "width": null,
            "min_width": null,
            "border": null,
            "align_items": null,
            "bottom": null,
            "_model_module": "@jupyter-widgets/base",
            "top": null,
            "grid_column": null,
            "overflow_y": null,
            "overflow_x": null,
            "grid_auto_flow": null,
            "grid_area": null,
            "grid_template_columns": null,
            "flex": null,
            "_model_name": "LayoutModel",
            "justify_items": null,
            "grid_row": null,
            "max_height": null,
            "align_content": null,
            "visibility": null,
            "align_self": null,
            "height": null,
            "min_height": null,
            "padding": null,
            "grid_auto_rows": null,
            "grid_gap": null,
            "max_width": null,
            "order": null,
            "_view_module_version": "1.2.0",
            "grid_template_areas": null,
            "object_position": null,
            "object_fit": null,
            "grid_auto_columns": null,
            "margin": null,
            "display": null,
            "left": null
          }
        },
        "c07d4e8c40c94e958adff1d72094a2a1": {
          "model_module": "@jupyter-widgets/controls",
          "model_name": "LabelModel",
          "state": {
            "_view_name": "LabelView",
            "style": "IPY_MODEL_5ea18a7891ce4c60955ea10a0328e2ca",
            "_dom_classes": [],
            "description": "",
            "_model_name": "LabelModel",
            "placeholder": "​",
            "_view_module": "@jupyter-widgets/controls",
            "_model_module_version": "1.5.0",
            "value": " 0.16MB of 0.16MB uploaded (0.00MB deduped)\r",
            "_view_count": null,
            "_view_module_version": "1.5.0",
            "description_tooltip": null,
            "_model_module": "@jupyter-widgets/controls",
            "layout": "IPY_MODEL_57a4cfe5f951465896e8e7ea0452d189"
          }
        },
        "153474b14c5d448aa49932ac2322542b": {
          "model_module": "@jupyter-widgets/controls",
          "model_name": "FloatProgressModel",
          "state": {
            "_view_name": "ProgressView",
            "style": "IPY_MODEL_1d1697bd72a24135866e37bf5f00e729",
            "_dom_classes": [],
            "description": "",
            "_model_name": "FloatProgressModel",
            "bar_style": "",
            "max": 1,
            "_view_module": "@jupyter-widgets/controls",
            "_model_module_version": "1.5.0",
            "value": 1,
            "_view_count": null,
            "_view_module_version": "1.5.0",
            "orientation": "horizontal",
            "min": 0,
            "description_tooltip": null,
            "_model_module": "@jupyter-widgets/controls",
            "layout": "IPY_MODEL_0276a88482134831a5a674591c44de5c"
          }
        },
        "5ea18a7891ce4c60955ea10a0328e2ca": {
          "model_module": "@jupyter-widgets/controls",
          "model_name": "DescriptionStyleModel",
          "state": {
            "_view_name": "StyleView",
            "_model_name": "DescriptionStyleModel",
            "description_width": "",
            "_view_module": "@jupyter-widgets/base",
            "_model_module_version": "1.5.0",
            "_view_count": null,
            "_view_module_version": "1.2.0",
            "_model_module": "@jupyter-widgets/controls"
          }
        },
        "57a4cfe5f951465896e8e7ea0452d189": {
          "model_module": "@jupyter-widgets/base",
          "model_name": "LayoutModel",
          "state": {
            "_view_name": "LayoutView",
            "grid_template_rows": null,
            "right": null,
            "justify_content": null,
            "_view_module": "@jupyter-widgets/base",
            "overflow": null,
            "_model_module_version": "1.2.0",
            "_view_count": null,
            "flex_flow": null,
            "width": null,
            "min_width": null,
            "border": null,
            "align_items": null,
            "bottom": null,
            "_model_module": "@jupyter-widgets/base",
            "top": null,
            "grid_column": null,
            "overflow_y": null,
            "overflow_x": null,
            "grid_auto_flow": null,
            "grid_area": null,
            "grid_template_columns": null,
            "flex": null,
            "_model_name": "LayoutModel",
            "justify_items": null,
            "grid_row": null,
            "max_height": null,
            "align_content": null,
            "visibility": null,
            "align_self": null,
            "height": null,
            "min_height": null,
            "padding": null,
            "grid_auto_rows": null,
            "grid_gap": null,
            "max_width": null,
            "order": null,
            "_view_module_version": "1.2.0",
            "grid_template_areas": null,
            "object_position": null,
            "object_fit": null,
            "grid_auto_columns": null,
            "margin": null,
            "display": null,
            "left": null
          }
        },
        "1d1697bd72a24135866e37bf5f00e729": {
          "model_module": "@jupyter-widgets/controls",
          "model_name": "ProgressStyleModel",
          "state": {
            "_view_name": "StyleView",
            "_model_name": "ProgressStyleModel",
            "description_width": "",
            "_view_module": "@jupyter-widgets/base",
            "_model_module_version": "1.5.0",
            "_view_count": null,
            "_view_module_version": "1.2.0",
            "bar_color": null,
            "_model_module": "@jupyter-widgets/controls"
          }
        },
        "0276a88482134831a5a674591c44de5c": {
          "model_module": "@jupyter-widgets/base",
          "model_name": "LayoutModel",
          "state": {
            "_view_name": "LayoutView",
            "grid_template_rows": null,
            "right": null,
            "justify_content": null,
            "_view_module": "@jupyter-widgets/base",
            "overflow": null,
            "_model_module_version": "1.2.0",
            "_view_count": null,
            "flex_flow": null,
            "width": null,
            "min_width": null,
            "border": null,
            "align_items": null,
            "bottom": null,
            "_model_module": "@jupyter-widgets/base",
            "top": null,
            "grid_column": null,
            "overflow_y": null,
            "overflow_x": null,
            "grid_auto_flow": null,
            "grid_area": null,
            "grid_template_columns": null,
            "flex": null,
            "_model_name": "LayoutModel",
            "justify_items": null,
            "grid_row": null,
            "max_height": null,
            "align_content": null,
            "visibility": null,
            "align_self": null,
            "height": null,
            "min_height": null,
            "padding": null,
            "grid_auto_rows": null,
            "grid_gap": null,
            "max_width": null,
            "order": null,
            "_view_module_version": "1.2.0",
            "grid_template_areas": null,
            "object_position": null,
            "object_fit": null,
            "grid_auto_columns": null,
            "margin": null,
            "display": null,
            "left": null
          }
        }
      }
    },
    "accelerator": "GPU"
  },
  "cells": [
    {
      "cell_type": "code",
      "metadata": {
        "colab": {
          "base_uri": "https://localhost:8080/"
        },
        "id": "yehwNfS7iMel",
        "outputId": "ce8c53c1-0086-4fbe-de8f-b7c622169f95"
      },
      "source": [
        "from google.colab import drive\n",
        "drive.mount('/content/drive')"
      ],
      "execution_count": null,
      "outputs": [
        {
          "output_type": "stream",
          "text": [
            "Drive already mounted at /content/drive; to attempt to forcibly remount, call drive.mount(\"/content/drive\", force_remount=True).\n"
          ],
          "name": "stdout"
        }
      ]
    },
    {
      "cell_type": "code",
      "metadata": {
        "id": "QiDt6t63mSq4",
        "colab": {
          "base_uri": "https://localhost:8080/"
        },
        "outputId": "266de0d6-73ef-443f-9194-71e834cd9d09"
      },
      "source": [
        "!pip install wandb --upgrade\n",
        "import wandb\n",
        "import pathlib\n",
        "import numpy as np\n",
        "import tensorflow as tf\n",
        "from tensorflow.keras.preprocessing import image_dataset_from_directory\n",
        "from tensorflow.keras.preprocessing.image import ImageDataGenerator\n",
        "from tensorflow.keras import layers\n",
        "from tensorflow.keras.layers.experimental.preprocessing import Rescaling\n",
        "from PIL import Image"
      ],
      "execution_count": null,
      "outputs": [
        {
          "output_type": "stream",
          "text": [
            "Requirement already up-to-date: wandb in /usr/local/lib/python3.7/dist-packages (0.10.25)\n",
            "Requirement already satisfied, skipping upgrade: shortuuid>=0.5.0 in /usr/local/lib/python3.7/dist-packages (from wandb) (1.0.1)\n",
            "Requirement already satisfied, skipping upgrade: subprocess32>=3.5.3 in /usr/local/lib/python3.7/dist-packages (from wandb) (3.5.4)\n",
            "Requirement already satisfied, skipping upgrade: requests<3,>=2.0.0 in /usr/local/lib/python3.7/dist-packages (from wandb) (2.23.0)\n",
            "Requirement already satisfied, skipping upgrade: GitPython>=1.0.0 in /usr/local/lib/python3.7/dist-packages (from wandb) (3.1.14)\n",
            "Requirement already satisfied, skipping upgrade: psutil>=5.0.0 in /usr/local/lib/python3.7/dist-packages (from wandb) (5.4.8)\n",
            "Requirement already satisfied, skipping upgrade: six>=1.13.0 in /usr/local/lib/python3.7/dist-packages (from wandb) (1.15.0)\n",
            "Requirement already satisfied, skipping upgrade: sentry-sdk>=0.4.0 in /usr/local/lib/python3.7/dist-packages (from wandb) (1.0.0)\n",
            "Requirement already satisfied, skipping upgrade: docker-pycreds>=0.4.0 in /usr/local/lib/python3.7/dist-packages (from wandb) (0.4.0)\n",
            "Requirement already satisfied, skipping upgrade: protobuf>=3.12.0 in /usr/local/lib/python3.7/dist-packages (from wandb) (3.12.4)\n",
            "Requirement already satisfied, skipping upgrade: promise<3,>=2.0 in /usr/local/lib/python3.7/dist-packages (from wandb) (2.3)\n",
            "Requirement already satisfied, skipping upgrade: python-dateutil>=2.6.1 in /usr/local/lib/python3.7/dist-packages (from wandb) (2.8.1)\n",
            "Requirement already satisfied, skipping upgrade: configparser>=3.8.1 in /usr/local/lib/python3.7/dist-packages (from wandb) (5.0.2)\n",
            "Requirement already satisfied, skipping upgrade: PyYAML in /usr/local/lib/python3.7/dist-packages (from wandb) (3.13)\n",
            "Requirement already satisfied, skipping upgrade: pathtools in /usr/local/lib/python3.7/dist-packages (from wandb) (0.1.2)\n",
            "Requirement already satisfied, skipping upgrade: Click>=7.0 in /usr/local/lib/python3.7/dist-packages (from wandb) (7.1.2)\n",
            "Requirement already satisfied, skipping upgrade: chardet<4,>=3.0.2 in /usr/local/lib/python3.7/dist-packages (from requests<3,>=2.0.0->wandb) (3.0.4)\n",
            "Requirement already satisfied, skipping upgrade: idna<3,>=2.5 in /usr/local/lib/python3.7/dist-packages (from requests<3,>=2.0.0->wandb) (2.10)\n",
            "Requirement already satisfied, skipping upgrade: certifi>=2017.4.17 in /usr/local/lib/python3.7/dist-packages (from requests<3,>=2.0.0->wandb) (2020.12.5)\n",
            "Requirement already satisfied, skipping upgrade: urllib3!=1.25.0,!=1.25.1,<1.26,>=1.21.1 in /usr/local/lib/python3.7/dist-packages (from requests<3,>=2.0.0->wandb) (1.24.3)\n",
            "Requirement already satisfied, skipping upgrade: gitdb<5,>=4.0.1 in /usr/local/lib/python3.7/dist-packages (from GitPython>=1.0.0->wandb) (4.0.7)\n",
            "Requirement already satisfied, skipping upgrade: setuptools in /usr/local/lib/python3.7/dist-packages (from protobuf>=3.12.0->wandb) (54.2.0)\n",
            "Requirement already satisfied, skipping upgrade: smmap<5,>=3.0.1 in /usr/local/lib/python3.7/dist-packages (from gitdb<5,>=4.0.1->GitPython>=1.0.0->wandb) (4.0.0)\n"
          ],
          "name": "stdout"
        }
      ]
    },
    {
      "cell_type": "code",
      "metadata": {
        "id": "Kr967AwfdOnf",
        "colab": {
          "base_uri": "https://localhost:8080/"
        },
        "outputId": "d5728d55-5018-44ea-86e3-f031aaded266"
      },
      "source": [
        "################################################################\n",
        "# Preparing training (without augmentation) and validation set \n",
        "################################################################\n",
        "# Preparing training and validation sets without augmentation\n",
        "# Loading data from directory\n",
        "data_dir = pathlib.Path('/content/drive/MyDrive/inaturalist_12K/train') # Set path to the right directory\n",
        "train_data = tf.keras.preprocessing.image_dataset_from_directory(\n",
        "                      directory = data_dir,\n",
        "                      labels = 'inferred',  \n",
        "                      label_mode = 'categorical',\n",
        "                      color_mode = 'rgb',\n",
        "                      batch_size = 32,\n",
        "                      image_size = (256, 256),\n",
        "                      shuffle = True,\n",
        "                      seed = 17,\n",
        "                      validation_split = 0.2,\n",
        "                      subset = 'training')\n",
        "\n",
        "val_data = tf.keras.preprocessing.image_dataset_from_directory(\n",
        "                      directory = data_dir,\n",
        "                      labels = 'inferred',  \n",
        "                      label_mode = 'categorical',\n",
        "                      color_mode = 'rgb',\n",
        "                      batch_size = 32,\n",
        "                      image_size = (256, 256),\n",
        "                      shuffle = True,\n",
        "                      seed = 17,\n",
        "                      validation_split = 0.2,\n",
        "                      subset = 'validation')\n",
        "\n",
        "# Retaining 25 percent of train and validation data and discarding the rest\n",
        "len_train, len_val = len(train_data), len(val_data)\n",
        "train_data = train_data.take(int(0.25*len_train))\n",
        "val_data = val_data.take(int(0.25*len_val))"
      ],
      "execution_count": null,
      "outputs": [
        {
          "output_type": "stream",
          "text": [
            "Found 10000 files belonging to 10 classes.\n",
            "Using 8000 files for training.\n",
            "Found 10000 files belonging to 10 classes.\n",
            "Using 2000 files for validation.\n"
          ],
          "name": "stdout"
        }
      ]
    },
    {
      "cell_type": "code",
      "metadata": {
        "colab": {
          "base_uri": "https://localhost:8080/"
        },
        "id": "wS_FwUfhyxYL",
        "outputId": "26ce0d3a-97de-4980-f0f9-aad926962c84"
      },
      "source": [
        "train_data"
      ],
      "execution_count": null,
      "outputs": [
        {
          "output_type": "execute_result",
          "data": {
            "text/plain": [
              "<TakeDataset shapes: ((None, 256, 256, 3), (None, 10)), types: (tf.float32, tf.float32)>"
            ]
          },
          "metadata": {
            "tags": []
          },
          "execution_count": 5
        }
      ]
    },
    {
      "cell_type": "code",
      "metadata": {
        "id": "vbdra0Y50WR4",
        "colab": {
          "base_uri": "https://localhost:8080/"
        },
        "outputId": "23b159e2-6d29-4aa8-a0d6-203a53636ee9"
      },
      "source": [
        "################################################################\n",
        "# Preparing training set with augmentation \n",
        "################################################################\n",
        "train_data_augmenter = ImageDataGenerator(\n",
        "                            rescale = None,\n",
        "                            rotation_range = 20,\n",
        "                            width_shift_range = 0.2,\n",
        "                            height_shift_range = 0.2,\n",
        "                            brightness_range = [0.2, 1.5],\n",
        "                            shear_range = 0.2,\n",
        "                            zoom_range = 0.2,\n",
        "                            horizontal_flip=True,\n",
        "                            data_format = 'channels_last',\n",
        "                            validation_split = 0.2)        #Specifying parameters for augmentation of training data\n",
        "\n",
        "val_data_augmenter = ImageDataGenerator(validation_split = 0.2) #No augmentation of validation data\n",
        "\n",
        "train_aug_gen = train_data_augmenter.flow_from_directory(data_dir, shuffle = True, \\\n",
        "                                                         seed = 17, subset = 'training')\n",
        "val_aug_gen = val_data_augmenter.flow_from_directory(data_dir, shuffle = True, \\\n",
        "                                                     seed = 17, subset = 'validation')\n",
        "\n",
        "train_aug_data = tf.data.Dataset.from_generator(\n",
        "                    lambda: train_aug_gen,\n",
        "                    output_types = (tf.float32, tf.float32),\n",
        "                    output_shapes = ([None, 256, 256, 3], [None, 10]))\n",
        "\n",
        "val_aug_data = tf.data.Dataset.from_generator(\n",
        "                  lambda: val_aug_gen,\n",
        "                  output_types = (tf.float32, tf.float32),\n",
        "                  output_shapes = ([None, 256, 256, 3], [None, 10]))\n",
        "\n",
        "# Retaining 25 percent of train and validation data and discarding the rest\n",
        "train_aug_data = train_aug_data.take(int(0.25*len_train))\n",
        "val_aug_data = val_aug_data.take(int(0.25*len_val))"
      ],
      "execution_count": null,
      "outputs": [
        {
          "output_type": "stream",
          "text": [
            "Found 8001 images belonging to 10 classes.\n",
            "Found 1999 images belonging to 10 classes.\n"
          ],
          "name": "stdout"
        }
      ]
    },
    {
      "cell_type": "code",
      "metadata": {
        "colab": {
          "base_uri": "https://localhost:8080/"
        },
        "id": "nZ4NkZnz9dmN",
        "outputId": "65c3a8cf-d7a3-481d-c171-d34b7018753c"
      },
      "source": [
        "train_aug_data"
      ],
      "execution_count": null,
      "outputs": [
        {
          "output_type": "execute_result",
          "data": {
            "text/plain": [
              "<TakeDataset shapes: ((None, 256, 256, 3), (None, 10)), types: (tf.float32, tf.float32)>"
            ]
          },
          "metadata": {
            "tags": []
          },
          "execution_count": 7
        }
      ]
    },
    {
      "cell_type": "code",
      "metadata": {
        "id": "UgP-LJ1mjgUs"
      },
      "source": [
        "###############################################\n",
        "# Listing the hyperparameters in wandb config \n",
        "###############################################\n",
        "sweep_config = {'name': 'random-test-sweep', 'method': 'random'}\n",
        "sweep_config['metric'] = {'name': 'val_acc', 'goal': 'maximize'}\n",
        "parameters_dict = {\n",
        "                   'first_layer_filters': {'values': [32, 64]},\n",
        "                   'filter_org': {'values': [0.5, 1]}, # Halving, same, doubling in subsequent layers\n",
        "                   'data_aug': {'values': [True]},\n",
        "                   'batch_norm': {'values': [True]}, \n",
        "                   'dropout': {'values': [0.0, 0.2, 0.3]},\n",
        "                   'kernel_size': {'values': [3]},\n",
        "                   'dense_size': {'values': [32, 64, 128]},\n",
        "                   'activation': {'values': ['relu']},\n",
        "                   'num_epochs': {'values': [50]}, \n",
        "                   'optimizer': {'values': ['adam']},\n",
        "                   'conv_layers': {'values': [5]}\n",
        "                  }\n",
        "sweep_config['parameters'] = parameters_dict\n"
      ],
      "execution_count": null,
      "outputs": []
    },
    {
      "cell_type": "code",
      "metadata": {
        "id": "LxqYVwhDjrhp"
      },
      "source": [
        "#####################################\n",
        "# Defining the train function\n",
        "#####################################\n",
        "def CNN_train(config=sweep_config):\n",
        "    with wandb.init(config=config):\n",
        "        config = wandb.init().config\n",
        "        wandb.run.name = 'firstLayerFilters_{}_filterOrg_{}_dataAug_{}_batchNorm_{}_dropout_{}_kerSize_{}_denseSize_{}'\\\n",
        "                         .format(config.first_layer_filters, config.filter_org, config.data_aug, config.batch_norm, config.dropout, config.kernel_size, config.dense_size)\n",
        "        \n",
        "        ###########################################\n",
        "        # Initializing the model architecture\n",
        "        ###########################################\n",
        "        inputs = tf.keras.Input(shape = (256, 256, 3))\n",
        "        x = Rescaling(scale = 1.0/255)(inputs)\n",
        "        filter_sizes = [int(config.first_layer_filters*(config.filter_org**layer_num)) for layer_num in range(config.conv_layers)]\n",
        "        ker_size = config.kernel_size\n",
        "\n",
        "        # Apply some convolution and pooling layers\n",
        "        for layer_num in range(config.conv_layers):\n",
        "            x = layers.Conv2D(filters = filter_sizes[layer_num], kernel_size = (ker_size, ker_size))(x)\n",
        "            if config.batch_norm:\n",
        "                x = layers.BatchNormalization(axis = -1)(x)\n",
        "            x = layers.Activation(config.activation)(x)\n",
        "            x = layers.MaxPooling2D(pool_size = (2, 2))(x)            \n",
        "                \n",
        "        # Dense Layer\n",
        "        x = layers.Flatten()(x)\n",
        "        x = layers.Dense(config.dense_size)(x)\n",
        "        if config.batch_norm:\n",
        "            x = layers.BatchNormalization(axis = -1)(x)\n",
        "        x = layers.Activation(config.activation)(x)\n",
        "        if config.dropout > 0:\n",
        "            x = layers.Dropout(rate = config.dropout)(x)        \n",
        "\n",
        "        # Output Layer\n",
        "        outputs = layers.Dense(10, activation ='softmax')(x)\n",
        "        model = tf.keras.Model(inputs = inputs, outputs = outputs)\n",
        "        #print(model.summary())\n",
        "        ####################################\n",
        "        # Training and evaluating the model\n",
        "        ####################################\n",
        "        # Using training data with or without augmentation\n",
        "        sweep_train_data = train_aug_data if config.data_aug else train_data\n",
        "        sweep_val_data = val_aug_data if config.data_aug else val_data # In any case, validation data is not augmented\n",
        "        \n",
        "        model.compile(optimizer=config.optimizer,\n",
        "                      loss = tf.keras.losses.CategoricalCrossentropy(name = 'loss'),\n",
        "                      metrics = [tf.keras.metrics.CategoricalAccuracy(name = 'acc')])\n",
        "        \n",
        "        # Fitting the model and logging metrics (train_loss, train_acc, val_loss, val_acc) after every epoch\n",
        "        model_hist = model.fit(sweep_train_data, epochs = config.num_epochs,\n",
        "                               validation_data = sweep_val_data, \n",
        "                               callbacks = [tf.keras.callbacks.EarlyStopping(monitor = 'val_acc', patience = 5),\n",
        "                                            wandb.keras.WandbCallback()])"
      ],
      "execution_count": null,
      "outputs": []
    },
    {
      "cell_type": "code",
      "metadata": {
        "colab": {
          "base_uri": "https://localhost:8080/",
          "height": 1000,
          "referenced_widgets": [
            "e8622d034a144735b898d161aabf1080",
            "d4cff88a2d4b4b0bb2a5fc108162b55e",
            "af2843e73a0048f4be9fde220a51de42",
            "84f9b40c0e604ab59147d6b4ab1f5224",
            "5387e25ed57344ddb04a2b0e27533473",
            "8d75b42a6e6f43b1a8be9d7bc2909f6b",
            "792d2e8b831b489e8d1d960b5a81fad3",
            "299587a0f5f8464cac67a2c059381f71",
            "8f1ebd142d274ba8926dfa162910cb57",
            "93f019ea99b148b880195e7398da4802",
            "82f42363ddd94cb182195f6d611a17b7",
            "42151ff118c14538801a2b8218029758",
            "4978eb22bb7d411d97f9f8fb85fc91d8",
            "cba6b94279794e75a98579ef48c324fc",
            "3e8eb505a44f4f6ca6dd31bd1bee069c",
            "a083483a69674133b9583dfc9bacc468",
            "89766206d4e74109b7d068dd6a4ad21d",
            "a1cef1dc297742ba8e31399c8b6799be",
            "fc2e819074cb43ce92b9d4e650a64ece",
            "f817b1cc2aab4c8b917042f49b26b0ae",
            "c6ff3fe06190463989b788dfa0e8e765",
            "ed9436f614a5484db8a4fd844ecea05b",
            "c7113eb4e7f9453aa659f775c337642d",
            "bbfd6ed49b5640bda9dd4b23150b2b81",
            "76c93d743e03476ebc3f0e58db6802ed",
            "ba5ba54956364bd0b99a54102ad4682a",
            "9f7ba9243a4941159a721195f17d66bd",
            "2c2e90e5cf124c4b9b906a40165ffc10",
            "48d11e36b4494ee48d41f49778785986",
            "5ef64d0468ac419f939753debd20af5e",
            "bf0b527e40904e5085fccb7c79de78f1",
            "7b0656b170e94a0799706a144c432125",
            "673c74e638044e9ebac97e95912cb83a",
            "ecfd199c95a44de2a1c6a23a59ca9e37",
            "87b308c86d7b484db13ef542e6169d4d",
            "3a4c4013fc3e4b578bb282d8e39c10dd",
            "01b06c7d4f17439a841d67068142ae3d",
            "b01cb1e293434a409258213f4dbc0ff2",
            "68985871c2ea430eb76077b8bffde80c",
            "cbed981b7d4440748a91b9ac30e7e8ba",
            "503151b7f76f42f5956d0eeb1c1d38d0",
            "4be19e62462741b09cfee277cb7d2fc8",
            "73315ebe09394ccab9318fe113ba8f6b",
            "4ca528cadb5741b78539d555f2c45c2d",
            "d144d636268945e0b6d6d6a819e07c74",
            "20e387fa99724171b7082fa335578d06",
            "920ff95910e046c88f0a73672587266a",
            "6f75fcab58984ae9a46ce366c9b3efa8",
            "40402f949f6347fe9186eeab046d1d17",
            "d33c4a5c171c4daa98786bb4aac1283f",
            "c1b62a32c02e45b59e804e876c49bea8",
            "d8dffe667d554b8c8e4827f15fc88a02",
            "ffee3dd2a7ad4ce9940104b87372384a",
            "da0f41f4bbeb4e1da7be2ee887e76efd",
            "27a94e033c874cfea3e279233f10d425",
            "330e7dffadee431faa7cfa49ce8bcd9a",
            "db98bcbf76c24458bcc1b337ad0465aa",
            "dc0e1f929ac1403cb09d7a3fdeacfc2d",
            "c07d4e8c40c94e958adff1d72094a2a1",
            "153474b14c5d448aa49932ac2322542b",
            "5ea18a7891ce4c60955ea10a0328e2ca",
            "57a4cfe5f951465896e8e7ea0452d189",
            "1d1697bd72a24135866e37bf5f00e729",
            "0276a88482134831a5a674591c44de5c"
          ]
        },
        "id": "Desy3R6gj0LE",
        "outputId": "a66c8646-172b-4c88-aacf-b0d74281eb3e"
      },
      "source": [
        "#################################\n",
        "# Setting up wandb sweeps\n",
        "#################################\n",
        "sweep_id = wandb.sweep(sweep_config, project = 'DL-Assignment2-PartA-5April-2')\n",
        "wandb.agent(sweep_id, function=CNN_train)"
      ],
      "execution_count": null,
      "outputs": [
        {
          "output_type": "stream",
          "text": [
            "Create sweep with ID: firnynx9\n",
            "Sweep URL: https://wandb.ai/cs6910-team/DL-Assignment2-PartA-5April-2/sweeps/firnynx9\n"
          ],
          "name": "stdout"
        },
        {
          "output_type": "stream",
          "text": [
            "\u001b[34m\u001b[1mwandb\u001b[0m: Agent Starting Run: 75xanm09 with config:\n",
            "\u001b[34m\u001b[1mwandb\u001b[0m: \tactivation: relu\n",
            "\u001b[34m\u001b[1mwandb\u001b[0m: \tbatch_norm: True\n",
            "\u001b[34m\u001b[1mwandb\u001b[0m: \tconv_layers: 5\n",
            "\u001b[34m\u001b[1mwandb\u001b[0m: \tdata_aug: True\n",
            "\u001b[34m\u001b[1mwandb\u001b[0m: \tdense_size: 64\n",
            "\u001b[34m\u001b[1mwandb\u001b[0m: \tdropout: 0.3\n",
            "\u001b[34m\u001b[1mwandb\u001b[0m: \tfilter_org: 1\n",
            "\u001b[34m\u001b[1mwandb\u001b[0m: \tfirst_layer_filters: 32\n",
            "\u001b[34m\u001b[1mwandb\u001b[0m: \tkernel_size: 3\n",
            "\u001b[34m\u001b[1mwandb\u001b[0m: \tnum_epochs: 50\n",
            "\u001b[34m\u001b[1mwandb\u001b[0m: \toptimizer: adam\n",
            "\u001b[34m\u001b[1mwandb\u001b[0m: Currently logged in as: \u001b[33mcs6910-team\u001b[0m (use `wandb login --relogin` to force relogin)\n"
          ],
          "name": "stderr"
        },
        {
          "output_type": "display_data",
          "data": {
            "text/html": [
              "\n",
              "                Tracking run with wandb version 0.10.25<br/>\n",
              "                Syncing run <strong style=\"color:#cdcd00\">dutiful-sweep-1</strong> to <a href=\"https://wandb.ai\" target=\"_blank\">Weights & Biases</a> <a href=\"https://docs.wandb.com/integrations/jupyter.html\" target=\"_blank\">(Documentation)</a>.<br/>\n",
              "                Project page: <a href=\"https://wandb.ai/cs6910-team/DL-Assignment2-PartA-5April-2\" target=\"_blank\">https://wandb.ai/cs6910-team/DL-Assignment2-PartA-5April-2</a><br/>\n",
              "                Sweep page: <a href=\"https://wandb.ai/cs6910-team/DL-Assignment2-PartA-5April-2/sweeps/firnynx9\" target=\"_blank\">https://wandb.ai/cs6910-team/DL-Assignment2-PartA-5April-2/sweeps/firnynx9</a><br/>\n",
              "Run page: <a href=\"https://wandb.ai/cs6910-team/DL-Assignment2-PartA-5April-2/runs/75xanm09\" target=\"_blank\">https://wandb.ai/cs6910-team/DL-Assignment2-PartA-5April-2/runs/75xanm09</a><br/>\n",
              "                Run data is saved locally in <code>/content/wandb/run-20210413_080721-75xanm09</code><br/><br/>\n",
              "            "
            ],
            "text/plain": [
              "<IPython.core.display.HTML object>"
            ]
          },
          "metadata": {
            "tags": []
          }
        },
        {
          "output_type": "display_data",
          "data": {
            "text/html": [
              "Finishing last run (ID:75xanm09) before initializing another..."
            ],
            "text/plain": [
              "<IPython.core.display.HTML object>"
            ]
          },
          "metadata": {
            "tags": []
          }
        },
        {
          "output_type": "display_data",
          "data": {
            "text/html": [
              "<br/>Waiting for W&B process to finish, PID 1109<br/>Program ended successfully."
            ],
            "text/plain": [
              "<IPython.core.display.HTML object>"
            ]
          },
          "metadata": {
            "tags": []
          }
        },
        {
          "output_type": "display_data",
          "data": {
            "application/vnd.jupyter.widget-view+json": {
              "model_id": "e8622d034a144735b898d161aabf1080",
              "version_minor": 0,
              "version_major": 2
            },
            "text/plain": [
              "VBox(children=(Label(value=' 0.04MB of 0.04MB uploaded (0.00MB deduped)\\r'), FloatProgress(value=1.0, max=1.0)…"
            ]
          },
          "metadata": {
            "tags": []
          }
        },
        {
          "output_type": "display_data",
          "data": {
            "text/html": [
              "Find user logs for this run at: <code>/content/wandb/run-20210413_080721-75xanm09/logs/debug.log</code>"
            ],
            "text/plain": [
              "<IPython.core.display.HTML object>"
            ]
          },
          "metadata": {
            "tags": []
          }
        },
        {
          "output_type": "display_data",
          "data": {
            "text/html": [
              "Find internal logs for this run at: <code>/content/wandb/run-20210413_080721-75xanm09/logs/debug-internal.log</code>"
            ],
            "text/plain": [
              "<IPython.core.display.HTML object>"
            ]
          },
          "metadata": {
            "tags": []
          }
        },
        {
          "output_type": "display_data",
          "data": {
            "text/html": [
              "Synced 4 W&B file(s), 0 media file(s), 2 artifact file(s) and 1 other file(s)"
            ],
            "text/plain": [
              "<IPython.core.display.HTML object>"
            ]
          },
          "metadata": {
            "tags": []
          }
        },
        {
          "output_type": "display_data",
          "data": {
            "text/html": [
              "\n",
              "                    <br/>Synced <strong style=\"color:#cdcd00\">dutiful-sweep-1</strong>: <a href=\"https://wandb.ai/cs6910-team/DL-Assignment2-PartA-5April-2/runs/75xanm09\" target=\"_blank\">https://wandb.ai/cs6910-team/DL-Assignment2-PartA-5April-2/runs/75xanm09</a><br/>\n",
              "                "
            ],
            "text/plain": [
              "<IPython.core.display.HTML object>"
            ]
          },
          "metadata": {
            "tags": []
          }
        },
        {
          "output_type": "display_data",
          "data": {
            "text/html": [
              "...Successfully finished last run (ID:75xanm09). Initializing new run:<br/><br/>"
            ],
            "text/plain": [
              "<IPython.core.display.HTML object>"
            ]
          },
          "metadata": {
            "tags": []
          }
        },
        {
          "output_type": "display_data",
          "data": {
            "text/html": [
              "\n",
              "                Tracking run with wandb version 0.10.25<br/>\n",
              "                Syncing run <strong style=\"color:#cdcd00\">dutiful-sweep-1</strong> to <a href=\"https://wandb.ai\" target=\"_blank\">Weights & Biases</a> <a href=\"https://docs.wandb.com/integrations/jupyter.html\" target=\"_blank\">(Documentation)</a>.<br/>\n",
              "                Project page: <a href=\"https://wandb.ai/cs6910-team/DL-Assignment2-PartA-5April-2\" target=\"_blank\">https://wandb.ai/cs6910-team/DL-Assignment2-PartA-5April-2</a><br/>\n",
              "                Sweep page: <a href=\"https://wandb.ai/cs6910-team/DL-Assignment2-PartA-5April-2/sweeps/firnynx9\" target=\"_blank\">https://wandb.ai/cs6910-team/DL-Assignment2-PartA-5April-2/sweeps/firnynx9</a><br/>\n",
              "Run page: <a href=\"https://wandb.ai/cs6910-team/DL-Assignment2-PartA-5April-2/runs/75xanm09\" target=\"_blank\">https://wandb.ai/cs6910-team/DL-Assignment2-PartA-5April-2/runs/75xanm09</a><br/>\n",
              "                Run data is saved locally in <code>/content/wandb/run-20210413_080723-75xanm09</code><br/><br/>\n",
              "            "
            ],
            "text/plain": [
              "<IPython.core.display.HTML object>"
            ]
          },
          "metadata": {
            "tags": []
          }
        },
        {
          "output_type": "stream",
          "text": [
            "Epoch 1/50\n",
            "62/62 [==============================] - 104s 1s/step - loss: 2.6069 - acc: 0.1224 - val_loss: 2.3555 - val_acc: 0.0958\n",
            "Epoch 2/50\n",
            "62/62 [==============================] - 71s 1s/step - loss: 2.3364 - acc: 0.1605 - val_loss: 2.4004 - val_acc: 0.1104\n",
            "Epoch 3/50\n",
            "62/62 [==============================] - 71s 1s/step - loss: 2.2678 - acc: 0.1966 - val_loss: 2.4575 - val_acc: 0.1250\n",
            "Epoch 4/50\n",
            "62/62 [==============================] - 72s 1s/step - loss: 2.2523 - acc: 0.1784 - val_loss: 2.3998 - val_acc: 0.0979\n",
            "Epoch 5/50\n",
            "62/62 [==============================] - 70s 1s/step - loss: 2.1841 - acc: 0.2064 - val_loss: 2.2999 - val_acc: 0.1210\n",
            "Epoch 6/50\n",
            "62/62 [==============================] - 71s 1s/step - loss: 2.2008 - acc: 0.2021 - val_loss: 2.3175 - val_acc: 0.1354\n",
            "Epoch 7/50\n",
            "62/62 [==============================] - 71s 1s/step - loss: 2.1811 - acc: 0.2222 - val_loss: 2.1949 - val_acc: 0.1896\n",
            "Epoch 8/50\n",
            "62/62 [==============================] - 70s 1s/step - loss: 2.1688 - acc: 0.2153 - val_loss: 2.0799 - val_acc: 0.2438\n",
            "Epoch 9/50\n",
            "62/62 [==============================] - 70s 1s/step - loss: 2.1487 - acc: 0.2317 - val_loss: 2.0344 - val_acc: 0.2527\n",
            "Epoch 10/50\n",
            "62/62 [==============================] - 72s 1s/step - loss: 2.1167 - acc: 0.2427 - val_loss: 2.0465 - val_acc: 0.2729\n",
            "Epoch 11/50\n",
            "62/62 [==============================] - 71s 1s/step - loss: 2.1082 - acc: 0.2302 - val_loss: 2.0531 - val_acc: 0.2542\n",
            "Epoch 12/50\n",
            "62/62 [==============================] - 71s 1s/step - loss: 2.0677 - acc: 0.2504 - val_loss: 2.0982 - val_acc: 0.2479\n",
            "Epoch 13/50\n",
            "62/62 [==============================] - 70s 1s/step - loss: 2.1103 - acc: 0.2358 - val_loss: 2.2030 - val_acc: 0.2765\n",
            "Epoch 14/50\n",
            "62/62 [==============================] - 72s 1s/step - loss: 2.1181 - acc: 0.2423 - val_loss: 2.0375 - val_acc: 0.2896\n",
            "Epoch 15/50\n",
            "62/62 [==============================] - 70s 1s/step - loss: 2.0421 - acc: 0.2524 - val_loss: 2.0203 - val_acc: 0.2792\n",
            "Epoch 16/50\n",
            "62/62 [==============================] - 73s 1s/step - loss: 2.1187 - acc: 0.2331 - val_loss: 2.0578 - val_acc: 0.2937\n",
            "Epoch 17/50\n",
            "62/62 [==============================] - 71s 1s/step - loss: 2.0421 - acc: 0.2834 - val_loss: 2.0214 - val_acc: 0.3002\n",
            "Epoch 18/50\n",
            "62/62 [==============================] - 71s 1s/step - loss: 2.0712 - acc: 0.2618 - val_loss: 1.9468 - val_acc: 0.3292\n",
            "Epoch 19/50\n",
            "62/62 [==============================] - 71s 1s/step - loss: 2.0911 - acc: 0.2628 - val_loss: 2.0423 - val_acc: 0.2667\n",
            "Epoch 20/50\n",
            "62/62 [==============================] - 71s 1s/step - loss: 2.0224 - acc: 0.2923 - val_loss: 2.0146 - val_acc: 0.2937\n",
            "Epoch 21/50\n",
            "62/62 [==============================] - 70s 1s/step - loss: 2.0151 - acc: 0.2920 - val_loss: 2.0408 - val_acc: 0.2873\n",
            "Epoch 22/50\n",
            "62/62 [==============================] - 71s 1s/step - loss: 2.0168 - acc: 0.2824 - val_loss: 2.1140 - val_acc: 0.2458\n",
            "Epoch 23/50\n",
            "62/62 [==============================] - 70s 1s/step - loss: 2.0339 - acc: 0.2818 - val_loss: 2.0068 - val_acc: 0.2792\n"
          ],
          "name": "stdout"
        },
        {
          "output_type": "stream",
          "text": [
            "\u001b[34m\u001b[1mwandb\u001b[0m: Sweep Agent: Waiting for job.\n",
            "\u001b[34m\u001b[1mwandb\u001b[0m: Job received.\n",
            "\u001b[34m\u001b[1mwandb\u001b[0m: Agent Starting Run: 5dd724e3 with config:\n",
            "\u001b[34m\u001b[1mwandb\u001b[0m: \tactivation: relu\n",
            "\u001b[34m\u001b[1mwandb\u001b[0m: \tbatch_norm: True\n",
            "\u001b[34m\u001b[1mwandb\u001b[0m: \tconv_layers: 5\n",
            "\u001b[34m\u001b[1mwandb\u001b[0m: \tdata_aug: True\n",
            "\u001b[34m\u001b[1mwandb\u001b[0m: \tdense_size: 64\n",
            "\u001b[34m\u001b[1mwandb\u001b[0m: \tdropout: 0\n",
            "\u001b[34m\u001b[1mwandb\u001b[0m: \tfilter_org: 0.5\n",
            "\u001b[34m\u001b[1mwandb\u001b[0m: \tfirst_layer_filters: 64\n",
            "\u001b[34m\u001b[1mwandb\u001b[0m: \tkernel_size: 3\n",
            "\u001b[34m\u001b[1mwandb\u001b[0m: \tnum_epochs: 50\n",
            "\u001b[34m\u001b[1mwandb\u001b[0m: \toptimizer: adam\n"
          ],
          "name": "stderr"
        },
        {
          "output_type": "display_data",
          "data": {
            "text/html": [
              "\n",
              "                Tracking run with wandb version 0.10.25<br/>\n",
              "                Syncing run <strong style=\"color:#cdcd00\">whole-sweep-2</strong> to <a href=\"https://wandb.ai\" target=\"_blank\">Weights & Biases</a> <a href=\"https://docs.wandb.com/integrations/jupyter.html\" target=\"_blank\">(Documentation)</a>.<br/>\n",
              "                Project page: <a href=\"https://wandb.ai/cs6910-team/DL-Assignment2-PartA-5April-2\" target=\"_blank\">https://wandb.ai/cs6910-team/DL-Assignment2-PartA-5April-2</a><br/>\n",
              "                Sweep page: <a href=\"https://wandb.ai/cs6910-team/DL-Assignment2-PartA-5April-2/sweeps/firnynx9\" target=\"_blank\">https://wandb.ai/cs6910-team/DL-Assignment2-PartA-5April-2/sweeps/firnynx9</a><br/>\n",
              "Run page: <a href=\"https://wandb.ai/cs6910-team/DL-Assignment2-PartA-5April-2/runs/5dd724e3\" target=\"_blank\">https://wandb.ai/cs6910-team/DL-Assignment2-PartA-5April-2/runs/5dd724e3</a><br/>\n",
              "                Run data is saved locally in <code>/content/wandb/run-20210413_083528-5dd724e3</code><br/><br/>\n",
              "            "
            ],
            "text/plain": [
              "<IPython.core.display.HTML object>"
            ]
          },
          "metadata": {
            "tags": []
          }
        },
        {
          "output_type": "display_data",
          "data": {
            "text/html": [
              "Finishing last run (ID:5dd724e3) before initializing another..."
            ],
            "text/plain": [
              "<IPython.core.display.HTML object>"
            ]
          },
          "metadata": {
            "tags": []
          }
        },
        {
          "output_type": "display_data",
          "data": {
            "text/html": [
              "<br/>Waiting for W&B process to finish, PID 1558<br/>Program ended successfully."
            ],
            "text/plain": [
              "<IPython.core.display.HTML object>"
            ]
          },
          "metadata": {
            "tags": []
          }
        },
        {
          "output_type": "display_data",
          "data": {
            "application/vnd.jupyter.widget-view+json": {
              "model_id": "8f1ebd142d274ba8926dfa162910cb57",
              "version_minor": 0,
              "version_major": 2
            },
            "text/plain": [
              "VBox(children=(Label(value=' 0.05MB of 0.05MB uploaded (0.00MB deduped)\\r'), FloatProgress(value=1.0, max=1.0)…"
            ]
          },
          "metadata": {
            "tags": []
          }
        },
        {
          "output_type": "display_data",
          "data": {
            "text/html": [
              "Find user logs for this run at: <code>/content/wandb/run-20210413_083528-5dd724e3/logs/debug.log</code>"
            ],
            "text/plain": [
              "<IPython.core.display.HTML object>"
            ]
          },
          "metadata": {
            "tags": []
          }
        },
        {
          "output_type": "display_data",
          "data": {
            "text/html": [
              "Find internal logs for this run at: <code>/content/wandb/run-20210413_083528-5dd724e3/logs/debug-internal.log</code>"
            ],
            "text/plain": [
              "<IPython.core.display.HTML object>"
            ]
          },
          "metadata": {
            "tags": []
          }
        },
        {
          "output_type": "display_data",
          "data": {
            "text/html": [
              "Synced 4 W&B file(s), 0 media file(s), 2 artifact file(s) and 1 other file(s)"
            ],
            "text/plain": [
              "<IPython.core.display.HTML object>"
            ]
          },
          "metadata": {
            "tags": []
          }
        },
        {
          "output_type": "display_data",
          "data": {
            "text/html": [
              "\n",
              "                    <br/>Synced <strong style=\"color:#cdcd00\">whole-sweep-2</strong>: <a href=\"https://wandb.ai/cs6910-team/DL-Assignment2-PartA-5April-2/runs/5dd724e3\" target=\"_blank\">https://wandb.ai/cs6910-team/DL-Assignment2-PartA-5April-2/runs/5dd724e3</a><br/>\n",
              "                "
            ],
            "text/plain": [
              "<IPython.core.display.HTML object>"
            ]
          },
          "metadata": {
            "tags": []
          }
        },
        {
          "output_type": "display_data",
          "data": {
            "text/html": [
              "...Successfully finished last run (ID:5dd724e3). Initializing new run:<br/><br/>"
            ],
            "text/plain": [
              "<IPython.core.display.HTML object>"
            ]
          },
          "metadata": {
            "tags": []
          }
        },
        {
          "output_type": "display_data",
          "data": {
            "text/html": [
              "\n",
              "                Tracking run with wandb version 0.10.25<br/>\n",
              "                Syncing run <strong style=\"color:#cdcd00\">whole-sweep-2</strong> to <a href=\"https://wandb.ai\" target=\"_blank\">Weights & Biases</a> <a href=\"https://docs.wandb.com/integrations/jupyter.html\" target=\"_blank\">(Documentation)</a>.<br/>\n",
              "                Project page: <a href=\"https://wandb.ai/cs6910-team/DL-Assignment2-PartA-5April-2\" target=\"_blank\">https://wandb.ai/cs6910-team/DL-Assignment2-PartA-5April-2</a><br/>\n",
              "                Sweep page: <a href=\"https://wandb.ai/cs6910-team/DL-Assignment2-PartA-5April-2/sweeps/firnynx9\" target=\"_blank\">https://wandb.ai/cs6910-team/DL-Assignment2-PartA-5April-2/sweeps/firnynx9</a><br/>\n",
              "Run page: <a href=\"https://wandb.ai/cs6910-team/DL-Assignment2-PartA-5April-2/runs/5dd724e3\" target=\"_blank\">https://wandb.ai/cs6910-team/DL-Assignment2-PartA-5April-2/runs/5dd724e3</a><br/>\n",
              "                Run data is saved locally in <code>/content/wandb/run-20210413_083531-5dd724e3</code><br/><br/>\n",
              "            "
            ],
            "text/plain": [
              "<IPython.core.display.HTML object>"
            ]
          },
          "metadata": {
            "tags": []
          }
        },
        {
          "output_type": "stream",
          "text": [
            "Epoch 1/50\n",
            "62/62 [==============================] - 73s 1s/step - loss: 2.4666 - acc: 0.1136 - val_loss: 2.3192 - val_acc: 0.1063\n",
            "Epoch 2/50\n",
            "62/62 [==============================] - 70s 1s/step - loss: 2.2919 - acc: 0.1391 - val_loss: 2.4047 - val_acc: 0.0667\n",
            "Epoch 3/50\n",
            "62/62 [==============================] - 71s 1s/step - loss: 2.2272 - acc: 0.1767 - val_loss: 2.3916 - val_acc: 0.1058\n",
            "Epoch 4/50\n",
            "62/62 [==============================] - 74s 1s/step - loss: 2.1970 - acc: 0.1920 - val_loss: 2.4862 - val_acc: 0.0750\n",
            "Epoch 5/50\n",
            "62/62 [==============================] - 74s 1s/step - loss: 2.2016 - acc: 0.1876 - val_loss: 2.5452 - val_acc: 0.0771\n",
            "Epoch 6/50\n",
            "62/62 [==============================] - 73s 1s/step - loss: 2.1760 - acc: 0.1954 - val_loss: 2.4215 - val_acc: 0.1250\n",
            "Epoch 7/50\n",
            "62/62 [==============================] - 71s 1s/step - loss: 2.1532 - acc: 0.2036 - val_loss: 2.3196 - val_acc: 0.1404\n",
            "Epoch 8/50\n",
            "62/62 [==============================] - 73s 1s/step - loss: 2.1276 - acc: 0.2170 - val_loss: 2.2131 - val_acc: 0.1604\n",
            "Epoch 9/50\n",
            "62/62 [==============================] - 73s 1s/step - loss: 2.1262 - acc: 0.2351 - val_loss: 2.1940 - val_acc: 0.1854\n",
            "Epoch 10/50\n",
            "62/62 [==============================] - 72s 1s/step - loss: 2.1489 - acc: 0.2084 - val_loss: 2.2105 - val_acc: 0.1917\n",
            "Epoch 11/50\n",
            "62/62 [==============================] - 73s 1s/step - loss: 2.1334 - acc: 0.2457 - val_loss: 2.0947 - val_acc: 0.2376\n",
            "Epoch 12/50\n",
            "62/62 [==============================] - 72s 1s/step - loss: 2.1522 - acc: 0.2059 - val_loss: 2.1200 - val_acc: 0.2313\n",
            "Epoch 13/50\n",
            "62/62 [==============================] - 72s 1s/step - loss: 2.1371 - acc: 0.2090 - val_loss: 2.0628 - val_acc: 0.2667\n",
            "Epoch 14/50\n",
            "62/62 [==============================] - 71s 1s/step - loss: 2.1463 - acc: 0.2100 - val_loss: 2.1199 - val_acc: 0.1958\n",
            "Epoch 15/50\n",
            "62/62 [==============================] - 74s 1s/step - loss: 2.0939 - acc: 0.2439 - val_loss: 2.1819 - val_acc: 0.2095\n",
            "Epoch 16/50\n",
            "62/62 [==============================] - 74s 1s/step - loss: 2.1605 - acc: 0.2033 - val_loss: 2.1233 - val_acc: 0.2604\n",
            "Epoch 17/50\n",
            "62/62 [==============================] - 73s 1s/step - loss: 2.0912 - acc: 0.2364 - val_loss: 2.2965 - val_acc: 0.1771\n",
            "Epoch 18/50\n",
            "62/62 [==============================] - 73s 1s/step - loss: 2.1313 - acc: 0.2108 - val_loss: 2.1049 - val_acc: 0.2271\n"
          ],
          "name": "stdout"
        },
        {
          "output_type": "stream",
          "text": [
            "\u001b[34m\u001b[1mwandb\u001b[0m: Agent Starting Run: 4oi37lhq with config:\n",
            "\u001b[34m\u001b[1mwandb\u001b[0m: \tactivation: relu\n",
            "\u001b[34m\u001b[1mwandb\u001b[0m: \tbatch_norm: True\n",
            "\u001b[34m\u001b[1mwandb\u001b[0m: \tconv_layers: 5\n",
            "\u001b[34m\u001b[1mwandb\u001b[0m: \tdata_aug: True\n",
            "\u001b[34m\u001b[1mwandb\u001b[0m: \tdense_size: 64\n",
            "\u001b[34m\u001b[1mwandb\u001b[0m: \tdropout: 0.2\n",
            "\u001b[34m\u001b[1mwandb\u001b[0m: \tfilter_org: 0.5\n",
            "\u001b[34m\u001b[1mwandb\u001b[0m: \tfirst_layer_filters: 32\n",
            "\u001b[34m\u001b[1mwandb\u001b[0m: \tkernel_size: 3\n",
            "\u001b[34m\u001b[1mwandb\u001b[0m: \tnum_epochs: 50\n",
            "\u001b[34m\u001b[1mwandb\u001b[0m: \toptimizer: adam\n"
          ],
          "name": "stderr"
        },
        {
          "output_type": "display_data",
          "data": {
            "text/html": [
              "\n",
              "                Tracking run with wandb version 0.10.25<br/>\n",
              "                Syncing run <strong style=\"color:#cdcd00\">earthy-sweep-3</strong> to <a href=\"https://wandb.ai\" target=\"_blank\">Weights & Biases</a> <a href=\"https://docs.wandb.com/integrations/jupyter.html\" target=\"_blank\">(Documentation)</a>.<br/>\n",
              "                Project page: <a href=\"https://wandb.ai/cs6910-team/DL-Assignment2-PartA-5April-2\" target=\"_blank\">https://wandb.ai/cs6910-team/DL-Assignment2-PartA-5April-2</a><br/>\n",
              "                Sweep page: <a href=\"https://wandb.ai/cs6910-team/DL-Assignment2-PartA-5April-2/sweeps/firnynx9\" target=\"_blank\">https://wandb.ai/cs6910-team/DL-Assignment2-PartA-5April-2/sweeps/firnynx9</a><br/>\n",
              "Run page: <a href=\"https://wandb.ai/cs6910-team/DL-Assignment2-PartA-5April-2/runs/4oi37lhq\" target=\"_blank\">https://wandb.ai/cs6910-team/DL-Assignment2-PartA-5April-2/runs/4oi37lhq</a><br/>\n",
              "                Run data is saved locally in <code>/content/wandb/run-20210413_085731-4oi37lhq</code><br/><br/>\n",
              "            "
            ],
            "text/plain": [
              "<IPython.core.display.HTML object>"
            ]
          },
          "metadata": {
            "tags": []
          }
        },
        {
          "output_type": "display_data",
          "data": {
            "text/html": [
              "Finishing last run (ID:4oi37lhq) before initializing another..."
            ],
            "text/plain": [
              "<IPython.core.display.HTML object>"
            ]
          },
          "metadata": {
            "tags": []
          }
        },
        {
          "output_type": "display_data",
          "data": {
            "text/html": [
              "<br/>Waiting for W&B process to finish, PID 1955<br/>Program ended successfully."
            ],
            "text/plain": [
              "<IPython.core.display.HTML object>"
            ]
          },
          "metadata": {
            "tags": []
          }
        },
        {
          "output_type": "display_data",
          "data": {
            "application/vnd.jupyter.widget-view+json": {
              "model_id": "89766206d4e74109b7d068dd6a4ad21d",
              "version_minor": 0,
              "version_major": 2
            },
            "text/plain": [
              "VBox(children=(Label(value=' 0.06MB of 0.06MB uploaded (0.00MB deduped)\\r'), FloatProgress(value=1.0, max=1.0)…"
            ]
          },
          "metadata": {
            "tags": []
          }
        },
        {
          "output_type": "display_data",
          "data": {
            "text/html": [
              "Find user logs for this run at: <code>/content/wandb/run-20210413_085731-4oi37lhq/logs/debug.log</code>"
            ],
            "text/plain": [
              "<IPython.core.display.HTML object>"
            ]
          },
          "metadata": {
            "tags": []
          }
        },
        {
          "output_type": "display_data",
          "data": {
            "text/html": [
              "Find internal logs for this run at: <code>/content/wandb/run-20210413_085731-4oi37lhq/logs/debug-internal.log</code>"
            ],
            "text/plain": [
              "<IPython.core.display.HTML object>"
            ]
          },
          "metadata": {
            "tags": []
          }
        },
        {
          "output_type": "display_data",
          "data": {
            "text/html": [
              "Synced 4 W&B file(s), 0 media file(s), 2 artifact file(s) and 1 other file(s)"
            ],
            "text/plain": [
              "<IPython.core.display.HTML object>"
            ]
          },
          "metadata": {
            "tags": []
          }
        },
        {
          "output_type": "display_data",
          "data": {
            "text/html": [
              "\n",
              "                    <br/>Synced <strong style=\"color:#cdcd00\">earthy-sweep-3</strong>: <a href=\"https://wandb.ai/cs6910-team/DL-Assignment2-PartA-5April-2/runs/4oi37lhq\" target=\"_blank\">https://wandb.ai/cs6910-team/DL-Assignment2-PartA-5April-2/runs/4oi37lhq</a><br/>\n",
              "                "
            ],
            "text/plain": [
              "<IPython.core.display.HTML object>"
            ]
          },
          "metadata": {
            "tags": []
          }
        },
        {
          "output_type": "display_data",
          "data": {
            "text/html": [
              "...Successfully finished last run (ID:4oi37lhq). Initializing new run:<br/><br/>"
            ],
            "text/plain": [
              "<IPython.core.display.HTML object>"
            ]
          },
          "metadata": {
            "tags": []
          }
        },
        {
          "output_type": "display_data",
          "data": {
            "text/html": [
              "\n",
              "                Tracking run with wandb version 0.10.25<br/>\n",
              "                Syncing run <strong style=\"color:#cdcd00\">earthy-sweep-3</strong> to <a href=\"https://wandb.ai\" target=\"_blank\">Weights & Biases</a> <a href=\"https://docs.wandb.com/integrations/jupyter.html\" target=\"_blank\">(Documentation)</a>.<br/>\n",
              "                Project page: <a href=\"https://wandb.ai/cs6910-team/DL-Assignment2-PartA-5April-2\" target=\"_blank\">https://wandb.ai/cs6910-team/DL-Assignment2-PartA-5April-2</a><br/>\n",
              "                Sweep page: <a href=\"https://wandb.ai/cs6910-team/DL-Assignment2-PartA-5April-2/sweeps/firnynx9\" target=\"_blank\">https://wandb.ai/cs6910-team/DL-Assignment2-PartA-5April-2/sweeps/firnynx9</a><br/>\n",
              "Run page: <a href=\"https://wandb.ai/cs6910-team/DL-Assignment2-PartA-5April-2/runs/4oi37lhq\" target=\"_blank\">https://wandb.ai/cs6910-team/DL-Assignment2-PartA-5April-2/runs/4oi37lhq</a><br/>\n",
              "                Run data is saved locally in <code>/content/wandb/run-20210413_085733-4oi37lhq</code><br/><br/>\n",
              "            "
            ],
            "text/plain": [
              "<IPython.core.display.HTML object>"
            ]
          },
          "metadata": {
            "tags": []
          }
        },
        {
          "output_type": "stream",
          "text": [
            "Epoch 1/50\n",
            "62/62 [==============================] - 74s 1s/step - loss: 2.5549 - acc: 0.1128 - val_loss: 2.2985 - val_acc: 0.1058\n",
            "Epoch 2/50\n",
            "62/62 [==============================] - 71s 1s/step - loss: 2.4339 - acc: 0.1320 - val_loss: 2.3099 - val_acc: 0.0979\n",
            "Epoch 3/50\n",
            "62/62 [==============================] - 71s 1s/step - loss: 2.4051 - acc: 0.1328 - val_loss: 2.3112 - val_acc: 0.1125\n",
            "Epoch 4/50\n",
            "62/62 [==============================] - 71s 1s/step - loss: 2.3863 - acc: 0.1164 - val_loss: 2.3424 - val_acc: 0.0917\n",
            "Epoch 5/50\n",
            "62/62 [==============================] - 70s 1s/step - loss: 2.3255 - acc: 0.1180 - val_loss: 2.2879 - val_acc: 0.1292\n",
            "Epoch 6/50\n",
            "62/62 [==============================] - 70s 1s/step - loss: 2.2741 - acc: 0.1725 - val_loss: 2.2730 - val_acc: 0.1404\n",
            "Epoch 7/50\n",
            "62/62 [==============================] - 72s 1s/step - loss: 2.3018 - acc: 0.1573 - val_loss: 2.2692 - val_acc: 0.1354\n",
            "Epoch 8/50\n",
            "62/62 [==============================] - 70s 1s/step - loss: 2.2559 - acc: 0.1759 - val_loss: 2.2545 - val_acc: 0.1521\n",
            "Epoch 9/50\n",
            "62/62 [==============================] - 71s 1s/step - loss: 2.2027 - acc: 0.1793 - val_loss: 2.2090 - val_acc: 0.1771\n",
            "Epoch 10/50\n",
            "62/62 [==============================] - 72s 1s/step - loss: 2.2248 - acc: 0.1671 - val_loss: 2.1660 - val_acc: 0.2030\n",
            "Epoch 11/50\n",
            "62/62 [==============================] - 70s 1s/step - loss: 2.2146 - acc: 0.1881 - val_loss: 2.1547 - val_acc: 0.2271\n",
            "Epoch 12/50\n",
            "62/62 [==============================] - 70s 1s/step - loss: 2.2025 - acc: 0.1824 - val_loss: 2.2616 - val_acc: 0.1896\n",
            "Epoch 13/50\n",
            "62/62 [==============================] - 72s 1s/step - loss: 2.2207 - acc: 0.1673 - val_loss: 2.1325 - val_acc: 0.2146\n",
            "Epoch 14/50\n",
            "62/62 [==============================] - 73s 1s/step - loss: 2.2030 - acc: 0.1730 - val_loss: 2.1177 - val_acc: 0.2052\n",
            "Epoch 15/50\n",
            "62/62 [==============================] - 71s 1s/step - loss: 2.1873 - acc: 0.1724 - val_loss: 2.1586 - val_acc: 0.2271\n",
            "Epoch 16/50\n",
            "62/62 [==============================] - 71s 1s/step - loss: 2.1915 - acc: 0.1904 - val_loss: 2.1653 - val_acc: 0.2354\n",
            "Epoch 17/50\n",
            "62/62 [==============================] - 72s 1s/step - loss: 2.1364 - acc: 0.2018 - val_loss: 2.1589 - val_acc: 0.2375\n",
            "Epoch 18/50\n",
            "62/62 [==============================] - 71s 1s/step - loss: 2.1730 - acc: 0.2230 - val_loss: 2.1545 - val_acc: 0.2160\n",
            "Epoch 19/50\n",
            "62/62 [==============================] - 71s 1s/step - loss: 2.1780 - acc: 0.1937 - val_loss: 2.0824 - val_acc: 0.2583\n",
            "Epoch 20/50\n",
            "62/62 [==============================] - 70s 1s/step - loss: 2.1555 - acc: 0.2167 - val_loss: 2.1530 - val_acc: 0.2125\n",
            "Epoch 21/50\n",
            "62/62 [==============================] - 71s 1s/step - loss: 2.1536 - acc: 0.2055 - val_loss: 2.0606 - val_acc: 0.2562\n",
            "Epoch 22/50\n",
            "62/62 [==============================] - 68s 1s/step - loss: 2.1663 - acc: 0.2042 - val_loss: 2.1111 - val_acc: 0.2095\n",
            "Epoch 23/50\n",
            "62/62 [==============================] - 68s 1s/step - loss: 2.1414 - acc: 0.2019 - val_loss: 2.3053 - val_acc: 0.1708\n",
            "Epoch 24/50\n",
            "62/62 [==============================] - 66s 1s/step - loss: 2.1795 - acc: 0.1811 - val_loss: 2.1221 - val_acc: 0.2500\n"
          ],
          "name": "stdout"
        },
        {
          "output_type": "stream",
          "text": [
            "\u001b[34m\u001b[1mwandb\u001b[0m: Agent Starting Run: hivq3vl1 with config:\n",
            "\u001b[34m\u001b[1mwandb\u001b[0m: \tactivation: relu\n",
            "\u001b[34m\u001b[1mwandb\u001b[0m: \tbatch_norm: True\n",
            "\u001b[34m\u001b[1mwandb\u001b[0m: \tconv_layers: 5\n",
            "\u001b[34m\u001b[1mwandb\u001b[0m: \tdata_aug: True\n",
            "\u001b[34m\u001b[1mwandb\u001b[0m: \tdense_size: 128\n",
            "\u001b[34m\u001b[1mwandb\u001b[0m: \tdropout: 0\n",
            "\u001b[34m\u001b[1mwandb\u001b[0m: \tfilter_org: 1\n",
            "\u001b[34m\u001b[1mwandb\u001b[0m: \tfirst_layer_filters: 64\n",
            "\u001b[34m\u001b[1mwandb\u001b[0m: \tkernel_size: 3\n",
            "\u001b[34m\u001b[1mwandb\u001b[0m: \tnum_epochs: 50\n",
            "\u001b[34m\u001b[1mwandb\u001b[0m: \toptimizer: adam\n"
          ],
          "name": "stderr"
        },
        {
          "output_type": "display_data",
          "data": {
            "text/html": [
              "\n",
              "                Tracking run with wandb version 0.10.25<br/>\n",
              "                Syncing run <strong style=\"color:#cdcd00\">splendid-sweep-4</strong> to <a href=\"https://wandb.ai\" target=\"_blank\">Weights & Biases</a> <a href=\"https://docs.wandb.com/integrations/jupyter.html\" target=\"_blank\">(Documentation)</a>.<br/>\n",
              "                Project page: <a href=\"https://wandb.ai/cs6910-team/DL-Assignment2-PartA-5April-2\" target=\"_blank\">https://wandb.ai/cs6910-team/DL-Assignment2-PartA-5April-2</a><br/>\n",
              "                Sweep page: <a href=\"https://wandb.ai/cs6910-team/DL-Assignment2-PartA-5April-2/sweeps/firnynx9\" target=\"_blank\">https://wandb.ai/cs6910-team/DL-Assignment2-PartA-5April-2/sweeps/firnynx9</a><br/>\n",
              "Run page: <a href=\"https://wandb.ai/cs6910-team/DL-Assignment2-PartA-5April-2/runs/hivq3vl1\" target=\"_blank\">https://wandb.ai/cs6910-team/DL-Assignment2-PartA-5April-2/runs/hivq3vl1</a><br/>\n",
              "                Run data is saved locally in <code>/content/wandb/run-20210413_092602-hivq3vl1</code><br/><br/>\n",
              "            "
            ],
            "text/plain": [
              "<IPython.core.display.HTML object>"
            ]
          },
          "metadata": {
            "tags": []
          }
        },
        {
          "output_type": "display_data",
          "data": {
            "text/html": [
              "Finishing last run (ID:hivq3vl1) before initializing another..."
            ],
            "text/plain": [
              "<IPython.core.display.HTML object>"
            ]
          },
          "metadata": {
            "tags": []
          }
        },
        {
          "output_type": "display_data",
          "data": {
            "text/html": [
              "<br/>Waiting for W&B process to finish, PID 2450<br/>Program ended successfully."
            ],
            "text/plain": [
              "<IPython.core.display.HTML object>"
            ]
          },
          "metadata": {
            "tags": []
          }
        },
        {
          "output_type": "display_data",
          "data": {
            "application/vnd.jupyter.widget-view+json": {
              "model_id": "76c93d743e03476ebc3f0e58db6802ed",
              "version_minor": 0,
              "version_major": 2
            },
            "text/plain": [
              "VBox(children=(Label(value=' 0.08MB of 0.08MB uploaded (0.00MB deduped)\\r'), FloatProgress(value=1.0, max=1.0)…"
            ]
          },
          "metadata": {
            "tags": []
          }
        },
        {
          "output_type": "display_data",
          "data": {
            "text/html": [
              "Find user logs for this run at: <code>/content/wandb/run-20210413_092602-hivq3vl1/logs/debug.log</code>"
            ],
            "text/plain": [
              "<IPython.core.display.HTML object>"
            ]
          },
          "metadata": {
            "tags": []
          }
        },
        {
          "output_type": "display_data",
          "data": {
            "text/html": [
              "Find internal logs for this run at: <code>/content/wandb/run-20210413_092602-hivq3vl1/logs/debug-internal.log</code>"
            ],
            "text/plain": [
              "<IPython.core.display.HTML object>"
            ]
          },
          "metadata": {
            "tags": []
          }
        },
        {
          "output_type": "display_data",
          "data": {
            "text/html": [
              "Synced 4 W&B file(s), 0 media file(s), 2 artifact file(s) and 1 other file(s)"
            ],
            "text/plain": [
              "<IPython.core.display.HTML object>"
            ]
          },
          "metadata": {
            "tags": []
          }
        },
        {
          "output_type": "display_data",
          "data": {
            "text/html": [
              "\n",
              "                    <br/>Synced <strong style=\"color:#cdcd00\">splendid-sweep-4</strong>: <a href=\"https://wandb.ai/cs6910-team/DL-Assignment2-PartA-5April-2/runs/hivq3vl1\" target=\"_blank\">https://wandb.ai/cs6910-team/DL-Assignment2-PartA-5April-2/runs/hivq3vl1</a><br/>\n",
              "                "
            ],
            "text/plain": [
              "<IPython.core.display.HTML object>"
            ]
          },
          "metadata": {
            "tags": []
          }
        },
        {
          "output_type": "display_data",
          "data": {
            "text/html": [
              "...Successfully finished last run (ID:hivq3vl1). Initializing new run:<br/><br/>"
            ],
            "text/plain": [
              "<IPython.core.display.HTML object>"
            ]
          },
          "metadata": {
            "tags": []
          }
        },
        {
          "output_type": "display_data",
          "data": {
            "text/html": [
              "\n",
              "                Tracking run with wandb version 0.10.25<br/>\n",
              "                Syncing run <strong style=\"color:#cdcd00\">splendid-sweep-4</strong> to <a href=\"https://wandb.ai\" target=\"_blank\">Weights & Biases</a> <a href=\"https://docs.wandb.com/integrations/jupyter.html\" target=\"_blank\">(Documentation)</a>.<br/>\n",
              "                Project page: <a href=\"https://wandb.ai/cs6910-team/DL-Assignment2-PartA-5April-2\" target=\"_blank\">https://wandb.ai/cs6910-team/DL-Assignment2-PartA-5April-2</a><br/>\n",
              "                Sweep page: <a href=\"https://wandb.ai/cs6910-team/DL-Assignment2-PartA-5April-2/sweeps/firnynx9\" target=\"_blank\">https://wandb.ai/cs6910-team/DL-Assignment2-PartA-5April-2/sweeps/firnynx9</a><br/>\n",
              "Run page: <a href=\"https://wandb.ai/cs6910-team/DL-Assignment2-PartA-5April-2/runs/hivq3vl1\" target=\"_blank\">https://wandb.ai/cs6910-team/DL-Assignment2-PartA-5April-2/runs/hivq3vl1</a><br/>\n",
              "                Run data is saved locally in <code>/content/wandb/run-20210413_092604-hivq3vl1</code><br/><br/>\n",
              "            "
            ],
            "text/plain": [
              "<IPython.core.display.HTML object>"
            ]
          },
          "metadata": {
            "tags": []
          }
        },
        {
          "output_type": "stream",
          "text": [
            "Epoch 1/50\n",
            "62/62 [==============================] - 74s 1s/step - loss: 2.4407 - acc: 0.1449 - val_loss: 2.4580 - val_acc: 0.1250\n",
            "Epoch 2/50\n",
            "62/62 [==============================] - 72s 1s/step - loss: 2.2216 - acc: 0.1696 - val_loss: 2.4151 - val_acc: 0.1000\n",
            "Epoch 3/50\n",
            "62/62 [==============================] - 73s 1s/step - loss: 2.1493 - acc: 0.2326 - val_loss: 2.6799 - val_acc: 0.1037\n",
            "Epoch 4/50\n",
            "62/62 [==============================] - 72s 1s/step - loss: 2.1509 - acc: 0.2160 - val_loss: 2.4704 - val_acc: 0.1250\n",
            "Epoch 5/50\n",
            "62/62 [==============================] - 74s 1s/step - loss: 2.1465 - acc: 0.1847 - val_loss: 2.3853 - val_acc: 0.1250\n",
            "Epoch 6/50\n",
            "62/62 [==============================] - 74s 1s/step - loss: 2.1088 - acc: 0.2349 - val_loss: 2.3965 - val_acc: 0.1479\n",
            "Epoch 7/50\n",
            "62/62 [==============================] - 73s 1s/step - loss: 2.0941 - acc: 0.2405 - val_loss: 2.1158 - val_acc: 0.2181\n",
            "Epoch 8/50\n",
            "62/62 [==============================] - 73s 1s/step - loss: 2.0763 - acc: 0.2653 - val_loss: 2.1736 - val_acc: 0.2208\n",
            "Epoch 9/50\n",
            "62/62 [==============================] - 73s 1s/step - loss: 2.0974 - acc: 0.2440 - val_loss: 2.0771 - val_acc: 0.2521\n",
            "Epoch 10/50\n",
            "62/62 [==============================] - 73s 1s/step - loss: 2.0634 - acc: 0.2498 - val_loss: 2.1485 - val_acc: 0.2417\n",
            "Epoch 11/50\n",
            "62/62 [==============================] - 73s 1s/step - loss: 2.0920 - acc: 0.2548 - val_loss: 2.0115 - val_acc: 0.3002\n",
            "Epoch 12/50\n",
            "62/62 [==============================] - 73s 1s/step - loss: 2.0585 - acc: 0.2469 - val_loss: 2.0027 - val_acc: 0.2729\n",
            "Epoch 13/50\n",
            "62/62 [==============================] - 74s 1s/step - loss: 2.0488 - acc: 0.2707 - val_loss: 2.1370 - val_acc: 0.2875\n",
            "Epoch 14/50\n",
            "62/62 [==============================] - 72s 1s/step - loss: 2.0869 - acc: 0.2273 - val_loss: 2.8411 - val_acc: 0.1833\n",
            "Epoch 15/50\n",
            "62/62 [==============================] - 74s 1s/step - loss: 2.0330 - acc: 0.2604 - val_loss: 2.1659 - val_acc: 0.2657\n",
            "Epoch 16/50\n",
            "62/62 [==============================] - 73s 1s/step - loss: 2.0174 - acc: 0.2605 - val_loss: 2.1239 - val_acc: 0.2958\n"
          ],
          "name": "stdout"
        },
        {
          "output_type": "stream",
          "text": [
            "\u001b[34m\u001b[1mwandb\u001b[0m: Agent Starting Run: 64ic89rx with config:\n",
            "\u001b[34m\u001b[1mwandb\u001b[0m: \tactivation: relu\n",
            "\u001b[34m\u001b[1mwandb\u001b[0m: \tbatch_norm: True\n",
            "\u001b[34m\u001b[1mwandb\u001b[0m: \tconv_layers: 5\n",
            "\u001b[34m\u001b[1mwandb\u001b[0m: \tdata_aug: True\n",
            "\u001b[34m\u001b[1mwandb\u001b[0m: \tdense_size: 128\n",
            "\u001b[34m\u001b[1mwandb\u001b[0m: \tdropout: 0.2\n",
            "\u001b[34m\u001b[1mwandb\u001b[0m: \tfilter_org: 1\n",
            "\u001b[34m\u001b[1mwandb\u001b[0m: \tfirst_layer_filters: 64\n",
            "\u001b[34m\u001b[1mwandb\u001b[0m: \tkernel_size: 3\n",
            "\u001b[34m\u001b[1mwandb\u001b[0m: \tnum_epochs: 50\n",
            "\u001b[34m\u001b[1mwandb\u001b[0m: \toptimizer: adam\n"
          ],
          "name": "stderr"
        },
        {
          "output_type": "display_data",
          "data": {
            "text/html": [
              "\n",
              "                Tracking run with wandb version 0.10.25<br/>\n",
              "                Syncing run <strong style=\"color:#cdcd00\">fine-sweep-5</strong> to <a href=\"https://wandb.ai\" target=\"_blank\">Weights & Biases</a> <a href=\"https://docs.wandb.com/integrations/jupyter.html\" target=\"_blank\">(Documentation)</a>.<br/>\n",
              "                Project page: <a href=\"https://wandb.ai/cs6910-team/DL-Assignment2-PartA-5April-2\" target=\"_blank\">https://wandb.ai/cs6910-team/DL-Assignment2-PartA-5April-2</a><br/>\n",
              "                Sweep page: <a href=\"https://wandb.ai/cs6910-team/DL-Assignment2-PartA-5April-2/sweeps/firnynx9\" target=\"_blank\">https://wandb.ai/cs6910-team/DL-Assignment2-PartA-5April-2/sweeps/firnynx9</a><br/>\n",
              "Run page: <a href=\"https://wandb.ai/cs6910-team/DL-Assignment2-PartA-5April-2/runs/64ic89rx\" target=\"_blank\">https://wandb.ai/cs6910-team/DL-Assignment2-PartA-5April-2/runs/64ic89rx</a><br/>\n",
              "                Run data is saved locally in <code>/content/wandb/run-20210413_094548-64ic89rx</code><br/><br/>\n",
              "            "
            ],
            "text/plain": [
              "<IPython.core.display.HTML object>"
            ]
          },
          "metadata": {
            "tags": []
          }
        },
        {
          "output_type": "display_data",
          "data": {
            "text/html": [
              "Finishing last run (ID:64ic89rx) before initializing another..."
            ],
            "text/plain": [
              "<IPython.core.display.HTML object>"
            ]
          },
          "metadata": {
            "tags": []
          }
        },
        {
          "output_type": "display_data",
          "data": {
            "text/html": [
              "<br/>Waiting for W&B process to finish, PID 2810<br/>Program ended successfully."
            ],
            "text/plain": [
              "<IPython.core.display.HTML object>"
            ]
          },
          "metadata": {
            "tags": []
          }
        },
        {
          "output_type": "display_data",
          "data": {
            "application/vnd.jupyter.widget-view+json": {
              "model_id": "673c74e638044e9ebac97e95912cb83a",
              "version_minor": 0,
              "version_major": 2
            },
            "text/plain": [
              "VBox(children=(Label(value=' 0.09MB of 0.09MB uploaded (0.00MB deduped)\\r'), FloatProgress(value=1.0, max=1.0)…"
            ]
          },
          "metadata": {
            "tags": []
          }
        },
        {
          "output_type": "display_data",
          "data": {
            "text/html": [
              "Find user logs for this run at: <code>/content/wandb/run-20210413_094548-64ic89rx/logs/debug.log</code>"
            ],
            "text/plain": [
              "<IPython.core.display.HTML object>"
            ]
          },
          "metadata": {
            "tags": []
          }
        },
        {
          "output_type": "display_data",
          "data": {
            "text/html": [
              "Find internal logs for this run at: <code>/content/wandb/run-20210413_094548-64ic89rx/logs/debug-internal.log</code>"
            ],
            "text/plain": [
              "<IPython.core.display.HTML object>"
            ]
          },
          "metadata": {
            "tags": []
          }
        },
        {
          "output_type": "display_data",
          "data": {
            "text/html": [
              "Synced 4 W&B file(s), 0 media file(s), 2 artifact file(s) and 1 other file(s)"
            ],
            "text/plain": [
              "<IPython.core.display.HTML object>"
            ]
          },
          "metadata": {
            "tags": []
          }
        },
        {
          "output_type": "display_data",
          "data": {
            "text/html": [
              "\n",
              "                    <br/>Synced <strong style=\"color:#cdcd00\">fine-sweep-5</strong>: <a href=\"https://wandb.ai/cs6910-team/DL-Assignment2-PartA-5April-2/runs/64ic89rx\" target=\"_blank\">https://wandb.ai/cs6910-team/DL-Assignment2-PartA-5April-2/runs/64ic89rx</a><br/>\n",
              "                "
            ],
            "text/plain": [
              "<IPython.core.display.HTML object>"
            ]
          },
          "metadata": {
            "tags": []
          }
        },
        {
          "output_type": "display_data",
          "data": {
            "text/html": [
              "...Successfully finished last run (ID:64ic89rx). Initializing new run:<br/><br/>"
            ],
            "text/plain": [
              "<IPython.core.display.HTML object>"
            ]
          },
          "metadata": {
            "tags": []
          }
        },
        {
          "output_type": "display_data",
          "data": {
            "text/html": [
              "\n",
              "                Tracking run with wandb version 0.10.25<br/>\n",
              "                Syncing run <strong style=\"color:#cdcd00\">fine-sweep-5</strong> to <a href=\"https://wandb.ai\" target=\"_blank\">Weights & Biases</a> <a href=\"https://docs.wandb.com/integrations/jupyter.html\" target=\"_blank\">(Documentation)</a>.<br/>\n",
              "                Project page: <a href=\"https://wandb.ai/cs6910-team/DL-Assignment2-PartA-5April-2\" target=\"_blank\">https://wandb.ai/cs6910-team/DL-Assignment2-PartA-5April-2</a><br/>\n",
              "                Sweep page: <a href=\"https://wandb.ai/cs6910-team/DL-Assignment2-PartA-5April-2/sweeps/firnynx9\" target=\"_blank\">https://wandb.ai/cs6910-team/DL-Assignment2-PartA-5April-2/sweeps/firnynx9</a><br/>\n",
              "Run page: <a href=\"https://wandb.ai/cs6910-team/DL-Assignment2-PartA-5April-2/runs/64ic89rx\" target=\"_blank\">https://wandb.ai/cs6910-team/DL-Assignment2-PartA-5April-2/runs/64ic89rx</a><br/>\n",
              "                Run data is saved locally in <code>/content/wandb/run-20210413_094550-64ic89rx</code><br/><br/>\n",
              "            "
            ],
            "text/plain": [
              "<IPython.core.display.HTML object>"
            ]
          },
          "metadata": {
            "tags": []
          }
        },
        {
          "output_type": "stream",
          "text": [
            "Epoch 1/50\n",
            "62/62 [==============================] - 75s 1s/step - loss: 2.5211 - acc: 0.1301 - val_loss: 2.5612 - val_acc: 0.1125\n",
            "Epoch 2/50\n",
            "62/62 [==============================] - 74s 1s/step - loss: 2.2831 - acc: 0.1891 - val_loss: 2.3827 - val_acc: 0.1208\n",
            "Epoch 3/50\n",
            "62/62 [==============================] - 72s 1s/step - loss: 2.1956 - acc: 0.1939 - val_loss: 2.6188 - val_acc: 0.1015\n",
            "Epoch 4/50\n",
            "62/62 [==============================] - 74s 1s/step - loss: 2.2165 - acc: 0.1965 - val_loss: 2.4729 - val_acc: 0.1500\n",
            "Epoch 5/50\n",
            "62/62 [==============================] - 73s 1s/step - loss: 2.1759 - acc: 0.2260 - val_loss: 2.3758 - val_acc: 0.1729\n",
            "Epoch 6/50\n",
            "62/62 [==============================] - 74s 1s/step - loss: 2.1303 - acc: 0.2280 - val_loss: 2.2258 - val_acc: 0.1729\n",
            "Epoch 7/50\n",
            "62/62 [==============================] - 74s 1s/step - loss: 2.1644 - acc: 0.2254 - val_loss: 2.2827 - val_acc: 0.1917\n",
            "Epoch 8/50\n",
            "62/62 [==============================] - 74s 1s/step - loss: 2.1559 - acc: 0.2328 - val_loss: 2.1906 - val_acc: 0.2376\n",
            "Epoch 9/50\n",
            "62/62 [==============================] - 72s 1s/step - loss: 2.0956 - acc: 0.2516 - val_loss: 2.1268 - val_acc: 0.2396\n",
            "Epoch 10/50\n",
            "62/62 [==============================] - 74s 1s/step - loss: 2.1017 - acc: 0.2385 - val_loss: 2.0681 - val_acc: 0.2750\n",
            "Epoch 11/50\n",
            "62/62 [==============================] - 74s 1s/step - loss: 2.0902 - acc: 0.2871 - val_loss: 2.0430 - val_acc: 0.2729\n",
            "Epoch 12/50\n",
            "62/62 [==============================] - 75s 1s/step - loss: 2.1352 - acc: 0.2474 - val_loss: 2.0238 - val_acc: 0.2808\n",
            "Epoch 13/50\n",
            "62/62 [==============================] - 73s 1s/step - loss: 2.0413 - acc: 0.2708 - val_loss: 2.1775 - val_acc: 0.2792\n",
            "Epoch 14/50\n",
            "62/62 [==============================] - 74s 1s/step - loss: 2.0625 - acc: 0.2517 - val_loss: 2.2088 - val_acc: 0.2750\n",
            "Epoch 15/50\n",
            "62/62 [==============================] - 74s 1s/step - loss: 2.0543 - acc: 0.2645 - val_loss: 2.1604 - val_acc: 0.2458\n",
            "Epoch 16/50\n",
            "62/62 [==============================] - 74s 1s/step - loss: 2.0981 - acc: 0.2458 - val_loss: 2.0472 - val_acc: 0.2937\n",
            "Epoch 17/50\n",
            "62/62 [==============================] - 73s 1s/step - loss: 1.9990 - acc: 0.2966 - val_loss: 2.1535 - val_acc: 0.2771\n",
            "Epoch 18/50\n",
            "62/62 [==============================] - 73s 1s/step - loss: 2.0276 - acc: 0.2801 - val_loss: 2.0278 - val_acc: 0.3000\n",
            "Epoch 19/50\n",
            "62/62 [==============================] - 73s 1s/step - loss: 2.0178 - acc: 0.2702 - val_loss: 2.0481 - val_acc: 0.2792\n",
            "Epoch 20/50\n",
            "62/62 [==============================] - 73s 1s/step - loss: 2.0573 - acc: 0.2711 - val_loss: 2.0280 - val_acc: 0.2829\n",
            "Epoch 21/50\n",
            "62/62 [==============================] - 73s 1s/step - loss: 2.0187 - acc: 0.2768 - val_loss: 2.0730 - val_acc: 0.3042\n",
            "Epoch 22/50\n",
            "62/62 [==============================] - 77s 1s/step - loss: 2.0125 - acc: 0.3071 - val_loss: 2.0446 - val_acc: 0.3063\n",
            "Epoch 23/50\n",
            "62/62 [==============================] - 75s 1s/step - loss: 2.0182 - acc: 0.2738 - val_loss: 1.9659 - val_acc: 0.2917\n",
            "Epoch 24/50\n",
            "62/62 [==============================] - 74s 1s/step - loss: 1.9444 - acc: 0.3004 - val_loss: 2.3696 - val_acc: 0.2505\n",
            "Epoch 25/50\n",
            "62/62 [==============================] - 74s 1s/step - loss: 1.9954 - acc: 0.2784 - val_loss: 2.1366 - val_acc: 0.3083\n",
            "Epoch 26/50\n",
            "62/62 [==============================] - 74s 1s/step - loss: 1.9258 - acc: 0.3342 - val_loss: 1.9528 - val_acc: 0.2875\n",
            "Epoch 27/50\n",
            "62/62 [==============================] - 74s 1s/step - loss: 2.0082 - acc: 0.2720 - val_loss: 1.9446 - val_acc: 0.3167\n",
            "Epoch 28/50\n",
            "62/62 [==============================] - 72s 1s/step - loss: 1.9693 - acc: 0.2893 - val_loss: 2.2140 - val_acc: 0.2146\n",
            "Epoch 29/50\n",
            "62/62 [==============================] - 72s 1s/step - loss: 1.9637 - acc: 0.2958 - val_loss: 2.1189 - val_acc: 0.2570\n",
            "Epoch 30/50\n",
            "62/62 [==============================] - 74s 1s/step - loss: 1.9445 - acc: 0.3247 - val_loss: 1.9772 - val_acc: 0.3396\n",
            "Epoch 31/50\n",
            "62/62 [==============================] - 74s 1s/step - loss: 1.9450 - acc: 0.3097 - val_loss: 2.0191 - val_acc: 0.3042\n",
            "Epoch 32/50\n",
            "62/62 [==============================] - 75s 1s/step - loss: 1.9622 - acc: 0.2834 - val_loss: 1.9116 - val_acc: 0.3187\n",
            "Epoch 33/50\n",
            "62/62 [==============================] - 74s 1s/step - loss: 1.9406 - acc: 0.3084 - val_loss: 2.0440 - val_acc: 0.2743\n",
            "Epoch 34/50\n",
            "62/62 [==============================] - 74s 1s/step - loss: 1.9454 - acc: 0.3123 - val_loss: 1.9045 - val_acc: 0.3042\n",
            "Epoch 35/50\n",
            "62/62 [==============================] - 75s 1s/step - loss: 1.8793 - acc: 0.3364 - val_loss: 1.9397 - val_acc: 0.3167\n"
          ],
          "name": "stdout"
        },
        {
          "output_type": "stream",
          "text": [
            "\u001b[34m\u001b[1mwandb\u001b[0m: Agent Starting Run: gvcgxw3l with config:\n",
            "\u001b[34m\u001b[1mwandb\u001b[0m: \tactivation: relu\n",
            "\u001b[34m\u001b[1mwandb\u001b[0m: \tbatch_norm: True\n",
            "\u001b[34m\u001b[1mwandb\u001b[0m: \tconv_layers: 5\n",
            "\u001b[34m\u001b[1mwandb\u001b[0m: \tdata_aug: True\n",
            "\u001b[34m\u001b[1mwandb\u001b[0m: \tdense_size: 128\n",
            "\u001b[34m\u001b[1mwandb\u001b[0m: \tdropout: 0.2\n",
            "\u001b[34m\u001b[1mwandb\u001b[0m: \tfilter_org: 0.5\n",
            "\u001b[34m\u001b[1mwandb\u001b[0m: \tfirst_layer_filters: 32\n",
            "\u001b[34m\u001b[1mwandb\u001b[0m: \tkernel_size: 3\n",
            "\u001b[34m\u001b[1mwandb\u001b[0m: \tnum_epochs: 50\n",
            "\u001b[34m\u001b[1mwandb\u001b[0m: \toptimizer: adam\n"
          ],
          "name": "stderr"
        },
        {
          "output_type": "display_data",
          "data": {
            "text/html": [
              "\n",
              "                Tracking run with wandb version 0.10.25<br/>\n",
              "                Syncing run <strong style=\"color:#cdcd00\">good-sweep-6</strong> to <a href=\"https://wandb.ai\" target=\"_blank\">Weights & Biases</a> <a href=\"https://docs.wandb.com/integrations/jupyter.html\" target=\"_blank\">(Documentation)</a>.<br/>\n",
              "                Project page: <a href=\"https://wandb.ai/cs6910-team/DL-Assignment2-PartA-5April-2\" target=\"_blank\">https://wandb.ai/cs6910-team/DL-Assignment2-PartA-5April-2</a><br/>\n",
              "                Sweep page: <a href=\"https://wandb.ai/cs6910-team/DL-Assignment2-PartA-5April-2/sweeps/firnynx9\" target=\"_blank\">https://wandb.ai/cs6910-team/DL-Assignment2-PartA-5April-2/sweeps/firnynx9</a><br/>\n",
              "Run page: <a href=\"https://wandb.ai/cs6910-team/DL-Assignment2-PartA-5April-2/runs/gvcgxw3l\" target=\"_blank\">https://wandb.ai/cs6910-team/DL-Assignment2-PartA-5April-2/runs/gvcgxw3l</a><br/>\n",
              "                Run data is saved locally in <code>/content/wandb/run-20210413_102906-gvcgxw3l</code><br/><br/>\n",
              "            "
            ],
            "text/plain": [
              "<IPython.core.display.HTML object>"
            ]
          },
          "metadata": {
            "tags": []
          }
        },
        {
          "output_type": "display_data",
          "data": {
            "text/html": [
              "Finishing last run (ID:gvcgxw3l) before initializing another..."
            ],
            "text/plain": [
              "<IPython.core.display.HTML object>"
            ]
          },
          "metadata": {
            "tags": []
          }
        },
        {
          "output_type": "display_data",
          "data": {
            "text/html": [
              "<br/>Waiting for W&B process to finish, PID 3075<br/>Program ended successfully."
            ],
            "text/plain": [
              "<IPython.core.display.HTML object>"
            ]
          },
          "metadata": {
            "tags": []
          }
        },
        {
          "output_type": "display_data",
          "data": {
            "application/vnd.jupyter.widget-view+json": {
              "model_id": "503151b7f76f42f5956d0eeb1c1d38d0",
              "version_minor": 0,
              "version_major": 2
            },
            "text/plain": [
              "VBox(children=(Label(value=' 0.11MB of 0.11MB uploaded (0.00MB deduped)\\r'), FloatProgress(value=1.0, max=1.0)…"
            ]
          },
          "metadata": {
            "tags": []
          }
        },
        {
          "output_type": "display_data",
          "data": {
            "text/html": [
              "Find user logs for this run at: <code>/content/wandb/run-20210413_102906-gvcgxw3l/logs/debug.log</code>"
            ],
            "text/plain": [
              "<IPython.core.display.HTML object>"
            ]
          },
          "metadata": {
            "tags": []
          }
        },
        {
          "output_type": "display_data",
          "data": {
            "text/html": [
              "Find internal logs for this run at: <code>/content/wandb/run-20210413_102906-gvcgxw3l/logs/debug-internal.log</code>"
            ],
            "text/plain": [
              "<IPython.core.display.HTML object>"
            ]
          },
          "metadata": {
            "tags": []
          }
        },
        {
          "output_type": "display_data",
          "data": {
            "text/html": [
              "Synced 4 W&B file(s), 0 media file(s), 2 artifact file(s) and 1 other file(s)"
            ],
            "text/plain": [
              "<IPython.core.display.HTML object>"
            ]
          },
          "metadata": {
            "tags": []
          }
        },
        {
          "output_type": "display_data",
          "data": {
            "text/html": [
              "\n",
              "                    <br/>Synced <strong style=\"color:#cdcd00\">good-sweep-6</strong>: <a href=\"https://wandb.ai/cs6910-team/DL-Assignment2-PartA-5April-2/runs/gvcgxw3l\" target=\"_blank\">https://wandb.ai/cs6910-team/DL-Assignment2-PartA-5April-2/runs/gvcgxw3l</a><br/>\n",
              "                "
            ],
            "text/plain": [
              "<IPython.core.display.HTML object>"
            ]
          },
          "metadata": {
            "tags": []
          }
        },
        {
          "output_type": "display_data",
          "data": {
            "text/html": [
              "...Successfully finished last run (ID:gvcgxw3l). Initializing new run:<br/><br/>"
            ],
            "text/plain": [
              "<IPython.core.display.HTML object>"
            ]
          },
          "metadata": {
            "tags": []
          }
        },
        {
          "output_type": "display_data",
          "data": {
            "text/html": [
              "\n",
              "                Tracking run with wandb version 0.10.25<br/>\n",
              "                Syncing run <strong style=\"color:#cdcd00\">good-sweep-6</strong> to <a href=\"https://wandb.ai\" target=\"_blank\">Weights & Biases</a> <a href=\"https://docs.wandb.com/integrations/jupyter.html\" target=\"_blank\">(Documentation)</a>.<br/>\n",
              "                Project page: <a href=\"https://wandb.ai/cs6910-team/DL-Assignment2-PartA-5April-2\" target=\"_blank\">https://wandb.ai/cs6910-team/DL-Assignment2-PartA-5April-2</a><br/>\n",
              "                Sweep page: <a href=\"https://wandb.ai/cs6910-team/DL-Assignment2-PartA-5April-2/sweeps/firnynx9\" target=\"_blank\">https://wandb.ai/cs6910-team/DL-Assignment2-PartA-5April-2/sweeps/firnynx9</a><br/>\n",
              "Run page: <a href=\"https://wandb.ai/cs6910-team/DL-Assignment2-PartA-5April-2/runs/gvcgxw3l\" target=\"_blank\">https://wandb.ai/cs6910-team/DL-Assignment2-PartA-5April-2/runs/gvcgxw3l</a><br/>\n",
              "                Run data is saved locally in <code>/content/wandb/run-20210413_102909-gvcgxw3l</code><br/><br/>\n",
              "            "
            ],
            "text/plain": [
              "<IPython.core.display.HTML object>"
            ]
          },
          "metadata": {
            "tags": []
          }
        },
        {
          "output_type": "stream",
          "text": [
            "Epoch 1/50\n",
            "62/62 [==============================] - 71s 1s/step - loss: 2.5602 - acc: 0.1083 - val_loss: 2.3041 - val_acc: 0.1083\n",
            "Epoch 2/50\n",
            "62/62 [==============================] - 68s 1s/step - loss: 2.3465 - acc: 0.1454 - val_loss: 2.3272 - val_acc: 0.0994\n",
            "Epoch 3/50\n",
            "62/62 [==============================] - 71s 1s/step - loss: 2.3338 - acc: 0.1523 - val_loss: 2.2985 - val_acc: 0.0979\n",
            "Epoch 4/50\n",
            "62/62 [==============================] - 70s 1s/step - loss: 2.2821 - acc: 0.1647 - val_loss: 2.3119 - val_acc: 0.1292\n",
            "Epoch 5/50\n",
            "62/62 [==============================] - 70s 1s/step - loss: 2.2959 - acc: 0.1531 - val_loss: 2.2513 - val_acc: 0.1750\n",
            "Epoch 6/50\n",
            "62/62 [==============================] - 69s 1s/step - loss: 2.2018 - acc: 0.1878 - val_loss: 2.2727 - val_acc: 0.1317\n",
            "Epoch 7/50\n",
            "62/62 [==============================] - 71s 1s/step - loss: 2.2343 - acc: 0.1821 - val_loss: 2.2477 - val_acc: 0.1583\n",
            "Epoch 8/50\n",
            "62/62 [==============================] - 70s 1s/step - loss: 2.2360 - acc: 0.1879 - val_loss: 2.1889 - val_acc: 0.1792\n",
            "Epoch 9/50\n",
            "62/62 [==============================] - 70s 1s/step - loss: 2.2326 - acc: 0.1769 - val_loss: 2.1376 - val_acc: 0.1875\n",
            "Epoch 10/50\n",
            "62/62 [==============================] - 68s 1s/step - loss: 2.2245 - acc: 0.1843 - val_loss: 2.1746 - val_acc: 0.1987\n",
            "Epoch 11/50\n",
            "62/62 [==============================] - 70s 1s/step - loss: 2.1923 - acc: 0.1957 - val_loss: 2.2421 - val_acc: 0.1667\n",
            "Epoch 12/50\n",
            "62/62 [==============================] - 72s 1s/step - loss: 2.2219 - acc: 0.1831 - val_loss: 2.1528 - val_acc: 0.2167\n",
            "Epoch 13/50\n",
            "62/62 [==============================] - 71s 1s/step - loss: 2.1986 - acc: 0.1832 - val_loss: 2.1343 - val_acc: 0.2313\n",
            "Epoch 14/50\n",
            "62/62 [==============================] - 70s 1s/step - loss: 2.2053 - acc: 0.1729 - val_loss: 2.1531 - val_acc: 0.1979\n",
            "Epoch 15/50\n",
            "62/62 [==============================] - 70s 1s/step - loss: 2.2066 - acc: 0.1845 - val_loss: 2.1186 - val_acc: 0.2397\n",
            "Epoch 16/50\n",
            "62/62 [==============================] - 70s 1s/step - loss: 2.1747 - acc: 0.2109 - val_loss: 2.1422 - val_acc: 0.2125\n",
            "Epoch 17/50\n",
            "62/62 [==============================] - 70s 1s/step - loss: 2.1817 - acc: 0.1953 - val_loss: 2.1904 - val_acc: 0.1813\n",
            "Epoch 18/50\n",
            "62/62 [==============================] - 70s 1s/step - loss: 2.1743 - acc: 0.1935 - val_loss: 2.2586 - val_acc: 0.1833\n",
            "Epoch 19/50\n",
            "62/62 [==============================] - 69s 1s/step - loss: 2.1494 - acc: 0.2077 - val_loss: 2.1707 - val_acc: 0.2030\n",
            "Epoch 20/50\n",
            "62/62 [==============================] - 70s 1s/step - loss: 2.1188 - acc: 0.2142 - val_loss: 2.1329 - val_acc: 0.2292\n"
          ],
          "name": "stdout"
        },
        {
          "output_type": "stream",
          "text": [
            "\u001b[34m\u001b[1mwandb\u001b[0m: Agent Starting Run: 3vvzrj50 with config:\n",
            "\u001b[34m\u001b[1mwandb\u001b[0m: \tactivation: relu\n",
            "\u001b[34m\u001b[1mwandb\u001b[0m: \tbatch_norm: True\n",
            "\u001b[34m\u001b[1mwandb\u001b[0m: \tconv_layers: 5\n",
            "\u001b[34m\u001b[1mwandb\u001b[0m: \tdata_aug: True\n",
            "\u001b[34m\u001b[1mwandb\u001b[0m: \tdense_size: 128\n",
            "\u001b[34m\u001b[1mwandb\u001b[0m: \tdropout: 0.3\n",
            "\u001b[34m\u001b[1mwandb\u001b[0m: \tfilter_org: 0.5\n",
            "\u001b[34m\u001b[1mwandb\u001b[0m: \tfirst_layer_filters: 64\n",
            "\u001b[34m\u001b[1mwandb\u001b[0m: \tkernel_size: 3\n",
            "\u001b[34m\u001b[1mwandb\u001b[0m: \tnum_epochs: 50\n",
            "\u001b[34m\u001b[1mwandb\u001b[0m: \toptimizer: adam\n"
          ],
          "name": "stderr"
        },
        {
          "output_type": "display_data",
          "data": {
            "text/html": [
              "\n",
              "                Tracking run with wandb version 0.10.25<br/>\n",
              "                Syncing run <strong style=\"color:#cdcd00\">charmed-sweep-7</strong> to <a href=\"https://wandb.ai\" target=\"_blank\">Weights & Biases</a> <a href=\"https://docs.wandb.com/integrations/jupyter.html\" target=\"_blank\">(Documentation)</a>.<br/>\n",
              "                Project page: <a href=\"https://wandb.ai/cs6910-team/DL-Assignment2-PartA-5April-2\" target=\"_blank\">https://wandb.ai/cs6910-team/DL-Assignment2-PartA-5April-2</a><br/>\n",
              "                Sweep page: <a href=\"https://wandb.ai/cs6910-team/DL-Assignment2-PartA-5April-2/sweeps/firnynx9\" target=\"_blank\">https://wandb.ai/cs6910-team/DL-Assignment2-PartA-5April-2/sweeps/firnynx9</a><br/>\n",
              "Run page: <a href=\"https://wandb.ai/cs6910-team/DL-Assignment2-PartA-5April-2/runs/3vvzrj50\" target=\"_blank\">https://wandb.ai/cs6910-team/DL-Assignment2-PartA-5April-2/runs/3vvzrj50</a><br/>\n",
              "                Run data is saved locally in <code>/content/wandb/run-20210413_105245-3vvzrj50</code><br/><br/>\n",
              "            "
            ],
            "text/plain": [
              "<IPython.core.display.HTML object>"
            ]
          },
          "metadata": {
            "tags": []
          }
        },
        {
          "output_type": "display_data",
          "data": {
            "text/html": [
              "Finishing last run (ID:3vvzrj50) before initializing another..."
            ],
            "text/plain": [
              "<IPython.core.display.HTML object>"
            ]
          },
          "metadata": {
            "tags": []
          }
        },
        {
          "output_type": "display_data",
          "data": {
            "text/html": [
              "<br/>Waiting for W&B process to finish, PID 3226<br/>Program ended successfully."
            ],
            "text/plain": [
              "<IPython.core.display.HTML object>"
            ]
          },
          "metadata": {
            "tags": []
          }
        },
        {
          "output_type": "display_data",
          "data": {
            "application/vnd.jupyter.widget-view+json": {
              "model_id": "40402f949f6347fe9186eeab046d1d17",
              "version_minor": 0,
              "version_major": 2
            },
            "text/plain": [
              "VBox(children=(Label(value=' 0.12MB of 0.12MB uploaded (0.00MB deduped)\\r'), FloatProgress(value=1.0, max=1.0)…"
            ]
          },
          "metadata": {
            "tags": []
          }
        },
        {
          "output_type": "display_data",
          "data": {
            "text/html": [
              "Find user logs for this run at: <code>/content/wandb/run-20210413_105245-3vvzrj50/logs/debug.log</code>"
            ],
            "text/plain": [
              "<IPython.core.display.HTML object>"
            ]
          },
          "metadata": {
            "tags": []
          }
        },
        {
          "output_type": "display_data",
          "data": {
            "text/html": [
              "Find internal logs for this run at: <code>/content/wandb/run-20210413_105245-3vvzrj50/logs/debug-internal.log</code>"
            ],
            "text/plain": [
              "<IPython.core.display.HTML object>"
            ]
          },
          "metadata": {
            "tags": []
          }
        },
        {
          "output_type": "display_data",
          "data": {
            "text/html": [
              "Synced 4 W&B file(s), 0 media file(s), 2 artifact file(s) and 1 other file(s)"
            ],
            "text/plain": [
              "<IPython.core.display.HTML object>"
            ]
          },
          "metadata": {
            "tags": []
          }
        },
        {
          "output_type": "display_data",
          "data": {
            "text/html": [
              "\n",
              "                    <br/>Synced <strong style=\"color:#cdcd00\">charmed-sweep-7</strong>: <a href=\"https://wandb.ai/cs6910-team/DL-Assignment2-PartA-5April-2/runs/3vvzrj50\" target=\"_blank\">https://wandb.ai/cs6910-team/DL-Assignment2-PartA-5April-2/runs/3vvzrj50</a><br/>\n",
              "                "
            ],
            "text/plain": [
              "<IPython.core.display.HTML object>"
            ]
          },
          "metadata": {
            "tags": []
          }
        },
        {
          "output_type": "display_data",
          "data": {
            "text/html": [
              "...Successfully finished last run (ID:3vvzrj50). Initializing new run:<br/><br/>"
            ],
            "text/plain": [
              "<IPython.core.display.HTML object>"
            ]
          },
          "metadata": {
            "tags": []
          }
        },
        {
          "output_type": "display_data",
          "data": {
            "text/html": [
              "\n",
              "                Tracking run with wandb version 0.10.25<br/>\n",
              "                Syncing run <strong style=\"color:#cdcd00\">charmed-sweep-7</strong> to <a href=\"https://wandb.ai\" target=\"_blank\">Weights & Biases</a> <a href=\"https://docs.wandb.com/integrations/jupyter.html\" target=\"_blank\">(Documentation)</a>.<br/>\n",
              "                Project page: <a href=\"https://wandb.ai/cs6910-team/DL-Assignment2-PartA-5April-2\" target=\"_blank\">https://wandb.ai/cs6910-team/DL-Assignment2-PartA-5April-2</a><br/>\n",
              "                Sweep page: <a href=\"https://wandb.ai/cs6910-team/DL-Assignment2-PartA-5April-2/sweeps/firnynx9\" target=\"_blank\">https://wandb.ai/cs6910-team/DL-Assignment2-PartA-5April-2/sweeps/firnynx9</a><br/>\n",
              "Run page: <a href=\"https://wandb.ai/cs6910-team/DL-Assignment2-PartA-5April-2/runs/3vvzrj50\" target=\"_blank\">https://wandb.ai/cs6910-team/DL-Assignment2-PartA-5April-2/runs/3vvzrj50</a><br/>\n",
              "                Run data is saved locally in <code>/content/wandb/run-20210413_105249-3vvzrj50</code><br/><br/>\n",
              "            "
            ],
            "text/plain": [
              "<IPython.core.display.HTML object>"
            ]
          },
          "metadata": {
            "tags": []
          }
        },
        {
          "output_type": "stream",
          "text": [
            "Epoch 1/50\n",
            "62/62 [==============================] - 74s 1s/step - loss: 2.7035 - acc: 0.1110 - val_loss: 2.3119 - val_acc: 0.1000\n",
            "Epoch 2/50\n",
            "62/62 [==============================] - 72s 1s/step - loss: 2.4500 - acc: 0.1290 - val_loss: 2.3546 - val_acc: 0.0771\n",
            "Epoch 3/50\n",
            "62/62 [==============================] - 72s 1s/step - loss: 2.3408 - acc: 0.1500 - val_loss: 2.3975 - val_acc: 0.1274\n",
            "Epoch 4/50\n",
            "62/62 [==============================] - 74s 1s/step - loss: 2.3413 - acc: 0.1634 - val_loss: 2.3960 - val_acc: 0.1042\n",
            "Epoch 5/50\n",
            "62/62 [==============================] - 73s 1s/step - loss: 2.2675 - acc: 0.1921 - val_loss: 2.3840 - val_acc: 0.0958\n",
            "Epoch 6/50\n",
            "62/62 [==============================] - 72s 1s/step - loss: 2.2526 - acc: 0.1805 - val_loss: 2.4192 - val_acc: 0.1167\n",
            "Epoch 7/50\n",
            "62/62 [==============================] - 72s 1s/step - loss: 2.2256 - acc: 0.1954 - val_loss: 2.3030 - val_acc: 0.1490\n",
            "Epoch 8/50\n",
            "62/62 [==============================] - 73s 1s/step - loss: 2.2145 - acc: 0.1757 - val_loss: 2.2809 - val_acc: 0.1500\n",
            "Epoch 9/50\n",
            "62/62 [==============================] - 73s 1s/step - loss: 2.2700 - acc: 0.1865 - val_loss: 2.1768 - val_acc: 0.2021\n",
            "Epoch 10/50\n",
            "62/62 [==============================] - 71s 1s/step - loss: 2.2025 - acc: 0.2047 - val_loss: 2.1517 - val_acc: 0.1813\n",
            "Epoch 11/50\n",
            "62/62 [==============================] - 72s 1s/step - loss: 2.1970 - acc: 0.1944 - val_loss: 2.1385 - val_acc: 0.2246\n",
            "Epoch 12/50\n",
            "62/62 [==============================] - 73s 1s/step - loss: 2.1692 - acc: 0.1989 - val_loss: 2.1220 - val_acc: 0.2271\n",
            "Epoch 13/50\n",
            "62/62 [==============================] - 73s 1s/step - loss: 2.1651 - acc: 0.2093 - val_loss: 2.1570 - val_acc: 0.1875\n",
            "Epoch 14/50\n",
            "62/62 [==============================] - 71s 1s/step - loss: 2.1832 - acc: 0.2304 - val_loss: 2.0896 - val_acc: 0.2375\n",
            "Epoch 15/50\n",
            "62/62 [==============================] - 73s 1s/step - loss: 2.1664 - acc: 0.2249 - val_loss: 2.0396 - val_acc: 0.2604\n",
            "Epoch 16/50\n",
            "62/62 [==============================] - 73s 1s/step - loss: 2.1608 - acc: 0.2254 - val_loss: 2.0681 - val_acc: 0.2873\n",
            "Epoch 17/50\n",
            "62/62 [==============================] - 73s 1s/step - loss: 2.1326 - acc: 0.2297 - val_loss: 2.0677 - val_acc: 0.2708\n",
            "Epoch 18/50\n",
            "62/62 [==============================] - 72s 1s/step - loss: 2.1483 - acc: 0.2292 - val_loss: 2.1654 - val_acc: 0.1813\n",
            "Epoch 19/50\n",
            "62/62 [==============================] - 74s 1s/step - loss: 2.1058 - acc: 0.2195 - val_loss: 2.0553 - val_acc: 0.2354\n",
            "Epoch 20/50\n",
            "62/62 [==============================] - 71s 1s/step - loss: 2.0951 - acc: 0.2291 - val_loss: 2.0525 - val_acc: 0.2613\n",
            "Epoch 21/50\n",
            "62/62 [==============================] - 71s 1s/step - loss: 2.1388 - acc: 0.2313 - val_loss: 2.0855 - val_acc: 0.2271\n"
          ],
          "name": "stdout"
        },
        {
          "output_type": "stream",
          "text": [
            "\u001b[34m\u001b[1mwandb\u001b[0m: Agent Starting Run: 3sd2cunk with config:\n",
            "\u001b[34m\u001b[1mwandb\u001b[0m: \tactivation: relu\n",
            "\u001b[34m\u001b[1mwandb\u001b[0m: \tbatch_norm: True\n",
            "\u001b[34m\u001b[1mwandb\u001b[0m: \tconv_layers: 5\n",
            "\u001b[34m\u001b[1mwandb\u001b[0m: \tdata_aug: True\n",
            "\u001b[34m\u001b[1mwandb\u001b[0m: \tdense_size: 32\n",
            "\u001b[34m\u001b[1mwandb\u001b[0m: \tdropout: 0.2\n",
            "\u001b[34m\u001b[1mwandb\u001b[0m: \tfilter_org: 1\n",
            "\u001b[34m\u001b[1mwandb\u001b[0m: \tfirst_layer_filters: 32\n",
            "\u001b[34m\u001b[1mwandb\u001b[0m: \tkernel_size: 3\n",
            "\u001b[34m\u001b[1mwandb\u001b[0m: \tnum_epochs: 50\n",
            "\u001b[34m\u001b[1mwandb\u001b[0m: \toptimizer: adam\n"
          ],
          "name": "stderr"
        },
        {
          "output_type": "display_data",
          "data": {
            "text/html": [
              "\n",
              "                Tracking run with wandb version 0.10.25<br/>\n",
              "                Syncing run <strong style=\"color:#cdcd00\">dry-sweep-8</strong> to <a href=\"https://wandb.ai\" target=\"_blank\">Weights & Biases</a> <a href=\"https://docs.wandb.com/integrations/jupyter.html\" target=\"_blank\">(Documentation)</a>.<br/>\n",
              "                Project page: <a href=\"https://wandb.ai/cs6910-team/DL-Assignment2-PartA-5April-2\" target=\"_blank\">https://wandb.ai/cs6910-team/DL-Assignment2-PartA-5April-2</a><br/>\n",
              "                Sweep page: <a href=\"https://wandb.ai/cs6910-team/DL-Assignment2-PartA-5April-2/sweeps/firnynx9\" target=\"_blank\">https://wandb.ai/cs6910-team/DL-Assignment2-PartA-5April-2/sweeps/firnynx9</a><br/>\n",
              "Run page: <a href=\"https://wandb.ai/cs6910-team/DL-Assignment2-PartA-5April-2/runs/3sd2cunk\" target=\"_blank\">https://wandb.ai/cs6910-team/DL-Assignment2-PartA-5April-2/runs/3sd2cunk</a><br/>\n",
              "                Run data is saved locally in <code>/content/wandb/run-20210413_111825-3sd2cunk</code><br/><br/>\n",
              "            "
            ],
            "text/plain": [
              "<IPython.core.display.HTML object>"
            ]
          },
          "metadata": {
            "tags": []
          }
        },
        {
          "output_type": "display_data",
          "data": {
            "text/html": [
              "Finishing last run (ID:3sd2cunk) before initializing another..."
            ],
            "text/plain": [
              "<IPython.core.display.HTML object>"
            ]
          },
          "metadata": {
            "tags": []
          }
        },
        {
          "output_type": "display_data",
          "data": {
            "text/html": [
              "<br/>Waiting for W&B process to finish, PID 3417<br/>Program ended successfully."
            ],
            "text/plain": [
              "<IPython.core.display.HTML object>"
            ]
          },
          "metadata": {
            "tags": []
          }
        },
        {
          "output_type": "display_data",
          "data": {
            "application/vnd.jupyter.widget-view+json": {
              "model_id": "db98bcbf76c24458bcc1b337ad0465aa",
              "version_minor": 0,
              "version_major": 2
            },
            "text/plain": [
              "VBox(children=(Label(value=' 0.13MB of 0.13MB uploaded (0.00MB deduped)\\r'), FloatProgress(value=1.0, max=1.0)…"
            ]
          },
          "metadata": {
            "tags": []
          }
        },
        {
          "output_type": "display_data",
          "data": {
            "text/html": [
              "Find user logs for this run at: <code>/content/wandb/run-20210413_111825-3sd2cunk/logs/debug.log</code>"
            ],
            "text/plain": [
              "<IPython.core.display.HTML object>"
            ]
          },
          "metadata": {
            "tags": []
          }
        },
        {
          "output_type": "display_data",
          "data": {
            "text/html": [
              "Find internal logs for this run at: <code>/content/wandb/run-20210413_111825-3sd2cunk/logs/debug-internal.log</code>"
            ],
            "text/plain": [
              "<IPython.core.display.HTML object>"
            ]
          },
          "metadata": {
            "tags": []
          }
        },
        {
          "output_type": "display_data",
          "data": {
            "text/html": [
              "Synced 4 W&B file(s), 0 media file(s), 2 artifact file(s) and 1 other file(s)"
            ],
            "text/plain": [
              "<IPython.core.display.HTML object>"
            ]
          },
          "metadata": {
            "tags": []
          }
        },
        {
          "output_type": "display_data",
          "data": {
            "text/html": [
              "\n",
              "                    <br/>Synced <strong style=\"color:#cdcd00\">dry-sweep-8</strong>: <a href=\"https://wandb.ai/cs6910-team/DL-Assignment2-PartA-5April-2/runs/3sd2cunk\" target=\"_blank\">https://wandb.ai/cs6910-team/DL-Assignment2-PartA-5April-2/runs/3sd2cunk</a><br/>\n",
              "                "
            ],
            "text/plain": [
              "<IPython.core.display.HTML object>"
            ]
          },
          "metadata": {
            "tags": []
          }
        },
        {
          "output_type": "display_data",
          "data": {
            "text/html": [
              "...Successfully finished last run (ID:3sd2cunk). Initializing new run:<br/><br/>"
            ],
            "text/plain": [
              "<IPython.core.display.HTML object>"
            ]
          },
          "metadata": {
            "tags": []
          }
        },
        {
          "output_type": "display_data",
          "data": {
            "text/html": [
              "\n",
              "                Tracking run with wandb version 0.10.25<br/>\n",
              "                Syncing run <strong style=\"color:#cdcd00\">dry-sweep-8</strong> to <a href=\"https://wandb.ai\" target=\"_blank\">Weights & Biases</a> <a href=\"https://docs.wandb.com/integrations/jupyter.html\" target=\"_blank\">(Documentation)</a>.<br/>\n",
              "                Project page: <a href=\"https://wandb.ai/cs6910-team/DL-Assignment2-PartA-5April-2\" target=\"_blank\">https://wandb.ai/cs6910-team/DL-Assignment2-PartA-5April-2</a><br/>\n",
              "                Sweep page: <a href=\"https://wandb.ai/cs6910-team/DL-Assignment2-PartA-5April-2/sweeps/firnynx9\" target=\"_blank\">https://wandb.ai/cs6910-team/DL-Assignment2-PartA-5April-2/sweeps/firnynx9</a><br/>\n",
              "Run page: <a href=\"https://wandb.ai/cs6910-team/DL-Assignment2-PartA-5April-2/runs/3sd2cunk\" target=\"_blank\">https://wandb.ai/cs6910-team/DL-Assignment2-PartA-5April-2/runs/3sd2cunk</a><br/>\n",
              "                Run data is saved locally in <code>/content/wandb/run-20210413_111828-3sd2cunk</code><br/><br/>\n",
              "            "
            ],
            "text/plain": [
              "<IPython.core.display.HTML object>"
            ]
          },
          "metadata": {
            "tags": []
          }
        },
        {
          "output_type": "stream",
          "text": [
            "Epoch 1/50\n",
            "     22/Unknown - 24s 1s/step - loss: 2.6613 - acc: 0.1099"
          ],
          "name": "stdout"
        },
        {
          "output_type": "stream",
          "text": [
            "\u001b[34m\u001b[1mwandb\u001b[0m: Ctrl + C detected. Stopping sweep.\n"
          ],
          "name": "stderr"
        }
      ]
    },
    {
      "cell_type": "code",
      "metadata": {
        "id": "ymMrW8e7cik6"
      },
      "source": [
        ""
      ],
      "execution_count": null,
      "outputs": []
    }
  ]
}