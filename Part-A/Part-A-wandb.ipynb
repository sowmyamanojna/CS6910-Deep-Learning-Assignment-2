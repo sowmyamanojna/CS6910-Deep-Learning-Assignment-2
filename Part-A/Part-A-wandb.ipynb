{
 "cells": [
  {
   "cell_type": "code",
   "execution_count": 7,
   "metadata": {},
   "outputs": [],
   "source": [
    "import os\n",
    "import wandb\n",
    "import numpy as np\n",
    "import tensorflow as tf\n",
    "from tensorflow.keras.preprocessing import image_dataset_from_directory\n",
    "from tensorflow.keras.preprocessing.image import ImageDataGenerator\n",
    "from tensorflow.keras import layers\n",
    "from tensorflow.keras.layers.experimental.preprocessing import Rescaling\n",
    "from PIL import Image"
   ]
  },
  {
   "cell_type": "markdown",
   "metadata": {},
   "source": [
    "## Preparing training and validation sets "
   ]
  },
  {
   "cell_type": "code",
   "execution_count": 2,
   "metadata": {},
   "outputs": [
    {
     "name": "stdout",
     "output_type": "stream",
     "text": [
      "Found 9999 files belonging to 10 classes.\n",
      "Using 8000 files for training.\n",
      "Found 9999 files belonging to 10 classes.\n",
      "Using 1999 files for validation.\n"
     ]
    }
   ],
   "source": [
    "####################################################################\n",
    "# Preparing training set (without augmentation) and validation set\n",
    "####################################################################\n",
    "\n",
    "# Preparing training and validation sets without augmentation\n",
    "# Loading data from directory\n",
    "data_dir = 'nature_12K/inaturalist_12K/train'\n",
    "train_data = tf.keras.preprocessing.image_dataset_from_directory(\n",
    "                      directory = data_dir,\n",
    "                      labels = 'inferred',  \n",
    "                      label_mode = 'categorical',\n",
    "                      color_mode = 'rgb',\n",
    "                      batch_size = 32,\n",
    "                      image_size = (256, 256),\n",
    "                      shuffle = True,\n",
    "                      seed = 17,\n",
    "                      validation_split = 0.2,\n",
    "                      subset = 'training')\n",
    "\n",
    "val_data = tf.keras.preprocessing.image_dataset_from_directory(\n",
    "                      directory = data_dir,\n",
    "                      labels = 'inferred',  \n",
    "                      label_mode = 'categorical',\n",
    "                      color_mode = 'rgb',\n",
    "                      batch_size = 32,\n",
    "                      image_size = (256, 256),\n",
    "                      shuffle = True,\n",
    "                      seed = 17,\n",
    "                      validation_split = 0.2,\n",
    "                      subset = 'validation')\n",
    "\n",
    "# Retaining 25 percent of train and validation data and discarding the rest\n",
    "len_train, len_val = len(train_data), len(val_data)\n",
    "train_data = train_data.take(int(0.25*len_train))\n",
    "val_data = val_data.take(int(0.25*len_val))"
   ]
  },
  {
   "cell_type": "code",
   "execution_count": 3,
   "metadata": {},
   "outputs": [
    {
     "name": "stdout",
     "output_type": "stream",
     "text": [
      "Found 8000 images belonging to 10 classes.\n",
      "Found 1999 images belonging to 10 classes.\n"
     ]
    }
   ],
   "source": [
    "################################################################\n",
    "# Preparing training set with augmentation \n",
    "################################################################\n",
    "train_data_augmenter = ImageDataGenerator(\n",
    "                            rescale = None,\n",
    "                            rotation_range = 20,\n",
    "                            width_shift_range = 0.2,\n",
    "                            height_shift_range = 0.2,\n",
    "                            brightness_range = [0.2, 1.5],\n",
    "                            shear_range = 0.2,\n",
    "                            zoom_range = 0.2,\n",
    "                            horizontal_flip=True,\n",
    "                            data_format = 'channels_last',\n",
    "                            validation_split = 0.2)        #Specifying parameters for augmentation of training data\n",
    "\n",
    "val_data_augmenter = ImageDataGenerator(validation_split = 0.2) #No augmentation of validation data\n",
    "\n",
    "train_aug_gen = train_data_augmenter.flow_from_directory(data_dir, shuffle = True, \\\n",
    "                                                         seed = 17, subset = 'training')\n",
    "val_aug_gen = val_data_augmenter.flow_from_directory(data_dir, shuffle = True, \\\n",
    "                                                     seed = 17, subset = 'validation')\n",
    "\n",
    "train_aug_data = tf.data.Dataset.from_generator(\n",
    "                    lambda: train_aug_gen,\n",
    "                    output_types = (tf.float32, tf.float32),\n",
    "                    output_shapes = ([None, 256, 256, 3], [None, 10]))\n",
    "\n",
    "val_aug_data = tf.data.Dataset.from_generator(\n",
    "                  lambda: val_aug_gen,\n",
    "                  output_types = (tf.float32, tf.float32),\n",
    "                  output_shapes = ([None, 256, 256, 3], [None, 10]))\n",
    "\n",
    "train_aug_data = train_aug_data.take(int(0.25*len_train))\n",
    "val_aug_data = val_aug_data.take(int(0.25*len_val))"
   ]
  },
  {
   "cell_type": "markdown",
   "metadata": {},
   "source": [
    "## Setting up wandb sweeps"
   ]
  },
  {
   "cell_type": "code",
   "execution_count": 4,
   "metadata": {},
   "outputs": [],
   "source": [
    "###############################################\n",
    "# Listing the hyperparameters in wandb config \n",
    "###############################################\n",
    "sweep_config = {'name': 'random-test-sweep', 'method': 'random'}\n",
    "sweep_config['metric'] = {'name': 'val_acc', 'goal': 'maximize'}\n",
    "parameters_dict = {\n",
    "                   'first_layer_filters': {'values': [32, 64]},\n",
    "                   'filter_org': {'values': [0.5, 1, 2]}, # Halving, same, doubling in subsequent layers\n",
    "                   'data_aug': {'values': [True]},\n",
    "                   'batch_norm': {'values': [True]}, \n",
    "                   'dropout': {'values': [0.0, 0.2, 0.3]},\n",
    "                   'kernel_size': {'values': [3]},\n",
    "                   'dense_size': {'values': [32, 64, 128]},\n",
    "                   'activation': {'values': ['relu']},\n",
    "                   'num_epochs': {'values': [50]}, \n",
    "                   'optimizer': {'values': ['adam']},\n",
    "                   'conv_layers': {'values': [5]}\n",
    "                  }\n",
    "sweep_config['parameters'] = parameters_dict"
   ]
  },
  {
   "cell_type": "code",
   "execution_count": 5,
   "metadata": {},
   "outputs": [],
   "source": [
    "#####################################\n",
    "# Defining the train function\n",
    "#####################################\n",
    "def CNN_train(config=sweep_config):\n",
    "    with wandb.init(config=config):\n",
    "        config = wandb.init().config\n",
    "        wandb.run.name = 'firstLayerFilters_{}_filterOrg_{}_dataAug_{}_batchNorm_{}_dropout_{}_kerSize_{}_denseSize_{}'.format(config.first_layer_filters, config.filter_org, config.data_aug, config.batch_norm, config.dropout, config.kernel_size, config.dense_size)               \n",
    "        \n",
    "        ###########################################\n",
    "        # Initializing the model architecture\n",
    "        ###########################################\n",
    "        inputs = tf.keras.Input(shape = (256, 256, 3))\n",
    "        x = Rescaling(scale = 1.0/255)(inputs)\n",
    "        filter_sizes = [int(config.first_layer_filters*(config.filter_org**layer_num)) for layer_num in range(config.conv_layers)]\n",
    "        ker_size = config.kernel_size\n",
    "\n",
    "        # Apply some convolution and pooling layers\n",
    "        for layer_num in range(config.conv_layers):\n",
    "            x = layers.Conv2D(filters = filter_sizes[layer_num], kernel_size = (ker_size, ker_size))(x)\n",
    "            if config.batch_norm:\n",
    "                x = layers.BatchNormalization(axis = -1)(x)\n",
    "            x = layers.Activation(config.activation)(x)\n",
    "            x = layers.MaxPooling2D(pool_size = (2, 2))(x)            \n",
    "                \n",
    "        # Dense Layer\n",
    "        x = layers.Flatten()(x)\n",
    "        x = layers.Dense(config.dense_size)(x)\n",
    "        if config.batch_norm:\n",
    "            x = layers.BatchNormalization(axis = -1)(x)\n",
    "        x = layers.Activation(config.activation)(x)\n",
    "        if config.dropout > 0:\n",
    "            x = layers.Dropout(rate = config.dropout)(x)        \n",
    "\n",
    "        # Output Layer\n",
    "        outputs = layers.Dense(10, activation ='softmax')(x)\n",
    "        model = tf.keras.Model(inputs = inputs, outputs = outputs)\n",
    "        #print(model.summary())"
   ]
  },
  {
   "cell_type": "code",
   "execution_count": null,
   "metadata": {},
   "outputs": [
    {
     "name": "stdout",
     "output_type": "stream",
     "text": [
      "Create sweep with ID: a3m2nh0j\n",
      "Sweep URL: https://wandb.ai/cs6910-team/DL-Assignment2-PartA-10/sweeps/a3m2nh0j\n"
     ]
    },
    {
     "name": "stderr",
     "output_type": "stream",
     "text": [
      "wandb: Agent Starting Run: 7108wrkh with config:\n",
      "wandb: \tactivation: relu\n",
      "wandb: \tbatch_norm: True\n",
      "wandb: \tconv_layers: 5\n",
      "wandb: \tdata_aug: True\n",
      "wandb: \tdense_size: 128\n",
      "wandb: \tdropout: 0.3\n",
      "wandb: \tfilter_org: 2\n",
      "wandb: \tfirst_layer_filters: 64\n",
      "wandb: \tkernel_size: 3\n",
      "wandb: \tnum_epochs: 50\n",
      "wandb: \toptimizer: adam\n",
      "wandb: Currently logged in as: cs6910-team (use `wandb login --relogin` to force relogin)\n"
     ]
    },
    {
     "data": {
      "text/html": [
       "\n",
       "                Tracking run with wandb version 0.10.25<br/>\n",
       "                Syncing run <strong style=\"color:#cdcd00\">swift-sweep-1</strong> to <a href=\"https://wandb.ai\" target=\"_blank\">Weights & Biases</a> <a href=\"https://docs.wandb.com/integrations/jupyter.html\" target=\"_blank\">(Documentation)</a>.<br/>\n",
       "                Project page: <a href=\"https://wandb.ai/cs6910-team/DL-Assignment2-PartA-10\" target=\"_blank\">https://wandb.ai/cs6910-team/DL-Assignment2-PartA-10</a><br/>\n",
       "                Sweep page: <a href=\"https://wandb.ai/cs6910-team/DL-Assignment2-PartA-10/sweeps/a3m2nh0j\" target=\"_blank\">https://wandb.ai/cs6910-team/DL-Assignment2-PartA-10/sweeps/a3m2nh0j</a><br/>\n",
       "Run page: <a href=\"https://wandb.ai/cs6910-team/DL-Assignment2-PartA-10/runs/7108wrkh\" target=\"_blank\">https://wandb.ai/cs6910-team/DL-Assignment2-PartA-10/runs/7108wrkh</a><br/>\n",
       "                Run data is saved locally in <code>C:\\Users\\Admin\\OneDrive\\Desktop\\DL Assignment 2\\wandb\\run-20210412_230400-7108wrkh</code><br/><br/>\n",
       "            "
      ],
      "text/plain": [
       "<IPython.core.display.HTML object>"
      ]
     },
     "metadata": {},
     "output_type": "display_data"
    },
    {
     "data": {
      "text/html": [
       "Finishing last run (ID:7108wrkh) before initializing another..."
      ],
      "text/plain": [
       "<IPython.core.display.HTML object>"
      ]
     },
     "metadata": {},
     "output_type": "display_data"
    },
    {
     "data": {
      "text/html": [
       "<br/>Waiting for W&B process to finish, PID 13436<br/>Program ended successfully."
      ],
      "text/plain": [
       "<IPython.core.display.HTML object>"
      ]
     },
     "metadata": {},
     "output_type": "display_data"
    },
    {
     "data": {
      "application/vnd.jupyter.widget-view+json": {
       "model_id": "",
       "version_major": 2,
       "version_minor": 0
      },
      "text/plain": [
       "VBox(children=(Label(value=' 0.02MB of 0.02MB uploaded (0.00MB deduped)\\r'), FloatProgress(value=1.0, max=1.0)…"
      ]
     },
     "metadata": {},
     "output_type": "display_data"
    },
    {
     "data": {
      "text/html": [
       "Find user logs for this run at: <code>C:\\Users\\Admin\\OneDrive\\Desktop\\DL Assignment 2\\wandb\\run-20210412_230400-7108wrkh\\logs\\debug.log</code>"
      ],
      "text/plain": [
       "<IPython.core.display.HTML object>"
      ]
     },
     "metadata": {},
     "output_type": "display_data"
    },
    {
     "data": {
      "text/html": [
       "Find internal logs for this run at: <code>C:\\Users\\Admin\\OneDrive\\Desktop\\DL Assignment 2\\wandb\\run-20210412_230400-7108wrkh\\logs\\debug-internal.log</code>"
      ],
      "text/plain": [
       "<IPython.core.display.HTML object>"
      ]
     },
     "metadata": {},
     "output_type": "display_data"
    },
    {
     "data": {
      "text/html": [
       "Synced 4 W&B file(s), 0 media file(s), 2 artifact file(s) and 1 other file(s)"
      ],
      "text/plain": [
       "<IPython.core.display.HTML object>"
      ]
     },
     "metadata": {},
     "output_type": "display_data"
    },
    {
     "data": {
      "text/html": [
       "\n",
       "                    <br/>Synced <strong style=\"color:#cdcd00\">swift-sweep-1</strong>: <a href=\"https://wandb.ai/cs6910-team/DL-Assignment2-PartA-10/runs/7108wrkh\" target=\"_blank\">https://wandb.ai/cs6910-team/DL-Assignment2-PartA-10/runs/7108wrkh</a><br/>\n",
       "                "
      ],
      "text/plain": [
       "<IPython.core.display.HTML object>"
      ]
     },
     "metadata": {},
     "output_type": "display_data"
    },
    {
     "data": {
      "text/html": [
       "...Successfully finished last run (ID:7108wrkh). Initializing new run:<br/><br/>"
      ],
      "text/plain": [
       "<IPython.core.display.HTML object>"
      ]
     },
     "metadata": {},
     "output_type": "display_data"
    },
    {
     "data": {
      "text/html": [
       "\n",
       "                Tracking run with wandb version 0.10.25<br/>\n",
       "                Syncing run <strong style=\"color:#cdcd00\">swift-sweep-1</strong> to <a href=\"https://wandb.ai\" target=\"_blank\">Weights & Biases</a> <a href=\"https://docs.wandb.com/integrations/jupyter.html\" target=\"_blank\">(Documentation)</a>.<br/>\n",
       "                Project page: <a href=\"https://wandb.ai/cs6910-team/DL-Assignment2-PartA-10\" target=\"_blank\">https://wandb.ai/cs6910-team/DL-Assignment2-PartA-10</a><br/>\n",
       "                Sweep page: <a href=\"https://wandb.ai/cs6910-team/DL-Assignment2-PartA-10/sweeps/a3m2nh0j\" target=\"_blank\">https://wandb.ai/cs6910-team/DL-Assignment2-PartA-10/sweeps/a3m2nh0j</a><br/>\n",
       "Run page: <a href=\"https://wandb.ai/cs6910-team/DL-Assignment2-PartA-10/runs/7108wrkh\" target=\"_blank\">https://wandb.ai/cs6910-team/DL-Assignment2-PartA-10/runs/7108wrkh</a><br/>\n",
       "                Run data is saved locally in <code>C:\\Users\\Admin\\OneDrive\\Desktop\\DL Assignment 2\\wandb\\run-20210412_230408-7108wrkh</code><br/><br/>\n",
       "            "
      ],
      "text/plain": [
       "<IPython.core.display.HTML object>"
      ]
     },
     "metadata": {},
     "output_type": "display_data"
    },
    {
     "name": "stderr",
     "output_type": "stream",
     "text": [
      "wandb: Agent Starting Run: 32z3fz6d with config:\n",
      "wandb: \tactivation: relu\n",
      "wandb: \tbatch_norm: True\n",
      "wandb: \tconv_layers: 5\n",
      "wandb: \tdata_aug: True\n",
      "wandb: \tdense_size: 64\n",
      "wandb: \tdropout: 0.2\n",
      "wandb: \tfilter_org: 1\n",
      "wandb: \tfirst_layer_filters: 64\n",
      "wandb: \tkernel_size: 3\n",
      "wandb: \tnum_epochs: 50\n",
      "wandb: \toptimizer: adam\n"
     ]
    },
    {
     "data": {
      "text/html": [
       "\n",
       "                Tracking run with wandb version 0.10.25<br/>\n",
       "                Syncing run <strong style=\"color:#cdcd00\">lucky-sweep-2</strong> to <a href=\"https://wandb.ai\" target=\"_blank\">Weights & Biases</a> <a href=\"https://docs.wandb.com/integrations/jupyter.html\" target=\"_blank\">(Documentation)</a>.<br/>\n",
       "                Project page: <a href=\"https://wandb.ai/cs6910-team/DL-Assignment2-PartA-10\" target=\"_blank\">https://wandb.ai/cs6910-team/DL-Assignment2-PartA-10</a><br/>\n",
       "                Sweep page: <a href=\"https://wandb.ai/cs6910-team/DL-Assignment2-PartA-10/sweeps/a3m2nh0j\" target=\"_blank\">https://wandb.ai/cs6910-team/DL-Assignment2-PartA-10/sweeps/a3m2nh0j</a><br/>\n",
       "Run page: <a href=\"https://wandb.ai/cs6910-team/DL-Assignment2-PartA-10/runs/32z3fz6d\" target=\"_blank\">https://wandb.ai/cs6910-team/DL-Assignment2-PartA-10/runs/32z3fz6d</a><br/>\n",
       "                Run data is saved locally in <code>C:\\Users\\Admin\\OneDrive\\Desktop\\DL Assignment 2\\wandb\\run-20210412_230428-32z3fz6d</code><br/><br/>\n",
       "            "
      ],
      "text/plain": [
       "<IPython.core.display.HTML object>"
      ]
     },
     "metadata": {},
     "output_type": "display_data"
    },
    {
     "data": {
      "text/html": [
       "Finishing last run (ID:32z3fz6d) before initializing another..."
      ],
      "text/plain": [
       "<IPython.core.display.HTML object>"
      ]
     },
     "metadata": {},
     "output_type": "display_data"
    },
    {
     "data": {
      "text/html": [
       "<br/>Waiting for W&B process to finish, PID 21528<br/>Program ended successfully."
      ],
      "text/plain": [
       "<IPython.core.display.HTML object>"
      ]
     },
     "metadata": {},
     "output_type": "display_data"
    },
    {
     "data": {
      "application/vnd.jupyter.widget-view+json": {
       "model_id": "",
       "version_major": 2,
       "version_minor": 0
      },
      "text/plain": [
       "VBox(children=(Label(value=' 0.02MB of 0.02MB uploaded (0.00MB deduped)\\r'), FloatProgress(value=1.0, max=1.0)…"
      ]
     },
     "metadata": {},
     "output_type": "display_data"
    },
    {
     "data": {
      "text/html": [
       "Find user logs for this run at: <code>C:\\Users\\Admin\\OneDrive\\Desktop\\DL Assignment 2\\wandb\\run-20210412_230428-32z3fz6d\\logs\\debug.log</code>"
      ],
      "text/plain": [
       "<IPython.core.display.HTML object>"
      ]
     },
     "metadata": {},
     "output_type": "display_data"
    },
    {
     "data": {
      "text/html": [
       "Find internal logs for this run at: <code>C:\\Users\\Admin\\OneDrive\\Desktop\\DL Assignment 2\\wandb\\run-20210412_230428-32z3fz6d\\logs\\debug-internal.log</code>"
      ],
      "text/plain": [
       "<IPython.core.display.HTML object>"
      ]
     },
     "metadata": {},
     "output_type": "display_data"
    },
    {
     "data": {
      "text/html": [
       "Synced 4 W&B file(s), 0 media file(s), 2 artifact file(s) and 1 other file(s)"
      ],
      "text/plain": [
       "<IPython.core.display.HTML object>"
      ]
     },
     "metadata": {},
     "output_type": "display_data"
    },
    {
     "data": {
      "text/html": [
       "\n",
       "                    <br/>Synced <strong style=\"color:#cdcd00\">lucky-sweep-2</strong>: <a href=\"https://wandb.ai/cs6910-team/DL-Assignment2-PartA-10/runs/32z3fz6d\" target=\"_blank\">https://wandb.ai/cs6910-team/DL-Assignment2-PartA-10/runs/32z3fz6d</a><br/>\n",
       "                "
      ],
      "text/plain": [
       "<IPython.core.display.HTML object>"
      ]
     },
     "metadata": {},
     "output_type": "display_data"
    },
    {
     "data": {
      "text/html": [
       "...Successfully finished last run (ID:32z3fz6d). Initializing new run:<br/><br/>"
      ],
      "text/plain": [
       "<IPython.core.display.HTML object>"
      ]
     },
     "metadata": {},
     "output_type": "display_data"
    },
    {
     "data": {
      "text/html": [
       "\n",
       "                Tracking run with wandb version 0.10.25<br/>\n",
       "                Syncing run <strong style=\"color:#cdcd00\">lucky-sweep-2</strong> to <a href=\"https://wandb.ai\" target=\"_blank\">Weights & Biases</a> <a href=\"https://docs.wandb.com/integrations/jupyter.html\" target=\"_blank\">(Documentation)</a>.<br/>\n",
       "                Project page: <a href=\"https://wandb.ai/cs6910-team/DL-Assignment2-PartA-10\" target=\"_blank\">https://wandb.ai/cs6910-team/DL-Assignment2-PartA-10</a><br/>\n",
       "                Sweep page: <a href=\"https://wandb.ai/cs6910-team/DL-Assignment2-PartA-10/sweeps/a3m2nh0j\" target=\"_blank\">https://wandb.ai/cs6910-team/DL-Assignment2-PartA-10/sweeps/a3m2nh0j</a><br/>\n",
       "Run page: <a href=\"https://wandb.ai/cs6910-team/DL-Assignment2-PartA-10/runs/32z3fz6d\" target=\"_blank\">https://wandb.ai/cs6910-team/DL-Assignment2-PartA-10/runs/32z3fz6d</a><br/>\n",
       "                Run data is saved locally in <code>C:\\Users\\Admin\\OneDrive\\Desktop\\DL Assignment 2\\wandb\\run-20210412_230435-32z3fz6d</code><br/><br/>\n",
       "            "
      ],
      "text/plain": [
       "<IPython.core.display.HTML object>"
      ]
     },
     "metadata": {},
     "output_type": "display_data"
    },
    {
     "name": "stderr",
     "output_type": "stream",
     "text": [
      "wandb: Agent Starting Run: ryia85dw with config:\n",
      "wandb: \tactivation: relu\n",
      "wandb: \tbatch_norm: True\n",
      "wandb: \tconv_layers: 5\n",
      "wandb: \tdata_aug: True\n",
      "wandb: \tdense_size: 128\n",
      "wandb: \tdropout: 0.3\n",
      "wandb: \tfilter_org: 2\n",
      "wandb: \tfirst_layer_filters: 64\n",
      "wandb: \tkernel_size: 3\n",
      "wandb: \tnum_epochs: 50\n",
      "wandb: \toptimizer: adam\n"
     ]
    },
    {
     "data": {
      "text/html": [
       "\n",
       "                Tracking run with wandb version 0.10.25<br/>\n",
       "                Syncing run <strong style=\"color:#cdcd00\">scarlet-sweep-3</strong> to <a href=\"https://wandb.ai\" target=\"_blank\">Weights & Biases</a> <a href=\"https://docs.wandb.com/integrations/jupyter.html\" target=\"_blank\">(Documentation)</a>.<br/>\n",
       "                Project page: <a href=\"https://wandb.ai/cs6910-team/DL-Assignment2-PartA-10\" target=\"_blank\">https://wandb.ai/cs6910-team/DL-Assignment2-PartA-10</a><br/>\n",
       "                Sweep page: <a href=\"https://wandb.ai/cs6910-team/DL-Assignment2-PartA-10/sweeps/a3m2nh0j\" target=\"_blank\">https://wandb.ai/cs6910-team/DL-Assignment2-PartA-10/sweeps/a3m2nh0j</a><br/>\n",
       "Run page: <a href=\"https://wandb.ai/cs6910-team/DL-Assignment2-PartA-10/runs/ryia85dw\" target=\"_blank\">https://wandb.ai/cs6910-team/DL-Assignment2-PartA-10/runs/ryia85dw</a><br/>\n",
       "                Run data is saved locally in <code>C:\\Users\\Admin\\OneDrive\\Desktop\\DL Assignment 2\\wandb\\run-20210412_230453-ryia85dw</code><br/><br/>\n",
       "            "
      ],
      "text/plain": [
       "<IPython.core.display.HTML object>"
      ]
     },
     "metadata": {},
     "output_type": "display_data"
    },
    {
     "data": {
      "text/html": [
       "Finishing last run (ID:ryia85dw) before initializing another..."
      ],
      "text/plain": [
       "<IPython.core.display.HTML object>"
      ]
     },
     "metadata": {},
     "output_type": "display_data"
    },
    {
     "data": {
      "text/html": [
       "<br/>Waiting for W&B process to finish, PID 5136<br/>Program ended successfully."
      ],
      "text/plain": [
       "<IPython.core.display.HTML object>"
      ]
     },
     "metadata": {},
     "output_type": "display_data"
    },
    {
     "data": {
      "application/vnd.jupyter.widget-view+json": {
       "model_id": "",
       "version_major": 2,
       "version_minor": 0
      },
      "text/plain": [
       "VBox(children=(Label(value=' 0.02MB of 0.02MB uploaded (0.00MB deduped)\\r'), FloatProgress(value=1.0, max=1.0)…"
      ]
     },
     "metadata": {},
     "output_type": "display_data"
    },
    {
     "data": {
      "text/html": [
       "Find user logs for this run at: <code>C:\\Users\\Admin\\OneDrive\\Desktop\\DL Assignment 2\\wandb\\run-20210412_230453-ryia85dw\\logs\\debug.log</code>"
      ],
      "text/plain": [
       "<IPython.core.display.HTML object>"
      ]
     },
     "metadata": {},
     "output_type": "display_data"
    },
    {
     "data": {
      "text/html": [
       "Find internal logs for this run at: <code>C:\\Users\\Admin\\OneDrive\\Desktop\\DL Assignment 2\\wandb\\run-20210412_230453-ryia85dw\\logs\\debug-internal.log</code>"
      ],
      "text/plain": [
       "<IPython.core.display.HTML object>"
      ]
     },
     "metadata": {},
     "output_type": "display_data"
    },
    {
     "data": {
      "text/html": [
       "Synced 4 W&B file(s), 0 media file(s), 2 artifact file(s) and 1 other file(s)"
      ],
      "text/plain": [
       "<IPython.core.display.HTML object>"
      ]
     },
     "metadata": {},
     "output_type": "display_data"
    },
    {
     "data": {
      "text/html": [
       "\n",
       "                    <br/>Synced <strong style=\"color:#cdcd00\">scarlet-sweep-3</strong>: <a href=\"https://wandb.ai/cs6910-team/DL-Assignment2-PartA-10/runs/ryia85dw\" target=\"_blank\">https://wandb.ai/cs6910-team/DL-Assignment2-PartA-10/runs/ryia85dw</a><br/>\n",
       "                "
      ],
      "text/plain": [
       "<IPython.core.display.HTML object>"
      ]
     },
     "metadata": {},
     "output_type": "display_data"
    },
    {
     "data": {
      "text/html": [
       "...Successfully finished last run (ID:ryia85dw). Initializing new run:<br/><br/>"
      ],
      "text/plain": [
       "<IPython.core.display.HTML object>"
      ]
     },
     "metadata": {},
     "output_type": "display_data"
    },
    {
     "data": {
      "text/html": [
       "\n",
       "                Tracking run with wandb version 0.10.25<br/>\n",
       "                Syncing run <strong style=\"color:#cdcd00\">scarlet-sweep-3</strong> to <a href=\"https://wandb.ai\" target=\"_blank\">Weights & Biases</a> <a href=\"https://docs.wandb.com/integrations/jupyter.html\" target=\"_blank\">(Documentation)</a>.<br/>\n",
       "                Project page: <a href=\"https://wandb.ai/cs6910-team/DL-Assignment2-PartA-10\" target=\"_blank\">https://wandb.ai/cs6910-team/DL-Assignment2-PartA-10</a><br/>\n",
       "                Sweep page: <a href=\"https://wandb.ai/cs6910-team/DL-Assignment2-PartA-10/sweeps/a3m2nh0j\" target=\"_blank\">https://wandb.ai/cs6910-team/DL-Assignment2-PartA-10/sweeps/a3m2nh0j</a><br/>\n",
       "Run page: <a href=\"https://wandb.ai/cs6910-team/DL-Assignment2-PartA-10/runs/ryia85dw\" target=\"_blank\">https://wandb.ai/cs6910-team/DL-Assignment2-PartA-10/runs/ryia85dw</a><br/>\n",
       "                Run data is saved locally in <code>C:\\Users\\Admin\\OneDrive\\Desktop\\DL Assignment 2\\wandb\\run-20210412_230501-ryia85dw</code><br/><br/>\n",
       "            "
      ],
      "text/plain": [
       "<IPython.core.display.HTML object>"
      ]
     },
     "metadata": {},
     "output_type": "display_data"
    },
    {
     "name": "stderr",
     "output_type": "stream",
     "text": [
      "wandb: Agent Starting Run: no91rni2 with config:\n",
      "wandb: \tactivation: relu\n",
      "wandb: \tbatch_norm: True\n",
      "wandb: \tconv_layers: 5\n",
      "wandb: \tdata_aug: True\n",
      "wandb: \tdense_size: 64\n",
      "wandb: \tdropout: 0\n",
      "wandb: \tfilter_org: 1\n",
      "wandb: \tfirst_layer_filters: 64\n",
      "wandb: \tkernel_size: 3\n",
      "wandb: \tnum_epochs: 50\n",
      "wandb: \toptimizer: adam\n"
     ]
    },
    {
     "data": {
      "text/html": [
       "\n",
       "                Tracking run with wandb version 0.10.25<br/>\n",
       "                Syncing run <strong style=\"color:#cdcd00\">vivid-sweep-4</strong> to <a href=\"https://wandb.ai\" target=\"_blank\">Weights & Biases</a> <a href=\"https://docs.wandb.com/integrations/jupyter.html\" target=\"_blank\">(Documentation)</a>.<br/>\n",
       "                Project page: <a href=\"https://wandb.ai/cs6910-team/DL-Assignment2-PartA-10\" target=\"_blank\">https://wandb.ai/cs6910-team/DL-Assignment2-PartA-10</a><br/>\n",
       "                Sweep page: <a href=\"https://wandb.ai/cs6910-team/DL-Assignment2-PartA-10/sweeps/a3m2nh0j\" target=\"_blank\">https://wandb.ai/cs6910-team/DL-Assignment2-PartA-10/sweeps/a3m2nh0j</a><br/>\n",
       "Run page: <a href=\"https://wandb.ai/cs6910-team/DL-Assignment2-PartA-10/runs/no91rni2\" target=\"_blank\">https://wandb.ai/cs6910-team/DL-Assignment2-PartA-10/runs/no91rni2</a><br/>\n",
       "                Run data is saved locally in <code>C:\\Users\\Admin\\OneDrive\\Desktop\\DL Assignment 2\\wandb\\run-20210412_230524-no91rni2</code><br/><br/>\n",
       "            "
      ],
      "text/plain": [
       "<IPython.core.display.HTML object>"
      ]
     },
     "metadata": {},
     "output_type": "display_data"
    },
    {
     "data": {
      "text/html": [
       "Finishing last run (ID:no91rni2) before initializing another..."
      ],
      "text/plain": [
       "<IPython.core.display.HTML object>"
      ]
     },
     "metadata": {},
     "output_type": "display_data"
    },
    {
     "data": {
      "text/html": [
       "<br/>Waiting for W&B process to finish, PID 11520<br/>Program ended successfully."
      ],
      "text/plain": [
       "<IPython.core.display.HTML object>"
      ]
     },
     "metadata": {},
     "output_type": "display_data"
    },
    {
     "data": {
      "application/vnd.jupyter.widget-view+json": {
       "model_id": "",
       "version_major": 2,
       "version_minor": 0
      },
      "text/plain": [
       "VBox(children=(Label(value=' 0.04MB of 0.04MB uploaded (0.00MB deduped)\\r'), FloatProgress(value=1.0, max=1.0)…"
      ]
     },
     "metadata": {},
     "output_type": "display_data"
    },
    {
     "data": {
      "text/html": [
       "Find user logs for this run at: <code>C:\\Users\\Admin\\OneDrive\\Desktop\\DL Assignment 2\\wandb\\run-20210412_230524-no91rni2\\logs\\debug.log</code>"
      ],
      "text/plain": [
       "<IPython.core.display.HTML object>"
      ]
     },
     "metadata": {},
     "output_type": "display_data"
    },
    {
     "data": {
      "text/html": [
       "Find internal logs for this run at: <code>C:\\Users\\Admin\\OneDrive\\Desktop\\DL Assignment 2\\wandb\\run-20210412_230524-no91rni2\\logs\\debug-internal.log</code>"
      ],
      "text/plain": [
       "<IPython.core.display.HTML object>"
      ]
     },
     "metadata": {},
     "output_type": "display_data"
    },
    {
     "data": {
      "text/html": [
       "Synced 4 W&B file(s), 0 media file(s), 2 artifact file(s) and 1 other file(s)"
      ],
      "text/plain": [
       "<IPython.core.display.HTML object>"
      ]
     },
     "metadata": {},
     "output_type": "display_data"
    },
    {
     "data": {
      "text/html": [
       "\n",
       "                    <br/>Synced <strong style=\"color:#cdcd00\">vivid-sweep-4</strong>: <a href=\"https://wandb.ai/cs6910-team/DL-Assignment2-PartA-10/runs/no91rni2\" target=\"_blank\">https://wandb.ai/cs6910-team/DL-Assignment2-PartA-10/runs/no91rni2</a><br/>\n",
       "                "
      ],
      "text/plain": [
       "<IPython.core.display.HTML object>"
      ]
     },
     "metadata": {},
     "output_type": "display_data"
    },
    {
     "data": {
      "text/html": [
       "...Successfully finished last run (ID:no91rni2). Initializing new run:<br/><br/>"
      ],
      "text/plain": [
       "<IPython.core.display.HTML object>"
      ]
     },
     "metadata": {},
     "output_type": "display_data"
    },
    {
     "data": {
      "text/html": [
       "\n",
       "                Tracking run with wandb version 0.10.25<br/>\n",
       "                Syncing run <strong style=\"color:#cdcd00\">vivid-sweep-4</strong> to <a href=\"https://wandb.ai\" target=\"_blank\">Weights & Biases</a> <a href=\"https://docs.wandb.com/integrations/jupyter.html\" target=\"_blank\">(Documentation)</a>.<br/>\n",
       "                Project page: <a href=\"https://wandb.ai/cs6910-team/DL-Assignment2-PartA-10\" target=\"_blank\">https://wandb.ai/cs6910-team/DL-Assignment2-PartA-10</a><br/>\n",
       "                Sweep page: <a href=\"https://wandb.ai/cs6910-team/DL-Assignment2-PartA-10/sweeps/a3m2nh0j\" target=\"_blank\">https://wandb.ai/cs6910-team/DL-Assignment2-PartA-10/sweeps/a3m2nh0j</a><br/>\n",
       "Run page: <a href=\"https://wandb.ai/cs6910-team/DL-Assignment2-PartA-10/runs/no91rni2\" target=\"_blank\">https://wandb.ai/cs6910-team/DL-Assignment2-PartA-10/runs/no91rni2</a><br/>\n",
       "                Run data is saved locally in <code>C:\\Users\\Admin\\OneDrive\\Desktop\\DL Assignment 2\\wandb\\run-20210412_230532-no91rni2</code><br/><br/>\n",
       "            "
      ],
      "text/plain": [
       "<IPython.core.display.HTML object>"
      ]
     },
     "metadata": {},
     "output_type": "display_data"
    },
    {
     "name": "stderr",
     "output_type": "stream",
     "text": [
      "wandb: Agent Starting Run: pzewuz1j with config:\n",
      "wandb: \tactivation: relu\n",
      "wandb: \tbatch_norm: True\n",
      "wandb: \tconv_layers: 5\n",
      "wandb: \tdata_aug: True\n",
      "wandb: \tdense_size: 32\n",
      "wandb: \tdropout: 0\n",
      "wandb: \tfilter_org: 2\n",
      "wandb: \tfirst_layer_filters: 32\n",
      "wandb: \tkernel_size: 3\n",
      "wandb: \tnum_epochs: 50\n",
      "wandb: \toptimizer: adam\n"
     ]
    }
   ],
   "source": [
    "os.environ['WANDB_NOTEBOOK_NAME'] = 'Part-A-wandb.ipynb'\n",
    "os.environ['TF_XLA_FLAGS'] = '--tf_xla_enable_xla_devices'\n",
    "sweep_id = wandb.sweep(sweep_config, project = 'DL-Assignment2-PartA-10')\n",
    "wandb.agent(sweep_id, function = CNN_train)"
   ]
  },
  {
   "cell_type": "code",
   "execution_count": null,
   "metadata": {},
   "outputs": [],
   "source": []
  }
 ],
 "metadata": {
  "kernelspec": {
   "display_name": "Python 3",
   "language": "python",
   "name": "python3"
  },
  "language_info": {
   "codemirror_mode": {
    "name": "ipython",
    "version": 3
   },
   "file_extension": ".py",
   "mimetype": "text/x-python",
   "name": "python",
   "nbconvert_exporter": "python",
   "pygments_lexer": "ipython3",
   "version": "3.8.8"
  }
 },
 "nbformat": 4,
 "nbformat_minor": 4
}
