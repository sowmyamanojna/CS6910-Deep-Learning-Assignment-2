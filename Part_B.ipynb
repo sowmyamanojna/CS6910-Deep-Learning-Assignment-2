{
  "nbformat": 4,
  "nbformat_minor": 0,
  "metadata": {
    "colab": {
      "name": "Part-B.ipynb",
      "provenance": [],
      "collapsed_sections": [],
      "authorship_tag": "ABX9TyPMpHADV26Jbrq8pujmdQm9"
    },
    "kernelspec": {
      "name": "python3",
      "display_name": "Python 3"
    },
    "language_info": {
      "name": "python"
    },
    "accelerator": "GPU",
    "widgets": {
      "application/vnd.jupyter.widget-state+json": {
        "c48e7d35946a41fcb9bd45b181badcee": {
          "model_module": "@jupyter-widgets/controls",
          "model_name": "VBoxModel",
          "state": {
            "_view_name": "VBoxView",
            "_dom_classes": [],
            "_model_name": "VBoxModel",
            "_view_module": "@jupyter-widgets/controls",
            "_model_module_version": "1.5.0",
            "_view_count": null,
            "_view_module_version": "1.5.0",
            "box_style": "",
            "layout": "IPY_MODEL_6b1b1239c66847ec97a0d721a872948b",
            "_model_module": "@jupyter-widgets/controls",
            "children": [
              "IPY_MODEL_239be6be54d54c3e8c26798ad944ac41",
              "IPY_MODEL_82d2c1e825384223b999e441061785d1"
            ]
          }
        },
        "eb516c5195644e43883bcf408ab1096d": {
          "model_module": "@jupyter-widgets/controls",
          "model_name": "VBoxModel",
          "state": {
            "_view_name": "VBoxView",
            "_dom_classes": [],
            "_model_name": "VBoxModel",
            "_view_module": "@jupyter-widgets/controls",
            "_model_module_version": "1.5.0",
            "_view_count": null,
            "_view_module_version": "1.5.0",
            "box_style": "",
            "layout": "IPY_MODEL_9d5c5ffa667945e7a178cb8b04cbced6",
            "_model_module": "@jupyter-widgets/controls",
            "children": [
              "IPY_MODEL_131ee0fb6b6245ea9e8df39bd1f2d733",
              "IPY_MODEL_3f1b2a78c37c48bf90e740c7d744eb67"
            ]
          }
        },
        "0ccd250f776c45bb851c54cddd81146a": {
          "model_module": "@jupyter-widgets/controls",
          "model_name": "VBoxModel",
          "state": {
            "_view_name": "VBoxView",
            "_dom_classes": [],
            "_model_name": "VBoxModel",
            "_view_module": "@jupyter-widgets/controls",
            "_model_module_version": "1.5.0",
            "_view_count": null,
            "_view_module_version": "1.5.0",
            "box_style": "",
            "layout": "IPY_MODEL_f1dc01089eaa45e08889b8f486cabe0f",
            "_model_module": "@jupyter-widgets/controls",
            "children": [
              "IPY_MODEL_f0c05909d38d4ec89839dd0013bf70a6",
              "IPY_MODEL_36d43323f4664e45bf97417f9f8f777a"
            ]
          }
        }
      }
    }
  },
  "cells": [
    {
      "cell_type": "code",
      "metadata": {
        "id": "-LS0fc9-ZrXN"
      },
      "source": [
        "!pip install -q wandb\n",
        "import wandb\n",
        "import pathlib\n",
        "import numpy as np\n",
        "import pandas as pd\n",
        "import tensorflow as tf\n",
        "from tensorflow.keras.preprocessing import image_dataset_from_directory\n",
        "from tensorflow.keras.preprocessing.image import ImageDataGenerator\n",
        "from tensorflow.keras import layers, Model\n",
        "from tensorflow.keras.layers.experimental.preprocessing import Rescaling\n",
        "from PIL import Image"
      ],
      "execution_count": 1,
      "outputs": []
    },
    {
      "cell_type": "code",
      "metadata": {
        "colab": {
          "base_uri": "https://localhost:8080/"
        },
        "id": "1K34jr47OKyM",
        "outputId": "4e4951cd-44c0-48e9-970a-7a3a8c700f09"
      },
      "source": [
        "from google.colab import drive\n",
        "drive.mount('/content/drive')"
      ],
      "execution_count": 2,
      "outputs": [
        {
          "output_type": "stream",
          "text": [
            "Drive already mounted at /content/drive; to attempt to forcibly remount, call drive.mount(\"/content/drive\", force_remount=True).\n"
          ],
          "name": "stdout"
        }
      ]
    },
    {
      "cell_type": "code",
      "metadata": {
        "colab": {
          "base_uri": "https://localhost:8080/"
        },
        "id": "1NwKzzeTZy1y",
        "outputId": "ce1bacde-5a65-446a-be59-ad9ff2e963db"
      },
      "source": [
        "################################################################\n",
        "# Preparing training (without augmentation) and validation set \n",
        "################################################################\n",
        "# Preparing training and validation sets without augmentation\n",
        "# Loading data from directory\n",
        "# data_dir = pathlib.Path('/content/drive/MyDrive/inaturalist_12K/train') # Set path to the right directory\n",
        "data_dir = '/content/drive/MyDrive/inaturalist_12K/train' # Set path to the right directory\n",
        "train_data = tf.keras.preprocessing.image_dataset_from_directory(\n",
        "                      directory = data_dir,\n",
        "                      labels = 'inferred',  \n",
        "                      label_mode = 'categorical',\n",
        "                      color_mode = 'rgb',\n",
        "                      batch_size = 32,\n",
        "                      image_size = (256, 256),\n",
        "                      shuffle = True,\n",
        "                      seed = 17,\n",
        "                      validation_split = 0.2,\n",
        "                      subset = 'training')\n",
        "\n",
        "val_data = tf.keras.preprocessing.image_dataset_from_directory(\n",
        "                      directory = data_dir,\n",
        "                      labels = 'inferred',  \n",
        "                      label_mode = 'categorical',\n",
        "                      color_mode = 'rgb',\n",
        "                      batch_size = 32,\n",
        "                      image_size = (256, 256),\n",
        "                      shuffle = True,\n",
        "                      seed = 17,\n",
        "                      validation_split = 0.2,\n",
        "                      subset = 'validation')\n",
        "\n",
        "# Retaining 25 percent of train and validation data and discarding the rest\n",
        "len_train, len_val = len(train_data), len(val_data)\n",
        "train_data = train_data.take(int(0.25*len_train))\n",
        "val_data = val_data.take(int(0.25*len_val))"
      ],
      "execution_count": 3,
      "outputs": [
        {
          "output_type": "stream",
          "text": [
            "Found 10000 files belonging to 10 classes.\n",
            "Using 8000 files for training.\n",
            "Found 10000 files belonging to 10 classes.\n",
            "Using 2000 files for validation.\n"
          ],
          "name": "stdout"
        }
      ]
    },
    {
      "cell_type": "code",
      "metadata": {
        "colab": {
          "base_uri": "https://localhost:8080/"
        },
        "id": "r6qajDpNZz-B",
        "outputId": "e5af3bc8-1d37-496a-b58c-2356a0777579"
      },
      "source": [
        "################################################################\n",
        "# Preparing training set with augmentation \n",
        "################################################################\n",
        "train_data_augmenter = ImageDataGenerator(\n",
        "                            rescale = None,\n",
        "                            rotation_range = 20,\n",
        "                            width_shift_range = 0.2,\n",
        "                            height_shift_range = 0.2,\n",
        "                            brightness_range = [0.2, 1.5],\n",
        "                            shear_range = 0.2,\n",
        "                            zoom_range = 0.2,\n",
        "                            horizontal_flip=True,\n",
        "                            data_format = 'channels_last',\n",
        "                            validation_split = 0.2)        #Specifying parameters for augmentation of training data\n",
        "\n",
        "val_data_augmenter = ImageDataGenerator(validation_split = 0.2) #No augmentation of validation data\n",
        "\n",
        "train_aug_gen = train_data_augmenter.flow_from_directory(data_dir, shuffle = True, \\\n",
        "                                                         seed = 17, subset = 'training')\n",
        "val_aug_gen = val_data_augmenter.flow_from_directory(data_dir, shuffle = True, \\\n",
        "                                                     seed = 17, subset = 'validation')\n",
        "\n",
        "train_aug_data = tf.data.Dataset.from_generator(\n",
        "                    lambda: train_aug_gen,\n",
        "                    output_types = (tf.float32, tf.float32),\n",
        "                    output_shapes = ([None, 256, 256, 3], [None, 10]))\n",
        "\n",
        "val_aug_data = tf.data.Dataset.from_generator(\n",
        "                  lambda: val_aug_gen,\n",
        "                  output_types = (tf.float32, tf.float32),\n",
        "                  output_shapes = ([None, 256, 256, 3], [None, 10]))\n",
        "\n",
        "# Retaining 25 percent of train and validation data and discarding the rest\n",
        "train_aug_data = train_aug_data.take(int(0.25*len_train))\n",
        "val_aug_data = val_aug_data.take(int(0.25*len_val))"
      ],
      "execution_count": 4,
      "outputs": [
        {
          "output_type": "stream",
          "text": [
            "Found 8000 images belonging to 10 classes.\n",
            "Found 2000 images belonging to 10 classes.\n"
          ],
          "name": "stdout"
        }
      ]
    },
    {
      "cell_type": "markdown",
      "metadata": {
        "id": "NS0Zq3NrUiCr"
      },
      "source": [
        "Using tutorials:\n",
        "- https://www.tensorflow.org/tutorials/text/image_captioning\n",
        "- https://www.tensorflow.org/tutorials/images/transfer_learning\n"
      ]
    },
    {
      "cell_type": "code",
      "metadata": {
        "id": "z79mSMMEZ8xn"
      },
      "source": [
        "class CNN(Model):\n",
        "    def __init__(self, base_model_name, tune=False, offset=20):\n",
        "        super(CNN, self).__init__()\n",
        "        self.IMG_SHAPE = (256, 256, 3)\n",
        "        self.base_model_name = base_model_name\n",
        "        self.init_base_model()\n",
        "        \n",
        "        if tune:\n",
        "            self.base_model.trainable = True\n",
        "            fine_tune_at = len(self.base_model.layers)-offset\n",
        "            # Freeze all the layers before the `fine_tune_at` layer\n",
        "            for layer in self.base_model.layers[:fine_tune_at]:\n",
        "                layer.trainable =  False\n",
        "        else:\n",
        "            self.base_model.trainable = False\n",
        "\n",
        "        self.additional_avg_pool1 = layers.GlobalAveragePooling2D()\n",
        "        self.additional_dense1 = layers.Dense(10)\n",
        "\n",
        "    def init_base_model(self):\n",
        "        if self.base_model_name == \"InceptionV3\":\n",
        "            self.base_model = tf.keras.applications.InceptionV3(input_shape=self.IMG_SHAPE,\n",
        "                                               include_top=False,\n",
        "                                               weights='imagenet')\n",
        "        elif self.base_model_name == \"InceptionResNetV2\":\n",
        "            self.base_model = tf.keras.applications.InceptionResNetV2(input_shape=self.IMG_SHAPE,\n",
        "                                               include_top=False,\n",
        "                                               weights='imagenet')\n",
        "        elif self.base_model_name == \"ResNet50\":\n",
        "            self.base_model = tf.keras.applications.ResNet50(input_shape=self.IMG_SHAPE,\n",
        "                                               include_top=False,\n",
        "                                               weights='imagenet')\n",
        "        elif self.base_model_name == \"Xception\":\n",
        "            self.base_model = tf.keras.applications.Xception(input_shape=self.IMG_SHAPE,\n",
        "                                               include_top=False,\n",
        "                                               weights='imagenet')\n",
        "            \n",
        "    def call(self, inputs):\n",
        "        x = self.base_model(inputs)\n",
        "        x = self.additional_avg_pool1(x)\n",
        "        return self.additional_dense1(x)"
      ],
      "execution_count": 5,
      "outputs": []
    },
    {
      "cell_type": "code",
      "metadata": {
        "id": "MCTRL1QdOGxX"
      },
      "source": [
        "###############################################\n",
        "# Listing the hyperparameters in wandb config \n",
        "###############################################\n",
        "sweep_config = {'name': 'random-test-sweep', 'method': 'grid'}\n",
        "sweep_config['metric'] = {'name': 'val_acc', 'goal': 'maximize'}\n",
        "parameters_dict = {\n",
        "                   'base_model_name': {'values': [\"InceptionV3\", \"InceptionResNetV2\", \"ResNet50\", \"Xception\"]},\n",
        "                   'tune': {'values': [False, True]},\n",
        "                  }\n",
        "sweep_config['parameters'] = parameters_dict"
      ],
      "execution_count": 6,
      "outputs": []
    },
    {
      "cell_type": "code",
      "metadata": {
        "id": "VA845WJNRizR"
      },
      "source": [
        "def pretrain_CNN_sweep(config=sweep_config):\n",
        "    with wandb.init(config=config):\n",
        "        config = wandb.init().config\n",
        "        wandb.run.name = 'BM_{}_tune_{}'.format(config.base_model_name, \\\n",
        "                                                          config.tune)\n",
        "        \n",
        "        model = CNN(config.base_model_name, config.tune)\n",
        "        base_learning_rate = 0.0001\n",
        "        model.compile(optimizer=tf.keras.optimizers.Adam(lr=base_learning_rate),\n",
        "                loss=tf.keras.losses.CategoricalCrossentropy(from_logits=True),\n",
        "                metrics=['accuracy'])\n",
        "        \n",
        "        history = model.fit(train_data, epochs=10, validation_data=val_data, \\\n",
        "                            callbacks = [wandb.keras.WandbCallback()])"
      ],
      "execution_count": 7,
      "outputs": []
    },
    {
      "cell_type": "code",
      "metadata": {
        "colab": {
          "base_uri": "https://localhost:8080/",
          "height": 1000,
          "referenced_widgets": [
            "c48e7d35946a41fcb9bd45b181badcee",
            "eb516c5195644e43883bcf408ab1096d",
            "0ccd250f776c45bb851c54cddd81146a"
          ]
        },
        "id": "QN0MMuvoyOqD",
        "outputId": "968f97a9-ec8b-414d-cdd9-43e8f98608bb"
      },
      "source": [
        "#################################\n",
        "# Setting up wandb sweeps\n",
        "#################################\n",
        "sweep_id = wandb.sweep(sweep_config, project = 'DL-Assignment2-PartB-9April')\n",
        "wandb.agent(sweep_id, function=pretrain_CNN_sweep)"
      ],
      "execution_count": null,
      "outputs": [
        {
          "output_type": "stream",
          "text": [
            "Create sweep with ID: oqws1sm6\n",
            "Sweep URL: https://wandb.ai/cs6910-team/DL-Assignment2-PartB-9April/sweeps/oqws1sm6\n"
          ],
          "name": "stdout"
        },
        {
          "output_type": "stream",
          "text": [
            "\u001b[34m\u001b[1mwandb\u001b[0m: Agent Starting Run: niejuzbd with config:\n",
            "\u001b[34m\u001b[1mwandb\u001b[0m: \tbase_model_name: InceptionV3\n",
            "\u001b[34m\u001b[1mwandb\u001b[0m: \ttune: False\n",
            "\u001b[34m\u001b[1mwandb\u001b[0m: Currently logged in as: \u001b[33mcs6910-team\u001b[0m (use `wandb login --relogin` to force relogin)\n"
          ],
          "name": "stderr"
        },
        {
          "output_type": "display_data",
          "data": {
            "text/html": [
              "\n",
              "                Tracking run with wandb version 0.10.25<br/>\n",
              "                Syncing run <strong style=\"color:#cdcd00\">genial-sweep-1</strong> to <a href=\"https://wandb.ai\" target=\"_blank\">Weights & Biases</a> <a href=\"https://docs.wandb.com/integrations/jupyter.html\" target=\"_blank\">(Documentation)</a>.<br/>\n",
              "                Project page: <a href=\"https://wandb.ai/cs6910-team/DL-Assignment2-PartB-9April\" target=\"_blank\">https://wandb.ai/cs6910-team/DL-Assignment2-PartB-9April</a><br/>\n",
              "                Sweep page: <a href=\"https://wandb.ai/cs6910-team/DL-Assignment2-PartB-9April/sweeps/oqws1sm6\" target=\"_blank\">https://wandb.ai/cs6910-team/DL-Assignment2-PartB-9April/sweeps/oqws1sm6</a><br/>\n",
              "Run page: <a href=\"https://wandb.ai/cs6910-team/DL-Assignment2-PartB-9April/runs/niejuzbd\" target=\"_blank\">https://wandb.ai/cs6910-team/DL-Assignment2-PartB-9April/runs/niejuzbd</a><br/>\n",
              "                Run data is saved locally in <code>/content/wandb/run-20210409_185549-niejuzbd</code><br/><br/>\n",
              "            "
            ],
            "text/plain": [
              "<IPython.core.display.HTML object>"
            ]
          },
          "metadata": {
            "tags": []
          }
        },
        {
          "output_type": "display_data",
          "data": {
            "text/html": [
              "Finishing last run (ID:niejuzbd) before initializing another..."
            ],
            "text/plain": [
              "<IPython.core.display.HTML object>"
            ]
          },
          "metadata": {
            "tags": []
          }
        },
        {
          "output_type": "display_data",
          "data": {
            "text/html": [
              "<br/>Waiting for W&B process to finish, PID 2370<br/>Program ended successfully."
            ],
            "text/plain": [
              "<IPython.core.display.HTML object>"
            ]
          },
          "metadata": {
            "tags": []
          }
        },
        {
          "output_type": "display_data",
          "data": {
            "application/vnd.jupyter.widget-view+json": {
              "model_id": "c48e7d35946a41fcb9bd45b181badcee",
              "version_minor": 0,
              "version_major": 2
            },
            "text/plain": [
              "VBox(children=(Label(value=' 0.03MB of 0.03MB uploaded (0.00MB deduped)\\r'), FloatProgress(value=1.0, max=1.0)…"
            ]
          },
          "metadata": {
            "tags": []
          }
        },
        {
          "output_type": "display_data",
          "data": {
            "text/html": [
              "Find user logs for this run at: <code>/content/wandb/run-20210409_185549-niejuzbd/logs/debug.log</code>"
            ],
            "text/plain": [
              "<IPython.core.display.HTML object>"
            ]
          },
          "metadata": {
            "tags": []
          }
        },
        {
          "output_type": "display_data",
          "data": {
            "text/html": [
              "Find internal logs for this run at: <code>/content/wandb/run-20210409_185549-niejuzbd/logs/debug-internal.log</code>"
            ],
            "text/plain": [
              "<IPython.core.display.HTML object>"
            ]
          },
          "metadata": {
            "tags": []
          }
        },
        {
          "output_type": "display_data",
          "data": {
            "text/html": [
              "Synced 4 W&B file(s), 0 media file(s), 2 artifact file(s) and 1 other file(s)"
            ],
            "text/plain": [
              "<IPython.core.display.HTML object>"
            ]
          },
          "metadata": {
            "tags": []
          }
        },
        {
          "output_type": "display_data",
          "data": {
            "text/html": [
              "\n",
              "                    <br/>Synced <strong style=\"color:#cdcd00\">genial-sweep-1</strong>: <a href=\"https://wandb.ai/cs6910-team/DL-Assignment2-PartB-9April/runs/niejuzbd\" target=\"_blank\">https://wandb.ai/cs6910-team/DL-Assignment2-PartB-9April/runs/niejuzbd</a><br/>\n",
              "                "
            ],
            "text/plain": [
              "<IPython.core.display.HTML object>"
            ]
          },
          "metadata": {
            "tags": []
          }
        },
        {
          "output_type": "display_data",
          "data": {
            "text/html": [
              "...Successfully finished last run (ID:niejuzbd). Initializing new run:<br/><br/>"
            ],
            "text/plain": [
              "<IPython.core.display.HTML object>"
            ]
          },
          "metadata": {
            "tags": []
          }
        },
        {
          "output_type": "display_data",
          "data": {
            "text/html": [
              "\n",
              "                Tracking run with wandb version 0.10.25<br/>\n",
              "                Syncing run <strong style=\"color:#cdcd00\">genial-sweep-1</strong> to <a href=\"https://wandb.ai\" target=\"_blank\">Weights & Biases</a> <a href=\"https://docs.wandb.com/integrations/jupyter.html\" target=\"_blank\">(Documentation)</a>.<br/>\n",
              "                Project page: <a href=\"https://wandb.ai/cs6910-team/DL-Assignment2-PartB-9April\" target=\"_blank\">https://wandb.ai/cs6910-team/DL-Assignment2-PartB-9April</a><br/>\n",
              "                Sweep page: <a href=\"https://wandb.ai/cs6910-team/DL-Assignment2-PartB-9April/sweeps/oqws1sm6\" target=\"_blank\">https://wandb.ai/cs6910-team/DL-Assignment2-PartB-9April/sweeps/oqws1sm6</a><br/>\n",
              "Run page: <a href=\"https://wandb.ai/cs6910-team/DL-Assignment2-PartB-9April/runs/niejuzbd\" target=\"_blank\">https://wandb.ai/cs6910-team/DL-Assignment2-PartB-9April/runs/niejuzbd</a><br/>\n",
              "                Run data is saved locally in <code>/content/wandb/run-20210409_185552-niejuzbd</code><br/><br/>\n",
              "            "
            ],
            "text/plain": [
              "<IPython.core.display.HTML object>"
            ]
          },
          "metadata": {
            "tags": []
          }
        },
        {
          "output_type": "stream",
          "text": [
            "Epoch 1/10\n",
            "62/62 [==============================] - 53s 692ms/step - loss: 24.5232 - accuracy: 0.1053 - val_loss: 10.3967 - val_accuracy: 0.1083\n"
          ],
          "name": "stdout"
        },
        {
          "output_type": "stream",
          "text": [
            "\u001b[34m\u001b[1mwandb\u001b[0m: \u001b[32m\u001b[41mERROR\u001b[0m Can't save model, h5py returned error: Saving the model to HDF5 format requires the model to be a Functional model or a Sequential model. It does not work for subclassed models, because such models are defined via the body of a Python method, which isn't safely serializable. Consider saving to the Tensorflow SavedModel format (by setting save_format=\"tf\") or using `save_weights`.\n"
          ],
          "name": "stderr"
        },
        {
          "output_type": "stream",
          "text": [
            "Epoch 2/10\n",
            "62/62 [==============================] - 43s 656ms/step - loss: 9.9452 - accuracy: 0.1147 - val_loss: 8.5368 - val_accuracy: 0.1333\n",
            "Epoch 3/10\n",
            "62/62 [==============================] - 43s 659ms/step - loss: 8.6771 - accuracy: 0.1161 - val_loss: 7.9033 - val_accuracy: 0.1146\n",
            "Epoch 4/10\n",
            "62/62 [==============================] - 43s 658ms/step - loss: 7.7919 - accuracy: 0.1267 - val_loss: 7.1490 - val_accuracy: 0.1458\n",
            "Epoch 5/10\n",
            "62/62 [==============================] - 43s 659ms/step - loss: 7.1604 - accuracy: 0.1237 - val_loss: 6.6931 - val_accuracy: 0.1312\n",
            "Epoch 6/10\n",
            "62/62 [==============================] - 43s 659ms/step - loss: 6.6078 - accuracy: 0.1280 - val_loss: 6.6770 - val_accuracy: 0.1229\n",
            "Epoch 7/10\n",
            "62/62 [==============================] - 43s 654ms/step - loss: 6.3397 - accuracy: 0.1391 - val_loss: 6.4815 - val_accuracy: 0.1208\n",
            "Epoch 8/10\n",
            "62/62 [==============================] - 43s 658ms/step - loss: 5.9824 - accuracy: 0.1301 - val_loss: 6.2228 - val_accuracy: 0.1354\n",
            "Epoch 9/10\n",
            "62/62 [==============================] - 43s 659ms/step - loss: 5.6976 - accuracy: 0.1406 - val_loss: 6.0792 - val_accuracy: 0.1271\n",
            "Epoch 10/10\n",
            "62/62 [==============================] - 43s 656ms/step - loss: 5.5327 - accuracy: 0.1353 - val_loss: 5.6998 - val_accuracy: 0.1583\n"
          ],
          "name": "stdout"
        },
        {
          "output_type": "stream",
          "text": [
            "\u001b[34m\u001b[1mwandb\u001b[0m: Agent Starting Run: u6gu28s0 with config:\n",
            "\u001b[34m\u001b[1mwandb\u001b[0m: \tbase_model_name: InceptionV3\n",
            "\u001b[34m\u001b[1mwandb\u001b[0m: \ttune: True\n"
          ],
          "name": "stderr"
        },
        {
          "output_type": "display_data",
          "data": {
            "text/html": [
              "\n",
              "                Tracking run with wandb version 0.10.25<br/>\n",
              "                Syncing run <strong style=\"color:#cdcd00\">sunny-sweep-2</strong> to <a href=\"https://wandb.ai\" target=\"_blank\">Weights & Biases</a> <a href=\"https://docs.wandb.com/integrations/jupyter.html\" target=\"_blank\">(Documentation)</a>.<br/>\n",
              "                Project page: <a href=\"https://wandb.ai/cs6910-team/DL-Assignment2-PartB-9April\" target=\"_blank\">https://wandb.ai/cs6910-team/DL-Assignment2-PartB-9April</a><br/>\n",
              "                Sweep page: <a href=\"https://wandb.ai/cs6910-team/DL-Assignment2-PartB-9April/sweeps/oqws1sm6\" target=\"_blank\">https://wandb.ai/cs6910-team/DL-Assignment2-PartB-9April/sweeps/oqws1sm6</a><br/>\n",
              "Run page: <a href=\"https://wandb.ai/cs6910-team/DL-Assignment2-PartB-9April/runs/u6gu28s0\" target=\"_blank\">https://wandb.ai/cs6910-team/DL-Assignment2-PartB-9April/runs/u6gu28s0</a><br/>\n",
              "                Run data is saved locally in <code>/content/wandb/run-20210409_190326-u6gu28s0</code><br/><br/>\n",
              "            "
            ],
            "text/plain": [
              "<IPython.core.display.HTML object>"
            ]
          },
          "metadata": {
            "tags": []
          }
        },
        {
          "output_type": "display_data",
          "data": {
            "text/html": [
              "Finishing last run (ID:u6gu28s0) before initializing another..."
            ],
            "text/plain": [
              "<IPython.core.display.HTML object>"
            ]
          },
          "metadata": {
            "tags": []
          }
        },
        {
          "output_type": "display_data",
          "data": {
            "text/html": [
              "<br/>Waiting for W&B process to finish, PID 2554<br/>Program ended successfully."
            ],
            "text/plain": [
              "<IPython.core.display.HTML object>"
            ]
          },
          "metadata": {
            "tags": []
          }
        },
        {
          "output_type": "display_data",
          "data": {
            "application/vnd.jupyter.widget-view+json": {
              "model_id": "eb516c5195644e43883bcf408ab1096d",
              "version_minor": 0,
              "version_major": 2
            },
            "text/plain": [
              "VBox(children=(Label(value=' 0.03MB of 0.03MB uploaded (0.00MB deduped)\\r'), FloatProgress(value=1.0, max=1.0)…"
            ]
          },
          "metadata": {
            "tags": []
          }
        },
        {
          "output_type": "display_data",
          "data": {
            "text/html": [
              "Find user logs for this run at: <code>/content/wandb/run-20210409_190326-u6gu28s0/logs/debug.log</code>"
            ],
            "text/plain": [
              "<IPython.core.display.HTML object>"
            ]
          },
          "metadata": {
            "tags": []
          }
        },
        {
          "output_type": "display_data",
          "data": {
            "text/html": [
              "Find internal logs for this run at: <code>/content/wandb/run-20210409_190326-u6gu28s0/logs/debug-internal.log</code>"
            ],
            "text/plain": [
              "<IPython.core.display.HTML object>"
            ]
          },
          "metadata": {
            "tags": []
          }
        },
        {
          "output_type": "display_data",
          "data": {
            "text/html": [
              "Synced 4 W&B file(s), 0 media file(s), 2 artifact file(s) and 1 other file(s)"
            ],
            "text/plain": [
              "<IPython.core.display.HTML object>"
            ]
          },
          "metadata": {
            "tags": []
          }
        },
        {
          "output_type": "display_data",
          "data": {
            "text/html": [
              "\n",
              "                    <br/>Synced <strong style=\"color:#cdcd00\">sunny-sweep-2</strong>: <a href=\"https://wandb.ai/cs6910-team/DL-Assignment2-PartB-9April/runs/u6gu28s0\" target=\"_blank\">https://wandb.ai/cs6910-team/DL-Assignment2-PartB-9April/runs/u6gu28s0</a><br/>\n",
              "                "
            ],
            "text/plain": [
              "<IPython.core.display.HTML object>"
            ]
          },
          "metadata": {
            "tags": []
          }
        },
        {
          "output_type": "display_data",
          "data": {
            "text/html": [
              "...Successfully finished last run (ID:u6gu28s0). Initializing new run:<br/><br/>"
            ],
            "text/plain": [
              "<IPython.core.display.HTML object>"
            ]
          },
          "metadata": {
            "tags": []
          }
        },
        {
          "output_type": "display_data",
          "data": {
            "text/html": [
              "\n",
              "                Tracking run with wandb version 0.10.25<br/>\n",
              "                Syncing run <strong style=\"color:#cdcd00\">sunny-sweep-2</strong> to <a href=\"https://wandb.ai\" target=\"_blank\">Weights & Biases</a> <a href=\"https://docs.wandb.com/integrations/jupyter.html\" target=\"_blank\">(Documentation)</a>.<br/>\n",
              "                Project page: <a href=\"https://wandb.ai/cs6910-team/DL-Assignment2-PartB-9April\" target=\"_blank\">https://wandb.ai/cs6910-team/DL-Assignment2-PartB-9April</a><br/>\n",
              "                Sweep page: <a href=\"https://wandb.ai/cs6910-team/DL-Assignment2-PartB-9April/sweeps/oqws1sm6\" target=\"_blank\">https://wandb.ai/cs6910-team/DL-Assignment2-PartB-9April/sweeps/oqws1sm6</a><br/>\n",
              "Run page: <a href=\"https://wandb.ai/cs6910-team/DL-Assignment2-PartB-9April/runs/u6gu28s0\" target=\"_blank\">https://wandb.ai/cs6910-team/DL-Assignment2-PartB-9April/runs/u6gu28s0</a><br/>\n",
              "                Run data is saved locally in <code>/content/wandb/run-20210409_190329-u6gu28s0</code><br/><br/>\n",
              "            "
            ],
            "text/plain": [
              "<IPython.core.display.HTML object>"
            ]
          },
          "metadata": {
            "tags": []
          }
        },
        {
          "output_type": "stream",
          "text": [
            "Epoch 1/10\n",
            "62/62 [==============================] - 51s 691ms/step - loss: 2.3064 - accuracy: 0.1471 - val_loss: 2.3262 - val_accuracy: 0.1688\n"
          ],
          "name": "stdout"
        },
        {
          "output_type": "stream",
          "text": [
            "\u001b[34m\u001b[1mwandb\u001b[0m: \u001b[32m\u001b[41mERROR\u001b[0m Can't save model, h5py returned error: Saving the model to HDF5 format requires the model to be a Functional model or a Sequential model. It does not work for subclassed models, because such models are defined via the body of a Python method, which isn't safely serializable. Consider saving to the Tensorflow SavedModel format (by setting save_format=\"tf\") or using `save_weights`.\n"
          ],
          "name": "stderr"
        },
        {
          "output_type": "stream",
          "text": [
            "Epoch 2/10\n",
            "62/62 [==============================] - 44s 666ms/step - loss: 2.1164 - accuracy: 0.2322 - val_loss: 2.2345 - val_accuracy: 0.1854\n",
            "Epoch 3/10\n",
            "62/62 [==============================] - 43s 663ms/step - loss: 2.0310 - accuracy: 0.2935 - val_loss: 2.1941 - val_accuracy: 0.2021\n",
            "Epoch 4/10\n",
            "62/62 [==============================] - 43s 663ms/step - loss: 1.9479 - accuracy: 0.3497 - val_loss: 2.2185 - val_accuracy: 0.2000\n",
            "Epoch 5/10\n",
            "62/62 [==============================] - 43s 661ms/step - loss: 1.8852 - accuracy: 0.3731 - val_loss: 2.1314 - val_accuracy: 0.2125\n",
            "Epoch 6/10\n",
            "62/62 [==============================] - 43s 662ms/step - loss: 1.8155 - accuracy: 0.4285 - val_loss: 2.1769 - val_accuracy: 0.2062\n",
            "Epoch 7/10\n",
            "62/62 [==============================] - 43s 665ms/step - loss: 1.7628 - accuracy: 0.4495 - val_loss: 2.1729 - val_accuracy: 0.2271\n",
            "Epoch 8/10\n",
            "62/62 [==============================] - 43s 661ms/step - loss: 1.6952 - accuracy: 0.4747 - val_loss: 2.1792 - val_accuracy: 0.2104\n",
            "Epoch 9/10\n",
            "62/62 [==============================] - 44s 665ms/step - loss: 1.6166 - accuracy: 0.5282 - val_loss: 2.1992 - val_accuracy: 0.1958\n",
            "Epoch 10/10\n",
            "62/62 [==============================] - 43s 664ms/step - loss: 1.5702 - accuracy: 0.5526 - val_loss: 2.1968 - val_accuracy: 0.2188\n"
          ],
          "name": "stdout"
        },
        {
          "output_type": "stream",
          "text": [
            "\u001b[34m\u001b[1mwandb\u001b[0m: Agent Starting Run: 1cwbc536 with config:\n",
            "\u001b[34m\u001b[1mwandb\u001b[0m: \tbase_model_name: InceptionResNetV2\n",
            "\u001b[34m\u001b[1mwandb\u001b[0m: \ttune: False\n"
          ],
          "name": "stderr"
        },
        {
          "output_type": "display_data",
          "data": {
            "text/html": [
              "\n",
              "                Tracking run with wandb version 0.10.25<br/>\n",
              "                Syncing run <strong style=\"color:#cdcd00\">trim-sweep-3</strong> to <a href=\"https://wandb.ai\" target=\"_blank\">Weights & Biases</a> <a href=\"https://docs.wandb.com/integrations/jupyter.html\" target=\"_blank\">(Documentation)</a>.<br/>\n",
              "                Project page: <a href=\"https://wandb.ai/cs6910-team/DL-Assignment2-PartB-9April\" target=\"_blank\">https://wandb.ai/cs6910-team/DL-Assignment2-PartB-9April</a><br/>\n",
              "                Sweep page: <a href=\"https://wandb.ai/cs6910-team/DL-Assignment2-PartB-9April/sweeps/oqws1sm6\" target=\"_blank\">https://wandb.ai/cs6910-team/DL-Assignment2-PartB-9April/sweeps/oqws1sm6</a><br/>\n",
              "Run page: <a href=\"https://wandb.ai/cs6910-team/DL-Assignment2-PartB-9April/runs/1cwbc536\" target=\"_blank\">https://wandb.ai/cs6910-team/DL-Assignment2-PartB-9April/runs/1cwbc536</a><br/>\n",
              "                Run data is saved locally in <code>/content/wandb/run-20210409_191105-1cwbc536</code><br/><br/>\n",
              "            "
            ],
            "text/plain": [
              "<IPython.core.display.HTML object>"
            ]
          },
          "metadata": {
            "tags": []
          }
        },
        {
          "output_type": "display_data",
          "data": {
            "text/html": [
              "Finishing last run (ID:1cwbc536) before initializing another..."
            ],
            "text/plain": [
              "<IPython.core.display.HTML object>"
            ]
          },
          "metadata": {
            "tags": []
          }
        },
        {
          "output_type": "display_data",
          "data": {
            "text/html": [
              "<br/>Waiting for W&B process to finish, PID 2674<br/>Program ended successfully."
            ],
            "text/plain": [
              "<IPython.core.display.HTML object>"
            ]
          },
          "metadata": {
            "tags": []
          }
        },
        {
          "output_type": "display_data",
          "data": {
            "application/vnd.jupyter.widget-view+json": {
              "model_id": "0ccd250f776c45bb851c54cddd81146a",
              "version_minor": 0,
              "version_major": 2
            },
            "text/plain": [
              "VBox(children=(Label(value=' 0.04MB of 0.04MB uploaded (0.00MB deduped)\\r'), FloatProgress(value=1.0, max=1.0)…"
            ]
          },
          "metadata": {
            "tags": []
          }
        },
        {
          "output_type": "display_data",
          "data": {
            "text/html": [
              "Find user logs for this run at: <code>/content/wandb/run-20210409_191105-1cwbc536/logs/debug.log</code>"
            ],
            "text/plain": [
              "<IPython.core.display.HTML object>"
            ]
          },
          "metadata": {
            "tags": []
          }
        },
        {
          "output_type": "display_data",
          "data": {
            "text/html": [
              "Find internal logs for this run at: <code>/content/wandb/run-20210409_191105-1cwbc536/logs/debug-internal.log</code>"
            ],
            "text/plain": [
              "<IPython.core.display.HTML object>"
            ]
          },
          "metadata": {
            "tags": []
          }
        },
        {
          "output_type": "display_data",
          "data": {
            "text/html": [
              "Synced 4 W&B file(s), 0 media file(s), 2 artifact file(s) and 1 other file(s)"
            ],
            "text/plain": [
              "<IPython.core.display.HTML object>"
            ]
          },
          "metadata": {
            "tags": []
          }
        },
        {
          "output_type": "display_data",
          "data": {
            "text/html": [
              "\n",
              "                    <br/>Synced <strong style=\"color:#cdcd00\">trim-sweep-3</strong>: <a href=\"https://wandb.ai/cs6910-team/DL-Assignment2-PartB-9April/runs/1cwbc536\" target=\"_blank\">https://wandb.ai/cs6910-team/DL-Assignment2-PartB-9April/runs/1cwbc536</a><br/>\n",
              "                "
            ],
            "text/plain": [
              "<IPython.core.display.HTML object>"
            ]
          },
          "metadata": {
            "tags": []
          }
        },
        {
          "output_type": "display_data",
          "data": {
            "text/html": [
              "...Successfully finished last run (ID:1cwbc536). Initializing new run:<br/><br/>"
            ],
            "text/plain": [
              "<IPython.core.display.HTML object>"
            ]
          },
          "metadata": {
            "tags": []
          }
        },
        {
          "output_type": "display_data",
          "data": {
            "text/html": [
              "\n",
              "                Tracking run with wandb version 0.10.25<br/>\n",
              "                Syncing run <strong style=\"color:#cdcd00\">trim-sweep-3</strong> to <a href=\"https://wandb.ai\" target=\"_blank\">Weights & Biases</a> <a href=\"https://docs.wandb.com/integrations/jupyter.html\" target=\"_blank\">(Documentation)</a>.<br/>\n",
              "                Project page: <a href=\"https://wandb.ai/cs6910-team/DL-Assignment2-PartB-9April\" target=\"_blank\">https://wandb.ai/cs6910-team/DL-Assignment2-PartB-9April</a><br/>\n",
              "                Sweep page: <a href=\"https://wandb.ai/cs6910-team/DL-Assignment2-PartB-9April/sweeps/oqws1sm6\" target=\"_blank\">https://wandb.ai/cs6910-team/DL-Assignment2-PartB-9April/sweeps/oqws1sm6</a><br/>\n",
              "Run page: <a href=\"https://wandb.ai/cs6910-team/DL-Assignment2-PartB-9April/runs/1cwbc536\" target=\"_blank\">https://wandb.ai/cs6910-team/DL-Assignment2-PartB-9April/runs/1cwbc536</a><br/>\n",
              "                Run data is saved locally in <code>/content/wandb/run-20210409_191108-1cwbc536</code><br/><br/>\n",
              "            "
            ],
            "text/plain": [
              "<IPython.core.display.HTML object>"
            ]
          },
          "metadata": {
            "tags": []
          }
        },
        {
          "output_type": "stream",
          "text": [
            "Epoch 1/10\n",
            "62/62 [==============================] - 84s 1s/step - loss: 133.1617 - accuracy: 0.0919 - val_loss: 15.3604 - val_accuracy: 0.0854\n"
          ],
          "name": "stdout"
        },
        {
          "output_type": "stream",
          "text": [
            "\u001b[34m\u001b[1mwandb\u001b[0m: \u001b[32m\u001b[41mERROR\u001b[0m Can't save model, h5py returned error: Saving the model to HDF5 format requires the model to be a Functional model or a Sequential model. It does not work for subclassed models, because such models are defined via the body of a Python method, which isn't safely serializable. Consider saving to the Tensorflow SavedModel format (by setting save_format=\"tf\") or using `save_weights`.\n"
          ],
          "name": "stderr"
        },
        {
          "output_type": "stream",
          "text": [
            "Epoch 2/10\n",
            "62/62 [==============================] - 66s 1s/step - loss: 13.6679 - accuracy: 0.1000 - val_loss: 12.5686 - val_accuracy: 0.0812\n",
            "Epoch 3/10\n",
            "62/62 [==============================] - 66s 1s/step - loss: 11.6590 - accuracy: 0.0989 - val_loss: 11.5532 - val_accuracy: 0.1063\n",
            "Epoch 4/10\n",
            "18/62 [=======>......................] - ETA: 34s - loss: 9.3590 - accuracy: 0.1107"
          ],
          "name": "stdout"
        }
      ]
    }
  ]
}